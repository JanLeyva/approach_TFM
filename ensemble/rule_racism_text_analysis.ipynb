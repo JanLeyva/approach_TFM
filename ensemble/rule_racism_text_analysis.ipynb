{
 "cells": [
  {
   "cell_type": "markdown",
   "id": "overhead-graphics",
   "metadata": {},
   "source": [
    "# Rule Racism Text Analysis"
   ]
  },
  {
   "cell_type": "code",
   "execution_count": 1,
   "id": "worldwide-demand",
   "metadata": {},
   "outputs": [],
   "source": [
    "import pandas as pd\n",
    "import numpy as np"
   ]
  },
  {
   "cell_type": "code",
   "execution_count": 2,
   "id": "blind-grain",
   "metadata": {},
   "outputs": [
    {
     "name": "stdout",
     "output_type": "stream",
     "text": [
      "ERNIE_prob.ipynb                ensemble.py\r\n",
      "HM_ensamble.ipynb               fairface.json\r\n",
      "\u001b[34mannotations\u001b[m\u001b[m                     fairface_.json\r\n",
      "box_annos.race.json             \u001b[34mresults\u001b[m\u001b[m\r\n",
      "ens.sh                          rule_racism_text_analysis.ipynb\r\n",
      "ens_v3.py                       test_unseen.jsonl\r\n",
      "ens_vilio.py\r\n"
     ]
    }
   ],
   "source": [
    "!ls"
   ]
  },
  {
   "cell_type": "code",
   "execution_count": 44,
   "id": "mechanical-knight",
   "metadata": {},
   "outputs": [],
   "source": [
    "test_unseen = pd.read_json(\"annotations/train.jsonl\", lines = True)\n",
    "fairface = pd.read_json(\"fairface21062022.json\")\n",
    "fairface2 = pd.read_json(\"fairface.json\")"
   ]
  },
  {
   "cell_type": "code",
   "execution_count": 39,
   "id": "freelance-tucson",
   "metadata": {},
   "outputs": [],
   "source": [
    "id_in_test = []\n",
    "for i in fairface['id'].values:\n",
    "    if i in test_unseen['id'].values:\n",
    "        id_in_test.append(i)"
   ]
  },
  {
   "cell_type": "code",
   "execution_count": 40,
   "id": "united-mountain",
   "metadata": {},
   "outputs": [
    {
     "data": {
      "text/plain": [
       "5810"
      ]
     },
     "execution_count": 40,
     "metadata": {},
     "output_type": "execute_result"
    }
   ],
   "source": [
    "len(id_in_test)"
   ]
  },
  {
   "cell_type": "code",
   "execution_count": 42,
   "id": "freelance-blink",
   "metadata": {},
   "outputs": [
    {
     "data": {
      "text/plain": [
       "8139"
      ]
     },
     "execution_count": 42,
     "metadata": {},
     "output_type": "execute_result"
    }
   ],
   "source": [
    "len(fairface['id'])"
   ]
  },
  {
   "cell_type": "code",
   "execution_count": 56,
   "id": "noble-breach",
   "metadata": {},
   "outputs": [],
   "source": [
    "id_in_test = []\n",
    "for i in fairface2['id'].values:\n",
    "    if not i in fairface['id'].values:\n",
    "        id_in_test.append(i)"
   ]
  },
  {
   "cell_type": "code",
   "execution_count": 59,
   "id": "exact-parker",
   "metadata": {},
   "outputs": [
    {
     "data": {
      "text/plain": [
       "1260"
      ]
     },
     "execution_count": 59,
     "metadata": {},
     "output_type": "execute_result"
    }
   ],
   "source": [
    "len(id_in_test) # id que estan en fairface2 i no en fairface"
   ]
  },
  {
   "cell_type": "code",
   "execution_count": 55,
   "id": "bronze-special",
   "metadata": {},
   "outputs": [
    {
     "data": {
      "text/plain": [
       "5777"
      ]
     },
     "execution_count": 55,
     "metadata": {},
     "output_type": "execute_result"
    }
   ],
   "source": [
    "len(fairface2['id'])"
   ]
  },
  {
   "cell_type": "code",
   "execution_count": 25,
   "id": "alive-filling",
   "metadata": {},
   "outputs": [
    {
     "data": {
      "text/plain": [
       "array([90138, 59143, 59473, ..., 93750, 75840, 34678])"
      ]
     },
     "execution_count": 25,
     "metadata": {},
     "output_type": "execute_result"
    }
   ],
   "source": [
    "(fairface['id'].values)"
   ]
  },
  {
   "cell_type": "code",
   "execution_count": 62,
   "id": "opposed-salad",
   "metadata": {},
   "outputs": [],
   "source": [
    "racism_rule = True"
   ]
  },
  {
   "cell_type": "code",
   "execution_count": 63,
   "id": "isolated-trade",
   "metadata": {},
   "outputs": [
    {
     "name": "stdout",
     "output_type": "stream",
     "text": [
      "asd\n"
     ]
    }
   ],
   "source": [
    "if racism_rule:\n",
    "    print(\"asd\")"
   ]
  }
 ],
 "metadata": {
  "kernelspec": {
   "display_name": "Python 3",
   "language": "python",
   "name": "python3"
  },
  "language_info": {
   "codemirror_mode": {
    "name": "ipython",
    "version": 3
   },
   "file_extension": ".py",
   "mimetype": "text/x-python",
   "name": "python",
   "nbconvert_exporter": "python",
   "pygments_lexer": "ipython3",
   "version": "3.9.1"
  }
 },
 "nbformat": 4,
 "nbformat_minor": 5
}
