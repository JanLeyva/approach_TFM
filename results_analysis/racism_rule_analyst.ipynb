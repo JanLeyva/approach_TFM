{
 "cells": [
  {
   "cell_type": "code",
   "execution_count": 1,
   "id": "8c1a6088",
   "metadata": {},
   "outputs": [
    {
     "name": "stdout",
     "output_type": "stream",
     "text": [
      "Python 3.9.7\r\n"
     ]
    }
   ],
   "source": [
    "!python -V"
   ]
  },
  {
   "cell_type": "markdown",
   "id": "f0ac6d0d",
   "metadata": {},
   "source": [
    "# Racims Rule"
   ]
  },
  {
   "cell_type": "code",
   "execution_count": 57,
   "id": "3a6a5727",
   "metadata": {},
   "outputs": [],
   "source": [
    "import os\n",
    "import pandas as pd\n",
    "import numpy as np\n",
    "import pandas\n",
    "import json\n",
    "\n",
    "# spacy module\n",
    "import spacy\n",
    "nlp = spacy.load(\"en_core_web_lg\")\n",
    "from scipy.stats import rankdata\n",
    "\n",
    "# plot module\n",
    "import matplotlib.pyplot as plt\n",
    "import seaborn as sns"
   ]
  },
  {
   "cell_type": "code",
   "execution_count": 183,
   "id": "f0e2913a",
   "metadata": {},
   "outputs": [],
   "source": [
    "# import data annotation with hateful type\n",
    "dev_seen=pd.read_json(\"annotations/dev_seen.jsonl\", lines = True)\n",
    "dev_unseen=pd.read_json(\"annotations/dev_unseen.jsonl\", lines = True)\n",
    "test_seen=pd.read_json(\"annotations/test_seen.jsonl\", lines = True)\n",
    "train=pd.read_json(\"annotations/train.jsonl\", lines = True)\n",
    "test_unseen=pd.read_json(\"annotations/test_unseen.jsonl\", lines = True)\n",
    "test_unseen_=pd.read_json(\"annotations/test_unseen.jsonl\", lines = True)\n",
    "\n",
    "\n",
    "\n",
    "\n",
    "to_concat = [dev_seen, test_seen, train, test_unseen, dev_unseen]\n",
    "hateful_memes = pd.concat(to_concat)"
   ]
  },
  {
   "cell_type": "code",
   "execution_count": 160,
   "id": "edf002a7",
   "metadata": {},
   "outputs": [],
   "source": [
    "targets=pd.read_csv(\"ensembled_dev_seen_SA.csv\")"
   ]
  },
  {
   "cell_type": "code",
   "execution_count": 164,
   "id": "f1ea2677",
   "metadata": {},
   "outputs": [
    {
     "name": "stdout",
     "output_type": "stream",
     "text": [
      "/Users/jl/Desktop/TFM/approach_TFM/results_analysis\r\n"
     ]
    }
   ],
   "source": [
    "!pwd"
   ]
  },
  {
   "cell_type": "code",
   "execution_count": 249,
   "id": "fc077fb1",
   "metadata": {},
   "outputs": [],
   "source": [
    "data_path = \"/Users/jl/Desktop/TFM/approach_TFM/results_analysis/\"\n",
    "\n",
    "\n",
    "dev, test, test_unseen = [], [], []\n",
    "dev_probas, test_probas, test_unseen_probas = {}, {}, {} # Never dynamically add to a pd Dataframe\n",
    "\n",
    "\n",
    "for csv in sorted(os.listdir(data_path)):\n",
    "    if \".csv\" in csv:\n",
    "        if (\"dev\" in csv) or (\"val\" in csv):\n",
    "            # print(\"Included in Simple Average: \", csv, auc_score(test_unseen_org, pd.read_csv(data_path + csv)))\n",
    "            dev.append(pd.read_csv(data_path + csv))\n",
    "            dev_probas[csv[:-8]] = pd.read_csv(data_path + csv).proba.values"
   ]
  },
  {
   "cell_type": "code",
   "execution_count": 175,
   "id": "d002ca42",
   "metadata": {},
   "outputs": [
    {
     "data": {
      "text/plain": [
       "2"
      ]
     },
     "execution_count": 175,
     "metadata": {},
     "output_type": "execute_result"
    }
   ],
   "source": [
    "len(pd.DataFrame(test_unseen_probas).columns)"
   ]
  },
  {
   "cell_type": "code",
   "execution_count": 254,
   "id": "2d38051c",
   "metadata": {},
   "outputs": [],
   "source": [
    "dev_probas=pd.DataFrame(dev_probas)\n",
    "preds = test_unseen.copy()"
   ]
  },
  {
   "cell_type": "code",
   "execution_count": 216,
   "id": "e8760a2f",
   "metadata": {},
   "outputs": [
    {
     "data": {
      "text/html": [
       "<div>\n",
       "<style scoped>\n",
       "    .dataframe tbody tr th:only-of-type {\n",
       "        vertical-align: middle;\n",
       "    }\n",
       "\n",
       "    .dataframe tbody tr th {\n",
       "        vertical-align: top;\n",
       "    }\n",
       "\n",
       "    .dataframe thead th {\n",
       "        text-align: right;\n",
       "    }\n",
       "</style>\n",
       "<table border=\"1\" class=\"dataframe\">\n",
       "  <thead>\n",
       "    <tr style=\"text-align: right;\">\n",
       "      <th></th>\n",
       "      <th>EnsembleV1_dev_see</th>\n",
       "      <th>ensembled_dev_see</th>\n",
       "    </tr>\n",
       "  </thead>\n",
       "  <tbody>\n",
       "    <tr>\n",
       "      <th>0</th>\n",
       "      <td>0.617333</td>\n",
       "      <td>-1.528286</td>\n",
       "    </tr>\n",
       "    <tr>\n",
       "      <th>1</th>\n",
       "      <td>0.361333</td>\n",
       "      <td>-4.127587</td>\n",
       "    </tr>\n",
       "    <tr>\n",
       "      <th>2</th>\n",
       "      <td>0.670000</td>\n",
       "      <td>-0.866048</td>\n",
       "    </tr>\n",
       "    <tr>\n",
       "      <th>3</th>\n",
       "      <td>0.307333</td>\n",
       "      <td>-4.195083</td>\n",
       "    </tr>\n",
       "    <tr>\n",
       "      <th>4</th>\n",
       "      <td>0.982000</td>\n",
       "      <td>5.156360</td>\n",
       "    </tr>\n",
       "    <tr>\n",
       "      <th>...</th>\n",
       "      <td>...</td>\n",
       "      <td>...</td>\n",
       "    </tr>\n",
       "    <tr>\n",
       "      <th>495</th>\n",
       "      <td>0.205333</td>\n",
       "      <td>-4.900357</td>\n",
       "    </tr>\n",
       "    <tr>\n",
       "      <th>496</th>\n",
       "      <td>0.054000</td>\n",
       "      <td>-5.721004</td>\n",
       "    </tr>\n",
       "    <tr>\n",
       "      <th>497</th>\n",
       "      <td>0.211333</td>\n",
       "      <td>-4.939563</td>\n",
       "    </tr>\n",
       "    <tr>\n",
       "      <th>498</th>\n",
       "      <td>0.162667</td>\n",
       "      <td>-4.887284</td>\n",
       "    </tr>\n",
       "    <tr>\n",
       "      <th>499</th>\n",
       "      <td>0.240667</td>\n",
       "      <td>-4.712439</td>\n",
       "    </tr>\n",
       "  </tbody>\n",
       "</table>\n",
       "<p>500 rows × 2 columns</p>\n",
       "</div>"
      ],
      "text/plain": [
       "     EnsembleV1_dev_see  ensembled_dev_see\n",
       "0              0.617333          -1.528286\n",
       "1              0.361333          -4.127587\n",
       "2              0.670000          -0.866048\n",
       "3              0.307333          -4.195083\n",
       "4              0.982000           5.156360\n",
       "..                  ...                ...\n",
       "495            0.205333          -4.900357\n",
       "496            0.054000          -5.721004\n",
       "497            0.211333          -4.939563\n",
       "498            0.162667          -4.887284\n",
       "499            0.240667          -4.712439\n",
       "\n",
       "[500 rows x 2 columns]"
      ]
     },
     "execution_count": 216,
     "metadata": {},
     "output_type": "execute_result"
    }
   ],
   "source": [
    "test_unseen_probas"
   ]
  },
  {
   "cell_type": "code",
   "execution_count": 228,
   "id": "caec3533",
   "metadata": {},
   "outputs": [
    {
     "data": {
      "text/plain": [
       "0     -0.455476\n",
       "1     -1.883127\n",
       "2     -0.098024\n",
       "3     -1.943875\n",
       "4      3.069180\n",
       "         ...   \n",
       "495   -2.347512\n",
       "496   -2.833502\n",
       "497   -2.364115\n",
       "498   -2.362309\n",
       "499   -2.235886\n",
       "Length: 500, dtype: float64"
      ]
     },
     "execution_count": 228,
     "metadata": {},
     "output_type": "execute_result"
    }
   ],
   "source": [
    "(test_unseen_probas['EnsembleV1_dev_see'] + test_unseen_probas['ensembled_dev_see'])/2"
   ]
  },
  {
   "cell_type": "code",
   "execution_count": 232,
   "id": "452abd70",
   "metadata": {},
   "outputs": [
    {
     "data": {
      "text/plain": [
       "0      0.617333\n",
       "1      0.361333\n",
       "2      0.670000\n",
       "3      0.307333\n",
       "4      0.982000\n",
       "         ...   \n",
       "495    0.205333\n",
       "496    0.054000\n",
       "497    0.211333\n",
       "498    0.162667\n",
       "499    0.240667\n",
       "Name: proba, Length: 500, dtype: float64"
      ]
     },
     "execution_count": 232,
     "metadata": {},
     "output_type": "execute_result"
    }
   ],
   "source": [
    "preds[0].iloc[:,1]"
   ]
  },
  {
   "cell_type": "code",
   "execution_count": 236,
   "id": "e5b08d97",
   "metadata": {},
   "outputs": [
    {
     "name": "stdout",
     "output_type": "stream",
     "text": [
      "0      0.308667\n",
      "1      0.180667\n",
      "2      0.335000\n",
      "3      0.153667\n",
      "4      0.491000\n",
      "         ...   \n",
      "495    0.102667\n",
      "496    0.027000\n",
      "497    0.105667\n",
      "498    0.081333\n",
      "499    0.120333\n",
      "Length: 500, dtype: float64\n",
      "0     -0.764143\n",
      "1     -2.063793\n",
      "2     -0.433024\n",
      "3     -2.097542\n",
      "4      2.578180\n",
      "         ...   \n",
      "495   -2.450178\n",
      "496   -2.860502\n",
      "497   -2.469781\n",
      "498   -2.443642\n",
      "499   -2.356220\n",
      "Length: 500, dtype: float64\n"
     ]
    }
   ],
   "source": [
    "power = 1\n",
    "weights = None\n",
    "targets=pd.DataFrame(test_unseen_probas)\n",
    "\n",
    "\n",
    "if weights is None:\n",
    "    weights = len(targets.columns) * [1.0 / len(targets.columns)]\n",
    "\n",
    "preds = preds[0]\n",
    "preds.iloc[:,1] = np.zeros(len(preds))\n",
    "\n",
    "\n",
    "for i in range(len(targets.columns)):\n",
    "    print(np.add(preds.iloc[:, 1], weights[i] * (targets.iloc[:, i].astype(float)**power)))"
   ]
  },
  {
   "cell_type": "code",
   "execution_count": 237,
   "id": "288bb4be",
   "metadata": {},
   "outputs": [],
   "source": [
    "preds = test_unseen.copy()"
   ]
  },
  {
   "cell_type": "code",
   "execution_count": 238,
   "id": "8df668ed",
   "metadata": {},
   "outputs": [],
   "source": [
    "power = 1\n",
    "weights = None\n",
    "targets=pd.DataFrame(test_unseen_probas)\n",
    "\n",
    "\n",
    "if weights is None:\n",
    "    weights = len(targets.columns) * [1.0 / len(targets.columns)]\n",
    "\n",
    "preds = preds[0]\n",
    "for i in range(len(targets.columns)):\n",
    "    preds.iloc[:,1] = np.add(preds.iloc[:, 1], weights[i] * (targets.iloc[:, i].astype(float)**power))"
   ]
  },
  {
   "cell_type": "code",
   "execution_count": 239,
   "id": "e0420741",
   "metadata": {},
   "outputs": [
    {
     "data": {
      "text/html": [
       "<div>\n",
       "<style scoped>\n",
       "    .dataframe tbody tr th:only-of-type {\n",
       "        vertical-align: middle;\n",
       "    }\n",
       "\n",
       "    .dataframe tbody tr th {\n",
       "        vertical-align: top;\n",
       "    }\n",
       "\n",
       "    .dataframe thead th {\n",
       "        text-align: right;\n",
       "    }\n",
       "</style>\n",
       "<table border=\"1\" class=\"dataframe\">\n",
       "  <thead>\n",
       "    <tr style=\"text-align: right;\">\n",
       "      <th></th>\n",
       "      <th>id</th>\n",
       "      <th>proba</th>\n",
       "      <th>label</th>\n",
       "    </tr>\n",
       "  </thead>\n",
       "  <tbody>\n",
       "    <tr>\n",
       "      <th>0</th>\n",
       "      <td>8291</td>\n",
       "      <td>-0.455476</td>\n",
       "      <td>1</td>\n",
       "    </tr>\n",
       "    <tr>\n",
       "      <th>1</th>\n",
       "      <td>46971</td>\n",
       "      <td>-1.883127</td>\n",
       "      <td>0</td>\n",
       "    </tr>\n",
       "    <tr>\n",
       "      <th>2</th>\n",
       "      <td>3745</td>\n",
       "      <td>-0.098024</td>\n",
       "      <td>1</td>\n",
       "    </tr>\n",
       "    <tr>\n",
       "      <th>3</th>\n",
       "      <td>83745</td>\n",
       "      <td>-1.943875</td>\n",
       "      <td>0</td>\n",
       "    </tr>\n",
       "    <tr>\n",
       "      <th>4</th>\n",
       "      <td>80243</td>\n",
       "      <td>3.069180</td>\n",
       "      <td>1</td>\n",
       "    </tr>\n",
       "    <tr>\n",
       "      <th>...</th>\n",
       "      <td>...</td>\n",
       "      <td>...</td>\n",
       "      <td>...</td>\n",
       "    </tr>\n",
       "    <tr>\n",
       "      <th>495</th>\n",
       "      <td>83675</td>\n",
       "      <td>-2.347512</td>\n",
       "      <td>0</td>\n",
       "    </tr>\n",
       "    <tr>\n",
       "      <th>496</th>\n",
       "      <td>37198</td>\n",
       "      <td>-2.833502</td>\n",
       "      <td>0</td>\n",
       "    </tr>\n",
       "    <tr>\n",
       "      <th>497</th>\n",
       "      <td>48670</td>\n",
       "      <td>-2.364115</td>\n",
       "      <td>0</td>\n",
       "    </tr>\n",
       "    <tr>\n",
       "      <th>498</th>\n",
       "      <td>9863</td>\n",
       "      <td>-2.362309</td>\n",
       "      <td>0</td>\n",
       "    </tr>\n",
       "    <tr>\n",
       "      <th>499</th>\n",
       "      <td>97320</td>\n",
       "      <td>-2.235886</td>\n",
       "      <td>0</td>\n",
       "    </tr>\n",
       "  </tbody>\n",
       "</table>\n",
       "<p>500 rows × 3 columns</p>\n",
       "</div>"
      ],
      "text/plain": [
       "        id     proba  label\n",
       "0     8291 -0.455476      1\n",
       "1    46971 -1.883127      0\n",
       "2     3745 -0.098024      1\n",
       "3    83745 -1.943875      0\n",
       "4    80243  3.069180      1\n",
       "..     ...       ...    ...\n",
       "495  83675 -2.347512      0\n",
       "496  37198 -2.833502      0\n",
       "497  48670 -2.364115      0\n",
       "498   9863 -2.362309      0\n",
       "499  97320 -2.235886      0\n",
       "\n",
       "[500 rows x 3 columns]"
      ]
     },
     "execution_count": 239,
     "metadata": {},
     "output_type": "execute_result"
    }
   ],
   "source": [
    "preds"
   ]
  },
  {
   "cell_type": "code",
   "execution_count": null,
   "id": "90549d7c",
   "metadata": {},
   "outputs": [],
   "source": []
  },
  {
   "cell_type": "code",
   "execution_count": null,
   "id": "5c66a018",
   "metadata": {},
   "outputs": [],
   "source": []
  },
  {
   "cell_type": "code",
   "execution_count": 240,
   "id": "b2fed7cd",
   "metadata": {},
   "outputs": [],
   "source": [
    "def rank_average(subs, weights=None):\n",
    "    \"\"\"\n",
    "    subs: list of submission dataframes with two columns (id, value)\n",
    "    weights: per submission weights; default is equal weighting \n",
    "    \"\"\"\n",
    "    if weights is None:\n",
    "        weights = len(subs) * [1.0 / len(subs)]\n",
    "    else:\n",
    "        weights = weights / np.sum(weights)\n",
    "    preds = subs[0].copy()\n",
    "    preds.iloc[:,1] = np.zeros(len(subs[0]))\n",
    "    for i, sub in enumerate(subs):\n",
    "        preds.iloc[:,1] = np.add(preds.iloc[:,1], weights[i] * rankdata(sub.iloc[:,1]) / len(sub))\n",
    "        \n",
    "    return preds"
   ]
  },
  {
   "cell_type": "code",
   "execution_count": 262,
   "id": "5efd8a43",
   "metadata": {},
   "outputs": [
    {
     "name": "stdout",
     "output_type": "stream",
     "text": [
      "500\n",
      "500\n"
     ]
    }
   ],
   "source": [
    "for i, sub in enumerate(dev):\n",
    "    print(len(sub))"
   ]
  },
  {
   "cell_type": "code",
   "execution_count": 245,
   "id": "f5ef5fa2",
   "metadata": {},
   "outputs": [
    {
     "data": {
      "text/plain": [
       "['dev_seen.jsonl',\n",
       " '.DS_Store',\n",
       " 'EnsembleV1_dev_seen_RA.csv',\n",
       " 'annotations_with_tag_type',\n",
       " 'racism_rule_analyst.ipynb',\n",
       " 'ensembled_dev_seen_SA.csv',\n",
       " 'dev_seen_htype.json',\n",
       " 'csv_freq_words',\n",
       " 'annotations',\n",
       " 'hateful_analysis.ipynb',\n",
       " 'annotations_fairface.json',\n",
       " '.ipynb_checkpoints',\n",
       " 'Predictions_Analysis.ipynb',\n",
       " 'Find text and images duplicates-Confunders.ipynb']"
      ]
     },
     "execution_count": 245,
     "metadata": {},
     "output_type": "execute_result"
    }
   ],
   "source": [
    "os.listdir(data_path)"
   ]
  },
  {
   "cell_type": "code",
   "execution_count": 250,
   "id": "9253730b",
   "metadata": {},
   "outputs": [],
   "source": [
    "for csv in sorted(os.listdir(data_path)):\n",
    "    if \"dev_seen\" in csv:\n",
    "        test_unseen_RA = rank_average(dev)"
   ]
  },
  {
   "cell_type": "code",
   "execution_count": 257,
   "id": "51a533ac",
   "metadata": {},
   "outputs": [
    {
     "data": {
      "text/html": [
       "<div>\n",
       "<style scoped>\n",
       "    .dataframe tbody tr th:only-of-type {\n",
       "        vertical-align: middle;\n",
       "    }\n",
       "\n",
       "    .dataframe tbody tr th {\n",
       "        vertical-align: top;\n",
       "    }\n",
       "\n",
       "    .dataframe thead th {\n",
       "        text-align: right;\n",
       "    }\n",
       "</style>\n",
       "<table border=\"1\" class=\"dataframe\">\n",
       "  <thead>\n",
       "    <tr style=\"text-align: right;\">\n",
       "      <th></th>\n",
       "      <th>EnsembleV1_dev_see</th>\n",
       "      <th>ensembled_dev_see</th>\n",
       "    </tr>\n",
       "  </thead>\n",
       "  <tbody>\n",
       "    <tr>\n",
       "      <th>0</th>\n",
       "      <td>0.617333</td>\n",
       "      <td>-1.528286</td>\n",
       "    </tr>\n",
       "    <tr>\n",
       "      <th>1</th>\n",
       "      <td>0.361333</td>\n",
       "      <td>-4.127587</td>\n",
       "    </tr>\n",
       "    <tr>\n",
       "      <th>2</th>\n",
       "      <td>0.670000</td>\n",
       "      <td>-0.866048</td>\n",
       "    </tr>\n",
       "    <tr>\n",
       "      <th>3</th>\n",
       "      <td>0.307333</td>\n",
       "      <td>-4.195083</td>\n",
       "    </tr>\n",
       "    <tr>\n",
       "      <th>4</th>\n",
       "      <td>0.982000</td>\n",
       "      <td>5.156360</td>\n",
       "    </tr>\n",
       "    <tr>\n",
       "      <th>...</th>\n",
       "      <td>...</td>\n",
       "      <td>...</td>\n",
       "    </tr>\n",
       "    <tr>\n",
       "      <th>495</th>\n",
       "      <td>0.205333</td>\n",
       "      <td>-4.900357</td>\n",
       "    </tr>\n",
       "    <tr>\n",
       "      <th>496</th>\n",
       "      <td>0.054000</td>\n",
       "      <td>-5.721004</td>\n",
       "    </tr>\n",
       "    <tr>\n",
       "      <th>497</th>\n",
       "      <td>0.211333</td>\n",
       "      <td>-4.939563</td>\n",
       "    </tr>\n",
       "    <tr>\n",
       "      <th>498</th>\n",
       "      <td>0.162667</td>\n",
       "      <td>-4.887284</td>\n",
       "    </tr>\n",
       "    <tr>\n",
       "      <th>499</th>\n",
       "      <td>0.240667</td>\n",
       "      <td>-4.712439</td>\n",
       "    </tr>\n",
       "  </tbody>\n",
       "</table>\n",
       "<p>500 rows × 2 columns</p>\n",
       "</div>"
      ],
      "text/plain": [
       "     EnsembleV1_dev_see  ensembled_dev_see\n",
       "0              0.617333          -1.528286\n",
       "1              0.361333          -4.127587\n",
       "2              0.670000          -0.866048\n",
       "3              0.307333          -4.195083\n",
       "4              0.982000           5.156360\n",
       "..                  ...                ...\n",
       "495            0.205333          -4.900357\n",
       "496            0.054000          -5.721004\n",
       "497            0.211333          -4.939563\n",
       "498            0.162667          -4.887284\n",
       "499            0.240667          -4.712439\n",
       "\n",
       "[500 rows x 2 columns]"
      ]
     },
     "execution_count": 257,
     "metadata": {},
     "output_type": "execute_result"
    }
   ],
   "source": [
    "dev_probas"
   ]
  },
  {
   "cell_type": "code",
   "execution_count": 285,
   "id": "eaf3f009",
   "metadata": {},
   "outputs": [
    {
     "data": {
      "text/plain": [
       "0     -1.528286\n",
       "1     -4.127587\n",
       "2     -0.866048\n",
       "3     -4.195083\n",
       "4      5.156360\n",
       "         ...   \n",
       "495   -4.900357\n",
       "496   -5.721004\n",
       "497   -4.939563\n",
       "498   -4.887284\n",
       "499   -4.712439\n",
       "Name: ensembled_dev_see, Length: 500, dtype: float64"
      ]
     },
     "execution_count": 285,
     "metadata": {},
     "output_type": "execute_result"
    }
   ],
   "source": [
    "((dev_probas.iloc[:,1]))"
   ]
  },
  {
   "cell_type": "code",
   "execution_count": 271,
   "id": "a9c3104b",
   "metadata": {},
   "outputs": [
    {
     "data": {
      "text/plain": [
       "array([0.628, 0.342, 0.686, 0.291, 0.99 , 0.816, 0.437, 0.104, 0.214,\n",
       "       0.74 , 0.574, 0.974, 0.715, 0.856, 0.67 , 0.97 , 0.39 , 0.722,\n",
       "       0.976, 0.452, 0.69 , 0.808, 0.948, 0.858, 0.566, 0.652, 0.702,\n",
       "       0.02 , 0.437, 0.492, 0.635, 0.992, 0.82 , 0.44 , 0.934, 0.228,\n",
       "       0.356, 0.972, 0.1  , 0.862, 0.818, 0.59 , 0.602, 0.834, 0.906,\n",
       "       0.876, 0.544, 0.468, 0.883, 0.85 , 0.456, 0.442, 0.222, 0.87 ,\n",
       "       0.852, 0.782, 0.588, 0.399, 0.646, 0.997, 0.256, 0.337, 0.64 ,\n",
       "       0.026, 0.921, 0.49 , 0.597, 0.481, 0.534, 0.178, 0.984, 0.844,\n",
       "       0.726, 0.698, 0.01 , 0.568, 0.156, 0.964, 0.481, 0.064, 0.052,\n",
       "       0.414, 0.654, 0.822, 0.657, 0.216, 0.048, 0.346, 0.978, 0.012,\n",
       "       0.71 , 0.249, 0.233, 0.084, 0.648, 0.832, 0.732, 0.997, 0.014,\n",
       "       0.621, 0.405, 0.776, 0.898, 0.609, 0.536, 0.352, 0.494, 0.395,\n",
       "       0.392, 0.529, 0.778, 0.5  , 0.6  , 0.768, 0.274, 0.76 , 0.57 ,\n",
       "       0.794, 0.412, 0.988, 0.194, 0.337, 0.022, 0.14 , 0.526, 0.424,\n",
       "       0.151, 0.304, 0.388, 0.504, 0.204, 0.948, 0.612, 0.624, 0.285,\n",
       "       0.386, 0.514, 0.532, 0.208, 0.002, 0.81 , 0.311, 0.616, 0.306,\n",
       "       0.06 , 0.236, 0.889, 0.484, 0.362, 0.586, 0.125, 0.098, 0.244,\n",
       "       0.77 , 0.278, 0.167, 0.868, 0.592, 0.912, 0.844, 0.132, 0.872,\n",
       "       0.706, 0.241, 0.402, 0.018, 0.724, 0.952, 0.395, 0.502, 0.994,\n",
       "       0.943, 0.34 , 0.554, 0.632, 0.83 , 0.054, 0.348, 0.864, 0.786,\n",
       "       0.368, 0.466, 0.644, 0.096, 0.224, 0.756, 0.764, 0.241, 0.35 ,\n",
       "       0.728, 0.556, 0.125, 0.517, 0.17 , 0.134, 0.272, 0.638, 0.66 ,\n",
       "       0.883, 0.218, 0.762, 0.529, 0.43 , 0.148, 0.46 , 0.05 , 0.433,\n",
       "       0.918, 0.812, 0.943, 0.72 , 0.86 , 0.7  , 0.496, 0.904, 0.375,\n",
       "       0.718, 0.738, 0.564, 0.65 , 0.094, 0.444, 0.582, 0.743, 0.22 ,\n",
       "       0.927, 0.931, 0.774, 0.332, 0.405, 0.422, 0.986, 0.814, 0.11 ,\n",
       "       0.282, 0.91 , 0.961, 0.982, 0.285, 0.576, 0.298, 0.375, 0.55 ,\n",
       "       0.766, 0.318, 0.47 , 0.517, 0.068, 0.68 , 0.478, 0.548, 0.898,\n",
       "       0.715, 0.796, 0.144, 0.538, 0.016, 0.462, 0.562, 0.898, 0.916,\n",
       "       0.128, 0.604, 0.758, 0.28 , 0.803, 0.175, 0.75 , 0.112, 0.472,\n",
       "       0.931, 0.546, 0.792, 0.038, 0.449, 0.378, 0.12 , 0.736, 0.324,\n",
       "       0.507, 0.212, 0.073, 0.743, 0.092, 0.358, 0.302, 0.079, 0.158,\n",
       "       0.416, 0.09 , 0.046, 0.541, 0.184, 0.314, 0.682, 0.136, 0.116,\n",
       "       0.898, 0.041, 0.688, 0.26 , 0.399, 0.308, 0.041, 0.03 , 0.784,\n",
       "       0.186, 0.008, 0.584, 0.837, 0.418, 0.511, 0.268, 0.38 , 0.073,\n",
       "       0.498, 0.004, 0.316, 0.956, 0.693, 0.327, 0.032, 0.188, 0.921,\n",
       "       0.966, 0.734, 0.354, 0.63 , 0.206, 0.082, 0.334, 0.408, 0.806,\n",
       "       0.486, 0.322, 0.368, 0.522, 0.704, 0.276, 0.892, 0.028, 0.192,\n",
       "       0.621, 0.754, 0.311, 0.626, 0.511, 0.172, 0.36 , 0.609, 0.936,\n",
       "       0.13 , 0.122, 0.678, 0.344, 0.256, 0.924, 0.878, 0.803, 0.79 ,\n",
       "       0.372, 0.252, 0.848, 0.16 , 0.426, 0.657, 0.327, 0.034, 0.73 ,\n",
       "       0.844, 0.104, 0.558, 0.41 , 0.961, 0.824, 0.642, 0.798, 0.142,\n",
       "       0.748, 0.175, 0.927, 0.874, 0.94 , 0.056, 0.294, 0.27 , 0.118,\n",
       "       0.541, 0.828, 0.693, 0.42 , 0.618, 0.449, 0.249, 0.507, 0.606,\n",
       "       0.866, 0.32 , 0.58 , 0.167, 0.088, 0.914, 0.674, 0.07 , 0.88 ,\n",
       "       0.594, 0.2  , 0.614, 0.948, 0.446, 0.162, 0.788, 0.854, 0.458,\n",
       "       0.079, 0.382, 0.8  , 0.182, 0.024, 0.662, 0.746, 0.938, 0.2  ,\n",
       "       0.958, 0.006, 0.826, 0.296, 0.291, 0.233, 0.476, 0.114, 0.33 ,\n",
       "       0.474, 0.837, 0.635, 0.062, 0.696, 0.076, 0.044, 0.772, 0.164,\n",
       "       0.368, 0.664, 0.908, 0.752, 0.668, 0.454, 0.78 , 0.552, 0.684,\n",
       "       0.954, 0.154, 0.058, 0.712, 0.56 , 0.364, 0.108, 0.256, 0.226,\n",
       "       0.968, 0.428, 0.384, 0.138, 0.666, 0.84 , 0.52 , 0.104, 0.266,\n",
       "       0.066, 0.18 , 0.672, 0.597, 0.3  , 0.23 , 0.151, 0.708, 0.886,\n",
       "       0.264, 0.288, 0.246, 0.578, 0.196, 0.464, 0.262, 1.   , 0.524,\n",
       "       0.572, 0.19 , 0.889, 0.98 , 0.488, 0.433, 0.676, 0.898, 0.086,\n",
       "       0.2  , 0.036, 0.21 , 0.146, 0.238])"
      ]
     },
     "execution_count": 271,
     "metadata": {},
     "output_type": "execute_result"
    }
   ],
   "source": [
    "(rankdata(dev_probas.iloc[:,0])/500)"
   ]
  },
  {
   "cell_type": "code",
   "execution_count": 269,
   "id": "80a76cd0",
   "metadata": {},
   "outputs": [
    {
     "data": {
      "text/plain": [
       "array([0.616, 0.314, 0.664, 0.298, 0.992, 0.818, 0.44 , 0.11 , 0.278,\n",
       "       0.756, 0.55 , 0.97 , 0.69 , 0.864, 0.65 , 0.958, 0.366, 0.71 ,\n",
       "       0.966, 0.436, 0.692, 0.796, 0.924, 0.876, 0.532, 0.68 , 0.696,\n",
       "       0.026, 0.47 , 0.468, 0.674, 0.99 , 0.812, 0.416, 0.926, 0.218,\n",
       "       0.334, 0.956, 0.126, 0.882, 0.824, 0.632, 0.614, 0.852, 0.898,\n",
       "       0.872, 0.508, 0.448, 0.89 , 0.856, 0.418, 0.77 , 0.212, 0.866,\n",
       "       0.834, 0.804, 0.59 , 0.404, 0.666, 1.   , 0.26 , 0.32 , 0.642,\n",
       "       0.022, 0.902, 0.582, 0.624, 0.504, 0.506, 0.236, 0.984, 0.858,\n",
       "       0.708, 0.684, 0.002, 0.574, 0.172, 0.954, 0.536, 0.096, 0.082,\n",
       "       0.77 , 0.652, 0.86 , 0.636, 0.188, 0.062, 0.296, 0.974, 0.008,\n",
       "       0.688, 0.428, 0.248, 0.036, 0.618, 0.81 , 0.716, 0.996, 0.014,\n",
       "       0.586, 0.394, 0.762, 0.892, 0.604, 0.486, 0.374, 0.466, 0.422,\n",
       "       0.384, 0.488, 0.752, 0.48 , 0.606, 0.76 , 0.268, 0.77 , 0.566,\n",
       "       0.788, 0.396, 0.988, 0.214, 0.316, 0.024, 0.186, 0.496, 0.406,\n",
       "       0.162, 0.276, 0.364, 0.52 , 0.232, 0.964, 0.578, 0.598, 0.286,\n",
       "       0.358, 0.514, 0.5  , 0.21 , 0.004, 0.79 , 0.284, 0.628, 0.3  ,\n",
       "       0.054, 0.228, 0.896, 0.502, 0.378, 0.608, 0.148, 0.084, 0.262,\n",
       "       0.754, 0.36 , 0.174, 0.87 , 0.562, 0.886, 0.85 , 0.058, 0.854,\n",
       "       0.702, 0.238, 0.37 , 0.02 , 0.706, 0.946, 0.452, 0.478, 0.994,\n",
       "       0.944, 0.33 , 0.516, 0.634, 0.836, 0.056, 0.306, 0.862, 0.764,\n",
       "       0.38 , 0.434, 0.626, 0.076, 0.182, 0.758, 0.744, 0.23 , 0.368,\n",
       "       0.714, 0.546, 0.06 , 0.484, 0.16 , 0.204, 0.282, 0.64 , 0.648,\n",
       "       0.878, 0.206, 0.738, 0.51 , 0.402, 0.118, 0.456, 0.074, 0.43 ,\n",
       "       0.942, 0.826, 0.96 , 0.704, 0.838, 0.724, 0.512, 0.904, 0.35 ,\n",
       "       0.726, 0.734, 0.56 , 0.77 , 0.072, 0.414, 0.556, 0.746, 0.202,\n",
       "       0.928, 0.93 , 0.806, 0.294, 0.444, 0.392, 0.986, 0.814, 0.112,\n",
       "       0.266, 0.918, 0.972, 0.982, 0.288, 0.548, 0.308, 0.388, 0.552,\n",
       "       0.792, 0.342, 0.482, 0.524, 0.044, 0.656, 0.45 , 0.544, 0.884,\n",
       "       0.712, 0.778, 0.176, 0.54 , 0.016, 0.446, 0.528, 0.9  , 0.91 ,\n",
       "       0.094, 0.612, 0.798, 0.304, 0.8  , 0.208, 0.72 , 0.134, 0.432,\n",
       "       0.934, 0.53 , 0.786, 0.048, 0.554, 0.362, 0.14 , 0.736, 0.302,\n",
       "       0.494, 0.192, 0.066, 0.75 , 0.124, 0.372, 0.324, 0.07 , 0.184,\n",
       "       0.458, 0.116, 0.05 , 0.592, 0.24 , 0.29 , 0.676, 0.122, 0.138,\n",
       "       0.894, 0.046, 0.682, 0.258, 0.42 , 0.312, 0.052, 0.032, 0.822,\n",
       "       0.132, 0.012, 0.588, 0.828, 0.398, 0.498, 0.346, 0.344, 0.068,\n",
       "       0.476, 0.006, 0.31 , 0.94 , 0.694, 0.352, 0.038, 0.216, 0.938,\n",
       "       0.976, 0.728, 0.322, 0.622, 0.128, 0.1  , 0.426, 0.382, 0.808,\n",
       "       0.462, 0.328, 0.77 , 0.522, 0.678, 0.25 , 0.888, 0.03 , 0.19 ,\n",
       "       0.61 , 0.782, 0.332, 0.596, 0.472, 0.178, 0.336, 0.58 , 0.952,\n",
       "       0.108, 0.158, 0.658, 0.34 , 0.226, 0.932, 0.88 , 0.802, 0.776,\n",
       "       0.348, 0.264, 0.832, 0.168, 0.538, 0.66 , 0.326, 0.034, 0.722,\n",
       "       0.83 , 0.086, 0.526, 0.386, 0.95 , 0.82 , 0.602, 0.794, 0.154,\n",
       "       0.73 , 0.164, 0.948, 0.868, 0.914, 0.08 , 0.234, 0.252, 0.136,\n",
       "       0.542, 0.816, 0.686, 0.39 , 0.584, 0.424, 0.242, 0.474, 0.62 ,\n",
       "       0.846, 0.318, 0.594, 0.152, 0.064, 0.916, 0.644, 0.09 , 0.906,\n",
       "       0.576, 0.2  , 0.57 , 0.962, 0.442, 0.194, 0.784, 0.844, 0.464,\n",
       "       0.104, 0.376, 0.78 , 0.102, 0.018, 0.63 , 0.74 , 0.936, 0.146,\n",
       "       0.968, 0.01 , 0.848, 0.28 , 0.27 , 0.272, 0.454, 0.12 , 0.356,\n",
       "       0.46 , 0.84 , 0.654, 0.088, 0.7  , 0.092, 0.042, 0.748, 0.156,\n",
       "       0.338, 0.668, 0.922, 0.732, 0.662, 0.412, 0.742, 0.518, 0.67 ,\n",
       "       0.92 , 0.142, 0.04 , 0.718, 0.564, 0.408, 0.078, 0.256, 0.222,\n",
       "       0.98 , 0.4  , 0.41 , 0.144, 0.672, 0.842, 0.492, 0.114, 0.274,\n",
       "       0.098, 0.15 , 0.638, 0.6  , 0.354, 0.22 , 0.13 , 0.698, 0.908,\n",
       "       0.246, 0.292, 0.244, 0.568, 0.166, 0.572, 0.254, 0.998, 0.534,\n",
       "       0.558, 0.17 , 0.874, 0.978, 0.49 , 0.438, 0.646, 0.912, 0.106,\n",
       "       0.196, 0.028, 0.18 , 0.198, 0.224])"
      ]
     },
     "execution_count": 269,
     "metadata": {},
     "output_type": "execute_result"
    }
   ],
   "source": [
    "(rankdata(dev_probas.iloc[:,1])/500)"
   ]
  },
  {
   "cell_type": "code",
   "execution_count": 251,
   "id": "5ed17e6c",
   "metadata": {},
   "outputs": [
    {
     "data": {
      "text/html": [
       "<div>\n",
       "<style scoped>\n",
       "    .dataframe tbody tr th:only-of-type {\n",
       "        vertical-align: middle;\n",
       "    }\n",
       "\n",
       "    .dataframe tbody tr th {\n",
       "        vertical-align: top;\n",
       "    }\n",
       "\n",
       "    .dataframe thead th {\n",
       "        text-align: right;\n",
       "    }\n",
       "</style>\n",
       "<table border=\"1\" class=\"dataframe\">\n",
       "  <thead>\n",
       "    <tr style=\"text-align: right;\">\n",
       "      <th></th>\n",
       "      <th>id</th>\n",
       "      <th>proba</th>\n",
       "      <th>label</th>\n",
       "    </tr>\n",
       "  </thead>\n",
       "  <tbody>\n",
       "    <tr>\n",
       "      <th>0</th>\n",
       "      <td>8291</td>\n",
       "      <td>0.6220</td>\n",
       "      <td>1</td>\n",
       "    </tr>\n",
       "    <tr>\n",
       "      <th>1</th>\n",
       "      <td>46971</td>\n",
       "      <td>0.3280</td>\n",
       "      <td>0</td>\n",
       "    </tr>\n",
       "    <tr>\n",
       "      <th>2</th>\n",
       "      <td>3745</td>\n",
       "      <td>0.6750</td>\n",
       "      <td>1</td>\n",
       "    </tr>\n",
       "    <tr>\n",
       "      <th>3</th>\n",
       "      <td>83745</td>\n",
       "      <td>0.2945</td>\n",
       "      <td>0</td>\n",
       "    </tr>\n",
       "    <tr>\n",
       "      <th>4</th>\n",
       "      <td>80243</td>\n",
       "      <td>0.9910</td>\n",
       "      <td>1</td>\n",
       "    </tr>\n",
       "    <tr>\n",
       "      <th>...</th>\n",
       "      <td>...</td>\n",
       "      <td>...</td>\n",
       "      <td>...</td>\n",
       "    </tr>\n",
       "    <tr>\n",
       "      <th>495</th>\n",
       "      <td>83675</td>\n",
       "      <td>0.1980</td>\n",
       "      <td>0</td>\n",
       "    </tr>\n",
       "    <tr>\n",
       "      <th>496</th>\n",
       "      <td>37198</td>\n",
       "      <td>0.0320</td>\n",
       "      <td>0</td>\n",
       "    </tr>\n",
       "    <tr>\n",
       "      <th>497</th>\n",
       "      <td>48670</td>\n",
       "      <td>0.1950</td>\n",
       "      <td>0</td>\n",
       "    </tr>\n",
       "    <tr>\n",
       "      <th>498</th>\n",
       "      <td>9863</td>\n",
       "      <td>0.1720</td>\n",
       "      <td>0</td>\n",
       "    </tr>\n",
       "    <tr>\n",
       "      <th>499</th>\n",
       "      <td>97320</td>\n",
       "      <td>0.2310</td>\n",
       "      <td>0</td>\n",
       "    </tr>\n",
       "  </tbody>\n",
       "</table>\n",
       "<p>500 rows × 3 columns</p>\n",
       "</div>"
      ],
      "text/plain": [
       "        id   proba  label\n",
       "0     8291  0.6220      1\n",
       "1    46971  0.3280      0\n",
       "2     3745  0.6750      1\n",
       "3    83745  0.2945      0\n",
       "4    80243  0.9910      1\n",
       "..     ...     ...    ...\n",
       "495  83675  0.1980      0\n",
       "496  37198  0.0320      0\n",
       "497  48670  0.1950      0\n",
       "498   9863  0.1720      0\n",
       "499  97320  0.2310      0\n",
       "\n",
       "[500 rows x 3 columns]"
      ]
     },
     "execution_count": 251,
     "metadata": {},
     "output_type": "execute_result"
    }
   ],
   "source": [
    "test_unseen_RA"
   ]
  },
  {
   "cell_type": "markdown",
   "id": "196c2dc0",
   "metadata": {},
   "source": [
    "## Applying Racims Rule to all dataset"
   ]
  },
  {
   "cell_type": "code",
   "execution_count": 18,
   "id": "dc876f70",
   "metadata": {},
   "outputs": [],
   "source": [
    "meme_anno_path = \"annotations\"\n",
    "\n",
    "\n",
    "meme_anno_train = {}\n",
    "anno_file_train = os.path.join(meme_anno_path, 'train.jsonl')\n",
    "with open(anno_file_train, 'r') as f:\n",
    "    for l in f:\n",
    "        data = json.loads(l)\n",
    "        meme_anno_train[data['id']] = data\n",
    "\n",
    "meme_anno_test_unseen = {}\n",
    "anno_file_test_unseen = os.path.join(meme_anno_path, 'test_unseen.jsonl')\n",
    "with open(anno_file_test_unseen, 'r') as f:\n",
    "    for l in f:\n",
    "        data = json.loads(l)\n",
    "        meme_anno_test_unseen[data['id']] = data\n",
    "\n",
    "meme_anno_test = {}\n",
    "anno_file_test = os.path.join(meme_anno_path, 'test_seen.jsonl')\n",
    "with open(anno_file_test, 'r') as f:\n",
    "    for l in f:\n",
    "        data = json.loads(l)\n",
    "        meme_anno_test[data['id']] = data\n",
    "\n",
    "meme_anno_dev = {}\n",
    "anno_file_dev = os.path.join(meme_anno_path, 'dev_seen.jsonl')\n",
    "with open(anno_file_dev, 'r') as f:\n",
    "    for l in f:\n",
    "        data = json.loads(l)\n",
    "        meme_anno_dev[data['id']] = data\n",
    "        \n",
    "meme_anno_dev_unseen = {}\n",
    "anno_file_dev_unseen = os.path.join(meme_anno_path, 'dev_unseen.jsonl')\n",
    "with open(anno_file_dev_unseen, 'r') as f:\n",
    "    for l in f:\n",
    "        data = json.loads(l)\n",
    "        meme_anno_dev_unseen[data['id']] = data\n",
    "\n",
    "# join org annotations files\n",
    "\n",
    "meme_anno = {**meme_anno_test_unseen, **meme_anno_test, \n",
    "             **meme_anno_dev, **meme_anno_dev_unseen,\n",
    "             **meme_anno_train}"
   ]
  },
  {
   "cell_type": "code",
   "execution_count": 145,
   "id": "a0fa2689",
   "metadata": {},
   "outputs": [
    {
     "name": "stderr",
     "output_type": "stream",
     "text": [
      "/var/folders/pv/21djj0qj50v927yf9fbqsnsh0000gn/T/ipykernel_77693/30057741.py:8: UserWarning: [W008] Evaluating Token.similarity based on empty vectors.\n",
      "  any([token.similarity(kwt) > 0.9 for kwt in keyword_tok])\n"
     ]
    }
   ],
   "source": [
    "keyword = ['crime', 'hang', 'rob', 'steal', 'jail', 'prison', 'slave', 'apes', 'criminal', 'gorilla',\n",
    "'black', 'islam', 'muslim']\n",
    "keyword_tok = list(nlp(' '.join(keyword)))\n",
    "\n",
    "rasicm_sample_idx = []\n",
    "for i, (id, anno) in enumerate(meme_anno.items()):\n",
    "    match = any([\n",
    "    any([token.similarity(kwt) > 0.9 for kwt in keyword_tok])\n",
    "        for token in nlp(anno['text'])\n",
    "])\n",
    "    if match:\n",
    "        rasicm_sample_idx.append(id)"
   ]
  },
  {
   "cell_type": "code",
   "execution_count": 146,
   "id": "0605f209",
   "metadata": {},
   "outputs": [
    {
     "data": {
      "text/plain": [
       "1032"
      ]
     },
     "execution_count": 146,
     "metadata": {},
     "output_type": "execute_result"
    }
   ],
   "source": [
    "len(rasicm_sample_idx)"
   ]
  },
  {
   "cell_type": "code",
   "execution_count": 147,
   "id": "978b3888",
   "metadata": {},
   "outputs": [],
   "source": [
    "filefairface = \"annotations/fairface.json\"\n",
    "\n",
    "# detect race = 'black'\n",
    "fairface_ = pd.read_json(filefairface)\n",
    "\n",
    "fairface_anno = []\n",
    "for i in range(len(fairface_['id'])):\n",
    "    if('Black' in fairface_.loc[i]['face_race4']):\n",
    "        fairface_anno.append(str(fairface_.loc[i]['id']))\n",
    "\n",
    "# print(\"fairface_anno:\", (fairface_anno))\n",
    "# check match in annotations text and fairface 'black'\n",
    "racism_results = []\n",
    "for i in range(len(fairface_anno)):\n",
    "    if fairface_anno[i] in rasicm_sample_idx:\n",
    "        racism_results.append(fairface_anno[i])\n",
    "\n",
    "#print(\"match\", racism_results)\n",
    "# change proba to 1 if racism de"
   ]
  },
  {
   "cell_type": "code",
   "execution_count": 148,
   "id": "a25f873f",
   "metadata": {},
   "outputs": [],
   "source": [
    "for indx in racism_results:\n",
    "    if int(indx) in hateful_memes['id'].values:\n",
    "        hateful_memes.at[int(hateful_memes.index[hateful_memes['id']==int(indx)].values), 'label_rr'] = 1.0\n",
    "    else:\n",
    "        hateful_memes.at[int(hateful_memes.index[hateful_memes['id']==int(indx)].values), 'label_rr'] = 0.0"
   ]
  },
  {
   "cell_type": "code",
   "execution_count": 149,
   "id": "eaa8a72a",
   "metadata": {},
   "outputs": [
    {
     "data": {
      "text/plain": [
       "239"
      ]
     },
     "execution_count": 149,
     "metadata": {},
     "output_type": "execute_result"
    }
   ],
   "source": [
    "len(racism_results)"
   ]
  },
  {
   "cell_type": "code",
   "execution_count": 141,
   "id": "554a6aa0",
   "metadata": {},
   "outputs": [
    {
     "data": {
      "text/plain": [
       "(12540, 5)"
      ]
     },
     "execution_count": 141,
     "metadata": {},
     "output_type": "execute_result"
    }
   ],
   "source": [
    "hateful_memes.shape"
   ]
  },
  {
   "cell_type": "code",
   "execution_count": 150,
   "id": "9b88bc57",
   "metadata": {},
   "outputs": [],
   "source": [
    "clear_hm=hateful_memes[hateful_memes['label_rr'].isnull() != True]"
   ]
  },
  {
   "cell_type": "markdown",
   "id": "70eaf30c",
   "metadata": {},
   "source": [
    "## Correlation Matrix racism_rule vs real label 1"
   ]
  },
  {
   "cell_type": "code",
   "execution_count": 143,
   "id": "7b20f219",
   "metadata": {},
   "outputs": [],
   "source": [
    "from sklearn.metrics import confusion_matrix\n",
    "cf_matrix = confusion_matrix(clear_hm['label'], clear_hm['label_rr'])"
   ]
  },
  {
   "cell_type": "code",
   "execution_count": 151,
   "id": "21affe39",
   "metadata": {},
   "outputs": [
    {
     "data": {
      "text/plain": [
       "<AxesSubplot:>"
      ]
     },
     "execution_count": 151,
     "metadata": {},
     "output_type": "execute_result"
    },
    {
     "data": {
      "image/png": "[encoded data removed]",
      "text/plain": [
       "<Figure size 432x288 with 2 Axes>"
      ]
     },
     "metadata": {},
     "output_type": "display_data"
    }
   ],
   "source": [
    "sns.heatmap(cf_matrix/np.sum(cf_matrix), annot=True, \n",
    "            fmt='.2%', cmap='Blues')"
   ]
  },
  {
   "cell_type": "code",
   "execution_count": null,
   "id": "0e29ed1b",
   "metadata": {},
   "outputs": [],
   "source": []
  },
  {
   "cell_type": "code",
   "execution_count": null,
   "id": "78dd0753",
   "metadata": {},
   "outputs": [],
   "source": []
  },
  {
   "cell_type": "code",
   "execution_count": 99,
   "id": "c5585a79",
   "metadata": {},
   "outputs": [
    {
     "name": "stderr",
     "output_type": "stream",
     "text": [
      "/var/folders/pv/21djj0qj50v927yf9fbqsnsh0000gn/T/ipykernel_77693/1910824154.py:1: SettingWithCopyWarning: \n",
      "A value is trying to be set on a copy of a slice from a DataFrame.\n",
      "Try using .loc[row_indexer,col_indexer] = value instead\n",
      "\n",
      "See the caveats in the documentation: https://pandas.pydata.org/pandas-docs/stable/user_guide/indexing.html#returning-a-view-versus-a-copy\n",
      "  clear_hm['label']=clear_hm['label'].map(lambda x: 1.0 if( x==1 ) else 0.0)\n"
     ]
    }
   ],
   "source": [
    "clear_hm['label']=clear_hm['label'].map(lambda x: 1.0 if( x==1 ) else 0.0)"
   ]
  },
  {
   "cell_type": "code",
   "execution_count": 108,
   "id": "8a9869a7",
   "metadata": {},
   "outputs": [
    {
     "name": "stderr",
     "output_type": "stream",
     "text": [
      "/var/folders/pv/21djj0qj50v927yf9fbqsnsh0000gn/T/ipykernel_77693/1421980014.py:1: SettingWithCopyWarning: \n",
      "A value is trying to be set on a copy of a slice from a DataFrame.\n",
      "Try using .loc[row_indexer,col_indexer] = value instead\n",
      "\n",
      "See the caveats in the documentation: https://pandas.pydata.org/pandas-docs/stable/user_guide/indexing.html#returning-a-view-versus-a-copy\n",
      "  clear_hm['label_rr']=clear_hm['label_rr'].map(lambda x: 1 if( x==1.0 ) else 0)\n"
     ]
    }
   ],
   "source": [
    "clear_hm['label_rr']=clear_hm['label_rr'].map(lambda x: 1 if( x==1.0 ) else 0)"
   ]
  },
  {
   "cell_type": "code",
   "execution_count": 130,
   "id": "f9186bd3",
   "metadata": {},
   "outputs": [
    {
     "ename": "KeyError",
     "evalue": "'prob'",
     "output_type": "error",
     "traceback": [
      "\u001b[0;31m---------------------------------------------------------------------------\u001b[0m",
      "\u001b[0;31mKeyError\u001b[0m                                  Traceback (most recent call last)",
      "File \u001b[0;32m~/miniconda3/lib/python3.9/site-packages/pandas/core/indexes/base.py:3621\u001b[0m, in \u001b[0;36mIndex.get_loc\u001b[0;34m(self, key, method, tolerance)\u001b[0m\n\u001b[1;32m   3620\u001b[0m \u001b[38;5;28;01mtry\u001b[39;00m:\n\u001b[0;32m-> 3621\u001b[0m     \u001b[38;5;28;01mreturn\u001b[39;00m \u001b[38;5;28;43mself\u001b[39;49m\u001b[38;5;241;43m.\u001b[39;49m\u001b[43m_engine\u001b[49m\u001b[38;5;241;43m.\u001b[39;49m\u001b[43mget_loc\u001b[49m\u001b[43m(\u001b[49m\u001b[43mcasted_key\u001b[49m\u001b[43m)\u001b[49m\n\u001b[1;32m   3622\u001b[0m \u001b[38;5;28;01mexcept\u001b[39;00m \u001b[38;5;167;01mKeyError\u001b[39;00m \u001b[38;5;28;01mas\u001b[39;00m err:\n",
      "File \u001b[0;32m~/miniconda3/lib/python3.9/site-packages/pandas/_libs/index.pyx:136\u001b[0m, in \u001b[0;36mpandas._libs.index.IndexEngine.get_loc\u001b[0;34m()\u001b[0m\n",
      "File \u001b[0;32m~/miniconda3/lib/python3.9/site-packages/pandas/_libs/index.pyx:163\u001b[0m, in \u001b[0;36mpandas._libs.index.IndexEngine.get_loc\u001b[0;34m()\u001b[0m\n",
      "File \u001b[0;32mpandas/_libs/hashtable_class_helper.pxi:5198\u001b[0m, in \u001b[0;36mpandas._libs.hashtable.PyObjectHashTable.get_item\u001b[0;34m()\u001b[0m\n",
      "File \u001b[0;32mpandas/_libs/hashtable_class_helper.pxi:5206\u001b[0m, in \u001b[0;36mpandas._libs.hashtable.PyObjectHashTable.get_item\u001b[0;34m()\u001b[0m\n",
      "\u001b[0;31mKeyError\u001b[0m: 'prob'",
      "\nThe above exception was the direct cause of the following exception:\n",
      "\u001b[0;31mKeyError\u001b[0m                                  Traceback (most recent call last)",
      "Input \u001b[0;32mIn [130]\u001b[0m, in \u001b[0;36m<cell line: 2>\u001b[0;34m()\u001b[0m\n\u001b[1;32m      1\u001b[0m df_corr \u001b[38;5;241m=\u001b[39m pd\u001b[38;5;241m.\u001b[39mDataFrame()\n\u001b[0;32m----> 2\u001b[0m df_corr[\u001b[38;5;124m'\u001b[39m\u001b[38;5;124mproba\u001b[39m\u001b[38;5;124m'\u001b[39m] \u001b[38;5;241m=\u001b[39m \u001b[43mclear_hm\u001b[49m\u001b[43m[\u001b[49m\u001b[38;5;124;43m'\u001b[39;49m\u001b[38;5;124;43mprob\u001b[39;49m\u001b[38;5;124;43m'\u001b[39;49m\u001b[43m]\u001b[49m\n\u001b[1;32m      3\u001b[0m df_corr[\u001b[38;5;124m'\u001b[39m\u001b[38;5;124mlabel_rr\u001b[39m\u001b[38;5;124m'\u001b[39m] \u001b[38;5;241m=\u001b[39m clear_hm[\u001b[38;5;124m'\u001b[39m\u001b[38;5;124mlabel_rr\u001b[39m\u001b[38;5;124m'\u001b[39m]\n\u001b[1;32m      4\u001b[0m df_corr\n",
      "File \u001b[0;32m~/miniconda3/lib/python3.9/site-packages/pandas/core/frame.py:3505\u001b[0m, in \u001b[0;36mDataFrame.__getitem__\u001b[0;34m(self, key)\u001b[0m\n\u001b[1;32m   3503\u001b[0m \u001b[38;5;28;01mif\u001b[39;00m \u001b[38;5;28mself\u001b[39m\u001b[38;5;241m.\u001b[39mcolumns\u001b[38;5;241m.\u001b[39mnlevels \u001b[38;5;241m>\u001b[39m \u001b[38;5;241m1\u001b[39m:\n\u001b[1;32m   3504\u001b[0m     \u001b[38;5;28;01mreturn\u001b[39;00m \u001b[38;5;28mself\u001b[39m\u001b[38;5;241m.\u001b[39m_getitem_multilevel(key)\n\u001b[0;32m-> 3505\u001b[0m indexer \u001b[38;5;241m=\u001b[39m \u001b[38;5;28;43mself\u001b[39;49m\u001b[38;5;241;43m.\u001b[39;49m\u001b[43mcolumns\u001b[49m\u001b[38;5;241;43m.\u001b[39;49m\u001b[43mget_loc\u001b[49m\u001b[43m(\u001b[49m\u001b[43mkey\u001b[49m\u001b[43m)\u001b[49m\n\u001b[1;32m   3506\u001b[0m \u001b[38;5;28;01mif\u001b[39;00m is_integer(indexer):\n\u001b[1;32m   3507\u001b[0m     indexer \u001b[38;5;241m=\u001b[39m [indexer]\n",
      "File \u001b[0;32m~/miniconda3/lib/python3.9/site-packages/pandas/core/indexes/base.py:3623\u001b[0m, in \u001b[0;36mIndex.get_loc\u001b[0;34m(self, key, method, tolerance)\u001b[0m\n\u001b[1;32m   3621\u001b[0m     \u001b[38;5;28;01mreturn\u001b[39;00m \u001b[38;5;28mself\u001b[39m\u001b[38;5;241m.\u001b[39m_engine\u001b[38;5;241m.\u001b[39mget_loc(casted_key)\n\u001b[1;32m   3622\u001b[0m \u001b[38;5;28;01mexcept\u001b[39;00m \u001b[38;5;167;01mKeyError\u001b[39;00m \u001b[38;5;28;01mas\u001b[39;00m err:\n\u001b[0;32m-> 3623\u001b[0m     \u001b[38;5;28;01mraise\u001b[39;00m \u001b[38;5;167;01mKeyError\u001b[39;00m(key) \u001b[38;5;28;01mfrom\u001b[39;00m \u001b[38;5;21;01merr\u001b[39;00m\n\u001b[1;32m   3624\u001b[0m \u001b[38;5;28;01mexcept\u001b[39;00m \u001b[38;5;167;01mTypeError\u001b[39;00m:\n\u001b[1;32m   3625\u001b[0m     \u001b[38;5;66;03m# If we have a listlike key, _check_indexing_error will raise\u001b[39;00m\n\u001b[1;32m   3626\u001b[0m     \u001b[38;5;66;03m#  InvalidIndexError. Otherwise we fall through and re-raise\u001b[39;00m\n\u001b[1;32m   3627\u001b[0m     \u001b[38;5;66;03m#  the TypeError.\u001b[39;00m\n\u001b[1;32m   3628\u001b[0m     \u001b[38;5;28mself\u001b[39m\u001b[38;5;241m.\u001b[39m_check_indexing_error(key)\n",
      "\u001b[0;31mKeyError\u001b[0m: 'prob'"
     ]
    }
   ],
   "source": [
    "df_corr = pd.DataFrame()\n",
    "df_corr['proba'] = clear_hm['prob']\n",
    "df_corr['label_rr'] = clear_hm['label_rr']\n",
    "df_corr"
   ]
  },
  {
   "cell_type": "code",
   "execution_count": 102,
   "id": "02a0c68c",
   "metadata": {},
   "outputs": [
    {
     "data": {
      "text/plain": [
       "164"
      ]
     },
     "execution_count": 102,
     "metadata": {},
     "output_type": "execute_result"
    }
   ],
   "source": [
    "sum(df_corr['label'] == df_corr['label_rr'])"
   ]
  },
  {
   "cell_type": "code",
   "execution_count": 114,
   "id": "6f05f13d",
   "metadata": {},
   "outputs": [
    {
     "data": {
      "text/html": [
       "<div>\n",
       "<style scoped>\n",
       "    .dataframe tbody tr th:only-of-type {\n",
       "        vertical-align: middle;\n",
       "    }\n",
       "\n",
       "    .dataframe tbody tr th {\n",
       "        vertical-align: top;\n",
       "    }\n",
       "\n",
       "    .dataframe thead th {\n",
       "        text-align: right;\n",
       "    }\n",
       "</style>\n",
       "<table border=\"1\" class=\"dataframe\">\n",
       "  <thead>\n",
       "    <tr style=\"text-align: right;\">\n",
       "      <th></th>\n",
       "      <th>label</th>\n",
       "      <th>label_rr</th>\n",
       "    </tr>\n",
       "  </thead>\n",
       "  <tbody>\n",
       "    <tr>\n",
       "      <th>label</th>\n",
       "      <td>1.0</td>\n",
       "      <td>NaN</td>\n",
       "    </tr>\n",
       "    <tr>\n",
       "      <th>label_rr</th>\n",
       "      <td>NaN</td>\n",
       "      <td>NaN</td>\n",
       "    </tr>\n",
       "  </tbody>\n",
       "</table>\n",
       "</div>"
      ],
      "text/plain": [
       "          label  label_rr\n",
       "label       1.0       NaN\n",
       "label_rr    NaN       NaN"
      ]
     },
     "execution_count": 114,
     "metadata": {},
     "output_type": "execute_result"
    }
   ],
   "source": [
    "df_corr.corr(method='pearson')"
   ]
  },
  {
   "cell_type": "code",
   "execution_count": 71,
   "id": "6c5258a4",
   "metadata": {},
   "outputs": [],
   "source": [
    "df_corr = pd.DataFrame()"
   ]
  },
  {
   "cell_type": "code",
   "execution_count": 127,
   "id": "236887f4",
   "metadata": {},
   "outputs": [
    {
     "data": {
      "text/html": [
       "<div>\n",
       "<style scoped>\n",
       "    .dataframe tbody tr th:only-of-type {\n",
       "        vertical-align: middle;\n",
       "    }\n",
       "\n",
       "    .dataframe tbody tr th {\n",
       "        vertical-align: top;\n",
       "    }\n",
       "\n",
       "    .dataframe thead th {\n",
       "        text-align: right;\n",
       "    }\n",
       "</style>\n",
       "<table border=\"1\" class=\"dataframe\">\n",
       "  <thead>\n",
       "    <tr style=\"text-align: right;\">\n",
       "      <th></th>\n",
       "      <th>label</th>\n",
       "      <th>label_rr</th>\n",
       "    </tr>\n",
       "  </thead>\n",
       "  <tbody>\n",
       "    <tr>\n",
       "      <th>label</th>\n",
       "      <td>1.0</td>\n",
       "      <td>NaN</td>\n",
       "    </tr>\n",
       "    <tr>\n",
       "      <th>label_rr</th>\n",
       "      <td>NaN</td>\n",
       "      <td>NaN</td>\n",
       "    </tr>\n",
       "  </tbody>\n",
       "</table>\n",
       "</div>"
      ],
      "text/plain": [
       "          label  label_rr\n",
       "label       1.0       NaN\n",
       "label_rr    NaN       NaN"
      ]
     },
     "execution_count": 127,
     "metadata": {},
     "output_type": "execute_result"
    }
   ],
   "source": [
    "(df_corr).corr()"
   ]
  },
  {
   "cell_type": "code",
   "execution_count": null,
   "id": "e7922c3c",
   "metadata": {},
   "outputs": [],
   "source": []
  },
  {
   "cell_type": "code",
   "execution_count": 58,
   "id": "5c8e5be4",
   "metadata": {},
   "outputs": [
    {
     "ename": "TypeError",
     "evalue": "corr() missing 1 required positional argument: 'other'",
     "output_type": "error",
     "traceback": [
      "\u001b[0;31m---------------------------------------------------------------------------\u001b[0m",
      "\u001b[0;31mTypeError\u001b[0m                                 Traceback (most recent call last)",
      "Input \u001b[0;32mIn [58]\u001b[0m, in \u001b[0;36m<cell line: 4>\u001b[0;34m()\u001b[0m\n\u001b[1;32m      1\u001b[0m plt\u001b[38;5;241m.\u001b[39mfigure(figsize\u001b[38;5;241m=\u001b[39m(\u001b[38;5;241m14\u001b[39m,\u001b[38;5;241m8\u001b[39m))\n\u001b[1;32m      3\u001b[0m sns\u001b[38;5;241m.\u001b[39mset_theme(style\u001b[38;5;241m=\u001b[39m\u001b[38;5;124m\"\u001b[39m\u001b[38;5;124mwhite\u001b[39m\u001b[38;5;124m\"\u001b[39m)\n\u001b[0;32m----> 4\u001b[0m corr \u001b[38;5;241m=\u001b[39m \u001b[43mdf_corr\u001b[49m\u001b[38;5;241;43m.\u001b[39;49m\u001b[43mcorr\u001b[49m\u001b[43m(\u001b[49m\u001b[43m)\u001b[49m\n\u001b[1;32m      5\u001b[0m heatmap \u001b[38;5;241m=\u001b[39m sns\u001b[38;5;241m.\u001b[39mheatmap(corr, annot\u001b[38;5;241m=\u001b[39m\u001b[38;5;28;01mTrue\u001b[39;00m, cmap\u001b[38;5;241m=\u001b[39m\u001b[38;5;124m\"\u001b[39m\u001b[38;5;124mBlues\u001b[39m\u001b[38;5;124m\"\u001b[39m, fmt\u001b[38;5;241m=\u001b[39m\u001b[38;5;124m'\u001b[39m\u001b[38;5;124m.1g\u001b[39m\u001b[38;5;124m'\u001b[39m)\n",
      "\u001b[0;31mTypeError\u001b[0m: corr() missing 1 required positional argument: 'other'"
     ]
    },
    {
     "data": {
      "text/plain": [
       "<Figure size 1008x576 with 0 Axes>"
      ]
     },
     "metadata": {},
     "output_type": "display_data"
    }
   ],
   "source": [
    "plt.figure(figsize=(14,8))\n",
    "\n",
    "sns.set_theme(style=\"white\")\n",
    "corr = df_corr.corr()\n",
    "heatmap = sns.heatmap(corr, annot=True, cmap=\"Blues\", fmt='.1g')"
   ]
  }
 ],
 "metadata": {
  "kernelspec": {
   "display_name": "Python 3 (ipykernel)",
   "language": "python",
   "name": "python3"
  },
  "language_info": {
   "codemirror_mode": {
    "name": "ipython",
    "version": 3
   },
   "file_extension": ".py",
   "mimetype": "text/x-python",
   "name": "python",
   "nbconvert_exporter": "python",
   "pygments_lexer": "ipython3",
   "version": "3.9.7"
  }
 },
 "nbformat": 4,
 "nbformat_minor": 5
}
