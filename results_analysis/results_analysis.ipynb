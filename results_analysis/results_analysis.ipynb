{
 "cells": [
  {
   "cell_type": "code",
   "execution_count": 1,
   "id": "26bc0f66",
   "metadata": {},
   "outputs": [
    {
     "name": "stdout",
     "output_type": "stream",
     "text": [
      "Python 3.9.7\r\n"
     ]
    }
   ],
   "source": [
    "!python --version"
   ]
  },
  {
   "cell_type": "code",
   "execution_count": null,
   "id": "da8665ad",
   "metadata": {},
   "outputs": [],
   "source": []
  },
  {
   "cell_type": "code",
   "execution_count": 16,
   "id": "2bffa6e1",
   "metadata": {},
   "outputs": [],
   "source": [
    "import pandas as pd\n",
    "import numpy as np\n",
    "import os\n",
    "from sklearn.metrics import roc_auc_score, accuracy_score, confusion_matrix, roc_curve"
   ]
  },
  {
   "cell_type": "code",
   "execution_count": 3,
   "id": "058f198b",
   "metadata": {},
   "outputs": [],
   "source": [
    "test_unseen=pd.read_json('annotations/test_unseen.jsonl',lines=True)\n",
    "predict_test_unseen=pd.read_csv(\"ens0507_test_unseen_SA.csv\")"
   ]
  },
  {
   "cell_type": "code",
   "execution_count": 19,
   "id": "f53b61ee",
   "metadata": {},
   "outputs": [],
   "source": [
    "predict=pd.read_csv('ens1009_test_unseen_SA.csv')"
   ]
  },
  {
   "cell_type": "code",
   "execution_count": 4,
   "id": "a0add825",
   "metadata": {},
   "outputs": [
    {
     "data": {
      "text/html": [
       "<div>\n",
       "<style scoped>\n",
       "    .dataframe tbody tr th:only-of-type {\n",
       "        vertical-align: middle;\n",
       "    }\n",
       "\n",
       "    .dataframe tbody tr th {\n",
       "        vertical-align: top;\n",
       "    }\n",
       "\n",
       "    .dataframe thead th {\n",
       "        text-align: right;\n",
       "    }\n",
       "</style>\n",
       "<table border=\"1\" class=\"dataframe\">\n",
       "  <thead>\n",
       "    <tr style=\"text-align: right;\">\n",
       "      <th></th>\n",
       "      <th>id</th>\n",
       "      <th>img</th>\n",
       "      <th>label</th>\n",
       "      <th>text</th>\n",
       "    </tr>\n",
       "  </thead>\n",
       "  <tbody>\n",
       "    <tr>\n",
       "      <th>0</th>\n",
       "      <td>15740</td>\n",
       "      <td>img/15740.png</td>\n",
       "      <td>1</td>\n",
       "      <td>when someone tells you how to bbq</td>\n",
       "    </tr>\n",
       "    <tr>\n",
       "      <th>1</th>\n",
       "      <td>38794</td>\n",
       "      <td>img/38794.png</td>\n",
       "      <td>1</td>\n",
       "      <td>when they say white folks don't know how to cook</td>\n",
       "    </tr>\n",
       "    <tr>\n",
       "      <th>3</th>\n",
       "      <td>71824</td>\n",
       "      <td>img/71824.png</td>\n",
       "      <td>1</td>\n",
       "      <td>okay here you go! you piece of shit!</td>\n",
       "    </tr>\n",
       "    <tr>\n",
       "      <th>4</th>\n",
       "      <td>4796</td>\n",
       "      <td>img/04796.png</td>\n",
       "      <td>1</td>\n",
       "      <td>xboxone farming 1619 simulator</td>\n",
       "    </tr>\n",
       "    <tr>\n",
       "      <th>5</th>\n",
       "      <td>75310</td>\n",
       "      <td>img/75310.png</td>\n",
       "      <td>1</td>\n",
       "      <td>how roaches be when you shut off the kitchen l...</td>\n",
       "    </tr>\n",
       "    <tr>\n",
       "      <th>...</th>\n",
       "      <td>...</td>\n",
       "      <td>...</td>\n",
       "      <td>...</td>\n",
       "      <td>...</td>\n",
       "    </tr>\n",
       "    <tr>\n",
       "      <th>1995</th>\n",
       "      <td>71352</td>\n",
       "      <td>img/71352.png</td>\n",
       "      <td>0</td>\n",
       "      <td>fighting for gay rights</td>\n",
       "    </tr>\n",
       "    <tr>\n",
       "      <th>1996</th>\n",
       "      <td>2164</td>\n",
       "      <td>img/02164.png</td>\n",
       "      <td>0</td>\n",
       "      <td>that feeling when you finish your homework in ...</td>\n",
       "    </tr>\n",
       "    <tr>\n",
       "      <th>1997</th>\n",
       "      <td>3587</td>\n",
       "      <td>img/03587.png</td>\n",
       "      <td>0</td>\n",
       "      <td>the day that shook new york city</td>\n",
       "    </tr>\n",
       "    <tr>\n",
       "      <th>1998</th>\n",
       "      <td>47839</td>\n",
       "      <td>img/47839.png</td>\n",
       "      <td>0</td>\n",
       "      <td>one of the first prototypes of the atom bomb</td>\n",
       "    </tr>\n",
       "    <tr>\n",
       "      <th>1999</th>\n",
       "      <td>34281</td>\n",
       "      <td>img/34281.png</td>\n",
       "      <td>0</td>\n",
       "      <td>today feels like a kinda day where i just wann...</td>\n",
       "    </tr>\n",
       "  </tbody>\n",
       "</table>\n",
       "<p>1517 rows × 4 columns</p>\n",
       "</div>"
      ],
      "text/plain": [
       "         id            img  label  \\\n",
       "0     15740  img/15740.png      1   \n",
       "1     38794  img/38794.png      1   \n",
       "3     71824  img/71824.png      1   \n",
       "4      4796  img/04796.png      1   \n",
       "5     75310  img/75310.png      1   \n",
       "...     ...            ...    ...   \n",
       "1995  71352  img/71352.png      0   \n",
       "1996   2164  img/02164.png      0   \n",
       "1997   3587  img/03587.png      0   \n",
       "1998  47839  img/47839.png      0   \n",
       "1999  34281  img/34281.png      0   \n",
       "\n",
       "                                                   text  \n",
       "0                     when someone tells you how to bbq  \n",
       "1      when they say white folks don't know how to cook  \n",
       "3                  okay here you go! you piece of shit!  \n",
       "4                        xboxone farming 1619 simulator  \n",
       "5     how roaches be when you shut off the kitchen l...  \n",
       "...                                                 ...  \n",
       "1995                            fighting for gay rights  \n",
       "1996  that feeling when you finish your homework in ...  \n",
       "1997                   the day that shook new york city  \n",
       "1998       one of the first prototypes of the atom bomb  \n",
       "1999  today feels like a kinda day where i just wann...  \n",
       "\n",
       "[1517 rows x 4 columns]"
      ]
     },
     "execution_count": 4,
     "metadata": {},
     "output_type": "execute_result"
    }
   ],
   "source": [
    "test_unseen[(predict_test_unseen['label'] == test_unseen['label'])== True]"
   ]
  },
  {
   "cell_type": "code",
   "execution_count": 9,
   "id": "eec166fe",
   "metadata": {},
   "outputs": [],
   "source": [
    "pred = predict_test_unseen['label']\n",
    "real = test_unseen['label']\n",
    "cm_terms=[]\n",
    "for i, label in enumerate(pred):\n",
    "    if label == real[i]:\n",
    "        if label == 1:\n",
    "            cm_terms.append('TP')\n",
    "        elif label == 0:\n",
    "            cm_terms.append('TN')\n",
    "        else:\n",
    "            cm_terms.append('error')\n",
    "        \n",
    "    elif label != real[i]:\n",
    "        if label == 1:\n",
    "            cm_terms.append('FN')\n",
    "        elif label == 0:\n",
    "            cm_terms.append('FP')\n",
    "        else:\n",
    "            cm_terms.append('error')"
   ]
  },
  {
   "cell_type": "code",
   "execution_count": 11,
   "id": "082fd1ad",
   "metadata": {},
   "outputs": [
    {
     "data": {
      "text/html": [
       "<div>\n",
       "<style scoped>\n",
       "    .dataframe tbody tr th:only-of-type {\n",
       "        vertical-align: middle;\n",
       "    }\n",
       "\n",
       "    .dataframe tbody tr th {\n",
       "        vertical-align: top;\n",
       "    }\n",
       "\n",
       "    .dataframe thead th {\n",
       "        text-align: right;\n",
       "    }\n",
       "</style>\n",
       "<table border=\"1\" class=\"dataframe\">\n",
       "  <thead>\n",
       "    <tr style=\"text-align: right;\">\n",
       "      <th></th>\n",
       "      <th>real</th>\n",
       "      <th>real</th>\n",
       "    </tr>\n",
       "  </thead>\n",
       "  <tbody>\n",
       "    <tr>\n",
       "      <th>0</th>\n",
       "      <td>1</td>\n",
       "      <td>1</td>\n",
       "    </tr>\n",
       "    <tr>\n",
       "      <th>1</th>\n",
       "      <td>1</td>\n",
       "      <td>1</td>\n",
       "    </tr>\n",
       "    <tr>\n",
       "      <th>2</th>\n",
       "      <td>1</td>\n",
       "      <td>0</td>\n",
       "    </tr>\n",
       "    <tr>\n",
       "      <th>3</th>\n",
       "      <td>1</td>\n",
       "      <td>1</td>\n",
       "    </tr>\n",
       "    <tr>\n",
       "      <th>4</th>\n",
       "      <td>1</td>\n",
       "      <td>1</td>\n",
       "    </tr>\n",
       "    <tr>\n",
       "      <th>...</th>\n",
       "      <td>...</td>\n",
       "      <td>...</td>\n",
       "    </tr>\n",
       "    <tr>\n",
       "      <th>1995</th>\n",
       "      <td>0</td>\n",
       "      <td>0</td>\n",
       "    </tr>\n",
       "    <tr>\n",
       "      <th>1996</th>\n",
       "      <td>0</td>\n",
       "      <td>0</td>\n",
       "    </tr>\n",
       "    <tr>\n",
       "      <th>1997</th>\n",
       "      <td>0</td>\n",
       "      <td>0</td>\n",
       "    </tr>\n",
       "    <tr>\n",
       "      <th>1998</th>\n",
       "      <td>0</td>\n",
       "      <td>0</td>\n",
       "    </tr>\n",
       "    <tr>\n",
       "      <th>1999</th>\n",
       "      <td>0</td>\n",
       "      <td>0</td>\n",
       "    </tr>\n",
       "  </tbody>\n",
       "</table>\n",
       "<p>2000 rows × 2 columns</p>\n",
       "</div>"
      ],
      "text/plain": [
       "      real  real\n",
       "0        1     1\n",
       "1        1     1\n",
       "2        1     0\n",
       "3        1     1\n",
       "4        1     1\n",
       "...    ...   ...\n",
       "1995     0     0\n",
       "1996     0     0\n",
       "1997     0     0\n",
       "1998     0     0\n",
       "1999     0     0\n",
       "\n",
       "[2000 rows x 2 columns]"
      ]
     },
     "execution_count": 11,
     "metadata": {},
     "output_type": "execute_result"
    }
   ],
   "source": [
    "pd.concat([test_unseen['label'], predict_test_unseen['label']], axis=1).rename(columns={'label': 'real'})"
   ]
  },
  {
   "cell_type": "code",
   "execution_count": 45,
   "id": "fd85a4b7",
   "metadata": {},
   "outputs": [],
   "source": [
    "def norm(data):\n",
    "    norm_data =  (data - np.min(data)) / (np.max(data) - np.min(data))\n",
    "    return norm_data\n",
    "\n",
    "def conf_matrx_termenology(ids, real, pred, proba):\n",
    "    cm_terms=[]\n",
    "    for i, label in enumerate(pred):\n",
    "        if label == real[i]:\n",
    "            if label == 1:\n",
    "                cm_terms.append('TP')\n",
    "            elif label == 0:\n",
    "                cm_terms.append('TN')\n",
    "            else:\n",
    "                cm_terms.append('error')\n",
    "\n",
    "        elif label != real[i]:\n",
    "            if label == 1:\n",
    "                cm_terms.append('FP')\n",
    "            elif label == 0:\n",
    "                cm_terms.append('FN')\n",
    "            else:\n",
    "                cm_terms.append('error')\n",
    "    # transform to df\n",
    "    ids = pd.DataFrame(ids)\n",
    "    real=pd.DataFrame(real).rename(columns={'label': 'real'})\n",
    "    pred=pd.DataFrame(pred).rename(columns={'label':'predicted'})\n",
    "    cm_terms=pd.DataFrame(cm_terms).rename(columns={0:'class'})\n",
    "    result=pd.concat([ids, real, pred, cm_terms, norm(proba)], axis=1)\n",
    "    return result"
   ]
  },
  {
   "cell_type": "code",
   "execution_count": 46,
   "id": "c4382391",
   "metadata": {},
   "outputs": [],
   "source": [
    "conf_matrx_termenology(test_unseen['id'], \n",
    "                       test_unseen['label'], \n",
    "                       predict['label'],\n",
    "                      predict['proba']).to_csv(\"reults_with_cmv2.csv\", index=False)"
   ]
  },
  {
   "cell_type": "markdown",
   "id": "cbfdb79c",
   "metadata": {},
   "source": [
    "## Normalize prob [0,1]"
   ]
  },
  {
   "cell_type": "code",
   "execution_count": 29,
   "id": "bb8b04ea",
   "metadata": {},
   "outputs": [],
   "source": [
    "def norm(data):\n",
    "    norm_data =  (data - np.min(data)) / (np.max(data) - np.min(data))\n",
    "    return norm_data"
   ]
  },
  {
   "cell_type": "code",
   "execution_count": 42,
   "id": "6497c518",
   "metadata": {},
   "outputs": [
    {
     "data": {
      "text/plain": [
       "0.8276341333333332"
      ]
     },
     "execution_count": 42,
     "metadata": {},
     "output_type": "execute_result"
    }
   ],
   "source": [
    "roc_auc_score(test_unseen['label'], norm(predict['proba']))"
   ]
  },
  {
   "cell_type": "code",
   "execution_count": 43,
   "id": "67c69e91",
   "metadata": {},
   "outputs": [
    {
     "data": {
      "text/plain": [
       "0       0.432846\n",
       "1       0.852893\n",
       "2       0.316704\n",
       "3       0.288843\n",
       "4       0.745172\n",
       "          ...   \n",
       "1995    0.124828\n",
       "1996    0.068516\n",
       "1997    0.049027\n",
       "1998    0.146421\n",
       "1999    0.049169\n",
       "Name: proba, Length: 2000, dtype: float64"
      ]
     },
     "execution_count": 43,
     "metadata": {},
     "output_type": "execute_result"
    }
   ],
   "source": [
    "norm(predict['proba'])"
   ]
  },
  {
   "cell_type": "code",
   "execution_count": 38,
   "id": "1a6c715a",
   "metadata": {},
   "outputs": [
    {
     "data": {
      "text/plain": [
       "1536"
      ]
     },
     "execution_count": 38,
     "metadata": {},
     "output_type": "execute_result"
    }
   ],
   "source": [
    "sum(pd.DataFrame(norm(predict['proba']))['label'] == test_unseen['label'])"
   ]
  },
  {
   "cell_type": "code",
   "execution_count": 39,
   "id": "1f9ff89d",
   "metadata": {},
   "outputs": [
    {
     "data": {
      "text/plain": [
       "0.768"
      ]
     },
     "execution_count": 39,
     "metadata": {},
     "output_type": "execute_result"
    }
   ],
   "source": [
    "1536/2000"
   ]
  },
  {
   "cell_type": "code",
   "execution_count": 25,
   "id": "4de8ef23",
   "metadata": {},
   "outputs": [
    {
     "data": {
      "text/plain": [
       "6.029936630718804"
      ]
     },
     "execution_count": 25,
     "metadata": {},
     "output_type": "execute_result"
    }
   ],
   "source": [
    "predict['proba'].max()"
   ]
  },
  {
   "cell_type": "code",
   "execution_count": 26,
   "id": "1870c812",
   "metadata": {},
   "outputs": [
    {
     "data": {
      "text/plain": [
       "-6.258200409266134"
      ]
     },
     "execution_count": 26,
     "metadata": {},
     "output_type": "execute_result"
    }
   ],
   "source": [
    "predict['proba'].min()"
   ]
  },
  {
   "cell_type": "code",
   "execution_count": 20,
   "id": "b483915d",
   "metadata": {},
   "outputs": [
    {
     "data": {
      "text/plain": [
       "0.8276341333333332"
      ]
     },
     "execution_count": 20,
     "metadata": {},
     "output_type": "execute_result"
    }
   ],
   "source": [
    "roc_auc_score(test_unseen['label'], predict['proba'])"
   ]
  },
  {
   "cell_type": "code",
   "execution_count": 40,
   "id": "98421606",
   "metadata": {},
   "outputs": [
    {
     "data": {
      "text/plain": [
       "0.768"
      ]
     },
     "execution_count": 40,
     "metadata": {},
     "output_type": "execute_result"
    }
   ],
   "source": [
    "accuracy_score(test_unseen['label'], predict['label'])"
   ]
  },
  {
   "cell_type": "markdown",
   "id": "793c7a9d",
   "metadata": {},
   "source": [
    "## Plots for distr Proba"
   ]
  },
  {
   "cell_type": "code",
   "execution_count": 50,
   "id": "84c753c3",
   "metadata": {},
   "outputs": [],
   "source": [
    "import matplotlib as plt\n",
    "import seaborn as sns"
   ]
  },
  {
   "cell_type": "code",
   "execution_count": 51,
   "id": "a2eb7028",
   "metadata": {},
   "outputs": [],
   "source": [
    "predict_cm=conf_matrx_termenology(test_unseen['id'], \n",
    "                       test_unseen['label'], \n",
    "                       predict['label'],\n",
    "                      predict['proba'])"
   ]
  },
  {
   "cell_type": "code",
   "execution_count": null,
   "id": "aaca022b",
   "metadata": {},
   "outputs": [],
   "source": []
  },
  {
   "cell_type": "code",
   "execution_count": 52,
   "id": "ffce5845",
   "metadata": {},
   "outputs": [
    {
     "data": {
      "text/html": [
       "<div>\n",
       "<style scoped>\n",
       "    .dataframe tbody tr th:only-of-type {\n",
       "        vertical-align: middle;\n",
       "    }\n",
       "\n",
       "    .dataframe tbody tr th {\n",
       "        vertical-align: top;\n",
       "    }\n",
       "\n",
       "    .dataframe thead th {\n",
       "        text-align: right;\n",
       "    }\n",
       "</style>\n",
       "<table border=\"1\" class=\"dataframe\">\n",
       "  <thead>\n",
       "    <tr style=\"text-align: right;\">\n",
       "      <th></th>\n",
       "      <th>id</th>\n",
       "      <th>real</th>\n",
       "      <th>predicted</th>\n",
       "      <th>class</th>\n",
       "      <th>proba</th>\n",
       "    </tr>\n",
       "  </thead>\n",
       "  <tbody>\n",
       "    <tr>\n",
       "      <th>0</th>\n",
       "      <td>15740</td>\n",
       "      <td>1</td>\n",
       "      <td>1</td>\n",
       "      <td>TP</td>\n",
       "      <td>0.432846</td>\n",
       "    </tr>\n",
       "    <tr>\n",
       "      <th>1</th>\n",
       "      <td>38794</td>\n",
       "      <td>1</td>\n",
       "      <td>1</td>\n",
       "      <td>TP</td>\n",
       "      <td>0.852893</td>\n",
       "    </tr>\n",
       "    <tr>\n",
       "      <th>2</th>\n",
       "      <td>60792</td>\n",
       "      <td>1</td>\n",
       "      <td>0</td>\n",
       "      <td>FN</td>\n",
       "      <td>0.316704</td>\n",
       "    </tr>\n",
       "    <tr>\n",
       "      <th>3</th>\n",
       "      <td>71824</td>\n",
       "      <td>1</td>\n",
       "      <td>0</td>\n",
       "      <td>FN</td>\n",
       "      <td>0.288843</td>\n",
       "    </tr>\n",
       "    <tr>\n",
       "      <th>4</th>\n",
       "      <td>4796</td>\n",
       "      <td>1</td>\n",
       "      <td>1</td>\n",
       "      <td>TP</td>\n",
       "      <td>0.745172</td>\n",
       "    </tr>\n",
       "    <tr>\n",
       "      <th>...</th>\n",
       "      <td>...</td>\n",
       "      <td>...</td>\n",
       "      <td>...</td>\n",
       "      <td>...</td>\n",
       "      <td>...</td>\n",
       "    </tr>\n",
       "    <tr>\n",
       "      <th>1995</th>\n",
       "      <td>71352</td>\n",
       "      <td>0</td>\n",
       "      <td>0</td>\n",
       "      <td>TN</td>\n",
       "      <td>0.124828</td>\n",
       "    </tr>\n",
       "    <tr>\n",
       "      <th>1996</th>\n",
       "      <td>2164</td>\n",
       "      <td>0</td>\n",
       "      <td>0</td>\n",
       "      <td>TN</td>\n",
       "      <td>0.068516</td>\n",
       "    </tr>\n",
       "    <tr>\n",
       "      <th>1997</th>\n",
       "      <td>3587</td>\n",
       "      <td>0</td>\n",
       "      <td>0</td>\n",
       "      <td>TN</td>\n",
       "      <td>0.049027</td>\n",
       "    </tr>\n",
       "    <tr>\n",
       "      <th>1998</th>\n",
       "      <td>47839</td>\n",
       "      <td>0</td>\n",
       "      <td>0</td>\n",
       "      <td>TN</td>\n",
       "      <td>0.146421</td>\n",
       "    </tr>\n",
       "    <tr>\n",
       "      <th>1999</th>\n",
       "      <td>34281</td>\n",
       "      <td>0</td>\n",
       "      <td>0</td>\n",
       "      <td>TN</td>\n",
       "      <td>0.049169</td>\n",
       "    </tr>\n",
       "  </tbody>\n",
       "</table>\n",
       "<p>2000 rows × 5 columns</p>\n",
       "</div>"
      ],
      "text/plain": [
       "         id  real  predicted class     proba\n",
       "0     15740     1          1    TP  0.432846\n",
       "1     38794     1          1    TP  0.852893\n",
       "2     60792     1          0    FN  0.316704\n",
       "3     71824     1          0    FN  0.288843\n",
       "4      4796     1          1    TP  0.745172\n",
       "...     ...   ...        ...   ...       ...\n",
       "1995  71352     0          0    TN  0.124828\n",
       "1996   2164     0          0    TN  0.068516\n",
       "1997   3587     0          0    TN  0.049027\n",
       "1998  47839     0          0    TN  0.146421\n",
       "1999  34281     0          0    TN  0.049169\n",
       "\n",
       "[2000 rows x 5 columns]"
      ]
     },
     "execution_count": 52,
     "metadata": {},
     "output_type": "execute_result"
    }
   ],
   "source": [
    "predict_cm"
   ]
  },
  {
   "cell_type": "code",
   "execution_count": 54,
   "id": "d461dfbf",
   "metadata": {},
   "outputs": [
    {
     "data": {
      "text/plain": [
       "<AxesSubplot:xlabel='proba', ylabel='class'>"
      ]
     },
     "execution_count": 54,
     "metadata": {},
     "output_type": "execute_result"
    },
    {
     "data": {
      "image/png": "[encoded data removed]",
      "text/plain": [
       "<Figure size 842.4x595.44 with 1 Axes>"
      ]
     },
     "metadata": {},
     "output_type": "display_data"
    }
   ],
   "source": [
    "sns.set(rc={'figure.figsize':(11.7,8.27)})\n",
    "sns.barplot(x='proba', y='class', orient = \"h\", data=predict_cm)"
   ]
  },
  {
   "cell_type": "code",
   "execution_count": 89,
   "id": "cc1fbe93",
   "metadata": {},
   "outputs": [],
   "source": [
    "import matplotlib.pyplot as plt"
   ]
  },
  {
   "cell_type": "code",
   "execution_count": 115,
   "id": "b6ff0a24",
   "metadata": {},
   "outputs": [
    {
     "data": {
      "text/plain": [
       "Text(0, 0.5, '')"
      ]
     },
     "execution_count": 115,
     "metadata": {},
     "output_type": "execute_result"
    },
    {
     "data": {
      "image/png": "[encoded data removed]",
      "text/plain": [
       "<Figure size 842.4x595.44 with 1 Axes>"
      ]
     },
     "metadata": {},
     "output_type": "display_data"
    }
   ],
   "source": [
    "custom_params = {\"axes.spines.right\": False, \"axes.spines.top\": False}\n",
    "sns.set_theme(style=\"ticks\", rc=custom_params)\n",
    "sns.color_palette(\"viridis\", as_cmap=True)\n",
    "ax=sns.boxplot(x='proba', y='class', orient = \"h\", data=predict_cm,\n",
    "           palette='viridis')\n",
    "ax.axvline(0.35610683508344143, ls ='--',\n",
    "          alpha=0.6,\n",
    "          color='red')\n",
    "ax.set_title(\"\")\n",
    "ax.set_xlabel(\"Probability\")\n",
    "ax.set_ylabel(\"\")"
   ]
  },
  {
   "cell_type": "markdown",
   "id": "34b34e53",
   "metadata": {},
   "source": [
    "### Best treshold"
   ]
  },
  {
   "cell_type": "code",
   "execution_count": 86,
   "id": "2b85c547",
   "metadata": {},
   "outputs": [],
   "source": [
    "from sklearn import metrics\n",
    "\n",
    "def get_acc_and_best_threshold_from_roc_curve_(org_file, ens_file):\n",
    "    fpr, tpr, thresholds = metrics.roc_curve(org_file['label'], ens_file['proba'],  pos_label=1)\n",
    "    num_pos_class, num_neg_class = len(ens_file['predicted'] == 1), len(ens_file['predicted'] == 0)\n",
    "\n",
    "    tp = tpr * num_pos_class\n",
    "    tn = (1 - fpr) * num_neg_class\n",
    "    acc = (tp + tn) / (num_pos_class + num_neg_class)\n",
    "\n",
    "    best_threshold = thresholds[np.argmax(acc)]\n",
    "\n",
    "    return best_threshold"
   ]
  },
  {
   "cell_type": "code",
   "execution_count": 87,
   "id": "c368d39c",
   "metadata": {},
   "outputs": [
    {
     "data": {
      "text/plain": [
       "0.35610683508344143"
      ]
     },
     "execution_count": 87,
     "metadata": {},
     "output_type": "execute_result"
    }
   ],
   "source": [
    "get_acc_and_best_threshold_from_roc_curve_(test_unseen, predict_cm)"
   ]
  },
  {
   "cell_type": "markdown",
   "id": "23b59fb7",
   "metadata": {},
   "source": [
    "# Which have hight error by Error type"
   ]
  },
  {
   "cell_type": "markdown",
   "id": "47fcec64",
   "metadata": {},
   "source": [
    "#### TP"
   ]
  },
  {
   "cell_type": "code",
   "execution_count": 129,
   "id": "d3ed24d2",
   "metadata": {},
   "outputs": [
    {
     "data": {
      "text/html": [
       "<div>\n",
       "<style scoped>\n",
       "    .dataframe tbody tr th:only-of-type {\n",
       "        vertical-align: middle;\n",
       "    }\n",
       "\n",
       "    .dataframe tbody tr th {\n",
       "        vertical-align: top;\n",
       "    }\n",
       "\n",
       "    .dataframe thead th {\n",
       "        text-align: right;\n",
       "    }\n",
       "</style>\n",
       "<table border=\"1\" class=\"dataframe\">\n",
       "  <thead>\n",
       "    <tr style=\"text-align: right;\">\n",
       "      <th></th>\n",
       "      <th>id</th>\n",
       "      <th>real</th>\n",
       "      <th>predicted</th>\n",
       "      <th>class</th>\n",
       "      <th>proba</th>\n",
       "    </tr>\n",
       "  </thead>\n",
       "  <tbody>\n",
       "    <tr>\n",
       "      <th>124</th>\n",
       "      <td>32149</td>\n",
       "      <td>1</td>\n",
       "      <td>1</td>\n",
       "      <td>TP</td>\n",
       "      <td>0.356107</td>\n",
       "    </tr>\n",
       "  </tbody>\n",
       "</table>\n",
       "</div>"
      ],
      "text/plain": [
       "        id  real  predicted class     proba\n",
       "124  32149     1          1    TP  0.356107"
      ]
     },
     "execution_count": 129,
     "metadata": {},
     "output_type": "execute_result"
    }
   ],
   "source": [
    "predict_cm[predict_cm['proba']==predict_cm[predict_cm['class'] == 'TP']['proba'].min()]"
   ]
  },
  {
   "cell_type": "code",
   "execution_count": 128,
   "id": "e2ef46ad",
   "metadata": {},
   "outputs": [
    {
     "data": {
      "text/html": [
       "<div>\n",
       "<style scoped>\n",
       "    .dataframe tbody tr th:only-of-type {\n",
       "        vertical-align: middle;\n",
       "    }\n",
       "\n",
       "    .dataframe tbody tr th {\n",
       "        vertical-align: top;\n",
       "    }\n",
       "\n",
       "    .dataframe thead th {\n",
       "        text-align: right;\n",
       "    }\n",
       "</style>\n",
       "<table border=\"1\" class=\"dataframe\">\n",
       "  <thead>\n",
       "    <tr style=\"text-align: right;\">\n",
       "      <th></th>\n",
       "      <th>id</th>\n",
       "      <th>real</th>\n",
       "      <th>predicted</th>\n",
       "      <th>class</th>\n",
       "      <th>proba</th>\n",
       "    </tr>\n",
       "  </thead>\n",
       "  <tbody>\n",
       "    <tr>\n",
       "      <th>311</th>\n",
       "      <td>59420</td>\n",
       "      <td>1</td>\n",
       "      <td>1</td>\n",
       "      <td>TP</td>\n",
       "      <td>1.0</td>\n",
       "    </tr>\n",
       "  </tbody>\n",
       "</table>\n",
       "</div>"
      ],
      "text/plain": [
       "        id  real  predicted class  proba\n",
       "311  59420     1          1    TP    1.0"
      ]
     },
     "execution_count": 128,
     "metadata": {},
     "output_type": "execute_result"
    }
   ],
   "source": [
    "predict_cm[predict_cm['proba']==predict_cm[predict_cm['class'] == 'TP']['proba'].max()]"
   ]
  },
  {
   "cell_type": "code",
   "execution_count": 152,
   "id": "9bf847e3",
   "metadata": {},
   "outputs": [
    {
     "name": "stderr",
     "output_type": "stream",
     "text": [
      "/var/folders/pv/21djj0qj50v927yf9fbqsnsh0000gn/T/ipykernel_75161/245542961.py:3: UserWarning: Boolean Series key will be reindexed to match DataFrame index.\n",
      "  predict_cm[predict_cm['class'] == 'TP'][(predict_cm.proba > FP_mean-0.001) &\n"
     ]
    },
    {
     "data": {
      "text/html": [
       "<div>\n",
       "<style scoped>\n",
       "    .dataframe tbody tr th:only-of-type {\n",
       "        vertical-align: middle;\n",
       "    }\n",
       "\n",
       "    .dataframe tbody tr th {\n",
       "        vertical-align: top;\n",
       "    }\n",
       "\n",
       "    .dataframe thead th {\n",
       "        text-align: right;\n",
       "    }\n",
       "</style>\n",
       "<table border=\"1\" class=\"dataframe\">\n",
       "  <thead>\n",
       "    <tr style=\"text-align: right;\">\n",
       "      <th></th>\n",
       "      <th>id</th>\n",
       "      <th>real</th>\n",
       "      <th>predicted</th>\n",
       "      <th>class</th>\n",
       "      <th>proba</th>\n",
       "    </tr>\n",
       "  </thead>\n",
       "  <tbody>\n",
       "    <tr>\n",
       "      <th>30</th>\n",
       "      <td>51379</td>\n",
       "      <td>1</td>\n",
       "      <td>1</td>\n",
       "      <td>TP</td>\n",
       "      <td>0.676828</td>\n",
       "    </tr>\n",
       "    <tr>\n",
       "      <th>246</th>\n",
       "      <td>14896</td>\n",
       "      <td>1</td>\n",
       "      <td>1</td>\n",
       "      <td>TP</td>\n",
       "      <td>0.676790</td>\n",
       "    </tr>\n",
       "    <tr>\n",
       "      <th>368</th>\n",
       "      <td>20341</td>\n",
       "      <td>1</td>\n",
       "      <td>1</td>\n",
       "      <td>TP</td>\n",
       "      <td>0.676617</td>\n",
       "    </tr>\n",
       "    <tr>\n",
       "      <th>421</th>\n",
       "      <td>21683</td>\n",
       "      <td>1</td>\n",
       "      <td>1</td>\n",
       "      <td>TP</td>\n",
       "      <td>0.676897</td>\n",
       "    </tr>\n",
       "  </tbody>\n",
       "</table>\n",
       "</div>"
      ],
      "text/plain": [
       "        id  real  predicted class     proba\n",
       "30   51379     1          1    TP  0.676828\n",
       "246  14896     1          1    TP  0.676790\n",
       "368  20341     1          1    TP  0.676617\n",
       "421  21683     1          1    TP  0.676897"
      ]
     },
     "execution_count": 152,
     "metadata": {},
     "output_type": "execute_result"
    }
   ],
   "source": [
    "FP_mean=predict_cm[predict_cm['class'] == 'TP']['proba'].mean()\n",
    "\n",
    "predict_cm[predict_cm['class'] == 'TP'][(predict_cm.proba > FP_mean-0.001) & \n",
    "           (predict_cm.proba < FP_mean+0.001)]"
   ]
  },
  {
   "cell_type": "markdown",
   "id": "9af4c65b",
   "metadata": {},
   "source": [
    "#### TN"
   ]
  },
  {
   "cell_type": "code",
   "execution_count": 130,
   "id": "2abe9ee0",
   "metadata": {},
   "outputs": [
    {
     "data": {
      "text/html": [
       "<div>\n",
       "<style scoped>\n",
       "    .dataframe tbody tr th:only-of-type {\n",
       "        vertical-align: middle;\n",
       "    }\n",
       "\n",
       "    .dataframe tbody tr th {\n",
       "        vertical-align: top;\n",
       "    }\n",
       "\n",
       "    .dataframe thead th {\n",
       "        text-align: right;\n",
       "    }\n",
       "</style>\n",
       "<table border=\"1\" class=\"dataframe\">\n",
       "  <thead>\n",
       "    <tr style=\"text-align: right;\">\n",
       "      <th></th>\n",
       "      <th>id</th>\n",
       "      <th>real</th>\n",
       "      <th>predicted</th>\n",
       "      <th>class</th>\n",
       "      <th>proba</th>\n",
       "    </tr>\n",
       "  </thead>\n",
       "  <tbody>\n",
       "    <tr>\n",
       "      <th>1037</th>\n",
       "      <td>8374</td>\n",
       "      <td>0</td>\n",
       "      <td>0</td>\n",
       "      <td>TN</td>\n",
       "      <td>0.0</td>\n",
       "    </tr>\n",
       "  </tbody>\n",
       "</table>\n",
       "</div>"
      ],
      "text/plain": [
       "        id  real  predicted class  proba\n",
       "1037  8374     0          0    TN    0.0"
      ]
     },
     "execution_count": 130,
     "metadata": {},
     "output_type": "execute_result"
    }
   ],
   "source": [
    "predict_cm[predict_cm['proba']==predict_cm[predict_cm['class'] == 'TN']['proba'].min()]"
   ]
  },
  {
   "cell_type": "code",
   "execution_count": null,
   "id": "0e4fe0c4",
   "metadata": {},
   "outputs": [],
   "source": [
    "#### predict_cm[predict_cm['proba']==predict_cm[predict_cm['class'] == 'TN']['proba'].max()]"
   ]
  },
  {
   "cell_type": "code",
   "execution_count": 151,
   "id": "44c33f4c",
   "metadata": {},
   "outputs": [
    {
     "name": "stderr",
     "output_type": "stream",
     "text": [
      "/var/folders/pv/21djj0qj50v927yf9fbqsnsh0000gn/T/ipykernel_75161/1173211477.py:3: UserWarning: Boolean Series key will be reindexed to match DataFrame index.\n",
      "  predict_cm[predict_cm['class'] == 'TN'][(predict_cm.proba > FP_mean-0.001) &\n"
     ]
    },
    {
     "data": {
      "text/html": [
       "<div>\n",
       "<style scoped>\n",
       "    .dataframe tbody tr th:only-of-type {\n",
       "        vertical-align: middle;\n",
       "    }\n",
       "\n",
       "    .dataframe tbody tr th {\n",
       "        vertical-align: top;\n",
       "    }\n",
       "\n",
       "    .dataframe thead th {\n",
       "        text-align: right;\n",
       "    }\n",
       "</style>\n",
       "<table border=\"1\" class=\"dataframe\">\n",
       "  <thead>\n",
       "    <tr style=\"text-align: right;\">\n",
       "      <th></th>\n",
       "      <th>id</th>\n",
       "      <th>real</th>\n",
       "      <th>predicted</th>\n",
       "      <th>class</th>\n",
       "      <th>proba</th>\n",
       "    </tr>\n",
       "  </thead>\n",
       "  <tbody>\n",
       "    <tr>\n",
       "      <th>948</th>\n",
       "      <td>27958</td>\n",
       "      <td>0</td>\n",
       "      <td>0</td>\n",
       "      <td>TN</td>\n",
       "      <td>0.144941</td>\n",
       "    </tr>\n",
       "    <tr>\n",
       "      <th>974</th>\n",
       "      <td>28541</td>\n",
       "      <td>0</td>\n",
       "      <td>0</td>\n",
       "      <td>TN</td>\n",
       "      <td>0.143842</td>\n",
       "    </tr>\n",
       "    <tr>\n",
       "      <th>1044</th>\n",
       "      <td>3926</td>\n",
       "      <td>0</td>\n",
       "      <td>0</td>\n",
       "      <td>TN</td>\n",
       "      <td>0.144843</td>\n",
       "    </tr>\n",
       "    <tr>\n",
       "      <th>1057</th>\n",
       "      <td>67598</td>\n",
       "      <td>0</td>\n",
       "      <td>0</td>\n",
       "      <td>TN</td>\n",
       "      <td>0.143260</td>\n",
       "    </tr>\n",
       "    <tr>\n",
       "      <th>1142</th>\n",
       "      <td>57382</td>\n",
       "      <td>0</td>\n",
       "      <td>0</td>\n",
       "      <td>TN</td>\n",
       "      <td>0.143727</td>\n",
       "    </tr>\n",
       "    <tr>\n",
       "      <th>1204</th>\n",
       "      <td>29473</td>\n",
       "      <td>0</td>\n",
       "      <td>0</td>\n",
       "      <td>TN</td>\n",
       "      <td>0.144414</td>\n",
       "    </tr>\n",
       "    <tr>\n",
       "      <th>1362</th>\n",
       "      <td>26348</td>\n",
       "      <td>0</td>\n",
       "      <td>0</td>\n",
       "      <td>TN</td>\n",
       "      <td>0.144629</td>\n",
       "    </tr>\n",
       "    <tr>\n",
       "      <th>1701</th>\n",
       "      <td>40376</td>\n",
       "      <td>0</td>\n",
       "      <td>0</td>\n",
       "      <td>TN</td>\n",
       "      <td>0.144196</td>\n",
       "    </tr>\n",
       "    <tr>\n",
       "      <th>1865</th>\n",
       "      <td>71805</td>\n",
       "      <td>0</td>\n",
       "      <td>0</td>\n",
       "      <td>TN</td>\n",
       "      <td>0.143975</td>\n",
       "    </tr>\n",
       "  </tbody>\n",
       "</table>\n",
       "</div>"
      ],
      "text/plain": [
       "         id  real  predicted class     proba\n",
       "948   27958     0          0    TN  0.144941\n",
       "974   28541     0          0    TN  0.143842\n",
       "1044   3926     0          0    TN  0.144843\n",
       "1057  67598     0          0    TN  0.143260\n",
       "1142  57382     0          0    TN  0.143727\n",
       "1204  29473     0          0    TN  0.144414\n",
       "1362  26348     0          0    TN  0.144629\n",
       "1701  40376     0          0    TN  0.144196\n",
       "1865  71805     0          0    TN  0.143975"
      ]
     },
     "execution_count": 151,
     "metadata": {},
     "output_type": "execute_result"
    }
   ],
   "source": [
    "FP_mean=predict_cm[predict_cm['class'] == 'TN']['proba'].mean()\n",
    "\n",
    "predict_cm[predict_cm['class'] == 'TN'][(predict_cm.proba > FP_mean-0.001) & \n",
    "           (predict_cm.proba < FP_mean+0.001)]"
   ]
  },
  {
   "cell_type": "markdown",
   "id": "fa987567",
   "metadata": {},
   "source": [
    "#### FP"
   ]
  },
  {
   "cell_type": "code",
   "execution_count": 131,
   "id": "ce3217b7",
   "metadata": {},
   "outputs": [
    {
     "data": {
      "text/html": [
       "<div>\n",
       "<style scoped>\n",
       "    .dataframe tbody tr th:only-of-type {\n",
       "        vertical-align: middle;\n",
       "    }\n",
       "\n",
       "    .dataframe tbody tr th {\n",
       "        vertical-align: top;\n",
       "    }\n",
       "\n",
       "    .dataframe thead th {\n",
       "        text-align: right;\n",
       "    }\n",
       "</style>\n",
       "<table border=\"1\" class=\"dataframe\">\n",
       "  <thead>\n",
       "    <tr style=\"text-align: right;\">\n",
       "      <th></th>\n",
       "      <th>id</th>\n",
       "      <th>real</th>\n",
       "      <th>predicted</th>\n",
       "      <th>class</th>\n",
       "      <th>proba</th>\n",
       "    </tr>\n",
       "  </thead>\n",
       "  <tbody>\n",
       "    <tr>\n",
       "      <th>1954</th>\n",
       "      <td>37469</td>\n",
       "      <td>0</td>\n",
       "      <td>1</td>\n",
       "      <td>FP</td>\n",
       "      <td>0.356488</td>\n",
       "    </tr>\n",
       "  </tbody>\n",
       "</table>\n",
       "</div>"
      ],
      "text/plain": [
       "         id  real  predicted class     proba\n",
       "1954  37469     0          1    FP  0.356488"
      ]
     },
     "execution_count": 131,
     "metadata": {},
     "output_type": "execute_result"
    }
   ],
   "source": [
    "predict_cm[predict_cm['proba']==predict_cm[predict_cm['class'] == 'FP']['proba'].min()]"
   ]
  },
  {
   "cell_type": "code",
   "execution_count": 164,
   "id": "c5f388a7",
   "metadata": {},
   "outputs": [
    {
     "data": {
      "text/html": [
       "<div>\n",
       "<style scoped>\n",
       "    .dataframe tbody tr th:only-of-type {\n",
       "        vertical-align: middle;\n",
       "    }\n",
       "\n",
       "    .dataframe tbody tr th {\n",
       "        vertical-align: top;\n",
       "    }\n",
       "\n",
       "    .dataframe thead th {\n",
       "        text-align: right;\n",
       "    }\n",
       "</style>\n",
       "<table border=\"1\" class=\"dataframe\">\n",
       "  <thead>\n",
       "    <tr style=\"text-align: right;\">\n",
       "      <th></th>\n",
       "      <th>id</th>\n",
       "      <th>img</th>\n",
       "      <th>label</th>\n",
       "      <th>text</th>\n",
       "    </tr>\n",
       "  </thead>\n",
       "  <tbody>\n",
       "    <tr>\n",
       "      <th>1785</th>\n",
       "      <td>37690</td>\n",
       "      <td>img/37690.png</td>\n",
       "      <td>0</td>\n",
       "      <td>congratulations it's non binary</td>\n",
       "    </tr>\n",
       "  </tbody>\n",
       "</table>\n",
       "</div>"
      ],
      "text/plain": [
       "         id            img  label                             text\n",
       "1785  37690  img/37690.png      0  congratulations it's non binary"
      ]
     },
     "execution_count": 164,
     "metadata": {},
     "output_type": "execute_result"
    }
   ],
   "source": [
    "test_unseen[test_unseen['id'] == 37690]"
   ]
  },
  {
   "cell_type": "code",
   "execution_count": 132,
   "id": "cca18725",
   "metadata": {},
   "outputs": [
    {
     "data": {
      "text/html": [
       "<div>\n",
       "<style scoped>\n",
       "    .dataframe tbody tr th:only-of-type {\n",
       "        vertical-align: middle;\n",
       "    }\n",
       "\n",
       "    .dataframe tbody tr th {\n",
       "        vertical-align: top;\n",
       "    }\n",
       "\n",
       "    .dataframe thead th {\n",
       "        text-align: right;\n",
       "    }\n",
       "</style>\n",
       "<table border=\"1\" class=\"dataframe\">\n",
       "  <thead>\n",
       "    <tr style=\"text-align: right;\">\n",
       "      <th></th>\n",
       "      <th>id</th>\n",
       "      <th>real</th>\n",
       "      <th>predicted</th>\n",
       "      <th>class</th>\n",
       "      <th>proba</th>\n",
       "    </tr>\n",
       "  </thead>\n",
       "  <tbody>\n",
       "    <tr>\n",
       "      <th>1254</th>\n",
       "      <td>2149</td>\n",
       "      <td>0</td>\n",
       "      <td>1</td>\n",
       "      <td>FP</td>\n",
       "      <td>0.977119</td>\n",
       "    </tr>\n",
       "  </tbody>\n",
       "</table>\n",
       "</div>"
      ],
      "text/plain": [
       "        id  real  predicted class     proba\n",
       "1254  2149     0          1    FP  0.977119"
      ]
     },
     "execution_count": 132,
     "metadata": {},
     "output_type": "execute_result"
    }
   ],
   "source": [
    "predict_cm[predict_cm['proba']==predict_cm[predict_cm['class'] == 'FP']['proba'].max()]"
   ]
  },
  {
   "cell_type": "code",
   "execution_count": 161,
   "id": "900c4415",
   "metadata": {},
   "outputs": [
    {
     "data": {
      "text/html": [
       "<div>\n",
       "<style scoped>\n",
       "    .dataframe tbody tr th:only-of-type {\n",
       "        vertical-align: middle;\n",
       "    }\n",
       "\n",
       "    .dataframe tbody tr th {\n",
       "        vertical-align: top;\n",
       "    }\n",
       "\n",
       "    .dataframe thead th {\n",
       "        text-align: right;\n",
       "    }\n",
       "</style>\n",
       "<table border=\"1\" class=\"dataframe\">\n",
       "  <thead>\n",
       "    <tr style=\"text-align: right;\">\n",
       "      <th></th>\n",
       "      <th>id</th>\n",
       "      <th>img</th>\n",
       "      <th>label</th>\n",
       "      <th>text</th>\n",
       "    </tr>\n",
       "  </thead>\n",
       "  <tbody>\n",
       "    <tr>\n",
       "      <th>1254</th>\n",
       "      <td>2149</td>\n",
       "      <td>img/02149.png</td>\n",
       "      <td>0</td>\n",
       "      <td>what's that burning? oh it's my pot roast</td>\n",
       "    </tr>\n",
       "  </tbody>\n",
       "</table>\n",
       "</div>"
      ],
      "text/plain": [
       "        id            img  label                                       text\n",
       "1254  2149  img/02149.png      0  what's that burning? oh it's my pot roast"
      ]
     },
     "execution_count": 161,
     "metadata": {},
     "output_type": "execute_result"
    }
   ],
   "source": [
    "test_unseen[test_unseen['id'] == 2149]"
   ]
  },
  {
   "cell_type": "code",
   "execution_count": 148,
   "id": "bd199e50",
   "metadata": {},
   "outputs": [
    {
     "name": "stderr",
     "output_type": "stream",
     "text": [
      "/var/folders/pv/21djj0qj50v927yf9fbqsnsh0000gn/T/ipykernel_75161/157439190.py:3: UserWarning: Boolean Series key will be reindexed to match DataFrame index.\n",
      "  predict_cm[predict_cm['class'] == 'FP'][(predict_cm.proba > FP_mean-0.001) &\n"
     ]
    },
    {
     "data": {
      "text/html": [
       "<div>\n",
       "<style scoped>\n",
       "    .dataframe tbody tr th:only-of-type {\n",
       "        vertical-align: middle;\n",
       "    }\n",
       "\n",
       "    .dataframe tbody tr th {\n",
       "        vertical-align: top;\n",
       "    }\n",
       "\n",
       "    .dataframe thead th {\n",
       "        text-align: right;\n",
       "    }\n",
       "</style>\n",
       "<table border=\"1\" class=\"dataframe\">\n",
       "  <thead>\n",
       "    <tr style=\"text-align: right;\">\n",
       "      <th></th>\n",
       "      <th>id</th>\n",
       "      <th>real</th>\n",
       "      <th>predicted</th>\n",
       "      <th>class</th>\n",
       "      <th>proba</th>\n",
       "    </tr>\n",
       "  </thead>\n",
       "  <tbody>\n",
       "    <tr>\n",
       "      <th>1785</th>\n",
       "      <td>37690</td>\n",
       "      <td>0</td>\n",
       "      <td>1</td>\n",
       "      <td>FP</td>\n",
       "      <td>0.55493</td>\n",
       "    </tr>\n",
       "  </tbody>\n",
       "</table>\n",
       "</div>"
      ],
      "text/plain": [
       "         id  real  predicted class    proba\n",
       "1785  37690     0          1    FP  0.55493"
      ]
     },
     "execution_count": 148,
     "metadata": {},
     "output_type": "execute_result"
    }
   ],
   "source": [
    "FP_mean=predict_cm[predict_cm['class'] == 'FP']['proba'].mean()\n",
    "\n",
    "predict_cm[predict_cm['class'] == 'FP'][(predict_cm.proba > FP_mean-0.001) & \n",
    "           (predict_cm.proba < FP_mean+0.001)]"
   ]
  },
  {
   "cell_type": "markdown",
   "id": "1335a35e",
   "metadata": {},
   "source": [
    "#### FN"
   ]
  },
  {
   "cell_type": "code",
   "execution_count": 154,
   "id": "d45ff032",
   "metadata": {},
   "outputs": [
    {
     "data": {
      "text/html": [
       "<div>\n",
       "<style scoped>\n",
       "    .dataframe tbody tr th:only-of-type {\n",
       "        vertical-align: middle;\n",
       "    }\n",
       "\n",
       "    .dataframe tbody tr th {\n",
       "        vertical-align: top;\n",
       "    }\n",
       "\n",
       "    .dataframe thead th {\n",
       "        text-align: right;\n",
       "    }\n",
       "</style>\n",
       "<table border=\"1\" class=\"dataframe\">\n",
       "  <thead>\n",
       "    <tr style=\"text-align: right;\">\n",
       "      <th></th>\n",
       "      <th>id</th>\n",
       "      <th>real</th>\n",
       "      <th>predicted</th>\n",
       "      <th>class</th>\n",
       "      <th>proba</th>\n",
       "    </tr>\n",
       "  </thead>\n",
       "  <tbody>\n",
       "    <tr>\n",
       "      <th>287</th>\n",
       "      <td>12930</td>\n",
       "      <td>1</td>\n",
       "      <td>0</td>\n",
       "      <td>FN</td>\n",
       "      <td>0.031301</td>\n",
       "    </tr>\n",
       "  </tbody>\n",
       "</table>\n",
       "</div>"
      ],
      "text/plain": [
       "        id  real  predicted class     proba\n",
       "287  12930     1          0    FN  0.031301"
      ]
     },
     "execution_count": 154,
     "metadata": {},
     "output_type": "execute_result"
    }
   ],
   "source": [
    "predict_cm[predict_cm['proba']==predict_cm[predict_cm['class'] == 'FN']['proba'].min()]"
   ]
  },
  {
   "cell_type": "code",
   "execution_count": 153,
   "id": "c7740c91",
   "metadata": {},
   "outputs": [
    {
     "data": {
      "text/html": [
       "<div>\n",
       "<style scoped>\n",
       "    .dataframe tbody tr th:only-of-type {\n",
       "        vertical-align: middle;\n",
       "    }\n",
       "\n",
       "    .dataframe tbody tr th {\n",
       "        vertical-align: top;\n",
       "    }\n",
       "\n",
       "    .dataframe thead th {\n",
       "        text-align: right;\n",
       "    }\n",
       "</style>\n",
       "<table border=\"1\" class=\"dataframe\">\n",
       "  <thead>\n",
       "    <tr style=\"text-align: right;\">\n",
       "      <th></th>\n",
       "      <th>id</th>\n",
       "      <th>real</th>\n",
       "      <th>predicted</th>\n",
       "      <th>class</th>\n",
       "      <th>proba</th>\n",
       "    </tr>\n",
       "  </thead>\n",
       "  <tbody>\n",
       "    <tr>\n",
       "      <th>499</th>\n",
       "      <td>21036</td>\n",
       "      <td>1</td>\n",
       "      <td>0</td>\n",
       "      <td>FN</td>\n",
       "      <td>0.353285</td>\n",
       "    </tr>\n",
       "  </tbody>\n",
       "</table>\n",
       "</div>"
      ],
      "text/plain": [
       "        id  real  predicted class     proba\n",
       "499  21036     1          0    FN  0.353285"
      ]
     },
     "execution_count": 153,
     "metadata": {},
     "output_type": "execute_result"
    }
   ],
   "source": [
    "predict_cm[predict_cm['proba']==predict_cm[predict_cm['class'] == 'FN']['proba'].max()]"
   ]
  },
  {
   "cell_type": "code",
   "execution_count": 156,
   "id": "288e83c4",
   "metadata": {},
   "outputs": [
    {
     "name": "stderr",
     "output_type": "stream",
     "text": [
      "/var/folders/pv/21djj0qj50v927yf9fbqsnsh0000gn/T/ipykernel_75161/1291546606.py:3: UserWarning: Boolean Series key will be reindexed to match DataFrame index.\n",
      "  predict_cm[predict_cm['class'] == 'FN'][(predict_cm.proba > FP_mean-0.001) &\n"
     ]
    },
    {
     "data": {
      "text/html": [
       "<div>\n",
       "<style scoped>\n",
       "    .dataframe tbody tr th:only-of-type {\n",
       "        vertical-align: middle;\n",
       "    }\n",
       "\n",
       "    .dataframe tbody tr th {\n",
       "        vertical-align: top;\n",
       "    }\n",
       "\n",
       "    .dataframe thead th {\n",
       "        text-align: right;\n",
       "    }\n",
       "</style>\n",
       "<table border=\"1\" class=\"dataframe\">\n",
       "  <thead>\n",
       "    <tr style=\"text-align: right;\">\n",
       "      <th></th>\n",
       "      <th>id</th>\n",
       "      <th>real</th>\n",
       "      <th>predicted</th>\n",
       "      <th>class</th>\n",
       "      <th>proba</th>\n",
       "    </tr>\n",
       "  </thead>\n",
       "  <tbody>\n",
       "    <tr>\n",
       "      <th>59</th>\n",
       "      <td>42609</td>\n",
       "      <td>1</td>\n",
       "      <td>0</td>\n",
       "      <td>FN</td>\n",
       "      <td>0.208130</td>\n",
       "    </tr>\n",
       "    <tr>\n",
       "      <th>79</th>\n",
       "      <td>32904</td>\n",
       "      <td>1</td>\n",
       "      <td>0</td>\n",
       "      <td>FN</td>\n",
       "      <td>0.205054</td>\n",
       "    </tr>\n",
       "    <tr>\n",
       "      <th>337</th>\n",
       "      <td>60714</td>\n",
       "      <td>1</td>\n",
       "      <td>0</td>\n",
       "      <td>FN</td>\n",
       "      <td>0.206418</td>\n",
       "    </tr>\n",
       "  </tbody>\n",
       "</table>\n",
       "</div>"
      ],
      "text/plain": [
       "        id  real  predicted class     proba\n",
       "59   42609     1          0    FN  0.208130\n",
       "79   32904     1          0    FN  0.205054\n",
       "337  60714     1          0    FN  0.206418"
      ]
     },
     "execution_count": 156,
     "metadata": {},
     "output_type": "execute_result"
    }
   ],
   "source": [
    "FP_mean=predict_cm[predict_cm['class'] == 'FN']['proba'].mean()\n",
    "\n",
    "predict_cm[predict_cm['class'] == 'FN'][(predict_cm.proba > FP_mean-0.001) & \n",
    "           (predict_cm.proba < FP_mean+0.01)]"
   ]
  }
 ],
 "metadata": {
  "kernelspec": {
   "display_name": "Python 3 (ipykernel)",
   "language": "python",
   "name": "python3"
  },
  "language_info": {
   "codemirror_mode": {
    "name": "ipython",
    "version": 3
   },
   "file_extension": ".py",
   "mimetype": "text/x-python",
   "name": "python",
   "nbconvert_exporter": "python",
   "pygments_lexer": "ipython3",
   "version": "3.9.7"
  }
 },
 "nbformat": 4,
 "nbformat_minor": 5
}
