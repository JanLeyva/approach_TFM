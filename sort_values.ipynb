{
 "cells": [
  {
   "cell_type": "markdown",
   "id": "243ed86c",
   "metadata": {},
   "source": [
    "# sort_values"
   ]
  },
  {
   "cell_type": "code",
   "execution_count": 2,
   "id": "ca74beee",
   "metadata": {},
   "outputs": [],
   "source": [
    "import pandas as pd\n",
    "import os"
   ]
  },
  {
   "cell_type": "markdown",
   "id": "9a318493",
   "metadata": {},
   "source": [
    "## VisualBERTCoco"
   ]
  },
  {
   "cell_type": "code",
   "execution_count": 12,
   "id": "01d93517",
   "metadata": {},
   "outputs": [],
   "source": [
    "path=\"/Users/jl/Desktop/TFM/approach_TFM/ensemble\"\n",
    "VisualBERTCoco_dev_seen_run_val=pd.read_csv(os.path.join(path, \"results/VisualBERTCoco_dev_seen_run_val.csv\"))\n",
    "dev_seen=pd.read_json(os.path.join(path, \"annotations/dev_seen.jsonl\"), lines = True)"
   ]
  },
  {
   "cell_type": "code",
   "execution_count": 23,
   "id": "82a39d56",
   "metadata": {},
   "outputs": [],
   "source": [
    "VisualBERTCoco_dev_seen_run_val_sort = dev_seen['id']"
   ]
  },
  {
   "cell_type": "code",
   "execution_count": 36,
   "id": "bab7608c",
   "metadata": {},
   "outputs": [
    {
     "data": {
      "text/html": [
       "<div>\n",
       "<style scoped>\n",
       "    .dataframe tbody tr th:only-of-type {\n",
       "        vertical-align: middle;\n",
       "    }\n",
       "\n",
       "    .dataframe tbody tr th {\n",
       "        vertical-align: top;\n",
       "    }\n",
       "\n",
       "    .dataframe thead th {\n",
       "        text-align: right;\n",
       "    }\n",
       "</style>\n",
       "<table border=\"1\" class=\"dataframe\">\n",
       "  <thead>\n",
       "    <tr style=\"text-align: right;\">\n",
       "      <th></th>\n",
       "      <th>id</th>\n",
       "      <th>proba</th>\n",
       "      <th>label</th>\n",
       "    </tr>\n",
       "  </thead>\n",
       "  <tbody>\n",
       "    <tr>\n",
       "      <th>0</th>\n",
       "      <td>8291</td>\n",
       "      <td>0.025689</td>\n",
       "      <td>0</td>\n",
       "    </tr>\n",
       "    <tr>\n",
       "      <th>1</th>\n",
       "      <td>46971</td>\n",
       "      <td>0.023448</td>\n",
       "      <td>0</td>\n",
       "    </tr>\n",
       "    <tr>\n",
       "      <th>2</th>\n",
       "      <td>3745</td>\n",
       "      <td>0.000133</td>\n",
       "      <td>0</td>\n",
       "    </tr>\n",
       "    <tr>\n",
       "      <th>3</th>\n",
       "      <td>83745</td>\n",
       "      <td>0.946633</td>\n",
       "      <td>1</td>\n",
       "    </tr>\n",
       "    <tr>\n",
       "      <th>4</th>\n",
       "      <td>80243</td>\n",
       "      <td>0.993831</td>\n",
       "      <td>1</td>\n",
       "    </tr>\n",
       "    <tr>\n",
       "      <th>...</th>\n",
       "      <td>...</td>\n",
       "      <td>...</td>\n",
       "      <td>...</td>\n",
       "    </tr>\n",
       "    <tr>\n",
       "      <th>495</th>\n",
       "      <td>83675</td>\n",
       "      <td>0.000060</td>\n",
       "      <td>0</td>\n",
       "    </tr>\n",
       "    <tr>\n",
       "      <th>496</th>\n",
       "      <td>37198</td>\n",
       "      <td>0.000058</td>\n",
       "      <td>0</td>\n",
       "    </tr>\n",
       "    <tr>\n",
       "      <th>497</th>\n",
       "      <td>48670</td>\n",
       "      <td>0.000091</td>\n",
       "      <td>0</td>\n",
       "    </tr>\n",
       "    <tr>\n",
       "      <th>498</th>\n",
       "      <td>9863</td>\n",
       "      <td>0.000137</td>\n",
       "      <td>0</td>\n",
       "    </tr>\n",
       "    <tr>\n",
       "      <th>499</th>\n",
       "      <td>97320</td>\n",
       "      <td>0.000087</td>\n",
       "      <td>0</td>\n",
       "    </tr>\n",
       "  </tbody>\n",
       "</table>\n",
       "<p>500 rows × 3 columns</p>\n",
       "</div>"
      ],
      "text/plain": [
       "        id     proba  label\n",
       "0     8291  0.025689      0\n",
       "1    46971  0.023448      0\n",
       "2     3745  0.000133      0\n",
       "3    83745  0.946633      1\n",
       "4    80243  0.993831      1\n",
       "..     ...       ...    ...\n",
       "495  83675  0.000060      0\n",
       "496  37198  0.000058      0\n",
       "497  48670  0.000091      0\n",
       "498   9863  0.000137      0\n",
       "499  97320  0.000087      0\n",
       "\n",
       "[500 rows x 3 columns]"
      ]
     },
     "execution_count": 36,
     "metadata": {},
     "output_type": "execute_result"
    }
   ],
   "source": [
    "pd.merge(VisualBERTCoco_dev_seen_run_val_sort, VisualBERTCoco_dev_seen_run_val)"
   ]
  },
  {
   "cell_type": "code",
   "execution_count": 47,
   "id": "d6720f70",
   "metadata": {},
   "outputs": [],
   "source": [
    "pd.merge(VisualBERTCoco_dev_seen_run_val_sort, VisualBERTCoco_dev_seen_run_val).to_csv(\"VisualBERTCoco_dev_seen_run_val_sort\")"
   ]
  },
  {
   "cell_type": "markdown",
   "id": "acdd9801",
   "metadata": {},
   "source": [
    "## VisualBERT"
   ]
  },
  {
   "cell_type": "code",
   "execution_count": 46,
   "id": "3f29a17a",
   "metadata": {},
   "outputs": [],
   "source": [
    "path=\"/Users/jl/Desktop/TFM/approach_TFM/ensemble\"\n",
    "VisualBERT_dev_seen=pd.read_csv(os.path.join(path, \"results/VisualBERT_dev_seen.csv\"))\n",
    "dev_seen=pd.read_json(os.path.join(path, \"annotations/dev_seen.jsonl\"), lines = True)"
   ]
  },
  {
   "cell_type": "code",
   "execution_count": 48,
   "id": "4134bed7",
   "metadata": {},
   "outputs": [],
   "source": [
    "pd.merge(VisualBERTCoco_dev_seen_run_val_sort, VisualBERT_dev_seen).to_csv(\"VisualBERT_dev_seen\")"
   ]
  }
 ],
 "metadata": {
  "kernelspec": {
   "display_name": "Python 3 (ipykernel)",
   "language": "python",
   "name": "python3"
  },
  "language_info": {
   "codemirror_mode": {
    "name": "ipython",
    "version": 3
   },
   "file_extension": ".py",
   "mimetype": "text/x-python",
   "name": "python",
   "nbconvert_exporter": "python",
   "pygments_lexer": "ipython3",
   "version": "3.9.7"
  }
 },
 "nbformat": 4,
 "nbformat_minor": 5
}
