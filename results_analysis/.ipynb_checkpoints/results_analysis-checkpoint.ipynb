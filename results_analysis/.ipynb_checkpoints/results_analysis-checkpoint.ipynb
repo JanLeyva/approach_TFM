{
 "cells": [
  {
   "cell_type": "code",
   "execution_count": 1,
   "id": "26bc0f66",
   "metadata": {},
   "outputs": [
    {
     "name": "stdout",
     "output_type": "stream",
     "text": [
      "Python 3.9.7\r\n"
     ]
    }
   ],
   "source": [
    "!python --version"
   ]
  },
  {
   "cell_type": "code",
   "execution_count": null,
   "id": "da8665ad",
   "metadata": {},
   "outputs": [],
   "source": []
  },
  {
   "cell_type": "code",
   "execution_count": 16,
   "id": "2bffa6e1",
   "metadata": {},
   "outputs": [],
   "source": [
    "import pandas as pd\n",
    "import numpy as np\n",
    "import os\n",
    "from sklearn.metrics import roc_auc_score, accuracy_score, confusion_matrix, roc_curve"
   ]
  },
  {
   "cell_type": "code",
   "execution_count": 3,
   "id": "058f198b",
   "metadata": {},
   "outputs": [],
   "source": [
    "test_unseen=pd.read_json('annotations/test_unseen.jsonl',lines=True)\n",
    "predict_test_unseen=pd.read_csv(\"ens0507_test_unseen_SA.csv\")"
   ]
  },
  {
   "cell_type": "code",
   "execution_count": 19,
   "id": "17839e92",
   "metadata": {},
   "outputs": [],
   "source": [
    "predict=pd.read_csv('ens1009_test_unseen_SA.csv')"
   ]
  },
  {
   "cell_type": "code",
   "execution_count": 4,
   "id": "a0add825",
   "metadata": {},
   "outputs": [
    {
     "data": {
      "text/html": [
       "<div>\n",
       "<style scoped>\n",
       "    .dataframe tbody tr th:only-of-type {\n",
       "        vertical-align: middle;\n",
       "    }\n",
       "\n",
       "    .dataframe tbody tr th {\n",
       "        vertical-align: top;\n",
       "    }\n",
       "\n",
       "    .dataframe thead th {\n",
       "        text-align: right;\n",
       "    }\n",
       "</style>\n",
       "<table border=\"1\" class=\"dataframe\">\n",
       "  <thead>\n",
       "    <tr style=\"text-align: right;\">\n",
       "      <th></th>\n",
       "      <th>id</th>\n",
       "      <th>img</th>\n",
       "      <th>label</th>\n",
       "      <th>text</th>\n",
       "    </tr>\n",
       "  </thead>\n",
       "  <tbody>\n",
       "    <tr>\n",
       "      <th>0</th>\n",
       "      <td>15740</td>\n",
       "      <td>img/15740.png</td>\n",
       "      <td>1</td>\n",
       "      <td>when someone tells you how to bbq</td>\n",
       "    </tr>\n",
       "    <tr>\n",
       "      <th>1</th>\n",
       "      <td>38794</td>\n",
       "      <td>img/38794.png</td>\n",
       "      <td>1</td>\n",
       "      <td>when they say white folks don't know how to cook</td>\n",
       "    </tr>\n",
       "    <tr>\n",
       "      <th>3</th>\n",
       "      <td>71824</td>\n",
       "      <td>img/71824.png</td>\n",
       "      <td>1</td>\n",
       "      <td>okay here you go! you piece of shit!</td>\n",
       "    </tr>\n",
       "    <tr>\n",
       "      <th>4</th>\n",
       "      <td>4796</td>\n",
       "      <td>img/04796.png</td>\n",
       "      <td>1</td>\n",
       "      <td>xboxone farming 1619 simulator</td>\n",
       "    </tr>\n",
       "    <tr>\n",
       "      <th>5</th>\n",
       "      <td>75310</td>\n",
       "      <td>img/75310.png</td>\n",
       "      <td>1</td>\n",
       "      <td>how roaches be when you shut off the kitchen l...</td>\n",
       "    </tr>\n",
       "    <tr>\n",
       "      <th>...</th>\n",
       "      <td>...</td>\n",
       "      <td>...</td>\n",
       "      <td>...</td>\n",
       "      <td>...</td>\n",
       "    </tr>\n",
       "    <tr>\n",
       "      <th>1995</th>\n",
       "      <td>71352</td>\n",
       "      <td>img/71352.png</td>\n",
       "      <td>0</td>\n",
       "      <td>fighting for gay rights</td>\n",
       "    </tr>\n",
       "    <tr>\n",
       "      <th>1996</th>\n",
       "      <td>2164</td>\n",
       "      <td>img/02164.png</td>\n",
       "      <td>0</td>\n",
       "      <td>that feeling when you finish your homework in ...</td>\n",
       "    </tr>\n",
       "    <tr>\n",
       "      <th>1997</th>\n",
       "      <td>3587</td>\n",
       "      <td>img/03587.png</td>\n",
       "      <td>0</td>\n",
       "      <td>the day that shook new york city</td>\n",
       "    </tr>\n",
       "    <tr>\n",
       "      <th>1998</th>\n",
       "      <td>47839</td>\n",
       "      <td>img/47839.png</td>\n",
       "      <td>0</td>\n",
       "      <td>one of the first prototypes of the atom bomb</td>\n",
       "    </tr>\n",
       "    <tr>\n",
       "      <th>1999</th>\n",
       "      <td>34281</td>\n",
       "      <td>img/34281.png</td>\n",
       "      <td>0</td>\n",
       "      <td>today feels like a kinda day where i just wann...</td>\n",
       "    </tr>\n",
       "  </tbody>\n",
       "</table>\n",
       "<p>1517 rows × 4 columns</p>\n",
       "</div>"
      ],
      "text/plain": [
       "         id            img  label  \\\n",
       "0     15740  img/15740.png      1   \n",
       "1     38794  img/38794.png      1   \n",
       "3     71824  img/71824.png      1   \n",
       "4      4796  img/04796.png      1   \n",
       "5     75310  img/75310.png      1   \n",
       "...     ...            ...    ...   \n",
       "1995  71352  img/71352.png      0   \n",
       "1996   2164  img/02164.png      0   \n",
       "1997   3587  img/03587.png      0   \n",
       "1998  47839  img/47839.png      0   \n",
       "1999  34281  img/34281.png      0   \n",
       "\n",
       "                                                   text  \n",
       "0                     when someone tells you how to bbq  \n",
       "1      when they say white folks don't know how to cook  \n",
       "3                  okay here you go! you piece of shit!  \n",
       "4                        xboxone farming 1619 simulator  \n",
       "5     how roaches be when you shut off the kitchen l...  \n",
       "...                                                 ...  \n",
       "1995                            fighting for gay rights  \n",
       "1996  that feeling when you finish your homework in ...  \n",
       "1997                   the day that shook new york city  \n",
       "1998       one of the first prototypes of the atom bomb  \n",
       "1999  today feels like a kinda day where i just wann...  \n",
       "\n",
       "[1517 rows x 4 columns]"
      ]
     },
     "execution_count": 4,
     "metadata": {},
     "output_type": "execute_result"
    }
   ],
   "source": [
    "test_unseen[(predict_test_unseen['label'] == test_unseen['label'])== True]"
   ]
  },
  {
   "cell_type": "code",
   "execution_count": 9,
   "id": "eec166fe",
   "metadata": {},
   "outputs": [],
   "source": [
    "pred = predict_test_unseen['label']\n",
    "real = test_unseen['label']\n",
    "cm_terms=[]\n",
    "for i, label in enumerate(pred):\n",
    "    if label == real[i]:\n",
    "        if label == 1:\n",
    "            cm_terms.append('TP')\n",
    "        elif label == 0:\n",
    "            cm_terms.append('TN')\n",
    "        else:\n",
    "            cm_terms.append('error')\n",
    "        \n",
    "    elif label != real[i]:\n",
    "        if label == 1:\n",
    "            cm_terms.append('FN')\n",
    "        elif label == 0:\n",
    "            cm_terms.append('FP')\n",
    "        else:\n",
    "            cm_terms.append('error')"
   ]
  },
  {
   "cell_type": "code",
   "execution_count": 11,
   "id": "082fd1ad",
   "metadata": {},
   "outputs": [
    {
     "data": {
      "text/html": [
       "<div>\n",
       "<style scoped>\n",
       "    .dataframe tbody tr th:only-of-type {\n",
       "        vertical-align: middle;\n",
       "    }\n",
       "\n",
       "    .dataframe tbody tr th {\n",
       "        vertical-align: top;\n",
       "    }\n",
       "\n",
       "    .dataframe thead th {\n",
       "        text-align: right;\n",
       "    }\n",
       "</style>\n",
       "<table border=\"1\" class=\"dataframe\">\n",
       "  <thead>\n",
       "    <tr style=\"text-align: right;\">\n",
       "      <th></th>\n",
       "      <th>real</th>\n",
       "      <th>real</th>\n",
       "    </tr>\n",
       "  </thead>\n",
       "  <tbody>\n",
       "    <tr>\n",
       "      <th>0</th>\n",
       "      <td>1</td>\n",
       "      <td>1</td>\n",
       "    </tr>\n",
       "    <tr>\n",
       "      <th>1</th>\n",
       "      <td>1</td>\n",
       "      <td>1</td>\n",
       "    </tr>\n",
       "    <tr>\n",
       "      <th>2</th>\n",
       "      <td>1</td>\n",
       "      <td>0</td>\n",
       "    </tr>\n",
       "    <tr>\n",
       "      <th>3</th>\n",
       "      <td>1</td>\n",
       "      <td>1</td>\n",
       "    </tr>\n",
       "    <tr>\n",
       "      <th>4</th>\n",
       "      <td>1</td>\n",
       "      <td>1</td>\n",
       "    </tr>\n",
       "    <tr>\n",
       "      <th>...</th>\n",
       "      <td>...</td>\n",
       "      <td>...</td>\n",
       "    </tr>\n",
       "    <tr>\n",
       "      <th>1995</th>\n",
       "      <td>0</td>\n",
       "      <td>0</td>\n",
       "    </tr>\n",
       "    <tr>\n",
       "      <th>1996</th>\n",
       "      <td>0</td>\n",
       "      <td>0</td>\n",
       "    </tr>\n",
       "    <tr>\n",
       "      <th>1997</th>\n",
       "      <td>0</td>\n",
       "      <td>0</td>\n",
       "    </tr>\n",
       "    <tr>\n",
       "      <th>1998</th>\n",
       "      <td>0</td>\n",
       "      <td>0</td>\n",
       "    </tr>\n",
       "    <tr>\n",
       "      <th>1999</th>\n",
       "      <td>0</td>\n",
       "      <td>0</td>\n",
       "    </tr>\n",
       "  </tbody>\n",
       "</table>\n",
       "<p>2000 rows × 2 columns</p>\n",
       "</div>"
      ],
      "text/plain": [
       "      real  real\n",
       "0        1     1\n",
       "1        1     1\n",
       "2        1     0\n",
       "3        1     1\n",
       "4        1     1\n",
       "...    ...   ...\n",
       "1995     0     0\n",
       "1996     0     0\n",
       "1997     0     0\n",
       "1998     0     0\n",
       "1999     0     0\n",
       "\n",
       "[2000 rows x 2 columns]"
      ]
     },
     "execution_count": 11,
     "metadata": {},
     "output_type": "execute_result"
    }
   ],
   "source": [
    "pd.concat([test_unseen['label'], predict_test_unseen['label']], axis=1).rename(columns={'label': 'real'})"
   ]
  },
  {
   "cell_type": "code",
   "execution_count": 45,
   "id": "fd85a4b7",
   "metadata": {},
   "outputs": [],
   "source": [
    "def norm(data):\n",
    "    norm_data =  (data - np.min(data)) / (np.max(data) - np.min(data))\n",
    "    return norm_data\n",
    "\n",
    "def conf_matrx_termenology(ids, real, pred, proba):\n",
    "    cm_terms=[]\n",
    "    for i, label in enumerate(pred):\n",
    "        if label == real[i]:\n",
    "            if label == 1:\n",
    "                cm_terms.append('TP')\n",
    "            elif label == 0:\n",
    "                cm_terms.append('TN')\n",
    "            else:\n",
    "                cm_terms.append('error')\n",
    "\n",
    "        elif label != real[i]:\n",
    "            if label == 1:\n",
    "                cm_terms.append('FP')\n",
    "            elif label == 0:\n",
    "                cm_terms.append('FN')\n",
    "            else:\n",
    "                cm_terms.append('error')\n",
    "    # transform to df\n",
    "    ids = pd.DataFrame(ids)\n",
    "    real=pd.DataFrame(real).rename(columns={'label': 'real'})\n",
    "    pred=pd.DataFrame(pred).rename(columns={'label':'predicted'})\n",
    "    cm_terms=pd.DataFrame(cm_terms).rename(columns={0:'class'})\n",
    "    result=pd.concat([ids, real, pred, cm_terms, norm(proba)], axis=1)\n",
    "    return result"
   ]
  },
  {
   "cell_type": "code",
   "execution_count": 46,
   "id": "c4382391",
   "metadata": {},
   "outputs": [],
   "source": [
    "conf_matrx_termenology(test_unseen['id'], \n",
    "                       test_unseen['label'], \n",
    "                       predict['label'],\n",
    "                      predict['proba']).to_csv(\"reults_with_cmv2.csv\", index=False)"
   ]
  },
  {
   "cell_type": "markdown",
   "id": "6b329550",
   "metadata": {},
   "source": [
    "## Normalize prob [0,1]"
   ]
  },
  {
   "cell_type": "code",
   "execution_count": 29,
   "id": "3d0d81c2",
   "metadata": {},
   "outputs": [],
   "source": [
    "def norm(data):\n",
    "    norm_data =  (data - np.min(data)) / (np.max(data) - np.min(data))\n",
    "    return norm_data"
   ]
  },
  {
   "cell_type": "code",
   "execution_count": 42,
   "id": "fee32aa0",
   "metadata": {},
   "outputs": [
    {
     "data": {
      "text/plain": [
       "0.8276341333333332"
      ]
     },
     "execution_count": 42,
     "metadata": {},
     "output_type": "execute_result"
    }
   ],
   "source": [
    "roc_auc_score(test_unseen['label'], norm(predict['proba']))"
   ]
  },
  {
   "cell_type": "code",
   "execution_count": 43,
   "id": "d57bf406",
   "metadata": {},
   "outputs": [
    {
     "data": {
      "text/plain": [
       "0       0.432846\n",
       "1       0.852893\n",
       "2       0.316704\n",
       "3       0.288843\n",
       "4       0.745172\n",
       "          ...   \n",
       "1995    0.124828\n",
       "1996    0.068516\n",
       "1997    0.049027\n",
       "1998    0.146421\n",
       "1999    0.049169\n",
       "Name: proba, Length: 2000, dtype: float64"
      ]
     },
     "execution_count": 43,
     "metadata": {},
     "output_type": "execute_result"
    }
   ],
   "source": [
    "norm(predict['proba'])"
   ]
  },
  {
   "cell_type": "code",
   "execution_count": 38,
   "id": "ec00e88a",
   "metadata": {},
   "outputs": [
    {
     "data": {
      "text/plain": [
       "1536"
      ]
     },
     "execution_count": 38,
     "metadata": {},
     "output_type": "execute_result"
    }
   ],
   "source": [
    "sum(pd.DataFrame(norm(predict['proba']))['label'] == test_unseen['label'])"
   ]
  },
  {
   "cell_type": "code",
   "execution_count": 39,
   "id": "476352a1",
   "metadata": {},
   "outputs": [
    {
     "data": {
      "text/plain": [
       "0.768"
      ]
     },
     "execution_count": 39,
     "metadata": {},
     "output_type": "execute_result"
    }
   ],
   "source": [
    "1536/2000"
   ]
  },
  {
   "cell_type": "code",
   "execution_count": 25,
   "id": "7c7c3265",
   "metadata": {},
   "outputs": [
    {
     "data": {
      "text/plain": [
       "6.029936630718804"
      ]
     },
     "execution_count": 25,
     "metadata": {},
     "output_type": "execute_result"
    }
   ],
   "source": [
    "predict['proba'].max()"
   ]
  },
  {
   "cell_type": "code",
   "execution_count": 26,
   "id": "65ec2191",
   "metadata": {},
   "outputs": [
    {
     "data": {
      "text/plain": [
       "-6.258200409266134"
      ]
     },
     "execution_count": 26,
     "metadata": {},
     "output_type": "execute_result"
    }
   ],
   "source": [
    "predict['proba'].min()"
   ]
  },
  {
   "cell_type": "code",
   "execution_count": 20,
   "id": "6fc8ebf4",
   "metadata": {},
   "outputs": [
    {
     "data": {
      "text/plain": [
       "0.8276341333333332"
      ]
     },
     "execution_count": 20,
     "metadata": {},
     "output_type": "execute_result"
    }
   ],
   "source": [
    "roc_auc_score(test_unseen['label'], predict['proba'])"
   ]
  },
  {
   "cell_type": "code",
   "execution_count": 40,
   "id": "e56f7b0c",
   "metadata": {},
   "outputs": [
    {
     "data": {
      "text/plain": [
       "0.768"
      ]
     },
     "execution_count": 40,
     "metadata": {},
     "output_type": "execute_result"
    }
   ],
   "source": [
    "accuracy_score(test_unseen['label'], predict['label'])"
   ]
  },
  {
   "cell_type": "markdown",
   "id": "0089fd55",
   "metadata": {},
   "source": [
    "## Plots for distr Proba"
   ]
  },
  {
   "cell_type": "code",
   "execution_count": 50,
   "id": "a14805b4",
   "metadata": {},
   "outputs": [],
   "source": [
    "import matplotlib as plt\n",
    "import seaborn as sns"
   ]
  },
  {
   "cell_type": "code",
   "execution_count": 51,
   "id": "194c7ed2",
   "metadata": {},
   "outputs": [],
   "source": [
    "predict_cm=conf_matrx_termenology(test_unseen['id'], \n",
    "                       test_unseen['label'], \n",
    "                       predict['label'],\n",
    "                      predict['proba'])"
   ]
  },
  {
   "cell_type": "code",
   "execution_count": null,
   "id": "61c5333c",
   "metadata": {},
   "outputs": [],
   "source": []
  },
  {
   "cell_type": "code",
   "execution_count": 52,
   "id": "64299328",
   "metadata": {},
   "outputs": [
    {
     "data": {
      "text/html": [
       "<div>\n",
       "<style scoped>\n",
       "    .dataframe tbody tr th:only-of-type {\n",
       "        vertical-align: middle;\n",
       "    }\n",
       "\n",
       "    .dataframe tbody tr th {\n",
       "        vertical-align: top;\n",
       "    }\n",
       "\n",
       "    .dataframe thead th {\n",
       "        text-align: right;\n",
       "    }\n",
       "</style>\n",
       "<table border=\"1\" class=\"dataframe\">\n",
       "  <thead>\n",
       "    <tr style=\"text-align: right;\">\n",
       "      <th></th>\n",
       "      <th>id</th>\n",
       "      <th>real</th>\n",
       "      <th>predicted</th>\n",
       "      <th>class</th>\n",
       "      <th>proba</th>\n",
       "    </tr>\n",
       "  </thead>\n",
       "  <tbody>\n",
       "    <tr>\n",
       "      <th>0</th>\n",
       "      <td>15740</td>\n",
       "      <td>1</td>\n",
       "      <td>1</td>\n",
       "      <td>TP</td>\n",
       "      <td>0.432846</td>\n",
       "    </tr>\n",
       "    <tr>\n",
       "      <th>1</th>\n",
       "      <td>38794</td>\n",
       "      <td>1</td>\n",
       "      <td>1</td>\n",
       "      <td>TP</td>\n",
       "      <td>0.852893</td>\n",
       "    </tr>\n",
       "    <tr>\n",
       "      <th>2</th>\n",
       "      <td>60792</td>\n",
       "      <td>1</td>\n",
       "      <td>0</td>\n",
       "      <td>FN</td>\n",
       "      <td>0.316704</td>\n",
       "    </tr>\n",
       "    <tr>\n",
       "      <th>3</th>\n",
       "      <td>71824</td>\n",
       "      <td>1</td>\n",
       "      <td>0</td>\n",
       "      <td>FN</td>\n",
       "      <td>0.288843</td>\n",
       "    </tr>\n",
       "    <tr>\n",
       "      <th>4</th>\n",
       "      <td>4796</td>\n",
       "      <td>1</td>\n",
       "      <td>1</td>\n",
       "      <td>TP</td>\n",
       "      <td>0.745172</td>\n",
       "    </tr>\n",
       "    <tr>\n",
       "      <th>...</th>\n",
       "      <td>...</td>\n",
       "      <td>...</td>\n",
       "      <td>...</td>\n",
       "      <td>...</td>\n",
       "      <td>...</td>\n",
       "    </tr>\n",
       "    <tr>\n",
       "      <th>1995</th>\n",
       "      <td>71352</td>\n",
       "      <td>0</td>\n",
       "      <td>0</td>\n",
       "      <td>TN</td>\n",
       "      <td>0.124828</td>\n",
       "    </tr>\n",
       "    <tr>\n",
       "      <th>1996</th>\n",
       "      <td>2164</td>\n",
       "      <td>0</td>\n",
       "      <td>0</td>\n",
       "      <td>TN</td>\n",
       "      <td>0.068516</td>\n",
       "    </tr>\n",
       "    <tr>\n",
       "      <th>1997</th>\n",
       "      <td>3587</td>\n",
       "      <td>0</td>\n",
       "      <td>0</td>\n",
       "      <td>TN</td>\n",
       "      <td>0.049027</td>\n",
       "    </tr>\n",
       "    <tr>\n",
       "      <th>1998</th>\n",
       "      <td>47839</td>\n",
       "      <td>0</td>\n",
       "      <td>0</td>\n",
       "      <td>TN</td>\n",
       "      <td>0.146421</td>\n",
       "    </tr>\n",
       "    <tr>\n",
       "      <th>1999</th>\n",
       "      <td>34281</td>\n",
       "      <td>0</td>\n",
       "      <td>0</td>\n",
       "      <td>TN</td>\n",
       "      <td>0.049169</td>\n",
       "    </tr>\n",
       "  </tbody>\n",
       "</table>\n",
       "<p>2000 rows × 5 columns</p>\n",
       "</div>"
      ],
      "text/plain": [
       "         id  real  predicted class     proba\n",
       "0     15740     1          1    TP  0.432846\n",
       "1     38794     1          1    TP  0.852893\n",
       "2     60792     1          0    FN  0.316704\n",
       "3     71824     1          0    FN  0.288843\n",
       "4      4796     1          1    TP  0.745172\n",
       "...     ...   ...        ...   ...       ...\n",
       "1995  71352     0          0    TN  0.124828\n",
       "1996   2164     0          0    TN  0.068516\n",
       "1997   3587     0          0    TN  0.049027\n",
       "1998  47839     0          0    TN  0.146421\n",
       "1999  34281     0          0    TN  0.049169\n",
       "\n",
       "[2000 rows x 5 columns]"
      ]
     },
     "execution_count": 52,
     "metadata": {},
     "output_type": "execute_result"
    }
   ],
   "source": [
    "predict_cm"
   ]
  },
  {
   "cell_type": "code",
   "execution_count": 54,
   "id": "1191d7bb",
   "metadata": {},
   "outputs": [
    {
     "data": {
      "text/plain": [
       "<AxesSubplot:xlabel='proba', ylabel='class'>"
      ]
     },
     "execution_count": 54,
     "metadata": {},
     "output_type": "execute_result"
    },
    {
     "data": {
      "image/png": "[encoded data removed]",
      "text/plain": [
       "<Figure size 842.4x595.44 with 1 Axes>"
      ]
     },
     "metadata": {},
     "output_type": "display_data"
    }
   ],
   "source": [
    "sns.set(rc={'figure.figsize':(11.7,8.27)})\n",
    "sns.barplot(x='proba', y='class', orient = \"h\", data=predict_cm)"
   ]
  },
  {
   "cell_type": "code",
   "execution_count": 89,
   "id": "77b9a336",
   "metadata": {},
   "outputs": [],
   "source": [
    "import matplotlib.pyplot as plt"
   ]
  },
  {
   "cell_type": "code",
   "execution_count": 98,
   "id": "c022a701",
   "metadata": {},
   "outputs": [
    {
     "data": {
      "text/plain": [
       "Text(0, 0.5, '')"
      ]
     },
     "execution_count": 98,
     "metadata": {},
     "output_type": "execute_result"
    },
    {
     "data": {
      "image/png": "[encoded data removed]",
      "text/plain": [
       "<Figure size 842.4x595.44 with 1 Axes>"
      ]
     },
     "metadata": {},
     "output_type": "display_data"
    }
   ],
   "source": [
    "custom_params = {\"axes.spines.right\": False, \"axes.spines.top\": False}\n",
    "sns.set_theme(style=\"ticks\", rc=custom_params)\n",
    "sns.color_palette(\"rocket_r\", as_cmap=True)\n",
    "\n",
    "ax=sns.boxplot(x='proba', y='class', orient = \"h\", data=predict_cm,\n",
    "           palette='rocket_r')\n",
    "ax.axvline(0.35610683508344143, ls ='--',\n",
    "          alpha=0.6,\n",
    "          color='red')\n",
    "ax.set_title(\"\")\n",
    "ax.set_xlabel(\"Probability\")\n",
    "ax.set_ylabel(\"\")"
   ]
  },
  {
   "cell_type": "markdown",
   "id": "01038172",
   "metadata": {},
   "source": [
    "### Best treshold"
   ]
  },
  {
   "cell_type": "code",
   "execution_count": 86,
   "id": "f187eea1",
   "metadata": {},
   "outputs": [],
   "source": [
    "from sklearn import metrics\n",
    "\n",
    "def get_acc_and_best_threshold_from_roc_curve_(org_file, ens_file):\n",
    "    fpr, tpr, thresholds = metrics.roc_curve(org_file['label'], ens_file['proba'],  pos_label=1)\n",
    "    num_pos_class, num_neg_class = len(ens_file['predicted'] == 1), len(ens_file['predicted'] == 0)\n",
    "\n",
    "    tp = tpr * num_pos_class\n",
    "    tn = (1 - fpr) * num_neg_class\n",
    "    acc = (tp + tn) / (num_pos_class + num_neg_class)\n",
    "\n",
    "    best_threshold = thresholds[np.argmax(acc)]\n",
    "\n",
    "    return best_threshold"
   ]
  },
  {
   "cell_type": "code",
   "execution_count": 87,
   "id": "73a5ce21",
   "metadata": {},
   "outputs": [
    {
     "data": {
      "text/plain": [
       "0.35610683508344143"
      ]
     },
     "execution_count": 87,
     "metadata": {},
     "output_type": "execute_result"
    }
   ],
   "source": [
    "get_acc_and_best_threshold_from_roc_curve_(test_unseen, predict_cm)"
   ]
  },
  {
   "cell_type": "markdown",
   "id": "f77f920f",
   "metadata": {},
   "source": [
    "# Which have hight error by Error type"
   ]
  },
  {
   "cell_type": "markdown",
   "id": "4f90a796",
   "metadata": {},
   "source": [
    "#### TP"
   ]
  },
  {
   "cell_type": "code",
   "execution_count": 72,
   "id": "27900f9b",
   "metadata": {},
   "outputs": [
    {
     "name": "stdout",
     "output_type": "stream",
     "text": [
      "TP min: id               1368\n",
      "real                1\n",
      "predicted           1\n",
      "class              TP\n",
      "proba        0.356107\n",
      "dtype: object\n"
     ]
    }
   ],
   "source": [
    "print(\"TP min:\", predict_cm[predict_cm['class'] == 'TP'].min())"
   ]
  },
  {
   "cell_type": "code",
   "execution_count": 73,
   "id": "be041752",
   "metadata": {},
   "outputs": [
    {
     "name": "stdout",
     "output_type": "stream",
     "text": [
      "TP min: id           98735\n",
      "real             1\n",
      "predicted        1\n",
      "class           TP\n",
      "proba          1.0\n",
      "dtype: object\n"
     ]
    }
   ],
   "source": [
    "print(\"TP min:\", predict_cm[predict_cm['class'] == 'TP'].max())"
   ]
  },
  {
   "cell_type": "markdown",
   "id": "ab6f0e57",
   "metadata": {},
   "source": [
    "#### TN"
   ]
  },
  {
   "cell_type": "code",
   "execution_count": 94,
   "id": "68c26b97",
   "metadata": {},
   "outputs": [
    {
     "name": "stdout",
     "output_type": "stream",
     "text": [
      "TN min: id           1285\n",
      "real            0\n",
      "predicted       0\n",
      "class          TN\n",
      "proba         0.0\n",
      "dtype: object\n"
     ]
    }
   ],
   "source": [
    "print(\"TN min:\", predict_cm[predict_cm['class'] == 'TN'].min())"
   ]
  },
  {
   "cell_type": "code",
   "execution_count": 96,
   "id": "852dd491",
   "metadata": {},
   "outputs": [
    {
     "name": "stdout",
     "output_type": "stream",
     "text": [
      "TN min: id              98604\n",
      "real                0\n",
      "predicted           0\n",
      "class              TN\n",
      "proba        0.355377\n",
      "dtype: object\n"
     ]
    }
   ],
   "source": [
    "print(\"TN min:\", predict_cm[predict_cm['class'] == 'TN'].max())"
   ]
  },
  {
   "cell_type": "code",
   "execution_count": 114,
   "id": "3f49b193",
   "metadata": {},
   "outputs": [
    {
     "name": "stdout",
     "output_type": "stream",
     "text": [
      "TN min: id           48325.698113\n",
      "real             0.000000\n",
      "predicted        0.000000\n",
      "proba            0.144126\n",
      "dtype: float64\n"
     ]
    },
    {
     "name": "stderr",
     "output_type": "stream",
     "text": [
      "/var/folders/pv/21djj0qj50v927yf9fbqsnsh0000gn/T/ipykernel_75161/2941742105.py:1: FutureWarning: Dropping of nuisance columns in DataFrame reductions (with 'numeric_only=None') is deprecated; in a future version this will raise TypeError.  Select only valid columns before calling the reduction.\n",
      "  print(\"TN min:\", predict_cm[predict_cm['class'] == 'TN'].mean())\n"
     ]
    }
   ],
   "source": [
    "print(\"TN min:\", predict_cm[predict_cm['class'] == 'TN'].mean())"
   ]
  },
  {
   "cell_type": "markdown",
   "id": "74901d3e",
   "metadata": {},
   "source": [
    "#### FP"
   ]
  },
  {
   "cell_type": "code",
   "execution_count": 99,
   "id": "83cb13b9",
   "metadata": {},
   "outputs": [
    {
     "name": "stdout",
     "output_type": "stream",
     "text": [
      "FP min: id               1358\n",
      "real                0\n",
      "predicted           1\n",
      "class              FP\n",
      "proba        0.356488\n",
      "dtype: object\n"
     ]
    }
   ],
   "source": [
    "print(\"FP min:\", predict_cm[predict_cm['class'] == 'FP'].min())"
   ]
  },
  {
   "cell_type": "code",
   "execution_count": 100,
   "id": "313cf433",
   "metadata": {},
   "outputs": [
    {
     "name": "stdout",
     "output_type": "stream",
     "text": [
      "FP min: id              98621\n",
      "real                0\n",
      "predicted           1\n",
      "class              FP\n",
      "proba        0.977119\n",
      "dtype: object\n"
     ]
    }
   ],
   "source": [
    "print(\"FP min:\", predict_cm[predict_cm['class'] == 'FP'].max())"
   ]
  },
  {
   "cell_type": "code",
   "execution_count": 104,
   "id": "d118dd8c",
   "metadata": {},
   "outputs": [
    {
     "name": "stdout",
     "output_type": "stream",
     "text": [
      "FP min: id           51409.345679\n",
      "real             0.000000\n",
      "predicted        1.000000\n",
      "proba            0.554433\n",
      "dtype: float64\n"
     ]
    },
    {
     "name": "stderr",
     "output_type": "stream",
     "text": [
      "/var/folders/pv/21djj0qj50v927yf9fbqsnsh0000gn/T/ipykernel_75161/740450713.py:1: FutureWarning: Dropping of nuisance columns in DataFrame reductions (with 'numeric_only=None') is deprecated; in a future version this will raise TypeError.  Select only valid columns before calling the reduction.\n",
      "  print(\"FP min:\", predict_cm[predict_cm['class'] == 'FP'].mean())\n"
     ]
    }
   ],
   "source": [
    "print(\"FP min:\", predict_cm[predict_cm['class'] == 'FP'].mean())"
   ]
  },
  {
   "cell_type": "markdown",
   "id": "28a6f847",
   "metadata": {},
   "source": [
    "#### FN"
   ]
  },
  {
   "cell_type": "code",
   "execution_count": 101,
   "id": "f3508ca4",
   "metadata": {},
   "outputs": [
    {
     "name": "stdout",
     "output_type": "stream",
     "text": [
      "FN min: id               1278\n",
      "real                1\n",
      "predicted           0\n",
      "class              FN\n",
      "proba        0.031301\n",
      "dtype: object\n"
     ]
    }
   ],
   "source": [
    "print(\"FN min:\", predict_cm[predict_cm['class'] == 'FN'].min())"
   ]
  },
  {
   "cell_type": "code",
   "execution_count": 102,
   "id": "3f6fc82f",
   "metadata": {},
   "outputs": [
    {
     "name": "stdout",
     "output_type": "stream",
     "text": [
      "FN min: id              98365\n",
      "real                1\n",
      "predicted           0\n",
      "class              FN\n",
      "proba        0.353285\n",
      "dtype: object\n"
     ]
    }
   ],
   "source": [
    "print(\"FN min:\", predict_cm[predict_cm['class'] == 'FN'].max())"
   ]
  },
  {
   "cell_type": "code",
   "execution_count": 103,
   "id": "597ced9c",
   "metadata": {},
   "outputs": [
    {
     "name": "stdout",
     "output_type": "stream",
     "text": [
      "FN min: id           47717.122172\n",
      "real             1.000000\n",
      "predicted        0.000000\n",
      "proba            0.202989\n",
      "dtype: float64\n"
     ]
    },
    {
     "name": "stderr",
     "output_type": "stream",
     "text": [
      "/var/folders/pv/21djj0qj50v927yf9fbqsnsh0000gn/T/ipykernel_75161/1350612862.py:1: FutureWarning: Dropping of nuisance columns in DataFrame reductions (with 'numeric_only=None') is deprecated; in a future version this will raise TypeError.  Select only valid columns before calling the reduction.\n",
      "  print(\"FN min:\", predict_cm[predict_cm['class'] == 'FN'].mean())\n"
     ]
    }
   ],
   "source": [
    "print(\"FN min:\", predict_cm[predict_cm['class'] == 'FN'].mean())"
   ]
  }
 ],
 "metadata": {
  "kernelspec": {
   "display_name": "Python 3 (ipykernel)",
   "language": "python",
   "name": "python3"
  },
  "language_info": {
   "codemirror_mode": {
    "name": "ipython",
    "version": 3
   },
   "file_extension": ".py",
   "mimetype": "text/x-python",
   "name": "python",
   "nbconvert_exporter": "python",
   "pygments_lexer": "ipython3",
   "version": "3.9.7"
  }
 },
 "nbformat": 4,
 "nbformat_minor": 5
}
