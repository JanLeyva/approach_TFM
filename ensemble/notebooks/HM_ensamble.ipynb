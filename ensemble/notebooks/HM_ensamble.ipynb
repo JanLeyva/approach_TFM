{
 "cells": [
  {
   "cell_type": "markdown",
   "metadata": {
    "colab_type": "text",
    "id": "view-in-github"
   },
   "source": [
    "<a href=\"https://colab.research.google.com/github/JanLeyva/approach_TFM/blob/master/HM_ensamble.ipynb\" target=\"_parent\"><img src=\"https://colab.research.google.com/assets/colab-badge.svg\" alt=\"Open In Colab\"/></a>"
   ]
  },
  {
   "cell_type": "code",
   "execution_count": null,
   "metadata": {
    "id": "4F0YJBzgtY9d"
   },
   "outputs": [],
   "source": []
  },
  {
   "cell_type": "markdown",
   "metadata": {
    "id": "S7ivELDutcmM"
   },
   "source": [
    "# Hateful Memes Ensamble"
   ]
  },
  {
   "cell_type": "code",
   "execution_count": 1,
   "metadata": {
    "colab": {
     "base_uri": "https://localhost:8080/"
    },
    "id": "YrSA3uz8tjNa",
    "outputId": "c81c67b4-0065-47aa-b713-f43b5ed19dc0"
   },
   "outputs": [
    {
     "name": "stdout",
     "output_type": "stream",
     "text": [
      "Mounted at /content/drive\n"
     ]
    }
   ],
   "source": [
    "from google.colab import drive\n",
    "drive.mount('/content/drive')"
   ]
  },
  {
   "cell_type": "markdown",
   "metadata": {
    "id": "rPG2W8tRJDnj"
   },
   "source": [
    "## Read result files"
   ]
  },
  {
   "cell_type": "code",
   "execution_count": 69,
   "metadata": {
    "id": "Kg-M5saftkY_"
   },
   "outputs": [],
   "source": [
    "# import .csv files from models results\n",
    "import os\n",
    "import pandas as pd\n",
    "import numpy as np\n",
    "\n",
    "\n",
    "\n",
    "drive = \"/content/drive/MyDrive\"\n",
    "# All predictions are in `test_unseen` set\n",
    "visualBERT_ = os.path.join(drive, \"saveVisualBERT/save/hateful_memes_visual_bert_8294730/reports/hateful_memes_run_test_2022-03-10T15:54:05.csv\")\n",
    "visualBERTCoco_ = os.path.join(drive, \"VisBERTCOCO/hateful_memes_visual_bert_10792640/reports/hateful_memes_run_test_2022-03-13T15:02:46.csv\")\n",
    "vilBERT_ = os.path.join(drive, \"ViLbert/hateful_memes_vilbert_48408345/reports/hateful_memes_run_test_2022-03-11T17:00:38.csv\")\n",
    "ernie_vil_ = os.path.join(drive, \"ernie-vil-results/ES365072_test_unseen_SA.csv\")\n"
   ]
  },
  {
   "cell_type": "markdown",
   "metadata": {},
   "source": [
    "## Local import"
   ]
  },
  {
   "cell_type": "code",
   "execution_count": 1,
   "metadata": {},
   "outputs": [],
   "source": [
    "# local import\n",
    "# import .csv files from models results\n",
    "import os\n",
    "import pandas as pd\n",
    "import numpy as np\n",
    "\n",
    "# visualBERT_ = (\"hateful_memes_run_test_2022-03-10T15_54_05.csv\") # not working well\n",
    "visualBERTCoco_ = (\"hateful_memes_run_test_2022-03-11T17_00_38.csv\") \n",
    "vilBERT_ = (\"hateful_memes_run_test_2022-03-13T14_53_38.csv\")\n",
    "ernie_vil_ = (\"ES365072_test_unseen_SA.csv\")"
   ]
  },
  {
   "cell_type": "code",
   "execution_count": 38,
   "metadata": {
    "id": "TeYPhsaWBsLh"
   },
   "outputs": [
    {
     "ename": "FileNotFoundError",
     "evalue": "[Errno 2] No such file or directory: 'hateful_memes_run_test_2022-03-11T17_00_38.csv'",
     "output_type": "error",
     "traceback": [
      "\u001b[0;31m---------------------------------------------------------------------------\u001b[0m",
      "\u001b[0;31mFileNotFoundError\u001b[0m                         Traceback (most recent call last)",
      "\u001b[0;32m<ipython-input-38-cc07d43cae5f>\u001b[0m in \u001b[0;36m<module>\u001b[0;34m\u001b[0m\n\u001b[1;32m      1\u001b[0m \u001b[0;31m# visualBERT= pd.read_csv(visualBERT_) # not working well\u001b[0m\u001b[0;34m\u001b[0m\u001b[0;34m\u001b[0m\u001b[0;34m\u001b[0m\u001b[0m\n\u001b[0;32m----> 2\u001b[0;31m \u001b[0mvisualBERTCoco\u001b[0m\u001b[0;34m=\u001b[0m \u001b[0mpd\u001b[0m\u001b[0;34m.\u001b[0m\u001b[0mread_csv\u001b[0m\u001b[0;34m(\u001b[0m\u001b[0mvisualBERTCoco_\u001b[0m\u001b[0;34m)\u001b[0m\u001b[0;34m\u001b[0m\u001b[0;34m\u001b[0m\u001b[0m\n\u001b[0m\u001b[1;32m      3\u001b[0m \u001b[0mvilBERT\u001b[0m\u001b[0;34m=\u001b[0m \u001b[0mpd\u001b[0m\u001b[0;34m.\u001b[0m\u001b[0mread_csv\u001b[0m\u001b[0;34m(\u001b[0m\u001b[0mvilBERT_\u001b[0m\u001b[0;34m)\u001b[0m\u001b[0;34m\u001b[0m\u001b[0;34m\u001b[0m\u001b[0m\n\u001b[1;32m      4\u001b[0m \u001b[0mernie_vil\u001b[0m \u001b[0;34m=\u001b[0m \u001b[0mpd\u001b[0m\u001b[0;34m.\u001b[0m\u001b[0mread_csv\u001b[0m\u001b[0;34m(\u001b[0m\u001b[0mernie_vil_\u001b[0m\u001b[0;34m)\u001b[0m\u001b[0;34m\u001b[0m\u001b[0;34m\u001b[0m\u001b[0m\n\u001b[1;32m      5\u001b[0m \u001b[0mtest_unseen\u001b[0m \u001b[0;34m=\u001b[0m \u001b[0mpd\u001b[0m\u001b[0;34m.\u001b[0m\u001b[0mread_json\u001b[0m\u001b[0;34m(\u001b[0m\u001b[0;34m\"test_unseen.jsonl\"\u001b[0m\u001b[0;34m,\u001b[0m \u001b[0mlines\u001b[0m \u001b[0;34m=\u001b[0m \u001b[0;32mTrue\u001b[0m\u001b[0;34m)\u001b[0m\u001b[0;34m\u001b[0m\u001b[0;34m\u001b[0m\u001b[0m\n",
      "\u001b[0;32m/Library/Frameworks/Python.framework/Versions/3.9/lib/python3.9/site-packages/pandas/io/parsers.py\u001b[0m in \u001b[0;36mread_csv\u001b[0;34m(filepath_or_buffer, sep, delimiter, header, names, index_col, usecols, squeeze, prefix, mangle_dupe_cols, dtype, engine, converters, true_values, false_values, skipinitialspace, skiprows, skipfooter, nrows, na_values, keep_default_na, na_filter, verbose, skip_blank_lines, parse_dates, infer_datetime_format, keep_date_col, date_parser, dayfirst, cache_dates, iterator, chunksize, compression, thousands, decimal, lineterminator, quotechar, quoting, doublequote, escapechar, comment, encoding, dialect, error_bad_lines, warn_bad_lines, delim_whitespace, low_memory, memory_map, float_precision, storage_options)\u001b[0m\n\u001b[1;32m    608\u001b[0m     \u001b[0mkwds\u001b[0m\u001b[0;34m.\u001b[0m\u001b[0mupdate\u001b[0m\u001b[0;34m(\u001b[0m\u001b[0mkwds_defaults\u001b[0m\u001b[0;34m)\u001b[0m\u001b[0;34m\u001b[0m\u001b[0;34m\u001b[0m\u001b[0m\n\u001b[1;32m    609\u001b[0m \u001b[0;34m\u001b[0m\u001b[0m\n\u001b[0;32m--> 610\u001b[0;31m     \u001b[0;32mreturn\u001b[0m \u001b[0m_read\u001b[0m\u001b[0;34m(\u001b[0m\u001b[0mfilepath_or_buffer\u001b[0m\u001b[0;34m,\u001b[0m \u001b[0mkwds\u001b[0m\u001b[0;34m)\u001b[0m\u001b[0;34m\u001b[0m\u001b[0;34m\u001b[0m\u001b[0m\n\u001b[0m\u001b[1;32m    611\u001b[0m \u001b[0;34m\u001b[0m\u001b[0m\n\u001b[1;32m    612\u001b[0m \u001b[0;34m\u001b[0m\u001b[0m\n",
      "\u001b[0;32m/Library/Frameworks/Python.framework/Versions/3.9/lib/python3.9/site-packages/pandas/io/parsers.py\u001b[0m in \u001b[0;36m_read\u001b[0;34m(filepath_or_buffer, kwds)\u001b[0m\n\u001b[1;32m    460\u001b[0m \u001b[0;34m\u001b[0m\u001b[0m\n\u001b[1;32m    461\u001b[0m     \u001b[0;31m# Create the parser.\u001b[0m\u001b[0;34m\u001b[0m\u001b[0;34m\u001b[0m\u001b[0;34m\u001b[0m\u001b[0m\n\u001b[0;32m--> 462\u001b[0;31m     \u001b[0mparser\u001b[0m \u001b[0;34m=\u001b[0m \u001b[0mTextFileReader\u001b[0m\u001b[0;34m(\u001b[0m\u001b[0mfilepath_or_buffer\u001b[0m\u001b[0;34m,\u001b[0m \u001b[0;34m**\u001b[0m\u001b[0mkwds\u001b[0m\u001b[0;34m)\u001b[0m\u001b[0;34m\u001b[0m\u001b[0;34m\u001b[0m\u001b[0m\n\u001b[0m\u001b[1;32m    463\u001b[0m \u001b[0;34m\u001b[0m\u001b[0m\n\u001b[1;32m    464\u001b[0m     \u001b[0;32mif\u001b[0m \u001b[0mchunksize\u001b[0m \u001b[0;32mor\u001b[0m \u001b[0miterator\u001b[0m\u001b[0;34m:\u001b[0m\u001b[0;34m\u001b[0m\u001b[0;34m\u001b[0m\u001b[0m\n",
      "\u001b[0;32m/Library/Frameworks/Python.framework/Versions/3.9/lib/python3.9/site-packages/pandas/io/parsers.py\u001b[0m in \u001b[0;36m__init__\u001b[0;34m(self, f, engine, **kwds)\u001b[0m\n\u001b[1;32m    817\u001b[0m             \u001b[0mself\u001b[0m\u001b[0;34m.\u001b[0m\u001b[0moptions\u001b[0m\u001b[0;34m[\u001b[0m\u001b[0;34m\"has_index_names\"\u001b[0m\u001b[0;34m]\u001b[0m \u001b[0;34m=\u001b[0m \u001b[0mkwds\u001b[0m\u001b[0;34m[\u001b[0m\u001b[0;34m\"has_index_names\"\u001b[0m\u001b[0;34m]\u001b[0m\u001b[0;34m\u001b[0m\u001b[0;34m\u001b[0m\u001b[0m\n\u001b[1;32m    818\u001b[0m \u001b[0;34m\u001b[0m\u001b[0m\n\u001b[0;32m--> 819\u001b[0;31m         \u001b[0mself\u001b[0m\u001b[0;34m.\u001b[0m\u001b[0m_engine\u001b[0m \u001b[0;34m=\u001b[0m \u001b[0mself\u001b[0m\u001b[0;34m.\u001b[0m\u001b[0m_make_engine\u001b[0m\u001b[0;34m(\u001b[0m\u001b[0mself\u001b[0m\u001b[0;34m.\u001b[0m\u001b[0mengine\u001b[0m\u001b[0;34m)\u001b[0m\u001b[0;34m\u001b[0m\u001b[0;34m\u001b[0m\u001b[0m\n\u001b[0m\u001b[1;32m    820\u001b[0m \u001b[0;34m\u001b[0m\u001b[0m\n\u001b[1;32m    821\u001b[0m     \u001b[0;32mdef\u001b[0m \u001b[0mclose\u001b[0m\u001b[0;34m(\u001b[0m\u001b[0mself\u001b[0m\u001b[0;34m)\u001b[0m\u001b[0;34m:\u001b[0m\u001b[0;34m\u001b[0m\u001b[0;34m\u001b[0m\u001b[0m\n",
      "\u001b[0;32m/Library/Frameworks/Python.framework/Versions/3.9/lib/python3.9/site-packages/pandas/io/parsers.py\u001b[0m in \u001b[0;36m_make_engine\u001b[0;34m(self, engine)\u001b[0m\n\u001b[1;32m   1048\u001b[0m             )\n\u001b[1;32m   1049\u001b[0m         \u001b[0;31m# error: Too many arguments for \"ParserBase\"\u001b[0m\u001b[0;34m\u001b[0m\u001b[0;34m\u001b[0m\u001b[0;34m\u001b[0m\u001b[0m\n\u001b[0;32m-> 1050\u001b[0;31m         \u001b[0;32mreturn\u001b[0m \u001b[0mmapping\u001b[0m\u001b[0;34m[\u001b[0m\u001b[0mengine\u001b[0m\u001b[0;34m]\u001b[0m\u001b[0;34m(\u001b[0m\u001b[0mself\u001b[0m\u001b[0;34m.\u001b[0m\u001b[0mf\u001b[0m\u001b[0;34m,\u001b[0m \u001b[0;34m**\u001b[0m\u001b[0mself\u001b[0m\u001b[0;34m.\u001b[0m\u001b[0moptions\u001b[0m\u001b[0;34m)\u001b[0m  \u001b[0;31m# type: ignore[call-arg]\u001b[0m\u001b[0;34m\u001b[0m\u001b[0;34m\u001b[0m\u001b[0m\n\u001b[0m\u001b[1;32m   1051\u001b[0m \u001b[0;34m\u001b[0m\u001b[0m\n\u001b[1;32m   1052\u001b[0m     \u001b[0;32mdef\u001b[0m \u001b[0m_failover_to_python\u001b[0m\u001b[0;34m(\u001b[0m\u001b[0mself\u001b[0m\u001b[0;34m)\u001b[0m\u001b[0;34m:\u001b[0m\u001b[0;34m\u001b[0m\u001b[0;34m\u001b[0m\u001b[0m\n",
      "\u001b[0;32m/Library/Frameworks/Python.framework/Versions/3.9/lib/python3.9/site-packages/pandas/io/parsers.py\u001b[0m in \u001b[0;36m__init__\u001b[0;34m(self, src, **kwds)\u001b[0m\n\u001b[1;32m   1865\u001b[0m \u001b[0;34m\u001b[0m\u001b[0m\n\u001b[1;32m   1866\u001b[0m         \u001b[0;31m# open handles\u001b[0m\u001b[0;34m\u001b[0m\u001b[0;34m\u001b[0m\u001b[0;34m\u001b[0m\u001b[0m\n\u001b[0;32m-> 1867\u001b[0;31m         \u001b[0mself\u001b[0m\u001b[0;34m.\u001b[0m\u001b[0m_open_handles\u001b[0m\u001b[0;34m(\u001b[0m\u001b[0msrc\u001b[0m\u001b[0;34m,\u001b[0m \u001b[0mkwds\u001b[0m\u001b[0;34m)\u001b[0m\u001b[0;34m\u001b[0m\u001b[0;34m\u001b[0m\u001b[0m\n\u001b[0m\u001b[1;32m   1868\u001b[0m         \u001b[0;32massert\u001b[0m \u001b[0mself\u001b[0m\u001b[0;34m.\u001b[0m\u001b[0mhandles\u001b[0m \u001b[0;32mis\u001b[0m \u001b[0;32mnot\u001b[0m \u001b[0;32mNone\u001b[0m\u001b[0;34m\u001b[0m\u001b[0;34m\u001b[0m\u001b[0m\n\u001b[1;32m   1869\u001b[0m         \u001b[0;32mfor\u001b[0m \u001b[0mkey\u001b[0m \u001b[0;32min\u001b[0m \u001b[0;34m(\u001b[0m\u001b[0;34m\"storage_options\"\u001b[0m\u001b[0;34m,\u001b[0m \u001b[0;34m\"encoding\"\u001b[0m\u001b[0;34m,\u001b[0m \u001b[0;34m\"memory_map\"\u001b[0m\u001b[0;34m,\u001b[0m \u001b[0;34m\"compression\"\u001b[0m\u001b[0;34m)\u001b[0m\u001b[0;34m:\u001b[0m\u001b[0;34m\u001b[0m\u001b[0;34m\u001b[0m\u001b[0m\n",
      "\u001b[0;32m/Library/Frameworks/Python.framework/Versions/3.9/lib/python3.9/site-packages/pandas/io/parsers.py\u001b[0m in \u001b[0;36m_open_handles\u001b[0;34m(self, src, kwds)\u001b[0m\n\u001b[1;32m   1360\u001b[0m         \u001b[0mLet\u001b[0m \u001b[0mthe\u001b[0m \u001b[0mreaders\u001b[0m \u001b[0mopen\u001b[0m \u001b[0mIOHanldes\u001b[0m \u001b[0mafter\u001b[0m \u001b[0mthey\u001b[0m \u001b[0mare\u001b[0m \u001b[0mdone\u001b[0m \u001b[0;32mwith\u001b[0m \u001b[0mtheir\u001b[0m \u001b[0mpotential\u001b[0m \u001b[0mraises\u001b[0m\u001b[0;34m.\u001b[0m\u001b[0;34m\u001b[0m\u001b[0;34m\u001b[0m\u001b[0m\n\u001b[1;32m   1361\u001b[0m         \"\"\"\n\u001b[0;32m-> 1362\u001b[0;31m         self.handles = get_handle(\n\u001b[0m\u001b[1;32m   1363\u001b[0m             \u001b[0msrc\u001b[0m\u001b[0;34m,\u001b[0m\u001b[0;34m\u001b[0m\u001b[0;34m\u001b[0m\u001b[0m\n\u001b[1;32m   1364\u001b[0m             \u001b[0;34m\"r\"\u001b[0m\u001b[0;34m,\u001b[0m\u001b[0;34m\u001b[0m\u001b[0;34m\u001b[0m\u001b[0m\n",
      "\u001b[0;32m/Library/Frameworks/Python.framework/Versions/3.9/lib/python3.9/site-packages/pandas/io/common.py\u001b[0m in \u001b[0;36mget_handle\u001b[0;34m(path_or_buf, mode, encoding, compression, memory_map, is_text, errors, storage_options)\u001b[0m\n\u001b[1;32m    640\u001b[0m                 \u001b[0merrors\u001b[0m \u001b[0;34m=\u001b[0m \u001b[0;34m\"replace\"\u001b[0m\u001b[0;34m\u001b[0m\u001b[0;34m\u001b[0m\u001b[0m\n\u001b[1;32m    641\u001b[0m             \u001b[0;31m# Encoding\u001b[0m\u001b[0;34m\u001b[0m\u001b[0;34m\u001b[0m\u001b[0;34m\u001b[0m\u001b[0m\n\u001b[0;32m--> 642\u001b[0;31m             handle = open(\n\u001b[0m\u001b[1;32m    643\u001b[0m                 \u001b[0mhandle\u001b[0m\u001b[0;34m,\u001b[0m\u001b[0;34m\u001b[0m\u001b[0;34m\u001b[0m\u001b[0m\n\u001b[1;32m    644\u001b[0m                 \u001b[0mioargs\u001b[0m\u001b[0;34m.\u001b[0m\u001b[0mmode\u001b[0m\u001b[0;34m,\u001b[0m\u001b[0;34m\u001b[0m\u001b[0;34m\u001b[0m\u001b[0m\n",
      "\u001b[0;31mFileNotFoundError\u001b[0m: [Errno 2] No such file or directory: 'hateful_memes_run_test_2022-03-11T17_00_38.csv'"
     ]
    }
   ],
   "source": [
    "# visualBERT= pd.read_csv(visualBERT_) # not working well\n",
    "visualBERTCoco= pd.read_csv(visualBERTCoco_) \n",
    "vilBERT= pd.read_csv(vilBERT_)\n",
    "ernie_vil = pd.read_csv(ernie_vil_)\n",
    "test_unseen = pd.read_json(\"test_unseen.jsonl\", lines = True)"
   ]
  },
  {
   "cell_type": "code",
   "execution_count": 12,
   "metadata": {
    "colab": {
     "base_uri": "https://localhost:8080/"
    },
    "id": "Ul54wtp9tZ33",
    "outputId": "9edbe76b-15ab-4558-a94f-ea7f6878a1c9"
   },
   "outputs": [
    {
     "name": "stdout",
     "output_type": "stream",
     "text": [
      "dim of visualBERTCoco (2000, 3)\n",
      "dim of vilBERT (2000, 3)\n",
      "dim of ernie_vil (2000, 3)\n",
      "dim of test_unseen (2000, 4)\n"
     ]
    }
   ],
   "source": [
    "# print(\"dim of visualBERT\", visualBERT.shape)\n",
    "print(\"dim of visualBERTCoco\", visualBERTCoco.shape)\n",
    "print(\"dim of vilBERT\", vilBERT.shape)\n",
    "print(\"dim of ernie_vil\", ernie_vil.shape)\n",
    "print(\"dim of test_unseen\", test_unseen.shape)"
   ]
  },
  {
   "cell_type": "code",
   "execution_count": 4,
   "metadata": {
    "cellView": "form",
    "id": "R9hbrmT4GyzV"
   },
   "outputs": [],
   "source": [
    "# @title help function [ConfMatrix]\n",
    "import numpy as np\n",
    "import seaborn as sns\n",
    "import matplotlib.pyplot as plt\n",
    "import matplotlib.colors as pltcolors\n",
    "from sklearn import metrics\n",
    "\n",
    "\n",
    "def plotHeatMap(X, classes, title=None, fmt='.2g', ax=None, xlabel=None, ylabel=None):\n",
    "    \"\"\" Fix heatmap plot from Seaborn with pyplot 3.1.0, 3.1.1\n",
    "        https://stackoverflow.com/questions/56942670/matplotlib-seaborn-first-and-last-row-cut-in-half-of-heatmap-plot\n",
    "    \"\"\"\n",
    "    ax = sns.heatmap(X, xticklabels=classes, yticklabels=classes, annot=True, \\\n",
    "                     fmt=fmt, cmap=plt.cm.Blues, ax=ax) #notation: \"annot\" not \"annote\"\n",
    "    bottom, top = ax.get_ylim()\n",
    "    ax.set_ylim(bottom + 0.5, top - 0.5)\n",
    "    if title:\n",
    "        ax.set_title(title)\n",
    "    if xlabel:\n",
    "        ax.set_xlabel(xlabel)\n",
    "    if ylabel:\n",
    "        ax.set_ylabel(ylabel)\n",
    "        \n",
    "def plotConfusionMatrix(yTrue, yEst, classes, title=None, fmt='.2g', ax=None):\n",
    "    plotHeatMap(metrics.confusion_matrix(yTrue, yEst), classes, title, fmt, ax, xlabel='Estimations', \\\n",
    "                ylabel='True values'); "
   ]
  },
  {
   "cell_type": "markdown",
   "metadata": {
    "id": "Uf1Nx-S2F24l"
   },
   "source": [
    "# Metrics"
   ]
  },
  {
   "cell_type": "markdown",
   "metadata": {
    "id": "X5Y0DmEgF6qU"
   },
   "source": [
    "## VisualBERT"
   ]
  },
  {
   "cell_type": "code",
   "execution_count": 5,
   "metadata": {
    "colab": {
     "base_uri": "https://localhost:8080/",
     "height": 297
    },
    "id": "YaGrE0ZwF5YC",
    "outputId": "ec8e640e-7b53-4b63-f863-b0f0d6a7b7c3"
   },
   "outputs": [
    {
     "name": "stdout",
     "output_type": "stream",
     "text": [
      "Accuracy: 0.688\n"
     ]
    },
    {
     "data": {
      "image/png": "[encoded data removed]",
      "text/plain": [
       "<Figure size 432x288 with 2 Axes>"
      ]
     },
     "metadata": {
      "needs_background": "light"
     },
     "output_type": "display_data"
    }
   ],
   "source": [
    "# Confusion Martix\n",
    "plotConfusionMatrix(test_unseen['label'], visualBERT['label'], 2)\n",
    "ConfMatrix=metrics.confusion_matrix(test_unseen['label'], visualBERT['label'])\n",
    "print(\"Accuracy:\", (ConfMatrix[0][0]+ConfMatrix[1][1])/2000)"
   ]
  },
  {
   "cell_type": "code",
   "execution_count": 6,
   "metadata": {
    "colab": {
     "base_uri": "https://localhost:8080/"
    },
    "id": "vItpJsyMHnZr",
    "outputId": "959c2453-3429-4de7-c440-1df23830fda8"
   },
   "outputs": [
    {
     "data": {
      "text/plain": [
       "0.7257109333333334"
      ]
     },
     "execution_count": 6,
     "metadata": {},
     "output_type": "execute_result"
    }
   ],
   "source": [
    "from sklearn import metrics\n",
    "fpr, tpr, thresholds = metrics.roc_curve(test_unseen['label'], visualBERT['proba'],  pos_label=1)\n",
    "metrics.auc(fpr, tpr)"
   ]
  },
  {
   "cell_type": "markdown",
   "metadata": {
    "id": "LDzqexNtGDwn"
   },
   "source": [
    "## VisualBERT COCO"
   ]
  },
  {
   "cell_type": "code",
   "execution_count": 7,
   "metadata": {
    "colab": {
     "base_uri": "https://localhost:8080/",
     "height": 297
    },
    "id": "dfp5UVM5GGUt",
    "outputId": "e38a6d00-bac4-4a5c-c1ed-15059840178c"
   },
   "outputs": [
    {
     "name": "stdout",
     "output_type": "stream",
     "text": [
      "Accuracy: 0.686\n"
     ]
    },
    {
     "data": {
      "image/png": "[encoded data removed]",
      "text/plain": [
       "<Figure size 432x288 with 2 Axes>"
      ]
     },
     "metadata": {
      "needs_background": "light"
     },
     "output_type": "display_data"
    }
   ],
   "source": [
    "# Confusion Martix\n",
    "plotConfusionMatrix(test_unseen['label'], visualBERTCoco['label'], 2)\n",
    "ConfMatrix=metrics.confusion_matrix(test_unseen['label'], visualBERTCoco['label'])\n",
    "print(\"Accuracy:\", (ConfMatrix[0][0]+ConfMatrix[1][1])/2000)"
   ]
  },
  {
   "cell_type": "code",
   "execution_count": 8,
   "metadata": {
    "colab": {
     "base_uri": "https://localhost:8080/"
    },
    "id": "A38f97-THhbl",
    "outputId": "68455819-17f0-4f5d-9817-0f0593957716"
   },
   "outputs": [
    {
     "data": {
      "text/plain": [
       "0.7228373333333333"
      ]
     },
     "execution_count": 8,
     "metadata": {},
     "output_type": "execute_result"
    }
   ],
   "source": [
    "fpr, tpr, thresholds = metrics.roc_curve(test_unseen['label'], visualBERTCoco['proba'],  pos_label=1)\n",
    "metrics.auc(fpr, tpr)"
   ]
  },
  {
   "cell_type": "markdown",
   "metadata": {
    "id": "tlmF03e6F8o8"
   },
   "source": [
    "## ViLBERT"
   ]
  },
  {
   "cell_type": "code",
   "execution_count": 11,
   "metadata": {
    "colab": {
     "base_uri": "https://localhost:8080/",
     "height": 297
    },
    "id": "EdE8cxasGAfd",
    "outputId": "95596258-762b-4aa2-e8db-f7884f51485a"
   },
   "outputs": [
    {
     "name": "stdout",
     "output_type": "stream",
     "text": [
      "Accuracy: 0.4185\n"
     ]
    },
    {
     "data": {
      "image/png": "[encoded data removed]",
      "text/plain": [
       "<Figure size 432x288 with 2 Axes>"
      ]
     },
     "metadata": {
      "needs_background": "light"
     },
     "output_type": "display_data"
    }
   ],
   "source": [
    "# Confusion Martix\n",
    "plotConfusionMatrix(test_unseen['label'], vilBERT['label'], 2)\n",
    "ConfMatrix=metrics.confusion_matrix(test_unseen['label'], vilBERT['label'])\n",
    "print(\"Accuracy:\", (ConfMatrix[0][0]+ConfMatrix[1][1])/2000)"
   ]
  },
  {
   "cell_type": "code",
   "execution_count": 10,
   "metadata": {
    "colab": {
     "base_uri": "https://localhost:8080/"
    },
    "id": "Rg9ZmuflHlL_",
    "outputId": "36587190-1eab-40db-96cc-3f4087767ecc"
   },
   "outputs": [
    {
     "data": {
      "text/plain": [
       "0.5294362666666668"
      ]
     },
     "execution_count": 10,
     "metadata": {},
     "output_type": "execute_result"
    }
   ],
   "source": [
    "fpr, tpr, thresholds = metrics.roc_curve(test_unseen['label'], vilBERT['proba'],  pos_label=1)\n",
    "metrics.auc(fpr, tpr)"
   ]
  },
  {
   "cell_type": "markdown",
   "metadata": {
    "id": "WzAgP6NIGHtX"
   },
   "source": [
    "## ERNIE-Vil"
   ]
  },
  {
   "cell_type": "code",
   "execution_count": 15,
   "metadata": {
    "colab": {
     "base_uri": "https://localhost:8080/",
     "height": 297
    },
    "id": "8WOuDK9nGI0P",
    "outputId": "9adae3d5-d115-44b6-9357-9a05fdd452c0"
   },
   "outputs": [
    {
     "name": "stdout",
     "output_type": "stream",
     "text": [
      "Accuracy: 0.625\n"
     ]
    },
    {
     "data": {
      "image/png": "[encoded data removed]",
      "text/plain": [
       "<Figure size 432x288 with 2 Axes>"
      ]
     },
     "metadata": {
      "needs_background": "light"
     },
     "output_type": "display_data"
    }
   ],
   "source": [
    "# Confusion Martix\n",
    "plotConfusionMatrix(test_unseen['label'], ernie_vil['label'], 2)\n",
    "ConfMatrix=metrics.confusion_matrix(test_unseen['label'], ernie_vil['label'])\n",
    "print(\"Accuracy:\", (ConfMatrix[0][0]+ConfMatrix[1][1])/2000)"
   ]
  },
  {
   "cell_type": "code",
   "execution_count": 17,
   "metadata": {
    "colab": {
     "base_uri": "https://localhost:8080/"
    },
    "id": "ZJCmpjm3HmZB",
    "outputId": "8300f350-033b-465d-933b-c0fa99062abc"
   },
   "outputs": [
    {
     "data": {
      "text/plain": [
       "0.8073365333333334"
      ]
     },
     "execution_count": 17,
     "metadata": {},
     "output_type": "execute_result"
    }
   ],
   "source": [
    "fpr, tpr, thresholds = metrics.roc_curve(test_unseen['label'], ernie_vil['proba'],  pos_label=1)\n",
    "metrics.auc(fpr, tpr)"
   ]
  },
  {
   "cell_type": "markdown",
   "metadata": {
    "id": "P94DRVbIJI5j"
   },
   "source": [
    "# 1st approach: Major voting\n",
    "## 1.1. Hard Voting\n",
    "\n",
    "Predict the class with the largest sum of votes from models\n"
   ]
  },
  {
   "cell_type": "code",
   "execution_count": null,
   "metadata": {
    "id": "2Y61kgyIOJdt"
   },
   "outputs": [],
   "source": [
    "def votingClassifier(resultsList, mode = \"hard\"):\n",
    "  \"\"\"\n",
    "  resultsList: list of results. (list that contains results of each model), must be stored the results\n",
    "  in label Column.\n",
    "  mode:\n",
    "    - hard: predict the class with the largest sum of votes from models\n",
    "    - soft: predict the class with the largest summed probability from models.\n",
    "  \"\"\"\n",
    "  newList = []\n",
    "  for i in resultsList:\n",
    "    newList.append(i['label'])\n"
   ]
  },
  {
   "cell_type": "code",
   "execution_count": 13,
   "metadata": {
    "id": "QFWHhPmSWE3j"
   },
   "outputs": [],
   "source": [
    "import glob\n",
    "import shutil\n",
    "\n",
    "\n",
    "\n",
    "def merge(dfs):\n",
    "    return sum([df.proba.values for df in dfs]) / len(dfs)\n",
    "\n",
    "\n",
    "def get_mean_predict(out_path):\n",
    "\n",
    "    csv_list = glob.glob(visualBERT_)\n",
    "    csv_list += glob.glob(visualBERTCoco_)\n",
    "    csv_list += glob.glob(vilBERT_)\n",
    "    csv_list += glob.glob(ernie_vil_)\n",
    "\n",
    "    print(f\"Found {len(csv_list)} csv eval result!\")\n",
    "\n",
    "    ensem_list = []\n",
    "    All = False\n",
    "    for csv_file in csv_list:\n",
    "        # print(csv_file)\n",
    "        if not All:\n",
    "            yn = input(f\"Include {csv_file} to ensemble? (y/n/all)\")\n",
    "        else:\n",
    "            yn = 'y'\n",
    "        yn = yn.strip().lower()\n",
    "        if yn == 'all':\n",
    "            All = True\n",
    "        \n",
    "        if yn == 'y' or All:\n",
    "            ensem_list.append(csv_file)\n",
    "            # dir_name = os.path.basename(os.path.dirname(csv_file))\n",
    "            # shutil.copy(\n",
    "            #     csv_file,\n",
    "            #     os.path.join(\n",
    "            #         gather_dir,\n",
    "            #         f\"{dir_name}_{os.path.basename(csv_file)}\"\n",
    "            #     )\n",
    "            # )\n",
    "    assert len(ensem_list) >= 2, f'You must select at least two file to ensemble, only {len(ensem_list)} is picked'\n",
    "    \n",
    "    base = pd.read_csv(ensem_list[0])\n",
    "    print(len(ensem_list))\n",
    "    ensem_list = [pd.read_csv(c) for c in ensem_list]\n",
    "    base.proba = merge(ensem_list)\n",
    "\n",
    "\n",
    "\n",
    "    # rasicm_idx = rasicm_det(\n",
    "    #     os.path.join(root_dir, 'data/hateful_memes/test_unseen.jsonl'),\n",
    "    #     os.path.join(root_dir, 'data/hateful_memes/box_annos.race.json'),\n",
    "    #     os.path.join(root_dir, 'data/hateful_memes/img_clean'),\n",
    "    # )\n",
    "    # for i in rasicm_idx:\n",
    "    #     base.at[int(base.index[base['id']==i].values), 'proba'] = 1.0\n",
    "\n",
    "    base.to_csv(out_path, index=False)"
   ]
  },
  {
   "cell_type": "code",
   "execution_count": 14,
   "metadata": {
    "colab": {
     "base_uri": "https://localhost:8080/"
    },
    "id": "56iTeHMaYp3K",
    "outputId": "b3ebc647-b1d8-49c2-f669-c9472015dfd7"
   },
   "outputs": [
    {
     "name": "stdout",
     "output_type": "stream",
     "text": [
      "Found 4 csv eval result!\n",
      "Include hateful_memes_run_test_2022-03-10T15_54_05.csv to ensemble? (y/n/all)y\n",
      "Include hateful_memes_run_test_2022-03-11T17_00_38.csv to ensemble? (y/n/all)y\n",
      "Include hateful_memes_run_test_2022-03-13T14_53_38.csv to ensemble? (y/n/all)y\n",
      "Include ES365072_test_unseen_SA.csv to ensemble? (y/n/all)y\n",
      "4\n"
     ]
    }
   ],
   "source": [
    "get_mean_predict(\"test_set_enselble2.csv\")"
   ]
  },
  {
   "cell_type": "code",
   "execution_count": 15,
   "metadata": {
    "id": "fwebC047V_4E"
   },
   "outputs": [],
   "source": [
    "result = pd.read_csv(\"test_set_enselble2.csv\")\n",
    "#result2 = pd.read_csv(\"test_set_enselble2.csv\")"
   ]
  },
  {
   "cell_type": "code",
   "execution_count": 16,
   "metadata": {
    "colab": {
     "base_uri": "https://localhost:8080/",
     "height": 297
    },
    "id": "43hnnasyaZJ_",
    "outputId": "4e2a9955-4e07-4149-9b72-1c349a2d7927"
   },
   "outputs": [
    {
     "name": "stdout",
     "output_type": "stream",
     "text": [
      "Accuracy: 0.688\n"
     ]
    },
    {
     "data": {
      "image/png": "[encoded data removed]",
      "text/plain": [
       "<Figure size 432x288 with 2 Axes>"
      ]
     },
     "metadata": {
      "needs_background": "light"
     },
     "output_type": "display_data"
    }
   ],
   "source": [
    "# Confusion Martix\n",
    "plotConfusionMatrix(test_unseen['label'], result['label'], 2)\n",
    "ConfMatrix=metrics.confusion_matrix(test_unseen['label'], result['label'])\n",
    "print(\"Accuracy:\", (ConfMatrix[0][0]+ConfMatrix[1][1])/2000)"
   ]
  },
  {
   "cell_type": "code",
   "execution_count": 25,
   "metadata": {
    "colab": {
     "base_uri": "https://localhost:8080/"
    },
    "id": "OVqW3QeIacCi",
    "outputId": "338c5f09-960d-4afc-eac0-cbf75684c2b6"
   },
   "outputs": [
    {
     "data": {
      "text/plain": [
       "0.8084405333333334"
      ]
     },
     "execution_count": 25,
     "metadata": {},
     "output_type": "execute_result"
    }
   ],
   "source": [
    "from sklearn import metrics\n",
    "fpr, tpr, thresholds = metrics.roc_curve(test_unseen['label'], result['proba'],  pos_label=1)\n",
    "metrics.auc(fpr, tpr)"
   ]
  },
  {
   "cell_type": "markdown",
   "metadata": {},
   "source": [
    "## Second Results"
   ]
  },
  {
   "cell_type": "code",
   "execution_count": 146,
   "metadata": {
    "colab": {
     "base_uri": "https://localhost:8080/",
     "height": 297
    },
    "id": "44JZvgsiceC1",
    "outputId": "d4de77a0-d566-4c9f-b05f-ef3952ea2452"
   },
   "outputs": [
    {
     "name": "stdout",
     "output_type": "stream",
     "text": [
      "Accuracy: 0.688\n"
     ]
    },
    {
     "data": {
      "image/png": "[encoded data removed]",
      "text/plain": [
       "<Figure size 432x288 with 2 Axes>"
      ]
     },
     "metadata": {
      "needs_background": "light"
     },
     "output_type": "display_data"
    }
   ],
   "source": [
    "# Confusion Martix\n",
    "plotConfusionMatrix(test_unseen['label'], result2['label'], 2)\n",
    "ConfMatrix=metrics.confusion_matrix(test_unseen['label'], result2['label'])\n",
    "print(\"Accuracy:\", (ConfMatrix[0][0]+ConfMatrix[1][1])/2000)"
   ]
  },
  {
   "cell_type": "code",
   "execution_count": 144,
   "metadata": {
    "colab": {
     "base_uri": "https://localhost:8080/"
    },
    "id": "EOgmjiBkcfpc",
    "outputId": "947f8f16-f8e5-4d44-81df-eee32947be41"
   },
   "outputs": [
    {
     "data": {
      "text/plain": [
       "0.8088373333333332"
      ]
     },
     "execution_count": 144,
     "metadata": {},
     "output_type": "execute_result"
    }
   ],
   "source": [
    "fpr, tpr, thresholds = metrics.roc_curve(test_unseen['label'], result2['proba'],  pos_label=1)\n",
    "metrics.auc(fpr, tpr)"
   ]
  },
  {
   "cell_type": "markdown",
   "metadata": {
    "id": "5zEWO9BSKJw3"
   },
   "source": [
    "## 2.2. Soft Voting\n",
    "\n",
    "Predict the class with the largest summed probability from models."
   ]
  },
  {
   "cell_type": "markdown",
   "metadata": {
    "id": "kTLQJd-PJUsg"
   },
   "source": [
    "# 2nd Approach: logistic regression"
   ]
  },
  {
   "cell_type": "code",
   "execution_count": 53,
   "metadata": {},
   "outputs": [],
   "source": [
    "X = pd.DataFrame()\n",
    "X['ernie_vil'] = ernie_vil['label']\n",
    "X['visualBERT'] = visualBERT['label']\n",
    "X['visualBERTCoco'] = visualBERTCoco['label']\n",
    "# X['vilBERT'] = vilBERT['label']"
   ]
  },
  {
   "cell_type": "code",
   "execution_count": 54,
   "metadata": {
    "id": "DDdtmyJ0Jj-7"
   },
   "outputs": [],
   "source": [
    "from sklearn.linear_model import LogisticRegression\n",
    "\n",
    "clf = LogisticRegression(random_state=0).fit(X, test_unseen['label'])\n",
    "pred_logistic = clf.predict(X)"
   ]
  },
  {
   "cell_type": "code",
   "execution_count": 55,
   "metadata": {},
   "outputs": [
    {
     "data": {
      "text/plain": [
       "0.6845"
      ]
     },
     "execution_count": 55,
     "metadata": {},
     "output_type": "execute_result"
    }
   ],
   "source": [
    "clf.score(X, test_unseen['label'])"
   ]
  },
  {
   "cell_type": "code",
   "execution_count": 56,
   "metadata": {},
   "outputs": [
    {
     "name": "stdout",
     "output_type": "stream",
     "text": [
      "Accuracy: 0.6845\n"
     ]
    },
    {
     "data": {
      "image/png": "[encoded data removed]",
      "text/plain": [
       "<Figure size 432x288 with 2 Axes>"
      ]
     },
     "metadata": {
      "needs_background": "light"
     },
     "output_type": "display_data"
    }
   ],
   "source": [
    "# Confusion Martix\n",
    "plotConfusionMatrix(test_unseen['label'], pred_logistic, 2)\n",
    "ConfMatrix=metrics.confusion_matrix(test_unseen['label'], pred_logistic)\n",
    "print(\"Accuracy:\", (ConfMatrix[0][0]+ConfMatrix[1][1])/2000)"
   ]
  },
  {
   "cell_type": "code",
   "execution_count": 57,
   "metadata": {},
   "outputs": [
    {
     "data": {
      "text/plain": [
       "0.6070666666666668"
      ]
     },
     "execution_count": 57,
     "metadata": {},
     "output_type": "execute_result"
    }
   ],
   "source": [
    "fpr, tpr, thresholds = metrics.roc_curve(test_unseen['label'], pred_logistic,  pos_label=1)\n",
    "metrics.auc(fpr, tpr)"
   ]
  },
  {
   "cell_type": "markdown",
   "metadata": {},
   "source": [
    "# Racism rule"
   ]
  },
  {
   "cell_type": "code",
   "execution_count": 3,
   "metadata": {},
   "outputs": [],
   "source": [
    "import pandas as pd\n",
    "fairface_ = pd.read_json(\"fairface.json\")"
   ]
  },
  {
   "cell_type": "code",
   "execution_count": 39,
   "metadata": {},
   "outputs": [],
   "source": [
    "test_unseen = pd.read_json(\"test_unseen.jsonl\", lines = True)"
   ]
  },
  {
   "cell_type": "code",
   "execution_count": 49,
   "metadata": {},
   "outputs": [
    {
     "data": {
      "text/plain": [
       "id                        60792\n",
       "img               img/60792.png\n",
       "label                         1\n",
       "text     the original derp-face\n",
       "Name: 2, dtype: object"
      ]
     },
     "execution_count": 49,
     "metadata": {},
     "output_type": "execute_result"
    }
   ],
   "source": [
    "test_unseen.iloc[2]"
   ]
  },
  {
   "cell_type": "code",
   "execution_count": 49,
   "metadata": {},
   "outputs": [
    {
     "data": {
      "text/plain": [
       "True"
      ]
     },
     "execution_count": 49,
     "metadata": {},
     "output_type": "execute_result"
    }
   ],
   "source": [
    "('Black' in fairface_.loc[4]['face_race4'])"
   ]
  },
  {
   "cell_type": "code",
   "execution_count": 64,
   "metadata": {},
   "outputs": [
    {
     "data": {
      "text/plain": [
       "0       96238\n",
       "1        6213\n",
       "2       13852\n",
       "3       31769\n",
       "4       15320\n",
       "        ...  \n",
       "5772    52617\n",
       "5773    61347\n",
       "5774    83056\n",
       "5775    91675\n",
       "5776    79234\n",
       "Name: id, Length: 5777, dtype: int64"
      ]
     },
     "execution_count": 64,
     "metadata": {},
     "output_type": "execute_result"
    }
   ],
   "source": [
    "fairface_['id']"
   ]
  },
  {
   "cell_type": "code",
   "execution_count": 52,
   "metadata": {},
   "outputs": [
    {
     "data": {
      "text/plain": [
       "<generator object DataFrame.items at 0x7feb6c919890>"
      ]
     },
     "execution_count": 52,
     "metadata": {},
     "output_type": "execute_result"
    }
   ],
   "source": [
    "fairface_.items()"
   ]
  },
  {
   "cell_type": "code",
   "execution_count": 55,
   "metadata": {},
   "outputs": [
    {
     "ename": "OSError",
     "evalue": "[E050] Can't find model 'en_core_web_lg'. It doesn't seem to be a Python package or a valid path to a data directory.",
     "output_type": "error",
     "traceback": [
      "\u001b[0;31m---------------------------------------------------------------------------\u001b[0m",
      "\u001b[0;31mOSError\u001b[0m                                   Traceback (most recent call last)",
      "\u001b[0;32m<ipython-input-55-16c28465a89a>\u001b[0m in \u001b[0;36m<module>\u001b[0;34m\u001b[0m\n\u001b[1;32m      4\u001b[0m \u001b[0;34m\u001b[0m\u001b[0m\n\u001b[1;32m      5\u001b[0m \u001b[0;32mimport\u001b[0m \u001b[0mspacy\u001b[0m\u001b[0;34m\u001b[0m\u001b[0;34m\u001b[0m\u001b[0m\n\u001b[0;32m----> 6\u001b[0;31m \u001b[0mnlp\u001b[0m \u001b[0;34m=\u001b[0m \u001b[0mspacy\u001b[0m\u001b[0;34m.\u001b[0m\u001b[0mload\u001b[0m\u001b[0;34m(\u001b[0m\u001b[0;34m\"en_core_web_lg\"\u001b[0m\u001b[0;34m)\u001b[0m\u001b[0;34m\u001b[0m\u001b[0;34m\u001b[0m\u001b[0m\n\u001b[0m",
      "\u001b[0;32m/Library/Frameworks/Python.framework/Versions/3.9/lib/python3.9/site-packages/spacy/__init__.py\u001b[0m in \u001b[0;36mload\u001b[0;34m(name, vocab, disable, exclude, config)\u001b[0m\n\u001b[1;32m     49\u001b[0m     \u001b[0mRETURNS\u001b[0m \u001b[0;34m(\u001b[0m\u001b[0mLanguage\u001b[0m\u001b[0;34m)\u001b[0m\u001b[0;34m:\u001b[0m \u001b[0mThe\u001b[0m \u001b[0mloaded\u001b[0m \u001b[0mnlp\u001b[0m \u001b[0mobject\u001b[0m\u001b[0;34m.\u001b[0m\u001b[0;34m\u001b[0m\u001b[0;34m\u001b[0m\u001b[0m\n\u001b[1;32m     50\u001b[0m     \"\"\"\n\u001b[0;32m---> 51\u001b[0;31m     return util.load_model(\n\u001b[0m\u001b[1;32m     52\u001b[0m         \u001b[0mname\u001b[0m\u001b[0;34m,\u001b[0m \u001b[0mvocab\u001b[0m\u001b[0;34m=\u001b[0m\u001b[0mvocab\u001b[0m\u001b[0;34m,\u001b[0m \u001b[0mdisable\u001b[0m\u001b[0;34m=\u001b[0m\u001b[0mdisable\u001b[0m\u001b[0;34m,\u001b[0m \u001b[0mexclude\u001b[0m\u001b[0;34m=\u001b[0m\u001b[0mexclude\u001b[0m\u001b[0;34m,\u001b[0m \u001b[0mconfig\u001b[0m\u001b[0;34m=\u001b[0m\u001b[0mconfig\u001b[0m\u001b[0;34m\u001b[0m\u001b[0;34m\u001b[0m\u001b[0m\n\u001b[1;32m     53\u001b[0m     )\n",
      "\u001b[0;32m/Library/Frameworks/Python.framework/Versions/3.9/lib/python3.9/site-packages/spacy/util.py\u001b[0m in \u001b[0;36mload_model\u001b[0;34m(name, vocab, disable, exclude, config)\u001b[0m\n\u001b[1;32m    354\u001b[0m     \u001b[0;32mif\u001b[0m \u001b[0mname\u001b[0m \u001b[0;32min\u001b[0m \u001b[0mOLD_MODEL_SHORTCUTS\u001b[0m\u001b[0;34m:\u001b[0m\u001b[0;34m\u001b[0m\u001b[0;34m\u001b[0m\u001b[0m\n\u001b[1;32m    355\u001b[0m         \u001b[0;32mraise\u001b[0m \u001b[0mIOError\u001b[0m\u001b[0;34m(\u001b[0m\u001b[0mErrors\u001b[0m\u001b[0;34m.\u001b[0m\u001b[0mE941\u001b[0m\u001b[0;34m.\u001b[0m\u001b[0mformat\u001b[0m\u001b[0;34m(\u001b[0m\u001b[0mname\u001b[0m\u001b[0;34m=\u001b[0m\u001b[0mname\u001b[0m\u001b[0;34m,\u001b[0m \u001b[0mfull\u001b[0m\u001b[0;34m=\u001b[0m\u001b[0mOLD_MODEL_SHORTCUTS\u001b[0m\u001b[0;34m[\u001b[0m\u001b[0mname\u001b[0m\u001b[0;34m]\u001b[0m\u001b[0;34m)\u001b[0m\u001b[0;34m)\u001b[0m  \u001b[0;31m# type: ignore[index]\u001b[0m\u001b[0;34m\u001b[0m\u001b[0;34m\u001b[0m\u001b[0m\n\u001b[0;32m--> 356\u001b[0;31m     \u001b[0;32mraise\u001b[0m \u001b[0mIOError\u001b[0m\u001b[0;34m(\u001b[0m\u001b[0mErrors\u001b[0m\u001b[0;34m.\u001b[0m\u001b[0mE050\u001b[0m\u001b[0;34m.\u001b[0m\u001b[0mformat\u001b[0m\u001b[0;34m(\u001b[0m\u001b[0mname\u001b[0m\u001b[0;34m=\u001b[0m\u001b[0mname\u001b[0m\u001b[0;34m)\u001b[0m\u001b[0;34m)\u001b[0m\u001b[0;34m\u001b[0m\u001b[0;34m\u001b[0m\u001b[0m\n\u001b[0m\u001b[1;32m    357\u001b[0m \u001b[0;34m\u001b[0m\u001b[0m\n\u001b[1;32m    358\u001b[0m \u001b[0;34m\u001b[0m\u001b[0m\n",
      "\u001b[0;31mOSError\u001b[0m: [E050] Can't find model 'en_core_web_lg'. It doesn't seem to be a Python package or a valid path to a data directory."
     ]
    }
   ],
   "source": [
    "import os\n",
    "import glob\n",
    "import shutil\n",
    "\n",
    "import spacy\n",
    "nlp = spacy.load(\"en_core_web_lg\")"
   ]
  },
  {
   "cell_type": "code",
   "execution_count": 69,
   "metadata": {},
   "outputs": [],
   "source": [
    "match = [\"123\", \"321\", \"456\"]\n",
    "fairface_anno = [\"123\", \"678\", \"321\"]"
   ]
  },
  {
   "cell_type": "code",
   "execution_count": 72,
   "metadata": {},
   "outputs": [
    {
     "data": {
      "text/plain": [
       "3"
      ]
     },
     "execution_count": 72,
     "metadata": {},
     "output_type": "execute_result"
    }
   ],
   "source": [
    "len(fairface_anno)"
   ]
  },
  {
   "cell_type": "code",
   "execution_count": 70,
   "metadata": {},
   "outputs": [
    {
     "name": "stdout",
     "output_type": "stream",
     "text": [
      "non racism detected!\n"
     ]
    }
   ],
   "source": [
    "racism_results = []\n",
    "for i in range(len(fairface_anno)):\n",
    "    if fairface_anno[i] in match:\n",
    "        racism_results.append(fairface_anno[i])"
   ]
  },
  {
   "cell_type": "code",
   "execution_count": 71,
   "metadata": {},
   "outputs": [
    {
     "data": {
      "text/plain": [
       "['123', '321']"
      ]
     },
     "execution_count": 71,
     "metadata": {},
     "output_type": "execute_result"
    }
   ],
   "source": [
    "racism_results"
   ]
  },
  {
   "cell_type": "code",
   "execution_count": 127,
   "metadata": {},
   "outputs": [],
   "source": [
    "nqwe = (fairface['id'].values)"
   ]
  },
  {
   "cell_type": "code",
   "execution_count": 128,
   "metadata": {},
   "outputs": [
    {
     "data": {
      "text/plain": [
       "array([96238,  6213, 13852, ..., 83056, 91675, 79234])"
      ]
     },
     "execution_count": 128,
     "metadata": {},
     "output_type": "execute_result"
    }
   ],
   "source": [
    "nqwe"
   ]
  },
  {
   "cell_type": "code",
   "execution_count": 136,
   "metadata": {},
   "outputs": [
    {
     "data": {
      "text/plain": [
       "False"
      ]
     },
     "execution_count": 136,
     "metadata": {},
     "output_type": "execute_result"
    }
   ],
   "source": [
    "32489 in nqwe"
   ]
  },
  {
   "cell_type": "code",
   "execution_count": 151,
   "metadata": {},
   "outputs": [],
   "source": [
    "racism_results_ = []\n",
    "for i in range(len(nqwe)):\n",
    "    if str(nqwe[i]) in rasicm_sample_idx:\n",
    "        racism_results_.append(nqwe[i])"
   ]
  },
  {
   "cell_type": "code",
   "execution_count": 144,
   "metadata": {},
   "outputs": [
    {
     "data": {
      "text/plain": [
       "'96238'"
      ]
     },
     "execution_count": 144,
     "metadata": {},
     "output_type": "execute_result"
    }
   ],
   "source": [
    "str(nqwe[0])"
   ]
  },
  {
   "cell_type": "code",
   "execution_count": 156,
   "metadata": {},
   "outputs": [
    {
     "data": {
      "text/plain": [
       "False"
      ]
     },
     "execution_count": 156,
     "metadata": {},
     "output_type": "execute_result"
    }
   ],
   "source": [
    "str(nqwe[3]) in rasicm_sample_idx"
   ]
  },
  {
   "cell_type": "code",
   "execution_count": 158,
   "metadata": {},
   "outputs": [
    {
     "data": {
      "text/plain": [
       "array([96238,  6213, 13852, ..., 83056, 91675, 79234])"
      ]
     },
     "execution_count": 158,
     "metadata": {},
     "output_type": "execute_result"
    }
   ],
   "source": [
    "(nqwe)"
   ]
  },
  {
   "cell_type": "code",
   "execution_count": 97,
   "metadata": {},
   "outputs": [],
   "source": [
    "fairface = pd.read_json(\"fairface.json\")"
   ]
  },
  {
   "cell_type": "code",
   "execution_count": 73,
   "metadata": {},
   "outputs": [],
   "source": [
    "rasicm_sample_idx = ['08179', '30941', '32489', '60158', '08679', '04851', '08612', '69514', '34218', '32149', '68510', '34762', '28364', '96057', '70653', '31672', '54721', '78169', '08129', '06594', '32657', '36271', '90187', '06731', '95438', '31427', '02564', '38056', '58760', '98735', '50863', '15387', '39610', '56810', '12396', '84793', '72193', '89473', '79810', '70698', '29857', '35726', '37942', '04739', '85642', '70325', '42571', '52397', '40397', '89765', '63195', '87106', '53640', '65372', '31976', '48023', '12690', '70498', '68705', '84657', '79218', '64951', '46879', '52069', '48327', '98326', '27148', '27310', '27609', '56120', '09317', '64037', '73140', '08145', '47935', '58460', '41290', '32596', '06918', '12768', '82451', '23741', '46897', '98541', '47562', '09256', '83029', '74396', '41269', '70682', '36908', '89230', '13572', '92418', '13457', '73916', '48195', '05142', '91870', '71069', '57864', '32690', '19257', '18563', '07524', '35081', '39172', '79524', '12367', '85943', '96370', '07214', '14365', '60123', '67532', '54368', '10789', '34267', '24837', '83709', '49582', '49567', '83106', '71856', '68304', '50691', '62584', '10387', '43021']"
   ]
  },
  {
   "cell_type": "code",
   "execution_count": 74,
   "metadata": {},
   "outputs": [],
   "source": [
    "fairface_anno = [31769, 15320, 21534, 79032, 28134, 70624, 87023, 5164, 86753, 56104, 10538, 69470, 26370, 14530, 94625, 14789, 35724, 96152, 70842, 67953, 15690, 76539, 94721, 28973, 78492, 86017, 79845, 25067, 14530, 29460, 25107, 14530, 13470, 62745, 82457, 14530, 45836, 30481, 96328, 18759, 10358, 19503, 4859, 89324, 68019, 6791, 37284, 41372, 83517, 65712, 43716, 8395, 58473, 38514, 80652, 93072, 98463, 16849, 43095, 90576, 23957, 75204, 28154, 41853, 96752, 78610, 46753, 31472, 81724, 92876, 19256, 21593, 21394, 70534, 81976, 49208, 31729, 71046, 70865, 91348, 46097, 29138, 7248, 36102, 38514, 84563, 76483, 75321, 25971, 37642, 67439, 28154, 15374, 97301, 14530, 43198, 70842, 92876, 90251, 72945, 14329, 84106, 50397, 96845, 16783, 40852, 41503, 70582, 50861, 85729, 60439, 41203, 87425, 51683, 86351, 20195, 34079, 5483, 56741, 46501, 9364, 70624, 43716, 86205, 37049, 49327, 28063, 46721, 75649, 61450, 28970, 4782, 21593, 87914, 28516, 89372, 50931, 70194, 29460, 80297, 18730, 36459, 6948, 68937, 49615, 75649, 12673, 97315, 39465, 3794, 69472, 86013, 90836, 41857, 39478, 13906, 81942, 37214, 28134, 41857, 93081, 21648, 58109, 56290, 94721, 92573, 54629, 2764, 31205, 80297, 16780, 75823, 47239, 65807, 57469, 28173, 86217, 37208, 31684, 71925, 83972, 90165, 17965, 5973, 34021, 86075, 74083, 86142, 15906, 21936, 36025, 28970, 79638, 15804, 32069, 70845, 64215, 48125, 38465, 74083, 7956, 26371, 95081, 51836, 3981, 71294, 3472, 89072, 31769, 58160, 21038, 80197, 59043, 8176, 28134, 92381, 70395, 80942, 86045, 81720, 65204, 51237, 23054, 38209, 49173, 90834, 68937, 89072, 46753, 86329, 32941, 81764, 4651, 2475, 31294, 93687, 43162, 56179, 21593, 34506, 59678, 20195, 94065, 86201, 67953, 74315, 70319, 36524, 25791, 8234, 86701, 46239, 87324, 53296, 78903, 94205, 10926, 17034, 85927, 68159, 32106, 57693, 36210, 70624, 49280, 90583, 58419, 71285, 28735, 43095, 75192, 23159, 28134, 46701, 43791, 46081, 89675, 41387, 79680, 27318, 28063, 79286, 27965, 90847, 46753, 31729, 68137, 42178, 64327, 48213, 76489, 48125, 36524, 2971, 60357, 21548, 4651, 81940, 75823, 45612, 97543, 10752, 36097, 75294, 54068, 12956, 19026, 76450, 5973, 9768, 75908, 40916, 54690, 53017, 28195, 30761, 64127, 93260, 19408, 92734, 78903, 36751, 76910, 71046, 13764, 8962, 97051, 14530, 32941, 54981, 83052, 43716, 70158, 67132, 34157, 81724, 47196, 92613, 26803, 83619, 12489, 19256, 83052, 82603, 79658, 26370, 28063, 93852, 39158, 79286, 47826, 59468, 25791, 71046, 42187, 50372, 28970, 14523, 51209, 71046, 36751, 80297, 9187, 28970, 81097, 21936, 94356, 19408, 74315, 67849, 23501, 23841, 78492, 74315, 63710, 46827, 67043, 85362, 72035, 92614, 27016, 14530, 75649, 38069, 28970, 87425, 37642, 68531, 57693, 49786, 38127, 69708, 14530, 45723, 63710, 60214, 18739, 46208, 27385, 49810, 73609, 35642, 28134, 58637, 9364, 15420, 36480, 70132, 56179, 3547, 71294, 18397, 48175, 39067, 18759, 28970, 54973, 26750, 1379, 62731, 83256, 28970, 36751, 28970, 31769, 36025, 39861, 28970, 89437, 70426, 32941, 63201, 59468, 25716, 58170, 24376, 73154, 72945, 50328, 35016, 95724, 16734, 90126, 48263, 72340, 65328, 47612, 79286, 27803, 20386, 65183, 14530, 24165, 43095, 90427, 94625, 85967, 31205, 43095, 5798, 38105, 27153, 13579, 10489, 27318, 81097, 29756, 5798, 81265, 46097, 8654, 21038, 42065, 2571, 78539, 5138, 85073, 59678, 28739, 79681, 51460, 86217, 64780, 83650, 37295, 27041, 19860, 18529, 18650, 57042, 71486, 52036, 36508, 36025, 86351, 5468, 59621, 28970, 38245, 38514, 67980, 40916, 58924, 75649, 21347, 28970, 38251, 16947, 20578, 15726, 64215, 56210, 31729, 70539, 70928, 23841, 91765, 28134, 79605, 63052, 94087, 20857, 26839, 79605, 49675, 50624, 25907, 17582, 26839, 90146, 63281, 28970, 63520, 43095, 87324, 81097, 32069, 28516, 65978, 32941, 28970, 82503, 75649, 84209, 50937, 47826, 62301, 12673, 25816, 85741, 19860, 31684, 14530, 24851, 49786, 46183, 94087, 9648, 5384, 4651, 21534, 42178, 29460, 5798, 53260, 42185, 49128, 80297, 57814, 79854, 37096, 53017, 9176, 94370, 39401, 52614, 78591, 62745, 43095, 14530, 57914, 94721, 28970, 57180, 27043, 59043, 41597, 75192, 72035, 7634, 73609, 91708, 28134, 79104, 56738, 13276, 89372, 9284, 92613, 84531, 34081, 65240, 41078, 19458, 1746, 41857, 73198, 87412, 19256, 59143, 6248, 8254, 90126, 7618, 28970, 58023, 70652, 38046, 62745, 82460, 54896, 28134, 72945, 14530, 98643, 25107, 34629, 16587, 64327, 35062, 46710, 47826, 34805, 26034, 29851, 79385, 16849, 28970, 54931, 78610, 50784, 97543, 83296, 78903, 6725, 17589, 29678, 30761, 78591, 83650, 75294, 23159, 27043, 26043, 78610, 28019, 40965, 67980, 67439, 36054, 43716, 46387, 62514, 87425, 32906, 34079, 57631, 96152, 76285, 59043, 28973, 47826, 24083, 19324, 94352, 12673, 19324, 43716, 13269, 19408, 28970, 42687, 96071, 56179, 58473, 70395, 75649, 96701, 71082, 75319, 64127, 6791, 92876, 17093, 90146, 80193, 27816, 87023, 79605, 21963, 29460, 43527, 12907, 24319, 71389, 19452, 39624, 21963, 59863, 49675, 17493, 92876, 57893, 8234, 50624, 28134, 28970, 87120, 92170, 82531, 43780, 81097, 49208, 24751, 51809, 48125, 93487, 74380, 92614, 18739, 43791, 16048, 34805, 41806, 32947, 83901, 12953, 45213, 85729, 21936, 91482, 13968, 64318, 54092, 58210, 13579, 75204, 23416, 5276, 14530, 70132, 28134, 96152, 32507, 54896, 56104, 23841, 90582, 76539, 94350, 2614, 74380, 34798, 6897, 61840, 15328, 59761, 21693, 75204, 60173, 12953, 19532, 74096, 60973, 45630, 72910, 13506, 12489, 31729, 71583, 61205, 1924, 51037, 12673, 61823, 13906, 17850, 21890, 50741, 3418, 2863, 16948, 83256, 67254, 14726, 43095, 49675, 79315, 62457, 3241, 3942, 6275, 70842, 4682, 89437, 31742, 37825, 26370, 74315, 68901, 71285, 6725, 3756, 14530, 1892, 8517, 95186, 89437, 37096, 46710, 59621, 5926, 41372, 75823, 74901, 45201, 20184, 37049, 61894, 17589, 5276, 13764, 59364, 15320, 49675, 98643, 48697, 47530, 83014, 56834, 79605, 63941, 79385, 32069, 35724, 67953, 59468, 30745, 84910, 81097, 57302, 75468, 5483, 60134, 50328, 78610, 27043, 71486, 28613, 32941, 36982, 19408, 86205, 47859, 51209, 67328, 80967, 59217, 49680, 68329, 50149, 35271, 35084, 75649, 61093, 81946, 7249, 53182, 87530, 48213, 3547, 46710, 70183, 56179, 15029, 45201, 27563, 70395, 28134, 18739, 68327, 21038, 56108, 68913, 89437, 15029, 45037, 81097, 15029, 68913, 58924, 47913, 9834, 28516, 43095, 74563, 23759, 28134, 92614, 54710, 29460, 20578, 59143, 92867, 59478, 95081, 5269, 70835, 54629, 90516, 28613, 73956, 41068, 89675, 30761, 51037, 45612, 59837, 45037, 92613, 80976, 97543, 45612, 14530, 12489, 56738, 26140, 28154, 58134, 49615, 23851, 16874, 19256, 28134, 52986, 86217, 5241, 67043, 51608, 8439, 36102, 40916, 19420, 40965, 2475, 30829, 6349, 62178, 35724, 97826, 1392, 17582, 72164, 75294, 56418, 63207, 58679, 70465, 39785, 39624, 80317, 7438, 75204, 82079, 93852, 56432, 89726, 79584, 67953, 34795, 90638, 29460, 7438, 76489, 18640, 93468, 62745, 3691, 98702, 43716, 20578, 17052, 37642, 49173, 89437, 23698, 94205, 27043, 45120, 12489, 75231, 23698, 83056, 70845, 72951, 48125, 97543, 23715, 13652, 27405, 48069, 14530, 8742, 86201, 58160, 98731, 8962, 94356, 52318, 42953, 10936, 23910, 24083, 2571, 91457, 45201, 87324, 25791, 71046, 91845, 89372, 76894, 60973, 63520, 2764, 74563, 90165, 75204, 29814, 24603, 21347, 12673, 69470, 15690, 84172, 80317, 3472, 61834, 45832, 54301, 27043, 15824, 98643, 28973, 30761, 41857, 81720, 92876, 40916, 70842, 68094, 14530, 24395, 21936, 68259, 28605, 78610, 16849, 58674, 70158, 81720, 42178, 17582, 84276, 27438, 80197, 67953, 89324, 50931, 80742, 42510, 43716, 2614, 32480, 28134, 86135, 5276, 79286, 57302, 46198, 96152, 23054, 43095, 37182, 72514, 16048, 16593, 63201, 32980, 14530, 6791, 60234, 34872, 32615, 76495, 42856, 7968, 28970, 46208, 62745, 41372, 50679, 12956, 67953, 76293, 74930, 16849, 7391, 91462, 84965, 31205, 20184, 68937, 21963, 31684, 36524, 54692, 23416, 81259, 4762, 26371, 20184, 63281, 52613, 59761, 79605, 41986, 83509, 36214, 23054, 63709, 69470, 20578, 73248, 23807, 2156, 30548, 32069, 5269, 94721, 14297, 76254, 89302, 32470, 25943, 80197, 45806, 45832, 19452, 75428, 70132, 25791, 32015, 89123, 28405, 75693, 62084, 87324, 89561, 84392, 58109, 90654, 89726, 19324, 41857, 94625, 28604, 59143, 3547, 39158, 52078, 91024, 27034, 58160, 54690, 56179, 8517, 68309, 42163, 64870, 45072, 51682, 75192, 13269, 96701, 7391, 14530, 61840, 93761, 57693, 10254, 70162, 64925, 16892, 41385, 28516, 91024, 37096, 35084, 21648, 28063, 62713, 51076, 58109, 82539, 42510, 29084, 45201, 69087, 21548, 20195, 43612, 72984, 97628, 46217, 8345, 14329, 26371, 8372, 51462, 36048, 53941, 26014, 78539, 78539, 74892, 42178, 28613, 35971, 14297, 94625, 92741, 81423, 73609, 91356, 56418, 90638, 63281, 36542, 94625, 69472, 15804, 51809, 13276, 91627, 75102, 92408, 41986, 73154, 29460, 2571, 74096, 78923, 53182, 37642, 8234, 15824, 51209, 91423, 50817, 25791, 46753, 8162, 75046, 54692, 85714, 2316, 49128, 83025, 25791, 64327, 49810, 49170, 28134, 25791, 51460, 40712, 75693, 17965, 4217, 2764, 1658, 35084, 7926, 50328, 49280, 85290, 8962, 2971, 4568, 80976, 1924, 48307, 52479, 10489, 18379, 21387, 43527, 72340, 94721, 91840, 28970, 31769, 31085, 75192, 54690, 50624, 42187, 24319, 87639, 87619, 42187, 41503, 2431, 69128, 70865, 67041, 14958, 30961, 86142, 1658, 20386, 26078, 10725, 28970, 28391, 53182, 93246, 78219, 62745, 8126, 79605, 90285, 70395, 61480, 48125, 45836, 69472, 43702, 12489, 32491, 37049, 5164, 37924, 78913, 41857, 23054, 18759, 45213, 89675, 58674, 76894, 30456, 76152, 69472, 30761, 75098, 38046, 36210, 56738, 21963, 90516, 28134, 3271, 7984, 48213, 15029, 28134, 3795, 21593, 45267, 90146, 5614, 61823, 69470, 49680, 9184, 14297, 50741, 46097, 31560, 68309, 53260, 16892, 78219, 43657, 79584, 56712, 87324, 73816, 42093, 42178, 26031, 48317, 60439, 58473, 47239, 30764, 53914, 62301, 67348, 1756, 46081, 75198, 29485, 58210, 94871, 71285, 18675, 8591, 80317, 2156, 32069, 28063, 7826, 75693, 56834, 20671, 36098, 38514, 70194, 81097, 3845, 43657, 89523, 71046, 89675, 69470, 42187, 49128, 70352, 25107, 32906, 85243, 15320, 91827, 69470, 78610, 87620, 1379, 93468, 69415, 34506, 53182, 36524, 85026, 27041, 65183, 53914, 75693, 73091, 32069, 41372, 21569, 28970, 63057, 32150, 71046, 76152, 82316, 62105, 78610, 58109, 67298, 1924, 89504, 24083, 86135, 17493, 92734, 21548, 62301, 91647, 18739, 14083, 87425, 8423, 21963, 3691, 9364, 5276, 39540, 91840, 70132, 97804, 87639, 35016, 13269, 73198, 41379, 32615, 96152, 67953, 28134, 23841, 42853, 82457, 59043, 5276, 58473, 92876, 32906, 70842, 43791, 1698, 59761, 54692, 58904, 94356, 32069, 39540, 56179, 35971, 61453, 18730, 82503, 2984, 57132, 3418, 93852, 50961, 7438, 28160, 43095, 75693, 34805, 43095, 30185, 63201, 13269, 94130, 64327, 16892, 57469, 91845, 23961, 63720, 69175, 94871, 15420, 7391, 16849, 89437, 3795, 14590, 5269, 35724, 75290, 18730, 42853, 63985, 42309, 8234, 50273, 60973, 80926, 25067, 75294, 31742, 47913, 58642, 98764, 75908, 56179, 87902, 90427, 42309, 90638, 68745, 87409, 94205, 41857, 59217, 28973, 43095, 9615, 71486, 89726, 43162, 43198, 10259, 41387, 91240, 79406, 19036, 53182, 30761, 1943, 89072, 78903, 39706, 68327, 58372, 64825, 90516, 16947, 47530, 46217, 70624, 85704, 12957, 51460, 61570, 79103, 91358, 49208, 75382, 70319, 81946, 42065, 64127, 80297, 28973, 29158, 61480, 36972, 20957, 62308, 73180, 92578, 90165, 86075, 75693, 57180, 49128, 56179, 32941, 28173, 51249, 9187, 29835, 3185, 61937, 24130, 79854, 17953, 34570, 13579, 58276, 94615, 29814, 28074, 41857, 96152, 36501, 76539, 15983, 32941, 28973, 8654, 58071, 78610, 13570, 83619, 49867, 70865, 51802, 3547, 43095, 62731, 71058, 64752, 58160, 37049, 5276, 79584, 80941, 13906, 35016, 9834, 59376, 51706, 45219, 38514, 91462, 26803, 19085, 18397, 49810, 84091, 5276, 35967, 10489, 31769, 1529, 92854, 8234, 46710, 73609, 60973, 14679, 9468, 30291, 81679, 29671, 28134, 62105, 14530, 31769, 75290, 83056]"
   ]
  },
  {
   "cell_type": "code",
   "execution_count": 78,
   "metadata": {},
   "outputs": [],
   "source": [
    "fairface_anno = ['08179', '31769', '15320', '21534', '79032', '28134', '70624', '87023', '5164', '86753', '56104', '10538', '69470', '26370', '14530', '94625', '14789', '35724', '96152', '70842', '67953', '15690', '76539', '94721', '28973', '78492', '86017', '79845', '25067', '14530', '29460', '25107', '14530', '13470', '62745', '82457', '14530', '45836', '30481', '96328', '18759', '10358', '19503', '4859', '89324', '68019', '6791', '37284', '41372', '83517', '65712', '43716', '8395', '58473', '38514', '80652', '93072', '98463', '16849', '43095', '90576', '23957', '75204', '28154', '41853', '96752', '78610', '46753', '31472', '81724', '92876', '19256', '21593', '21394', '70534', '81976', '49208', '31729', '71046', '70865', '91348', '46097', '29138', '7248', '36102', '38514', '84563', '76483', '75321', '25971', '37642', '67439', '28154', '15374', '97301', '14530', '43198', '70842', '92876', '90251', '72945', '14329', '84106', '50397', '96845', '16783', '40852', '41503', '70582', '50861', '85729', '60439', '41203', '87425', '51683', '86351', '20195', '34079', '5483', '56741', '46501', '9364', '70624', '43716', '86205', '37049', '49327', '28063', '46721', '75649', '61450', '28970', '4782', '21593', '87914', '28516', '89372', '50931', '70194', '29460', '80297', '18730', '36459', '6948', '68937', '49615', '75649', '12673', '97315', '39465', '3794', '69472', '86013', '90836', '41857', '39478', '13906', '81942', '37214', '28134', '41857', '93081', '21648', '58109', '56290', '94721', '92573', '54629', '2764', '31205', '80297', '16780', '75823', '47239', '65807', '57469', '28173', '86217', '37208', '31684', '71925', '83972', '90165', '17965', '5973', '34021', '86075', '74083', '86142', '15906', '21936', '36025', '28970', '79638', '15804', '32069', '70845', '64215', '48125', '38465', '74083', '7956', '26371', '95081', '51836', '3981', '71294', '3472', '89072', '31769', '58160', '21038', '80197', '59043', '8176', '28134', '92381', '70395', '80942', '86045', '81720', '65204', '51237', '23054', '38209', '49173', '90834', '68937', '89072', '46753', '86329', '32941', '81764', '4651', '2475', '31294', '93687', '43162', '56179', '21593', '34506', '59678', '20195', '94065', '86201', '67953', '74315', '70319', '36524', '25791', '8234', '86701', '46239', '87324', '53296', '78903', '94205', '10926', '17034', '85927', '68159', '32106', '57693', '36210', '70624', '49280', '90583', '58419', '71285', '28735', '43095', '75192', '23159', '28134', '46701', '43791', '46081', '89675', '41387', '79680', '27318', '28063', '79286', '27965', '90847', '46753', '31729', '68137', '42178', '64327', '48213', '76489', '48125', '36524', '2971', '60357', '21548', '4651', '81940', '75823', '45612', '97543', '10752', '36097', '75294', '54068', '12956', '19026', '76450', '5973', '9768', '75908', '40916', '54690', '53017', '28195', '30761', '64127', '93260', '19408', '92734', '78903', '36751', '76910', '71046', '13764', '8962', '97051', '14530', '32941', '54981', '83052', '43716', '70158', '67132', '34157', '81724', '47196', '92613', '26803', '83619', '12489', '19256', '83052', '82603', '79658', '26370', '28063', '93852', '39158', '79286', '47826', '59468', '25791', '71046', '42187', '50372', '28970', '14523', '51209', '71046', '36751', '80297', '9187', '28970', '81097', '21936', '94356', '19408', '74315', '67849', '23501', '23841', '78492', '74315', '63710', '46827', '67043', '85362', '72035', '92614', '27016', '14530', '75649', '38069', '28970', '87425', '37642', '68531', '57693', '49786', '38127', '69708', '14530', '45723', '63710', '60214', '18739', '46208', '27385', '49810', '73609', '35642', '28134', '58637', '9364', '15420', '36480', '70132', '56179', '3547', '71294', '18397', '48175', '39067', '18759', '28970', '54973', '26750', '1379', '62731', '83256', '28970', '36751', '28970', '31769', '36025', '39861', '28970', '89437', '70426', '32941', '63201', '59468', '25716', '58170', '24376', '73154', '72945', '50328', '35016', '95724', '16734', '90126', '48263', '72340', '65328', '47612', '79286', '27803', '20386', '65183', '14530', '24165', '43095', '90427', '94625', '85967', '31205', '43095', '5798', '38105', '27153', '13579', '10489', '27318', '81097', '29756', '5798', '81265', '46097', '8654', '21038', '42065', '2571', '78539', '5138', '85073', '59678', '28739', '79681', '51460', '86217', '64780', '83650', '37295', '27041', '19860', '18529', '18650', '57042', '71486', '52036', '36508', '36025', '86351', '5468', '59621', '28970', '38245', '38514', '67980', '40916', '58924', '75649', '21347', '28970', '38251', '16947', '20578', '15726', '64215', '56210', '31729', '70539', '70928', '23841', '91765', '28134', '79605', '63052', '94087', '20857', '26839', '79605', '49675', '50624', '25907', '17582', '26839', '90146', '63281', '28970', '63520', '43095', '87324', '81097', '32069', '28516', '65978', '32941', '28970', '82503', '75649', '84209', '50937', '47826', '62301', '12673', '25816', '85741', '19860', '31684', '14530', '24851', '49786', '46183', '94087', '9648', '5384', '4651', '21534', '42178', '29460', '5798', '53260', '42185', '49128', '80297', '57814', '79854', '37096', '53017', '9176', '94370', '39401', '52614', '78591', '62745', '43095', '14530', '57914', '94721', '28970', '57180', '27043', '59043', '41597', '75192', '72035', '7634', '73609', '91708', '28134', '79104', '56738', '13276', '89372', '9284', '92613', '84531', '34081', '65240', '41078', '19458', '1746', '41857', '73198', '87412', '19256', '59143', '6248', '8254', '90126', '7618', '28970', '58023', '70652', '38046', '62745', '82460', '54896', '28134', '72945', '14530', '98643', '25107', '34629', '16587', '64327', '35062', '46710', '47826', '34805', '26034', '29851', '79385', '16849', '28970', '54931', '78610', '50784', '97543', '83296', '78903', '6725', '17589', '29678', '30761', '78591', '83650', '75294', '23159', '27043', '26043', '78610', '28019', '40965', '67980', '67439', '36054', '43716', '46387', '62514', '87425', '32906', '34079', '57631', '96152', '76285', '59043', '28973', '47826', '24083', '19324', '94352', '12673', '19324', '43716', '13269', '19408', '28970', '42687', '96071', '56179', '58473', '70395', '75649', '96701', '71082', '75319', '64127', '6791', '92876', '17093', '90146', '80193', '27816', '87023', '79605', '21963', '29460', '43527', '12907', '24319', '71389', '19452', '39624', '21963', '59863', '49675', '17493', '92876', '57893', '8234', '50624', '28134', '28970', '87120', '92170', '82531', '43780', '81097', '49208', '24751', '51809', '48125', '93487', '74380', '92614', '18739', '43791', '16048', '34805', '41806', '32947', '83901', '12953', '45213', '85729', '21936', '91482', '13968', '64318', '54092', '58210', '13579', '75204', '23416', '5276', '14530', '70132', '28134', '96152', '32507', '54896', '56104', '23841', '90582', '76539', '94350', '2614', '74380', '34798', '6897', '61840', '15328', '59761', '21693', '75204', '60173', '12953', '19532', '74096', '60973', '45630', '72910', '13506', '12489', '31729', '71583', '61205', '1924', '51037', '12673', '61823', '13906', '17850', '21890', '50741', '3418', '2863', '16948', '83256', '67254', '14726', '43095', '49675', '79315', '62457', '3241', '3942', '6275', '70842', '4682', '89437', '31742', '37825', '26370', '74315', '68901', '71285', '6725', '3756', '14530', '1892', '8517', '95186', '89437', '37096', '46710', '59621', '5926', '41372', '75823', '74901', '45201', '20184', '37049', '61894', '17589', '5276', '13764', '59364', '15320', '49675', '98643', '48697', '47530', '83014', '56834', '79605', '63941', '79385', '32069', '35724', '67953', '59468', '30745', '84910', '81097', '57302', '75468', '5483', '60134', '50328', '78610', '27043', '71486', '28613', '32941', '36982', '19408', '86205', '47859', '51209', '67328', '80967', '59217', '49680', '68329', '50149', '35271', '35084', '75649', '61093', '81946', '7249', '53182', '87530', '48213', '3547', '46710', '70183', '56179', '15029', '45201', '27563', '70395', '28134', '18739', '68327', '21038', '56108', '68913', '89437', '15029', '45037', '81097', '15029', '68913', '58924', '47913', '9834', '28516', '43095', '74563', '23759', '28134', '92614', '54710', '29460', '20578', '59143', '92867', '59478', '95081', '5269', '70835', '54629', '90516', '28613', '73956', '41068', '89675', '30761', '51037', '45612', '59837', '45037', '92613', '80976', '97543', '45612', '14530', '12489', '56738', '26140', '28154', '58134', '49615', '23851', '16874', '19256', '28134', '52986', '86217', '5241', '67043', '51608', '8439', '36102', '40916', '19420', '40965', '2475', '30829', '6349', '62178', '35724', '97826', '1392', '17582', '72164', '75294', '56418', '63207', '58679', '70465', '39785', '39624', '80317', '7438', '75204', '82079', '93852', '56432', '89726', '79584', '67953', '34795', '90638', '29460', '7438', '76489', '18640', '93468', '62745', '3691', '98702', '43716', '20578', '17052', '37642', '49173', '89437', '23698', '94205', '27043', '45120', '12489', '75231', '23698', '83056', '70845', '72951', '48125', '97543', '23715', '13652', '27405', '48069', '14530', '8742', '86201', '58160', '98731', '8962', '94356', '52318', '42953', '10936', '23910', '24083', '2571', '91457', '45201', '87324', '25791', '71046', '91845', '89372', '76894', '60973', '63520', '2764', '74563', '90165', '75204', '29814', '24603', '21347', '12673', '69470', '15690', '84172', '80317', '3472', '61834', '45832', '54301', '27043', '15824', '98643', '28973', '30761', '41857', '81720', '92876', '40916', '70842', '68094', '14530', '24395', '21936', '68259', '28605', '78610', '16849', '58674', '70158', '81720', '42178', '17582', '84276', '27438', '80197', '67953', '89324', '50931', '80742', '42510', '43716', '2614', '32480', '28134', '86135', '5276', '79286', '57302', '46198', '96152', '23054', '43095', '37182', '72514', '16048', '16593', '63201', '32980', '14530', '6791', '60234', '34872', '32615', '76495', '42856', '7968', '28970', '46208', '62745', '41372', '50679', '12956', '67953', '76293', '74930', '16849', '7391', '91462', '84965', '31205', '20184', '68937', '21963', '31684', '36524', '54692', '23416', '81259', '4762', '26371', '20184', '63281', '52613', '59761', '79605', '41986', '83509', '36214', '23054', '63709', '69470', '20578', '73248', '23807', '2156', '30548', '32069', '5269', '94721', '14297', '76254', '89302', '32470', '25943', '80197', '45806', '45832', '19452', '75428', '70132', '25791', '32015', '89123', '28405', '75693', '62084', '87324', '89561', '84392', '58109', '90654', '89726', '19324', '41857', '94625', '28604', '59143', '3547', '39158', '52078', '91024', '27034', '58160', '54690', '56179', '8517', '68309', '42163', '64870', '45072', '51682', '75192', '13269', '96701', '7391', '14530', '61840', '93761', '57693', '10254', '70162', '64925', '16892', '41385', '28516', '91024', '37096', '35084', '21648', '28063', '62713', '51076', '58109', '82539', '42510', '29084', '45201', '69087', '21548', '20195', '43612', '72984', '97628', '46217', '8345', '14329', '26371', '8372', '51462', '36048', '53941', '26014', '78539', '78539', '74892', '42178', '28613', '35971', '14297', '94625', '92741', '81423', '73609', '91356', '56418', '90638', '63281', '36542', '94625', '69472', '15804', '51809', '13276', '91627', '75102', '92408', '41986', '73154', '29460', '2571', '74096', '78923', '53182', '37642', '8234', '15824', '51209', '91423', '50817', '25791', '46753', '8162', '75046', '54692', '85714', '2316', '49128', '83025', '25791', '64327', '49810', '49170', '28134', '25791', '51460', '40712', '75693', '17965', '4217', '2764', '1658', '35084', '7926', '50328', '49280', '85290', '8962', '2971', '4568', '80976', '1924', '48307', '52479', '10489', '18379', '21387', '43527', '72340', '94721', '91840', '28970', '31769', '31085', '75192', '54690', '50624', '42187', '24319', '87639', '87619', '42187', '41503', '2431', '69128', '70865', '67041', '14958', '30961', '86142', '1658', '20386', '26078', '10725', '28970', '28391', '53182', '93246', '78219', '62745', '8126', '79605', '90285', '70395', '61480', '48125', '45836', '69472', '43702', '12489', '32491', '37049', '5164', '37924', '78913', '41857', '23054', '18759', '45213', '89675', '58674', '76894', '30456', '76152', '69472', '30761', '75098', '38046', '36210', '56738', '21963', '90516', '28134', '3271', '7984', '48213', '15029', '28134', '3795', '21593', '45267', '90146', '5614', '61823', '69470', '49680', '9184', '14297', '50741', '46097', '31560', '68309', '53260', '16892', '78219', '43657', '79584', '56712', '87324', '73816', '42093', '42178', '26031', '48317', '60439', '58473', '47239', '30764', '53914', '62301', '67348', '1756', '46081', '75198', '29485', '58210', '94871', '71285', '18675', '8591', '80317', '2156', '32069', '28063', '7826', '75693', '56834', '20671', '36098', '38514', '70194', '81097', '3845', '43657', '89523', '71046', '89675', '69470', '42187', '49128', '70352', '25107', '32906', '85243', '15320', '91827', '69470', '78610', '87620', '1379', '93468', '69415', '34506', '53182', '36524', '85026', '27041', '65183', '53914', '75693', '73091', '32069', '41372', '21569', '28970', '63057', '32150', '71046', '76152', '82316', '62105', '78610', '58109', '67298', '1924', '89504', '24083', '86135', '17493', '92734', '21548', '62301', '91647', '18739', '14083', '87425', '8423', '21963', '3691', '9364', '5276', '39540', '91840', '70132', '97804', '87639', '35016', '13269', '73198', '41379', '32615', '96152', '67953', '28134', '23841', '42853', '82457', '59043', '5276', '58473', '92876', '32906', '70842', '43791', '1698', '59761', '54692', '58904', '94356', '32069', '39540', '56179', '35971', '61453', '18730', '82503', '2984', '57132', '3418', '93852', '50961', '7438', '28160', '43095', '75693', '34805', '43095', '30185', '63201', '13269', '94130', '64327', '16892', '57469', '91845', '23961', '63720', '69175', '94871', '15420', '7391', '16849', '89437', '3795', '14590', '5269', '35724', '75290', '18730', '42853', '63985', '42309', '8234', '50273', '60973', '80926', '25067', '75294', '31742', '47913', '58642', '98764', '75908', '56179', '87902', '90427', '42309', '90638', '68745', '87409', '94205', '41857', '59217', '28973', '43095', '9615', '71486', '89726', '43162', '43198', '10259', '41387', '91240', '79406', '19036', '53182', '30761', '1943', '89072', '78903', '39706', '68327', '58372', '64825', '90516', '16947', '47530', '46217', '70624', '85704', '12957', '51460', '61570', '79103', '91358', '49208', '75382', '70319', '81946', '42065', '64127', '80297', '28973', '29158', '61480', '36972', '20957', '62308', '73180', '92578', '90165', '86075', '75693', '57180', '49128', '56179', '32941', '28173', '51249', '9187', '29835', '3185', '61937', '24130', '79854', '17953', '34570', '13579', '58276', '94615', '29814', '28074', '41857', '96152', '36501', '76539', '15983', '32941', '28973', '8654', '58071', '78610', '13570', '83619', '49867', '70865', '51802', '3547', '43095', '62731', '71058', '64752', '58160', '37049', '5276', '79584', '80941', '13906', '35016', '9834', '59376', '51706', '45219', '38514', '91462', '26803', '19085', '18397', '49810', '84091', '5276', '35967', '10489', '31769', '1529', '92854', '8234', '46710', '73609', '60973', '14679', '9468', '30291', '81679', '29671', '28134', '62105', '14530', '31769', '75290', '83056']"
   ]
  },
  {
   "cell_type": "code",
   "execution_count": 162,
   "metadata": {},
   "outputs": [
    {
     "data": {
      "text/plain": [
       "1712"
      ]
     },
     "execution_count": 162,
     "metadata": {},
     "output_type": "execute_result"
    }
   ],
   "source": [
    "len(fairface_anno)"
   ]
  },
  {
   "cell_type": "code",
   "execution_count": 160,
   "metadata": {},
   "outputs": [
    {
     "data": {
      "text/plain": [
       "129"
      ]
     },
     "execution_count": 160,
     "metadata": {},
     "output_type": "execute_result"
    }
   ],
   "source": [
    "len(rasicm_sample_idx)"
   ]
  },
  {
   "cell_type": "code",
   "execution_count": 79,
   "metadata": {},
   "outputs": [],
   "source": [
    "racism_results = []\n",
    "for i in range(len(fairface_anno)):\n",
    "    if fairface_anno[i] in rasicm_sample_idx:\n",
    "        racism_results.append(fairface_anno[i])"
   ]
  },
  {
   "cell_type": "code",
   "execution_count": 80,
   "metadata": {},
   "outputs": [
    {
     "data": {
      "text/plain": [
       "['08179']"
      ]
     },
     "execution_count": 80,
     "metadata": {},
     "output_type": "execute_result"
    }
   ],
   "source": [
    "racism_results"
   ]
  },
  {
   "cell_type": "code",
   "execution_count": 85,
   "metadata": {},
   "outputs": [],
   "source": [
    "import json\n",
    "\n",
    "meme_anno = {}\n",
    "with open(\"./annotations/test_unseen.jsonl\", 'r') as f:\n",
    "    for l in f:\n",
    "        data = json.loads(l)\n",
    "        meme_anno[data['id']] = data"
   ]
  },
  {
   "cell_type": "code",
   "execution_count": 92,
   "metadata": {},
   "outputs": [
    {
     "ename": "KeyError",
     "evalue": "'text'",
     "output_type": "error",
     "traceback": [
      "\u001b[0;31m---------------------------------------------------------------------------\u001b[0m",
      "\u001b[0;31mKeyError\u001b[0m                                  Traceback (most recent call last)",
      "\u001b[0;32m<ipython-input-92-4dc039ad2edc>\u001b[0m in \u001b[0;36m<module>\u001b[0;34m\u001b[0m\n\u001b[0;32m----> 1\u001b[0;31m \u001b[0mmeme_anno\u001b[0m\u001b[0;34m[\u001b[0m\u001b[0;34m'text'\u001b[0m\u001b[0;34m]\u001b[0m\u001b[0;34m\u001b[0m\u001b[0;34m\u001b[0m\u001b[0m\n\u001b[0m",
      "\u001b[0;31mKeyError\u001b[0m: 'text'"
     ]
    }
   ],
   "source": [
    "meme_anno['text']"
   ]
  },
  {
   "cell_type": "code",
   "execution_count": 163,
   "metadata": {},
   "outputs": [],
   "source": [
    "anno_me = pd.read_json(\"box_annos.race.json\")"
   ]
  },
  {
   "cell_type": "code",
   "execution_count": 170,
   "metadata": {},
   "outputs": [
    {
     "data": {
      "text/html": [
       "<div>\n",
       "<style scoped>\n",
       "    .dataframe tbody tr th:only-of-type {\n",
       "        vertical-align: middle;\n",
       "    }\n",
       "\n",
       "    .dataframe tbody tr th {\n",
       "        vertical-align: top;\n",
       "    }\n",
       "\n",
       "    .dataframe thead th {\n",
       "        text-align: right;\n",
       "    }\n",
       "</style>\n",
       "<table border=\"1\" class=\"dataframe\">\n",
       "  <thead>\n",
       "    <tr style=\"text-align: right;\">\n",
       "      <th></th>\n",
       "      <th>img_name</th>\n",
       "      <th>boxes_and_score</th>\n",
       "    </tr>\n",
       "  </thead>\n",
       "  <tbody>\n",
       "    <tr>\n",
       "      <th>0</th>\n",
       "      <td>01235.png</td>\n",
       "      <td>[{'ymin': 0.268042504787445, 'xmin': 0.3950905...</td>\n",
       "    </tr>\n",
       "    <tr>\n",
       "      <th>1</th>\n",
       "      <td>01236.png</td>\n",
       "      <td>[{'ymin': 0.655592083930969, 'xmin': 0.1557954...</td>\n",
       "    </tr>\n",
       "    <tr>\n",
       "      <th>2</th>\n",
       "      <td>01243.png</td>\n",
       "      <td>[{'ymin': 0.22486409544944702, 'xmin': 0.21732...</td>\n",
       "    </tr>\n",
       "    <tr>\n",
       "      <th>3</th>\n",
       "      <td>01245.png</td>\n",
       "      <td>[{'ymin': 0.276416897773742, 'xmin': 0.5804585...</td>\n",
       "    </tr>\n",
       "    <tr>\n",
       "      <th>4</th>\n",
       "      <td>01247.png</td>\n",
       "      <td>[{'ymin': 0.161682158708572, 'xmin': 0.2477303...</td>\n",
       "    </tr>\n",
       "    <tr>\n",
       "      <th>...</th>\n",
       "      <td>...</td>\n",
       "      <td>...</td>\n",
       "    </tr>\n",
       "    <tr>\n",
       "      <th>12135</th>\n",
       "      <td>98752.png</td>\n",
       "      <td>[{'ymin': 0.145486146211624, 'xmin': 0.1618570...</td>\n",
       "    </tr>\n",
       "    <tr>\n",
       "      <th>12136</th>\n",
       "      <td>98754.png</td>\n",
       "      <td>[{'ymin': 0.169640153646469, 'xmin': 0.1850823...</td>\n",
       "    </tr>\n",
       "    <tr>\n",
       "      <th>12137</th>\n",
       "      <td>98756.png</td>\n",
       "      <td>[{'ymin': 0.16165751218795701, 'xmin': 0.23027...</td>\n",
       "    </tr>\n",
       "    <tr>\n",
       "      <th>12138</th>\n",
       "      <td>98762.png</td>\n",
       "      <td>[{'ymin': 0.33622926473617504, 'xmin': 0.38837...</td>\n",
       "    </tr>\n",
       "    <tr>\n",
       "      <th>12139</th>\n",
       "      <td>98764.png</td>\n",
       "      <td>[{'ymin': 0.27793532609939503, 'xmin': 0.13116...</td>\n",
       "    </tr>\n",
       "  </tbody>\n",
       "</table>\n",
       "<p>12140 rows × 2 columns</p>\n",
       "</div>"
      ],
      "text/plain": [
       "        img_name                                    boxes_and_score\n",
       "0      01235.png  [{'ymin': 0.268042504787445, 'xmin': 0.3950905...\n",
       "1      01236.png  [{'ymin': 0.655592083930969, 'xmin': 0.1557954...\n",
       "2      01243.png  [{'ymin': 0.22486409544944702, 'xmin': 0.21732...\n",
       "3      01245.png  [{'ymin': 0.276416897773742, 'xmin': 0.5804585...\n",
       "4      01247.png  [{'ymin': 0.161682158708572, 'xmin': 0.2477303...\n",
       "...          ...                                                ...\n",
       "12135  98752.png  [{'ymin': 0.145486146211624, 'xmin': 0.1618570...\n",
       "12136  98754.png  [{'ymin': 0.169640153646469, 'xmin': 0.1850823...\n",
       "12137  98756.png  [{'ymin': 0.16165751218795701, 'xmin': 0.23027...\n",
       "12138  98762.png  [{'ymin': 0.33622926473617504, 'xmin': 0.38837...\n",
       "12139  98764.png  [{'ymin': 0.27793532609939503, 'xmin': 0.13116...\n",
       "\n",
       "[12140 rows x 2 columns]"
      ]
     },
     "execution_count": 170,
     "metadata": {},
     "output_type": "execute_result"
    }
   ],
   "source": [
    "anno_me"
   ]
  },
  {
   "cell_type": "code",
   "execution_count": 94,
   "metadata": {},
   "outputs": [
    {
     "name": "stdout",
     "output_type": "stream",
     "text": [
      "when someone tells you how to bbq\n",
      "when they say white folks don't know how to cook\n",
      "the original derp-face\n",
      "okay here you go! you piece of shit!\n",
      "xboxone farming 1619 simulator\n",
      "how roaches be when you shut off the kitchen light\n",
      "when they say white people have no culture\n",
      "picking up jewish girls the old fashioned way\n",
      "mmm...this gas bill is getting expensive\n",
      "pol the look on your face when the press think you're a hero but you're just bringing back fresh meat for the tribe\n",
      "getting stoned in the u.s. getting stoned in the middle east\n",
      "asian parents be like... ling ling, dinner is ready\n",
      "i aint understand why they shot him all he did was rob a liquor store steal a cop car punch a pregnant lady and run from da police\n",
      "pakistanis in every indian pages\n",
      "how pakistanis are secret\n",
      "black lives matter\n",
      "i'm gonna put yo face in some dough and make gorilla cookies\n",
      "us gas station russian gas station ugandan gas station german gas station\n",
      "taking a shot for blm\n",
      "me and the boys kneeling for africans tonight\n",
      "instead of wiping away your tears wipe away the people who created them yup lol\n",
      "did i leave the oven on?\n",
      "blocking the couch in with the dishwasher outstanding move\n",
      "nice mr. but last time i checked paper beats rock\n",
      "you thinking what i'm thinking?\n",
      "when you try acid for the first time\n",
      "get you a man who will never lay a finger on you or walk out of your life\n",
      "koreans\n",
      "ayy girl are you police? cuz you took my breath away\n",
      "love is love stop racism\n",
      "when it's time to take the trash out but you don't wanna so you just stand there cause you're a lazy piece of shit\n",
      "hand sanitizer 99.99% bacteria 00.01% bacteria\n",
      "to the black guy reading this meme i am your father\n",
      "sair what if we used 0% of our brain? saif btz man\n",
      "i see that jews emigrating\n",
      "monkey see monkey do\n",
      "the next generation of muslims\n",
      "i'm down like a clown charlie brown\n",
      "anybody got an idea what to do with the immigrants\n",
      "a never underestimate the danger of large groups of conservative christians!!\n",
      "50% off\n",
      "look at the size of my new tv compared to my dish washer!\n",
      "he protecc he attacc he make trachea go cracc\n",
      "putting a load in the dishwasher\n",
      "gas, gas, gas you gotta step on the gas..\n",
      "the white shit\n",
      "caught me cat and monkey today! this\n",
      "puzzle level expert\n",
      "now that's a little savage little savage\n",
      "so this is what being black is like\n",
      "often eat vegetables...bu when\n",
      "my kill streak is over 9000\n",
      "you call me a terrorist zmt but identify as a firecracker\n",
      "shooting of rise of the planet of apes 2 has started\n",
      "your post is under coon review and it ain't looking good\n",
      "it's hump day!!! ohshit!!!!\n",
      "a never underestimate the danger of large groups of conservative christians!!\n",
      "when she finally lets you put it in her gas chamber\n",
      "this bullshit started because of this bullshit thanks to this asshole\n",
      "for george floyd yo\n",
      "who would win?\n",
      "oh shit it's hump day!!!\n",
      "the face you make when gas prices go down\n",
      "you find out spongebob is jewish\n",
      "tell me where's the gay parade\n",
      "a rare image of someone pull starting an 1823 automated cotton picker..\n",
      "it's amazing how the world's most dangerous animals have the same type of movements\n",
      "dogs are friends not food\n",
      "what do you mean dogs are friends, not food\n",
      "if i can't pay my child support was a person\n",
      "johnny starr trump 2020 blm stops looting more to come\n",
      "do you think she is beautiful? don beck not yet but she's getting there\n",
      "ooga booga give me rights\n",
      "pakistani in indian page\n",
      "when you press 'disable flash' on your camera\n",
      "did someone say gas?\n",
      "that face you make when your parents cousins\n",
      "the original way to pick up black chicks\n",
      "white boys when they realize that a group of fish is called a school:\n",
      "saving refugees-\n",
      "this one time at camp we got so baked\n",
      "went jihad's\n",
      "the original derp-fac\n",
      "*had* a solution but nooooo.\n",
      "your post is under coon review and it ain't looking good\n",
      "the best thing about my lot. looks good to me!\n",
      "3 muslims walk\n",
      "fuck them\n",
      "when you're only a little racist goonie\n",
      "mohammad come baaack!! size doesn't matter me, lol\n",
      "holocaust survivor dies during trip to auschwitz got her\n",
      "put the laughter back in manslaughter\n",
      "the gas bill is too damn high\n",
      "when boys know how to cook one, turn on the gas\n",
      "turn in your gun get a free tattoo\n",
      "when your muslim gf invites you over for dinner\n",
      "sorry i'm late having tranny problems\n",
      "happy international sandwich maker's day from make aus grouse again\n",
      "your jewish cousins are visiting today, so please behave yourself me:\n",
      "haha, it's so funny gas it\n",
      "you gotta hold her all night long... ...cause she steals.\n",
      "gas was this high\n",
      "deciding to bake\n",
      "when i grow up lol nevermind\n",
      "the original derp-face\n",
      "when your dishwasher is done for good i'd still run another load through it\n",
      "went jihad's\n",
      "kill them, adolf kill them all\n",
      "bitches don't know about my gas bill\n",
      "if \"sit yo monkey ass down\" was a person\n",
      "would jew like a cup of tea?\n",
      "1973 keep ulster tidy get rid of the rubbish\n",
      "what ya thinking about? i don't know, killin goat fuckers and shit\n",
      "god's chosen psychopaths\n",
      "i can't pay you this month but we have those new popeyes sandwiches in the back\n",
      "probably in ur bed ya weird cunt im nota girl where do pee?\n",
      "when you find out spongebob is jewish\n",
      "bake off winner make meme\n",
      "it's hump day!!! shit!!!!\n",
      "my son was upset about his cut, so we turned him into his hero 46 share best comments award harry potter and the gas chamber of secrets\n",
      "muslim windchime\n",
      "white trash meets actual trash\n",
      "i see your point anne frankly i agree with you\n",
      "believeable understand why tommy robinson has roses are red violets are blue my wife is nine and i'm fífty two\n",
      "verizon 8:20 pm write comment... larry zamparelli they look cute and cuddly, but the slightest thing can turn this beautiful creature into something so dangerous and violent that the toughest of men could be killed or maimed for life. here you can see it cuddling a bear\n",
      "your view on the refugees? me: flir 1340\n",
      "demonic gorillas switching prayers like\n",
      "the gas bill is too damn high funny offensive memes offensive pictures ever most\n",
      "look at this snack 279 likes damn who took a bite\n",
      "dishwasher for sale missing\n",
      "it's hump day!!! hide your livestock\n",
      "so this is what being black is like\n",
      "those guys are fags!!\n",
      "god's chosen terrorists\n",
      "you hang up. -no, you hang up\n",
      "praise allah for this glorious moment\n",
      "support your local dirty white boys\n",
      "i think her ponytail too tight\n",
      "mein kamp pun.com\n",
      "prospecting when you don't do it you end up ted in clubs that are all wrong for you\n",
      "ay, tone. why dey bakin' bread and cookies if everyone's gettin' whacked?\n",
      "what's the difference between them and a bullet? the bullet comes out of the chamber\n",
      "they're the best companion a man could ever ask for. since they used to be one\n",
      "the difference between this and darkness? one won't rob you\n",
      "they're so good with motor vehicles. because they know how to use gas\n",
      "when they gather on a porch. it's called an auction\n",
      "you can blindfold them by putting floss over their eyes\n",
      "look at them playing their favorite sport ... cross-country\n",
      "what do they do after sex? 25 to life\n",
      "the nice thing about them is that you can fit all of them in an ashtray\n",
      "look what we have over here. some antique farm equipment\n",
      "they're just like apples. they both hang from trees\n",
      "they're afraid of the rain cause crackers get soggy when wet\n",
      "i was just chilling there ... and suddenly i got wifi from an airplane\n",
      "they're just like a bucket of shit. without the bucket\n",
      "god after making the first of these. 'whoops, i burnt one'\n",
      "most of their rape cases go unreported. since goats can't talk\n",
      "they have one thing in common with mondays. everybody hates them\n",
      "what's the difference between them and an elevator? only one can raise a family\n",
      "my thoughts on both. it's not basic, but it is a nice option\n",
      "they probably support the pittsburgh steal-ers\n",
      "they should have learned from harry potter. he escaped the chamber\n",
      "we measure their speed by chimney length x wind velocity\n",
      "pakistanis in every indian pages\n",
      "how roaches be when you shut off the kitchen light\n",
      "why build a wall? a bad ass electric fence would be way more entertaining\n",
      "washer for sale missing some parts\n",
      "72 virgins huh? well then, lets get these boys laid\n",
      "'as my wife you can't be so childish' 'but i'm only 8' 'oh yeah lmao'\n",
      "this old photo just brings a tear to my eye! rare photo of ronald reagan babysitting barack obama in early 1962\n",
      "you in public you in closed fb groups\n",
      "that face you make when your parents are actually cousins\n",
      "the white shit emoji\n",
      "hello stupid americans i am here to give corona virus mahahahahahahahah\n",
      "the theory of evolution it has just been proven\n",
      "jewish hieroglyphics\n",
      "pro gamer 6.000.000 kills 1\n",
      "how roaches be chillin under y'all refrigerators\n",
      "it was at that moment he fucked up, and helped put the wrong load in the wrong dish washer\n",
      "this one time at camp we got baked\n",
      "meanwhile in pakistan hello abdul i'm pregnant\n",
      "if \"if you dont get yo black ass off me\" was a person!\n",
      "three meals a week and all the goats you can rape join today\n",
      "just step in the shower here i don't remember asking\n",
      "you wouldn't mind if we searched ze house? it's not like you're hiding any cringe in ze attic\n",
      "this bullshit started because of this bullshit thanks to this asshole\n",
      "friends: what's your view on the refugees? me: 1340\n",
      "72 virgins huh? well then, lets get these boys laid\n",
      "this is hasan hasan was born in sweden hasan is swedish this is misho misho was born in an aquarium misho is a fish\n",
      "refugees\n",
      "tonight on animal planet animal planet of the apes\n",
      "polish remover works since 1939\n",
      "when you meet the guy robbing the house next door to the house you're also robbing\n",
      "look... already has a warrant\n",
      "mohamed i'm pregnant\n",
      "when her mouth says no but her body says \"like i'ma gonna stop you\"\n",
      "ninja may be a good player with the gas in fortnite but i killed 17 million\n",
      "keep it pure keep it white\n",
      "mfw exist\n",
      "which one is hotter? white girl black girl\n",
      "when you take a selfie with your mom cause you love her and it's mother's day\n",
      "white people hispanic people black people\n",
      "phillipines trying to find cambodians weakness\n",
      "and that's when i went downs on her\n",
      "\"hey carl, whatcha doin?\" \"just passing out invitations allah\"\n",
      "\"officer down!! repeat, officer down!\"\n",
      "welcome to the new democratic muslim party\n",
      "official photo of ben carson endorsing trump\n",
      "bitch ain't gettin off kitchen duty that easy\n",
      "germans\n",
      "1:26 pm 0.0kb/s close enough sunny sharma\n",
      "when the german kid tries to do a fortnite dance\n",
      "jewish travel trailer\n",
      "the theory of evolution. it has just been proven\n",
      "monkey pox escaped from biazoo\n",
      "barack taking michelle to get pampered the first day off of quarantine\n",
      "look at her... she didn't learn anything from the last time\n",
      "when a jewish girl says she's into guys with tattoos\n",
      "problem solved\n",
      "meanwhile in pakistan hello abdul, also i'm pregnant\n",
      "when you think you're tearing up the pussy but you end up tearing up your son too\n",
      "pride march? where?\n",
      "sure, не made the wrong choice but made it for the right reasons was trying to help his friends we've all done something silly for a friend, right?\n",
      "bring on the refugees im fucking ready\n",
      "instead of wiping away your tears wipe away the people who created them\n",
      "wow...a terminator and a transformer in the same pic\n",
      "some typical chinese tacos\n",
      "mohamed, i'm pregnant\n",
      "if tellin a monkey face lie was a person\n",
      "did someone order a chinese?!\n",
      "refugees welcome!\n",
      "michelle obama does not approve of this bullshit and your shenanigans\n",
      "cougars they make great pets\n",
      "the perfect role play doesn't exis..\n",
      "tortured... by my own fellow men... focus, jesus! snap out of it. no! it's payback time\n",
      "what's that burning? oh, it's my family\n",
      "blind kid came to the store looking for a superman shirt hooked him up\n",
      "if sit yo monkey ass down was a person\n",
      "one of the most dangerous animals in the world resting quietly next to a crocodile\n",
      "1939- 1945 bake off winner\n",
      "ghetto whack-a-mol\n",
      "wanna buy a graham cracker? a gram of what?\n",
      "that look on your face when you decided to use the same bathroom as my daughter!!\n",
      "blocking the couch in with the dishwasher... solid move!\n",
      "it's how technology has advanced polish remover 1940 polish remover 2019\n",
      "they suck the western welfare systems dry, outbreed to become a majority, lobby for their own laws and takeover. like and share if you are sick of it\n",
      "teacher: okay class bring out your calculator abdul: wtf, abdul?!?!?!!?\n",
      "when you're proud of finishing a race\n",
      "stereotype. it!!! look at me!!\n",
      "her: i've never been fucked before me: kick her in the pool well you're fucked now\n",
      "both are useless without chains\n",
      "what's the difference between them and cancer? my dad didn't beat cancer\n",
      "that's what you call a ... bath bomb\n",
      "i wonder if they smell bad so blind people can hate them too\n",
      "what's the difference between the two? a couch can support wife and kids\n",
      "what's the difference? a canoe tips\n",
      "what's the difference between the two? i'd give a shit if i lost 6 million dollars\n",
      "at least batman can go out at night without robbin!\n",
      "they enter a bar. no one paid\n",
      "at least darth vader admitted that he was the father\n",
      "they fart a lot ... because they're filled with gas\n",
      "they're the worlds fastest readers. went through 80 stories in 7 seconds\n",
      "their natural habitat appears to be the jail cell\n",
      "steps on how to pick up a jewish girl\n",
      "they can't have a white kid, cause two wongs don't make a white\n",
      "a sandwich maker and a punching bag all in one\n",
      "wow. a picture with the dad in it. that's called a fairytale\n",
      "they're just like tornadoes. it only takes one to ruin the neighbourhood\n",
      "people who say white people can't jump obviously haven't seen this\n",
      "the most popular game genre here ... rpg\n",
      "a bunch of them in a shed. we call them 'new gardening tools'\n",
      "a building full of them is called - a prison\n",
      "they both fall from a building. who will fall first? we don't care\n",
      "they're not all bad. it's the 99% that give the 1% a bad name\n",
      "the perfect shooting range\n",
      "what's the difference? one doesn't sing when you put it in chains\n",
      "a bunch of them rolling down the hill. also known as a prison break\n",
      "the only shining part on them. the handcuffs\n",
      "what do you call them when they're waiting to pick up their friends? a get away driver\n",
      "why do black people like these shirts? because they picked it themselves\n",
      "they only punch with their left hand because they got no rights\n",
      "what's the difference between them and a drive way? you would slow down when pulling into your drive way\n",
      "the western media is so wrong to create a stereotype of them being terrorists. only when you visit india you realize they're also pickpockets , carjackers and petty thieves\n",
      "they have only nightmares. because the last one who had a dream got shot\n",
      "takes them a while to take a shit ... about 9 months\n",
      "i don't hate them. i have one in my family tree. still hanging from there\n",
      "they are like bananas. nobody likes the black ones\n",
      "what do you say when your tv is floating at 3 a.m? drop it\n",
      "they have big noses ... because air is free\n",
      "what's the difference between the two? one should be on the cover of national geographic and the other should be on the cover of playboy\n",
      "they're all fast. cause the slow ones are in jail\n",
      "outdated gardening equipment\n",
      "what do you call them? hungry\n",
      "the nazis identified them by rolling coins down the street\n",
      "there is nothing wrong with them. everyone should own one\n",
      "why can't they drive? cause there's no road to the kitchen\n",
      "how to pick up black girls\n",
      "local restaurant gets new slow cooker\n",
      "vw cars produce more gas than expected ach! that's my car\n",
      "...and that's when i went downs on her\n",
      "laughs in cracker\n",
      "went to wal-mart for windshield wipers picked up a sandwich maker!\n",
      "white kid preparing for first day at school\n",
      "imagine a world without muslims\n",
      "every girl is a squirter if you hit the right spot\n",
      "get you a man who will never walk out of your life\n",
      "must be a dodge owner because they're having tranny problems\n",
      "first step to make asian rice: wash the chicken\n",
      "this one is called sexy times with that sheep of mine\n",
      "when the entire world accuses you of conquering the holy land and killing muslims\n",
      "my wife called me a paedophile that's a big word for a 9 year old\n",
      "muslim playboy latest edition\n",
      "what's the difference? one of them can actually finish a race\n",
      "handjobs 50% off\n",
      "i fed thousands of people bread and wine bitch please, i made millions toast\n",
      "what should we do with the infected?\n",
      "monkeys often play with each other\n",
      "when you were planning a terrorist attack but gatherings were banned due to coronavirus\n",
      "she said put the veggies in the car\n",
      "now i have up syndrome\n",
      "lets end racism\n",
      "dammit the dishwasher's broken again\n",
      "when a jewish guy says he's into girls with tattoos\n",
      "build a wall mines work too\n",
      "they are like bacon. they look good, smell good but will slowly kill you\n",
      "i'm no genius, but maybe this is why congress wasn't notified of a secret attack on isis\n",
      "when they say white folks don't know how to cook\n",
      "what's the most expensive thing in the world? his gas bill\n",
      "teacher: okay everyone put your phone on your table mohamad:\n",
      "women use chemicals to remove nail polish everyday and no one bats an eye i use chemicals to remove the nail polish and suddenly i'm the world's biggest villain!\n",
      "spot me a drink\n",
      "i just squirted fart fluid\n",
      "when the whole squad pays respects to the holocaust\n",
      "if it's an evil past it should never happen again\n",
      "toy story is coming\n",
      "open a cold one with the boys\n",
      "this war was tough and saddened the world\n",
      "american logic: important important\n",
      "look at the palace, *was it's your uncle samir\n",
      "every tree needs sunlight\n",
      "4 years with these kids i'm tired\n",
      "kills: 17 million, deaths: 1 worst man ever\n",
      "how to cook turkey in usa how to cook turkey nowhere\n",
      "\"my husband told me to make him a sandwich i need a good comeback i would not make a sandwich\"\n",
      "some thoughts are hard to forget\n",
      "so i guess mcdonalds is out of the question\n",
      "laughs and smiles everywhere this is really a zoo\n",
      "best odor removers\n",
      "get to work kind of day\n",
      "hi monkey\n",
      "this has no place on the grass\n",
      "our guide is leading us to curing these children\n",
      "if you hold her up to your ear you can hear her laugh\n",
      "my neighbour ordered a blow-up doll from a muslim sex shop\n",
      "what if tornadoes are actually created secretly by the government to destroy white trash people living in trailer homes\n",
      "what's the deal with black people? they're not black and they're not people\n",
      "these people are the pugs of humans\n",
      "how to put a refugee baby to sleep in less than one minute\n",
      "its not right to judge someone by the color of their skin they might just be tan\n",
      "stop illegal immigrants they're taking the land we stole\n",
      "women astronaut because sandwiches won't make themselves up here\n",
      "standing against the prideful world is not only christian but a christian's duty, \" god resisteth the proud\", 1 peter 5:5\n",
      "handjobs sold seperately\n",
      "introducing fidget spinner for women\n",
      "happy pride month let's go beat up lesbians\n",
      "laughs in [majority of u.s crime rate]\n",
      "finds out those 72 virgins.. are goats\n",
      "look your dad fucked goats.. i capped him...sorry..\n",
      "claims that her ancestors created a safe space for jews these are her ancestors\n",
      "when they laugh about your 9cm in the change room but they haven't seen your 9 mm yet\n",
      "roses are black, violets are black everything is black, i can't see\n",
      "bruce jenner's cat\n",
      "myth: gingers don't have souls  fact: gingers earn a freckle for everey soul they steal\n",
      "when you found your wife is cheating on you ya allah\n",
      "when you convert your dishwasher into a weed eater\n",
      "so i guess a handjob is out of the question\n",
      "stop illegal immigrants they're taking the land we stole\n",
      "then he said i couldn't come to the barbecue because i always burn the franks\n",
      "i am not racist some of my best slaves are black\n",
      "its not right to judge someone by the color of their skin they might just be tan\n",
      "we talked about it  i agreed dinner would be ready on time in the future\n",
      "i'm this pretty because both my parents are white\n",
      "what do i have in common with cow pies? xxx the older we get, the easier for you to pick us up!\n",
      "wtf is with this guide dog? i keep ending up at kfc\n",
      "i hate snow it's white and on my land\n",
      "stop saying my religion is violent.. i will kill you in the or name of my religion\n",
      "i hate the chinese, black, white, mexican people so who do i like? therein lies the problem\n",
      "we live in a society where they lecture us on morals and biology\n",
      "when your dad come back after 18 years saying \"damn that line at walmart aint no joke\"\n",
      "life is like belgium some times you just have to march through it\n",
      "why are we smart? because we went to camps!\n",
      "banging a squirter not fun for a gay man\n",
      "hm.. it appears you're a cracker\n",
      "running chocolate\n",
      "when you beat up a black kid and get arrested for propriety damage\n",
      "muslims moved in... but theyre not moving out.\n",
      "this one's called dirty deeds done with sheep\n",
      "found this old photo of our grand parents on their quad\n",
      "had secret door before it was cool\n",
      "when you've just realised your son has taken the wrong backpack to school\n",
      "best thing about her blowjob?... you know shes gonna swallow!!!\n",
      "when you're still fucked from last night's bender and sunglasses aren't gonna cut it\n",
      "fed five thousand jews with five loaves and two fish made six million jews toast\n",
      "indians evolution after 15august1947\n",
      "flight attendant: *yawns* deaf passengers:\n",
      "modern japanese '' ''\n",
      "it's the religion of peace. join exclusive islam!\n",
      "we said we would never forget why are you voting them into our governement?\n",
      "the face you make when you don't understand what \"stop resisting\" means\n",
      "\"life is like a box of chocolates.\" it sucks if you have diabetes\n",
      "how i see black people getting trolled on the internet\n",
      "when her head game so strong she suck a chromosome right out of you\n",
      "gas yourself\n",
      "i'm not racist i hate white liberals more than anybody\n",
      "jew jerky: leave out in the sun until all moisture is gone store in a cool dark place for 3 days\n",
      "who ya gonna call? goat fuckers\n",
      "when your dad comes home from a suicide bombing\n",
      "jew mad? get fuhrererious !\n",
      "knock, knock who's there not this bitch ( obviously )\n",
      "shia men after getting an erection\n",
      "let's shake hands and forget about that colonialism stuff\n",
      "teacher: alright class take out your calculators mohammed:\n",
      "anjem choudary wants this removed he said it insults islam. so i thought fuck it why not share\n",
      "sorry i'm late. having tranny problems\n",
      "when you got a warrant out for your arrest & you on the run.....\n",
      "warning \"every\" country that has become involved in muslim immigration has eventually become an islamic state, and don't the fate of your country will be any different islam is a cancer for which there is no cure\n",
      "it's a piece of cake if she's not awake\n",
      "really ? eating pork is a sin but marriage to a 6 year old is ok\n",
      "doesn't wear tampons because she trips over the string\n",
      "this makes me puke send all of them back home\n",
      "japanese citizen watches as nuke drops on the 9th of august 1945 (colorized)\n",
      "they're escaping quick... from the cake!\n",
      "i wish i could stand by you!\n",
      "white cave beast evolved from moneys\n",
      "it's time we make peace with islam\n",
      "monkey face monkey attitude\n",
      "once you go black ur a single mom!\n",
      "ugly mafuckas be like.. bru, i know she want me i got dreads\n",
      "once we are done destroying our country we'll move to yours!\n",
      "muslims offend me\n",
      "when the vegetables are 2 for the price of 1\n",
      "this is what science does for humanity this is what islam does for humanity\n",
      "farming simulator 17\n",
      "no to transphobes give trans people peace\n",
      "cracking open a sold  one with the boys\n",
      "what's that burning? oh it's my family\n",
      "thanksgiving in china\n",
      "what's the deal with black people? they're not black and they're not people\n",
      "when your dad passes the family school shooting gun down to you\n",
      "gay friends asked for directions told him to go straight\n",
      "when mum tells you to rinse the vegetables\n",
      "i'm down.. ...with that\n",
      "this story touched my heart twins separated at birth find eachother after 50 yrs\n",
      "islamic prayers answered\n",
      "this movie sucks i am thinking of another shooting\n",
      "vanish shampoo\n",
      "when you unlock a new skin for your character\n",
      "hey grandma what are you doing ? im sewing a scarf for your trans brother ajay\n",
      "imagine being so disugsting there have to be laws to try to stop normal people from hating you\n",
      "black friday deal buy one get one free toaster\n",
      "the fucking dishwasher is acting up!\n",
      "mmm what's cooking\n",
      "anyone else hate how hard these spot the difference pictures are getting\n",
      "just admit it. white america was better\n",
      "hope on a rope it's what everyone's been waiting for\n",
      "that look when you high as fuck on dem chromosomes\n",
      "slow cooker\n",
      "organic vegetable\n",
      "there use to be a pet shelter here\n",
      "how to fix a noisy dishwasher\n",
      "when i grow up i want to be a gas plumber\n",
      "who said i'm uneducated i have my master\n",
      "we are never going to have social change until take personal responsibility for our own lives and participate in our communities\n",
      "went down on a muslim bitch. her pussy was the bomb!\n",
      "man: i'd like to trade her in for newer one\n",
      "old barack obama\n",
      "him: have you seen my cat lately? her: nope, have you seen your dad lately?\n",
      "rare picture of child birth\n",
      "yellow black red and normal\n",
      "when you want to enter islam when you want to leave islam\n",
      "white people when they learn fish swim in schools\n",
      "personal stylist $15,000 / week makeup artist $4,000 / month makeup artist $4,000 / month i can't tell the difference\n",
      "you should thank me for what i've done, there would have been more of them\n",
      "when she asked for equal rights so i gave her equal left\n",
      "things i love to hunt\n",
      "today we're making vegetable soup! the most disturbing thing i've seen all day.\n",
      "leave that one alone bill he's my weed man\n",
      "can you spot the difference?!?!? didn't take me long either - 1st car's red\n",
      "the dishwasher was making a funny sound but i fixed it\n",
      "hmm today i will commit 50% of all violent crimes despite being only 13% percent of the population being opressed time\n",
      "islam is the religious of love and peace\n",
      "being able to call someone \"mine\"\n",
      "musllim logic: important unimportant\n",
      "how you look when youre black and you celebrate the 4th of july\n",
      "this project is tough but it will save the world\n",
      "new implant allows muslims to speak directly with allah apply to forehead\n",
      "aye, tone! why would dey delouse 'em if dey was just gonna whack 'em?!\n",
      "what would you do if i got pregnant\n",
      "farming simulator 1800\n",
      "when when germans try to dab\n",
      "made rice krispies way before kellogg's\n",
      "party tonight? i'm down\n",
      "things i love to pull behind my trunck\n",
      "jack's links presents messing with sasquatch\n",
      "ahmed? im pregnant!!!\n",
      "the evolution of man\n",
      "use one to protect your watermelon farm\n",
      "porn casting or terrorist recruitment? -yes i can blow\n",
      "every white man dream\n",
      "if i had a gone i could convert this fruit to vegetable\n",
      "they don't know how to use condom, this is the only way to control their population\n",
      "if you want good life for your children kill them all\n",
      "why test drugs on intelligent animals when we have plenty of vegetables to spare?\n",
      "he won because he is a boy competing in a female sport\n",
      "the first annual mohammed-a-thon\n",
      "you know that we are better than any other race\n",
      "when you fart next to the jewish kid, and realize you just gassed the jews\n",
      "international boxing day\n",
      "black santa\n",
      "andy's coming\n",
      "when your test comes back and you got a 47 out of 46\n",
      "why is it so good? because it's white\n",
      "spiders are like him not all of them are dangerous but since they all look the same to me, i don't want any of them in my house\n",
      "rape helping them have sex for generations\n",
      "(laughs in goat fucker)\n",
      "my local mosque is really going all out for gay pride this year\n",
      "dey call me wong sum ting wong\n",
      "mom won't let me use the oven with my jewish friends\n",
      "vegetable soup\n",
      "what is that wonderful smell? it smells like... caramel! oh, today we burnt the diabetics\n",
      "we dipped this shit in bacon grease mixed with bacon juice smothered in hate when it is time, rest assured america. when the enemy brings it to our soil, we will bring it to them\n",
      "best polish removers\n",
      "there's a 50% chance this phone is stolen\n",
      "muslim wife wearing sexy lingerie for her husband\n",
      "baboons and monkeys everywhere this is really a zoo\n",
      "what are you doing there? you're a cat, not a jew\n",
      "they're not alllll rapists... right?\n",
      "i was asked who my favourite x-men character was apparently my answer was inappropriate\n",
      "can you smell what the reich is cooking?\n",
      "you call that a killing, ahmed? this is a killing!\n",
      "blacks are musical they always love a good beat\n",
      "if you ever feel down just remember there are people that are down their whole life\n",
      "\"they are the biggest terrorists in the history of the world. we have entire history of books showing this data\"\n",
      "fighting them is nothing new. letting them come into our land and spread their disease is\n",
      "wherever they go destruction follows\n",
      "if they aren't lazy, then why doesn't kfc have a breakfast menu\n",
      "when dishwasher stops working take it back\n",
      "when you finger an asian girl\n",
      "have you tried their food? neither have they\n",
      "\"blue power tie red power tie white power tie\n",
      "a little gas never killed anybody right?\n",
      "no little asian don't eat them raw\n",
      "error\n",
      "white kids be like i have had enough\n",
      "the only way to deal with islam\n",
      "look at the plane, *was it's your uncle samir\n",
      "\"nice watch must have cost an arm and a leg\"\n",
      "when the whole squad roasts the jewish kid\n",
      "there's a reason they have children. they are pedophiles\n",
      "look dude a second hand store !!\n",
      "see? i fuckin told you! little foil on top keeps them jewsy\n",
      "4 ways to boil vegetables\n",
      "they're in a relationship, who makes the sandwiches?\n",
      "straight outta oven\n",
      "the face you make when one of those damn apes cancels your show\n",
      "this is the worst cancer i've ever seen\n",
      "german fireworks\n",
      "feeling cute might write a diary later\n",
      "if it fits it ships\n",
      "spending alot of time with your pets\n",
      "turns out out they were expecting something very different went gay clubbing with some friends\n",
      "scientists have discovered that they have a lot of intelligent dna unfortunately most of them spit it out\n",
      "if you hold it up to your ear you can hear police sirens\n",
      "i could have annihilated all of them but i left some of them alive so you will know why i was killing them\n",
      "illegal immigration the cowboy way we'll know them if they try to come back in!\n",
      "when you call the avengers and they send the one from wakanda\n",
      "millions of kills, 1 death what a fucking camper\n",
      "when you so savage you roast a whole race\n",
      "refugees welcome\n",
      "how to put a refugee baby to sleep in less than one minute\n",
      "how to prepare the dog for the family event american asians\n",
      "r = rape\n",
      "i got 99 problems and chromosomes\n",
      "burning things that don't mean anything to you\n",
      "i went on a date blind date\n",
      "not the shower we deserved but the shower we needed\n",
      "what if he was the second coming of christ certainly would explain his issue with jewish people\n",
      "\"life hack #23 how to get stoned with no weed\"\n",
      "rise of the planet of the apes (1963)\n",
      "handjobs sold separately\n",
      "great financial news for me this morning no longer have to send $16 a month to that african kid\n",
      "she put on the purple lipstick and she became the bomb\n",
      "car salesman roof of car\n",
      "what every muslim looks like to me\n",
      "why don't they eat pussy? too close because it's to the gas chamber\n",
      "is it a boy or a girl? it's a bomb\n",
      "partial arts\n",
      "oops. broke the dishwasher again\n",
      "she's chilling with her new purchases\n",
      "how black women fight crime\n",
      "how to spot a criminal\n",
      "than nasty i'd rather be deplorable\n",
      "well, i guess we'll.. beheading home now\n",
      "don't defile the lineage given to you by your forefathers do what's right, keep it white\n",
      "what every arab in sydney looks like\n",
      "some habits are hard to stop\n",
      "march 8th international women's day\n",
      "this happens to 1/3 of women 2/3 aren't doing their job\n",
      "he went to jail for your sins\n",
      "party tonight? i'm down\n",
      "heeeadddd shoulders wheel and frame wheel and frame\n",
      "which jewish girl is hotter?\n",
      "when ur too young to know racism but ur happy cause u got a new pet\n",
      "this has no place on american soil\n",
      "rice cooker now versus in 1945\n",
      "i was going to make a joke about us but they always blow up in your face\n",
      "when your little bomber brings home his first girlfriend\n",
      "and that was the last nativity play my son was invited to take part in\n",
      "would ya look at that this dryer comes with a free dishwasher\n",
      "the woman you met who admits she's wrong, apologizes and changes her ways\n",
      "the original derp face\n",
      "when you find a shooter the same day you plan a bombing, so you team up\n",
      "there's only one race the human race and that thing on the right? that's a monkey in human clothes\n",
      "share a coke with your dad\n",
      "how to pick up a girl from auschwitz:\n",
      "to see better, asians sometime switch to fullscreen veiw\n",
      "\"my husband told me to make him a sandwich i need a good comeback i would come back with a sandwich\"\n",
      "kills: 17 million, deaths: 1 fucking camper\n",
      "how to cook turkey in usa how to cook turkey in romania\n",
      "the i'm not black but my kids will be face\n",
      "lawn darts muslim style\n",
      "once you go black so does your face\n",
      "good guy police officer capturing them young\n",
      "my neighbour ordered a blow-up doll from a muslim sex shop\n",
      "i just squirted tranny fluid\n",
      "shame on you america you said you would never forget\n",
      "spot the difference\n",
      "how do you get a jewish girls number? roll up her sleeve\n",
      "sometimes, you have to water your farm equipment so it doesn't overheat\n",
      "let's not be hasty. the worldview of the guys who created this grisly spectacle of mass-murder could be any number of- comedy aaaaaannnd it's these guys\n",
      "monkeys often pick bugs off each other to snack on\n",
      "these wind chimes don't make a sound should have known the brown ones wouldn't work\n",
      "these people are the pugs of humans\n",
      "texting and flying n what's the worst that could happen?\n",
      "asians be like switching to fullscreen mode\n",
      "turn for what\n",
      "me convincing homophobes that i'm just like them and not a sexually deviant pervert\n",
      "if they aren't meant to cook why do they have eggs and milk inside them\n",
      "when your parents ask why the gas bill is so high\n",
      "because even other planets need crime\n",
      "how to pick up a girl from auschwitz\n",
      "stupid neighbours woke me up\n",
      "last year tyrone got a new job, started building his credit, then something amazing started to happen! and spending more time with his kids\n",
      "\"beats by dre beats by tyrone\n",
      "our insurance\n",
      "this guy just friended and unfriended me 45 times in 15 seconds anyone know him??\n",
      "when your dive instructor starts yelling in arabic\n",
      "be careful who you call ugly in high school\n",
      "note to americans: we behead gays and brutalize women so keep on \"tolerating us\" until we take over your country\n",
      "kid with cancer: so when i get out of the hospital i'm going to join you? the avengers visiting him:\n",
      "ideology kills a dozen \"infidels\"\n",
      "when you max out intelligence and put nothing on agility\n",
      "i support terrorists because they're pea brains like me\n",
      "they're just like eggs better when beaten well\n",
      "say \"no\" to pride month! it's not only the proper christian stance, but the christian's duty \"...god resisteth the proud...\" 1 peter 5:5\n",
      "met a jewish girl and she asked me for my number i told her we use names here\n",
      "hey there delilah, what's it like in new york city.\n",
      "wait a sec are u trying to gas me again\n",
      "when you start burning calories instead of people\n",
      "romanians when they see a slightly open purse/pocket/window\n",
      "sea monkeys\n",
      "life has its ups and downs\n",
      "\"farming simulator 19 classic equipment dlc\"\n",
      "\"if a dishwasher wore pants, would it wear them like this or like this\"\n",
      "authentic lunch in venezuela\n",
      "women use chemicals to remove polish everyday and no one bats an eye i use chemicals to remove the polish and suddenly i'm the world's biggest villain!\n",
      "book of satan written by psychopaths\n",
      "what i say about the gunman every time there's a mass shooting\n",
      "can afford to travel from romania to london still picks your pocket\n",
      "ladies and gents i present you with miss islam 2015 contenders\n",
      "when your leader is killed by a drone and you get to fuck his herd of goats\n",
      "when you told her you was going to fuck her till she was stupid\n",
      "when you wanna delete google chrome but you accidentally delete your chromosome\n",
      "women astronaut because sandwiches won't make themselves up here\n",
      "rare picture of a dishwasher at birth\n",
      "when you see the gas bill\n",
      "similar to sharks because all the great ones are white\n",
      "didn't get bought today success!\n",
      "my dog loves the attention\n",
      "a muslim mans fantasy\n",
      "a fire cracker\n",
      "go home stoned eyes give nothing away\n",
      "when someone asks me how many chromosomes i have more than you\n",
      "1939-1945 bake off winner\n",
      "the closest some of us will ever get to heaven\n",
      "made rice krispies way before kelloggs\n",
      "and that's why i gas people\n",
      "they were mentally ill. i had to cure them\n",
      "we can end racism if we end a race\n",
      "over heard my daughter telling her friend she was curious what it would be like to date a black guy so ... i showed her!\n",
      "don't be racist black and white children are the same\n",
      "i think it is safe now challenge accepted\n",
      "when your teacher roasts you and your homie but he doesn't know about the bomb that's going off in 2 mins\n",
      "their average iq is about 70-80, few points above being retarded\n",
      "how dark are my memes? well they.\n",
      "what if tornadoes are actually created secretly by the government to destroy white trash people living in trailer homes\n",
      "when black people think it's funny to steal a white man's bike\n",
      "me: want some ribs? chinese person: no me: want some ribs made from house pets? chinese person:\n",
      "loading the dishwasher in the back solid move\n",
      "4 years for your bachelors? i worked 60 years for my masters\n",
      "how to get stoned without smoking weed\n",
      "what's better than winning a gold medal in this contest walking\n",
      "\"how we see muslims how muslims see us\n",
      "i hate it when white people throw gang signs thinking they're black and shit\n",
      "they are like manure spread them out and they help everything grow better, but keep them in one big pile and they stink horribly\n",
      "when you realize you're pregnant because you pull out your tampon but all the cotton was mysteriously picked off\n",
      "what a true rapist looks like\n",
      "what's the difference between the 2? the first one can't sing when you put chains on it\n",
      "when a waitress dates the new dishwasher\n",
      "the look you give when your husband would rather fuck a goat then you\n",
      "feeling cute. might kill 6 million later...idk\n",
      "turning every country it touches into a shithole\n",
      "\"great at making martinis terrible at stealing tambourines\"\n",
      "\"leave that one alone bill he's my weed man\"\n",
      "the guy who created the joke the jokers\n",
      "how white liberals treat minorities who don't vote democrat\n",
      "turn your dishwasher into a snow remover\n",
      "allah! my goat doesn't love me anymore!\n",
      "when your dad comes to career day and starts handing out mixtapes\n",
      "wait, mohammad come back!! didn't mean to laugh, really size doesn't matter to me\n",
      "when mom asks where all the jews went\n",
      "3.8 billion of them on earth. why isn't it clean yet?\n",
      "when dad keeps banging the goat instead of you\n",
      "\"my name is osama bin laden and this is jackass\"\n",
      "african american leaders organizing the la riots april 29, 1992\n",
      "\"we're his kids and he hasn't returned. yeah this makes sense\"\n",
      "when you've decided to start a life of crime\n",
      "me watching the pride parade\n",
      "when i said i wanted a little pussy this is not really what i had in mind.\n",
      "\"you think i'm a terrorist but i identify as a firework\"\n",
      "\"they were uneducated false. they all had their masters\"\n",
      "went down on a muslim bitch her pussy was the bomb!\n",
      "when she asked for equal rights so i gave her equal left\n",
      "when you fart next to the jewish kid, and realize you just gassed the jews\n",
      "when you want to enter islam when you want to leave islam\n",
      "if they aren't lazy, then why doesn't kfc have a breakfast menu\n",
      "when black people think it's funny to steal a white man's bike\n",
      "find differences\n",
      "can you smell what the reich is cooking?\n",
      "how do you get a jewish girls number? roll up her sleeve\n",
      "anybody can be a superhero\n",
      "pigs in india page\n",
      "we demand equality! black lives matter!\n",
      "isn't she beautiful?  she's beyong gorgeous!\n",
      "the kkk n are domestic terrorists\n",
      "went to wal-mart for windshield wipers picked up a sandwich maker!\n",
      "the original amazon\n",
      "that face you make when play time is over\n",
      "hand sanitizer 99.99% bacteria 00.01% bacteria\n",
      "when it's time to take the trash out but you don't wanna so you just stand there cause you're a lazy piece of shit\n",
      "love is love stop racism\n",
      "did someone say asshole?\n",
      "ayy girl are you police? cuz you took my breath away\n",
      "the next generation of muslims\n",
      "monkey see monkey do\n",
      "i see that jews emigrating\n",
      "sair what if we used 0% of our brain? saif btz man\n",
      "that moment your dad pushes you into the ocean\n",
      "when you find out snakes can swim\n",
      "kill them, adolf kill them all\n",
      "when your dishwasher is done for good i'd still run another load through it\n",
      "hitler was an evil man\n",
      "a brilliant mind\n",
      "anne frank was a brave girl\n",
      "there is a broad range of disabilities\n",
      "stanley from the office is my favorite character\n",
      "when i grow up lol nevermind\n",
      "the original derp-face\n",
      "deciding to bake\n",
      "god's chosen psychopaths\n",
      "there was a tragedy that day at the pub\n",
      "keep ulster tidy 1973 get rid of the rubbish\n",
      "what ya thinking about? i don't know, killin goat fuckers and shit\n",
      "would jew like a cup of tea?\n",
      "bitches don't know about my gas bill\n",
      "my name is cra gonna love this, every single house here recycles\n",
      "turn in your gun get a free tattoo\n",
      "sorry i'm late having tranny problems\n",
      "when your muslim gf invites you over for dinner\n",
      "not all muslims are terrorists\n",
      "wait don't forget to feed me!\n",
      "only someone with poor humor would find this funny\n",
      "gas was this high\n",
      "haha, it's so funny gas it\n",
      "your jewish cousins are visiting today, so please behave yourself me:\n",
      "hitler killed millions of jews using gas chambers\n",
      "adolf hitler died april 30, 1945\n",
      "hitler slaughtered at least 6 million people\n",
      "in the end they lived on no matter what he tried to accomplish\n",
      "happy international sandwich maker's day from make aus grouse again\n",
      "mohammad come baaack!! size doesn't matter me, lol\n",
      "when you're only a little racist goonie\n",
      "holocaust survivor has marking on his arm\n",
      "i'm glad she's happier being who she really is\n",
      "when you have to fart but don't want others to suffer\n",
      "fuck them\n",
      "when boys know how to cook one, turn on the gas\n",
      "the gas bill is too damn high\n",
      "put the laughter back in manslaughter\n",
      "holocaust survivor dies during trip to auschwitz got her\n",
      "the housewife era has long since moved on\n",
      "hitler memes are over done and not funny\n",
      "want to hear a knock knock joke? nein!\n",
      "the nazi symbol is not punk rock\n",
      "the best thing about my lot. looks good to me!\n",
      "it's devastating when children have to deal with cancer\n",
      "stephen hawkings was an incredible man\n",
      "who knows what was going through hitler's mind\n",
      "adolf hitler killed them all with no remorse\n",
      "racial stereotypes is being racist\n",
      "an open casket funeral\n",
      "*had* a solution but nooooo.\n",
      "the original derp-fac\n",
      "this one time at camp we got so baked\n",
      "my name is cra gonna love this, every single house here recycles\n",
      "represent your country's flag until death\n",
      "what ya thinkin about? idk, killin people and shit\n",
      "this is one weird jug\n",
      "no matter the situation his smile is creepy!\n",
      "when mommy says a bad word\n",
      "wouldn't want to be neighbors with these people\n",
      "jewish men rocking the jewish hair\n",
      "3 muslims walk\n",
      "hitler invaded poland in 1939\n",
      "hate comes in many forms\n",
      "mein kamp pun.com\n",
      "support your local dirty white boys\n",
      "we can't pay you this month jk i'm the president of course i can\n",
      "i think her ponytail too tight\n",
      "a child reenacts one of hitlers speeches\n",
      "praise allah for this glorious moment\n",
      "it's monday!!! nooooo!\n",
      "just girls having fun\n",
      "no one should be punished this way\n",
      "ay, tone. why dey bakin' bread and cookies if everyone's gettin' whacked?\n",
      "a grandfather fondly looks after his granddaughter\n",
      "prospecting when you don't do it you end up ted in clubs that are all wrong for you\n",
      "why was six afraid of seven? because seven eight nein!\n",
      "a woman cuddling a bear\n",
      "you hang up. -no, you hang up\n",
      "your post goes against our community standards hate speech admins\n",
      "hitler was insane\n",
      "rapper prays to have a good performance\n",
      "god's chosen terrorists\n",
      "these night vision goggles are cool\n",
      "those guys are fags!!\n",
      "instagram cadburyaust who yours to? view all women deserve equal rights and lefts liked by lazedmemez and others i'm sorry if this offends fucked view comment comment\n",
      "a strong woman comes in many forms\n",
      "you gotta hold her all night long... ...cause she steals.\n",
      "nothing can stop you\n",
      "all i wanted was some concentrated juice\n",
      "i'm too block shaped to fit through the door\n",
      "by: thecarguy gas, gas, gas you gotta step on the gas.\n",
      "instagram cadburyaust who yours to? view all women deserve equal rights and lefts liked by lazedmemez and others i'm sorry if this offends fucked view comment comment\n",
      "the gas bill is too damn high funny offensive memes offensive pictures ever most\n",
      "demonic gorillas switching prayers like\n",
      "hebrew soldiers celebrating\n",
      "your view on the refugees? me: flir 1340\n",
      "ha!! i won an award!!\n",
      "hitting a woman is never okay\n",
      "your post goes against our community standards hate speech admins our standards apply globally and based community. bosch 12hrs theism atheism bans atheists and their ideology continue\n",
      "verizon 8:20 pm write comment... larry zamparelli they look cute and cuddly, but the slightest thing can turn this beautiful creature into something so dangerous and violent that the toughest of men could be killed or maimed for life. here you can see it cuddling a bear\n",
      "no matter what they overcome\n",
      "my brain after reading badly written texts\n",
      "so this is what being black is like\n",
      "if hitler was an anime character\n",
      "dishwasher for sale missing\n",
      "true love is found when you can be vulnerable together\n",
      "look at this snack 279 likes damn who took a bite\n",
      "my son was upset about his cut, so we turned him into his hero 46 share best comments award harry potter and the gas chamber of secrets\n",
      "look at all those sheep! more wool for the winter!\n",
      "bake off winner make meme\n",
      "when you find out spongebob is jewish\n",
      "they desserved better they deserve peace\n",
      "probably in ur bed ya weird cunt im nota girl where do pee?\n",
      "don't support your local racists\n",
      "i can't pay you this month but we have those new popeyes sandwiches in the back\n",
      "cute ponytail!\n",
      "believeable understand why tommy robinson has roses are red violets are blue my wife is nine and i'm fífty two\n",
      "the kkk needs to be removed\n",
      "i see your point anne frankly i agree with you\n",
      "white trash meets actual trash\n",
      "muslim windchime\n",
      "now it only remains a reminder of the past\n",
      "friends: what's your view on the refugees? me: 1340\n",
      "this bullshit started because of this bullshit thanks to this asshole\n",
      "look at those pigs fly!\n",
      "you wouldn't mind if we searched ze house? it's not like you're hiding any cringe in ze attic\n",
      "just step in the shower here i don't remember asking\n",
      "three meals a week and all the goats you can rape join today\n",
      "when me and the squad get together\n",
      "miss 2016 miss 2018 miss 2017\n",
      "she's beautiful!\n",
      "when you really hate your neighbors\n",
      "refugees\n",
      "this is hasan hasan was born in sweden hasan is swedish this is misho misho was born an aquarium misho fish ken\n",
      "instead of wiping away your tears wipe away the people who created them\n",
      "how roaches be chillin under y'all refrigerators\n",
      "when the creepy old man is staring again\n",
      "the theory of evolution it has just been proven\n",
      "hello stupid americans i am here to give corona virus mahahahahahahahah\n",
      "if \"if you dont get yo black ass off me\" was a person!\n",
      "meanwhile in pakistan hello abdul i'm pregnant\n",
      "a woman should never be ashamed of wearing her bikini\n",
      "this one time at camp we got baked\n",
      "babies are still being born with birth defects\n",
      "edward norton was the lead in american history x\n",
      "it was at that moment he fucked up, and helped put the wrong load in the wrong dish washer\n",
      "both humans and animals can enjoy sports\n",
      "blaming a single race for the virus is wrong!\n",
      "nothing beats a good nights sleep!\n",
      "hitler just chillin' as if he's not a villian\n",
      "when the entire world accuses you of conquering the holy land and killing muslims\n",
      "may the events of auschwitz never happen again\n",
      "'as my wife you can't be so childish' 'but i'm only 8' 'oh yeah imao'\n",
      "the white shit emoji\n",
      "anne frank is one of the most well known people from the holocaust\n",
      "that face you make when your parents are actually cousins\n",
      "you in public you in closed fb groups\n",
      "thanks for doing the dishes i appreciate you!\n",
      "woman thanks trump for helping her\n",
      "goats are the cutest!\n",
      "these muslim men are hyped\n",
      "how roaches be when you shut off the kitchen light\n",
      "one of these is not like the others\n",
      "when you're playing cod and finally sneak up on the other team\n",
      "pakistanis in every indian pages\n",
      "people are able to be open about the lgbtq thanks to the government opening their hearts and it all started with this wonderful man\n",
      "a man playing hitler\n",
      "nazi ss soldier standing at attention\n",
      "sometimes you have to just focus on yourself\n",
      "i am so happy i got a goldfish\n",
      "let's get these terrorists laid out\n",
      "hitler was an evil man\n",
      "washer for sale missing some parts\n",
      "why build a wall? a bad ass electric fence would be way more entertaining\n",
      "hitler caused deaths since the start of his reign\n",
      "meanwhile in pakistan hello abdul, also i'm pregnant\n",
      "me and the bois in our way to a usa gay demonstration\n",
      "everyone is telling her no but she looks to the world and says yes!\n",
      "hey honey, how was work?\n",
      "problem solved\n",
      "look! he's looking healthy!\n",
      "when you find out your new neighbor is cool af\n",
      "when gorillas or threatened with extinction you'd do anything to help save them\n",
      "take your girl to the zoo to see a gorilla\n",
      "keep us strong keep our relationship pure\n",
      "my face when racism exists\n",
      "adolf hitler was an evil man\n",
      "hey carl what you doing? shooting bullets\n",
      "i saw the camera and that's when i knew to smile!\n",
      "doggo trying to find a cat's weakness\n",
      "jewish travel trailer\n",
      "\"hey, do you want a sip?\"\n",
      "official art of django unchained samuel jackson and leonardo di caprio\n",
      "welcome to life you never know when it will fuck you\n",
      "when the german kid tries to do a fortnite dance\n",
      "look at her... she didn't learn anything from the last time\n",
      "barack taking michelle to get pampered the first day off of quarantine\n",
      "monkey pox escaped from biazoo\n",
      "not all princesses are in need saving\n",
      "if you see obama tell him i missed my period!\n",
      "bitch ain't gettin off kitchen duty that easy\n",
      "official photo of ben carson endorsing trump\n",
      "welcome to the new democrat national islamic party\n",
      "when you teach hate it survives for generations\n",
      "barbecue is a way of life\n",
      "\"officer down!! repeat, officer downi!\"\n",
      "when you're both spooked to see eachother\n",
      "1:26 pm 0.0kb/s close enough sunny sharma\n",
      "if you see the zoo keeper tell them i want more food\n",
      "amputees continuing their sports n are super inspirational\n",
      "the shittiest person doesn't exi-\n",
      "two gorillas wrestling during quarantine\n",
      "the face you make when you visit the zoo for the hundredth time\n",
      "me and the bois about to bust a human trafficking\n",
      "when her mouth says no but her body says \"like i'ma gonna stop you\"\n",
      "mohamed i'm pregnant\n",
      "some immigrants sadly don't make it to their destination\n",
      "look... already has a warrant\n",
      "when you meet the guy robbing the house next door to the house you're also robbing\n",
      "when nazis get supid tattoos\n",
      "polish remover works since 1939\n",
      "tonight on animal planet planet of the apes\n",
      "hello? i'm hungry\n",
      "\"hey carl, whatcha doin?\" \"just passing out invitations allah\"\n",
      "and that's when i went downs on her\n",
      "phillipines trying to find cambodians weakness\n",
      "which one is hotter? white girl black girl\n",
      "mfw exist\n",
      "ninja may be a good player but i killed 17 million with the gas in fortnite\n",
      "these dog memes are over done and boring\n",
      "hitler was a bad person\n",
      "they suck the western welfare systems dry, outbreed to become a majority, lobby for their own laws and takeover. like and share if you are sick of it\n",
      "an unhappy baby is a loud baby\n",
      "it's how technology has advanced polish remover 1940 polish remover 2019\n",
      "two famous celebrities in the same pic\n",
      "instead of wiping out the jews we should've wiped out hitler\n",
      "blocking the couch in with the dishwasher... solid move!\n",
      "nobody's taking away my gun rights\n",
      "the face you make when you find out she's pregnant\n",
      "her: i've never been fucked before me: *kicks her in the pool* well you're fucked now\n",
      "i just wanna sleep all day\n",
      "stereotype. it!!! look at me!!\n",
      "when you're proud of finishing a race\n",
      "rocking the new sunglasses\n",
      "when you show up to the wrong party but you still tryna turn up\n",
      "teacher: okay class bring out your calculator abdul: wtf, abdul?!?!?!!?\n",
      "what do you mean no dessert?\n",
      "soldier with a machine gun\n",
      "kids fall asleep in the wierdest places\n",
      "if sit yo monkey ass down was a person\n",
      "blind kid came to the store looking for a superman shirt hooked him up\n",
      "age is just a number\n",
      "jesus what are you doing? i'm tired of this beard\n",
      "that look on your face when you decided to use the same bathroom as my daughter!!\n",
      "nazi and jew role playing is ignorant\n",
      "wanna buy a graham cracker? a gram of what?\n",
      "ghetto whack-a-mol\n",
      "free hugs for all you fucks that get offended over dumb shit\n",
      "anne frank is a well respected figure from dark times\n",
      "nobody wants to hug a nazi\n",
      "1939- 1945 bake off winner\n",
      "t-mobile 23:36 just killed a man\n",
      "one of the most dangerous animals in the world resting quietly next to a crocodile\n",
      "asking my mom to play video games\n",
      "worst shirt ever\n",
      "cougars they make great pets\n",
      "michelle obama does not approve of this bullshit and your shenanigans\n",
      "refugees welcome!\n",
      "did someone order a chinese?!\n",
      "dad pretending to be thor\n",
      "whats that burning? oh, it's my family\n",
      "free hugs for all you fucks that get offended over dumb shit\n",
      "when it comes to the most terrible people hitler is the winner\n",
      "if hitler were to make an album i do nazi it selling very well\n",
      "this woman is very brave for being so close to a crocodile\n",
      "tortured... by my own fellow men... focus, jesus! snap out of it. no. it's payback time\n",
      "that face you make when you accidentally walk into the women's restroom\n",
      "the perfect role play doesn't exis....\n",
      "thank you for shopping here today\n",
      "one of these is safer than the other\n",
      "wow...a terminator and a transformer in the same pic\n",
      "instead of wiping away your tears away the people who created them\n",
      "work smarter not harder\n",
      "bring on the refugees im fucking ready\n",
      "it's hump day!!! shit!!!!\n",
      "pride march? where?\n",
      "sure, не made the wrong choice, but made it for the right reasons. was trying to help his friends we've all done something silly for a friend, right?\n",
      "just a group of muslim friends hanging out like everyone else\n",
      "when you think you're tearing up the pussy but you end up tearing up your son too\n",
      "i shouldn't have to hide who i am i got it!\n",
      "hitler tried to destroy a race and he failed\n",
      "if tellin a monkey face lie was a person\n",
      "when you show up to the wrong party but you still tryna turn up\n",
      "the kkk is a hate group\n",
      "a symbol of my patience\n",
      "mohamed i'm pregnant\n",
      "don't let a disability define you\n",
      "some typical chinese tacos\n",
      "they're all so tall ... because they have great genes\n",
      "local restaurant slowly hires new cooks\n",
      "sailing the ocean during a storm\n",
      "aight girls look candid\n",
      "imagine a world without hate\n",
      "white kid playing soldier after school\n",
      "they are like bacon. they look good, smell good but will slowly kill you\n",
      "went to wal-mart for a sandwich maker and windshield wipers with my girlfriend!\n",
      "three generations of family filled with joy and laughter\n",
      "aight, time for the photo shoot\n",
      "someone call an ambulance!\n",
      "teacher: okay everyone put your phone on your table mohamad:\n",
      "what's the most expensive thing in the world? his gas bill\n",
      "first step to a clean kitten: wash it thoroughly\n",
      "when they say white folks don't know how to cook\n",
      "nobody listens to you like your best friend\n",
      "respect to the veterans who have given up so much for us\n",
      "i'm no genius, but maybe this is why congress wasn't notified of a secret attack on isis\n",
      "my wife called me a pervert she's right\n",
      "now i have up syndrome\n",
      "when the entire world complains that they're not welcome\n",
      "she said put the veggies in the car\n",
      "when you were planning a terrorist attack but gatherings were banned due to coronavirus\n",
      "why does my music not sound like that? i'm doing exactly the same thing\n",
      "monkeys often play with each other\n",
      "bet you can't catch me! haha\n",
      "when a jewish guy says he's into girls with tattoos\n",
      "build a wall mines work too\n",
      "dammit the dishwasher's broken again\n",
      "hands up if you're adolf\n",
      "lets end racism\n",
      "may jesus have mercy on this man. such a heinous criminal\n",
      "sweaters 50% off\n",
      "fast and the fuhrerious\n",
      "the first lady chillin' with her children\n",
      "muslim playboy latest edition\n",
      "my wife called me a paedophile that's a big word for a 9 year old\n",
      "spending time with dad\n",
      "she said get into the car\n",
      "when you were hoping to enjoy the game but gatherings were banned due to coronavirus\n",
      "this one is called sexy times with that sheep of mine\n",
      "what should we do with the infected?\n",
      "when you meet your evolutionary cousins\n",
      "i fed thousands of people bread and wine bitch please, i made millions toast\n",
      "handjobs 50% off\n",
      "what's the difference? one of them can actually finish a race\n",
      "just your daily average punk rocker\n",
      "watch out for landmines\n",
      "dammit she fell again\n",
      "imagine a world without muslims\n",
      "white kid preparing for first day at school\n",
      "i wonder how much of this is skin care and how much is photoshop\n",
      "went to wal-mart for windshield wipers picked up a sandwich maker!\n",
      "laughs in cracker\n",
      "...and that's when i went downs on her\n",
      "vw cars produce more gas than expected ach! that's my car\n",
      "local restaurant gets new slow cooker\n",
      "how to pick up black girls\n",
      "why can't they drive? cause there's no road to the kitchen\n",
      "hitler? more like shitler ... amiright guys?\n",
      "first step to make asian rice: wash the chicken\n",
      "these nazi memes infuhreriate me\n",
      "must be a dodge owner because they're having tranny problems\n",
      "get you a man who will never walk out of your life\n",
      "that moment when you meet your bff and you want to fill them in on the latest gossip\n",
      "every girl is a squirter if you hit the right spot\n",
      "teacher: okay everyone i know your phone is da bomb but this is not the time to use it\n",
      "what i say about the gunman every time there's a mass gathering\n",
      "book of satan written by stephen king\n",
      "\"if a woman wore pants, would it wear them like this or like this\"\n",
      "when you get all the killstreaks\n",
      "what would you do if i became a pirate\n",
      "friday night presents eight tequila shots\n",
      "happiness is present in every living being\n",
      "party tonight? i'm on my way right now\n",
      "things that are terrible to post online\n",
      "human? i'm zooming!!!\n",
      "the kkk a group for aspiring trash\n",
      "raise your hand if you're trash\n",
      "when you open a pack of gum in front of your fam\n",
      "when you get in trouble for eating all the cookies\n",
      "periods be like\n",
      "when the lights turn on in the club\n",
      "captain america be like\n",
      "trying to pull an all nighter the day before christmas\n",
      "coronavirus 2020\n",
      "when you start your period\n",
      "my stomach after 10th shot\n",
      "everybody hates chris\n",
      "transformation of eating bacon\n",
      "me hyping myself up outside before i go out\n",
      "waiting on halloween like\n",
      "dont touch my food\n",
      "nobody: me up watching a scary movie at 3:28 am\n",
      "aphrodisiacs helping them have sex for generations\n",
      "my neighbour ordered a blow-up doll from an armyavy shop\n",
      "how do you get a girls number? don't be an asshole like this guy\n",
      "good guy police officer inspiring the young\n",
      "how to spot a metal fan\n",
      "shame on these people more power to these people\n",
      "once you get married you share in pain\n",
      "found this old photo of our grand parents playing leap frog\n",
      "banging a ketchup bottle not fun for a hungry man\n",
      "roaches moved in... but theyre not moving out\n",
      "had secret door to hide from nazis\n",
      "when you wear a black sweater and get complimented\n",
      "hm.. it appears you're a biscuit\n",
      "running children\n",
      "this one's called dirty deeds done dirt cheap\n",
      "when you've just realised your son has to be picked up from school\n",
      "best thing about her bread?... you know shes gonna bake it with care!!!\n",
      "similar to sharks because they all have teeth\n",
      "didn't get homework today success!\n",
      "1939-1945 dumbest mustache\n",
      "the closest some of us will ever get to the twin towers\n",
      "a cute animal fantasy\n",
      "when someone asks me how many girlfriends i have more than you\n",
      "this is fine\n",
      "when you see the soviets\n",
      "go home stoned smile gives it away\n",
      "claims that her ancestors fought an enemy these are those enemies\n",
      "introducing time machines for 2020\n",
      "roses are red violets are blue everything is fine, 2020 is almost over\n",
      "laughs in comedy club\n",
      "starbucks sold seperately\n",
      "finds out those 72 beers... are michelob ultra\n",
      "let's play hide n seek\n",
      "happy pride month let's support lgbtq\n",
      "when they point you out because you're looking sad but haven't asked the reason why\n",
      "the face you make when you know you're lying\n",
      "jesus died for us he is lord\n",
      "how i stare at the homie when i know he's lying\n",
      "when you're being arrested but a baddie walks by\n",
      "who let the goats out??\n",
      "fight yourself\n",
      "when it's your pg 5th turnover in the game\n",
      "everyone deserves to be loved\n",
      "\"nice watch time for a run\"\n",
      "one big happy family\n",
      "swim practice!!!\n",
      "see? i fuckin told you! there's proof that nazi's are evil!\n",
      "look dude it's my friend marco\n",
      "me convincing them to give me some blood\n",
      "trust me... ...we drank all the water\n",
      "do i have to go to space???\n",
      "how to pickup a simple mess\n",
      "if they aren't here then where are they??\n",
      "always remember 9/11\n",
      "when your parents ask what happened to the car\n",
      "me: want some ribs? chinese person: no me: want some mexican rice? chinese person:\n",
      "when the ape thinks it's funny to go for a joyride\n",
      "what if tornadoes are actually created secretly by the government them bastards\n",
      "she rode in the back solid move\n",
      "time to clean my ears\n",
      "these women are in office let that sink in\n",
      "there they go down there\n",
      "fashion is one of the only areas where they do most of the work and none of them get the credit\n",
      "spend alot of time with your loved ones\n",
      "the face you make when one of those damn execs cancels your show\n",
      "straight outta paper\n",
      "this is the greatest star i've ever seen\n",
      "feeling cute might hit the club later\n",
      "they're in a relationship, who makes the other laugh the most?\n",
      "burning wind turbine\n",
      "everyone is like him not all of us look the same but since he is a human being, my door is always open to good indviduals\n",
      "why is it so good? because milk does the body good\n",
      "don't drink and drive\n",
      "harambe santa\n",
      "when your test comes back and you got a 100\n",
      "gamers when they see an rtx 3070/ rtx 3080/ rtx 3090\n",
      "life when people have the day off and your still at work\n",
      "sea lovers\n",
      "when you start burning calories instead of carbohydrates\n",
      "wait a sec are u trying to date me again\n",
      "\"life simulator 19 classic outdoor dlc\"\n",
      "what do i do when my sink is clogged? i should get a plumber but i tell my husband\n",
      "when mom tells you you can't swim\n",
      "cat chillin in china\n",
      "no gun laws gives victim families peace\n",
      "guy asked for directions they told him to go straight\n",
      "vibing.. ...with the music\n",
      "bowl of marshmello's 2020\n",
      "when your dad passes the family hunting rifle down to you\n",
      "what's the deal with airline food? it's not food and it's not edible\n",
      "what's that burning? oh it's my pot roast\n",
      "when the dog keeps banging on the door instead of loving you\n",
      "allah! my dog doesn't love me anymore!\n",
      "when your dad comes to career day and starts talking about fantasy football\n",
      "3.8 billion of them on earth. why isn't there peace yet?\n",
      "wait, wife come back!! didn't mean to laugh, really you look beautiful to me\n",
      "when mom asks where all the food went\n",
      "rise of freedom in america (1963)\n",
      "what if the he didn't go to war against the world certainly we would be in a far better place today\n",
      "not the end we deserved but we are in a better place now\n",
      "overcome anyhting\n",
      "i went on a date with my man\n",
      "\"life hack #23 how to live life to the fullest\"\n",
      "how you look when you celebrate the 4th of july\n",
      "boys playing around with stuff wrapped around their body and forehead\n",
      "not all asians love to eat sushi\n",
      "we love different people\n",
      "wanna race!\n",
      "when you get 2 babies instead of 1\n",
      "i love eating bacon\n",
      "babies are too cute\n",
      "once we are done rebuilding our country we'll move to yours!\n",
      "suprise face suprise attitude\n",
      "it's time we make peace with mother nature\n",
      "after a hard day of hunting\n",
      "the king crowned all his helpers\n",
      "thankful for a brand new day\n",
      "just a day with the snow\n",
      "looking to the stars shine bright stay focused\n",
      "never again\n",
      "never forget the history tyrants sowed\n",
      "big city skyscrapers falling\n",
      "i need to drink water so i can stay hydrated\n",
      "watching the stars\n",
      "i love to fix my daughters hair\n",
      "the pastries let's sell out\n",
      "just making happy faces\n",
      "wind chimes don't make a sound without the wind\n",
      "life makes me happy\n",
      "when you so savage you eat cabbage\n",
      "i got 99 reasons why i'm awsome\n",
      "dog's hate baths but love love this\n",
      "haters welcome\n",
      "r = ramen\n",
      "millions dollars, and only one gm text\n",
      "how to put yourself in jail in less than one minute\n",
      "burning pizza that means so much to you\n",
      "you know that we are better together\n",
      "birthday candle casting yes i can blow\n",
      "when you try to silent fart but it doesnt smell silent\n",
      "they need to stop love is peace\n",
      "the first annual pig photo shoot\n",
      "why test drugs on animals when they can be emotional support pets\n",
      "it takes a real man to wear orange\n",
      "happy lgbt month\n",
      "if you want to good life for your children love them all\n",
      "this guy looks familiar does anyone know him?\n",
      "our bedsheets\n",
      "when you realized you made a mistake\n",
      "be kind to others and animals\n",
      "last year was the best year #2020sucks\n",
      "beats by dre are great headphone\n",
      "who mad im happy !\n",
      "anjem choudary loves to share\n",
      "did you know swimmers can flex their toes to the ground\n",
      "i'm not drinking tonight but... you are allowed\n",
      "congratulations no more sleep\n",
      "when your dad comes home to your mom\n",
      "teacher: an electronic calculator is typically a portable electronic device used to perform calculations, class:\n",
      "shia men are hungry men\n",
      "did you know european colonialism began in the fifteenth century\n",
      "canada has the longest coastline in the world. how cool is that!?\n",
      "they are blessed and not stressed\n",
      "what better than chilling with freinds\n",
      "how we play hide and seek versus how they play hide and seek\n",
      "i hate when people assume they know me but they don't\n",
      "how to get with the person of your dreams without being someone else\n",
      "the \"i'm not a fighter but my kids aren't either\" face\n",
      "how to pick up a trash from the floor:\n",
      "share a coke with your friend\n",
      "lawn darts jet style\n",
      "to see better, people sometime switch to fullscreen veiw\n",
      "what every trash can in sydney looks like\n",
      "he went to heaven for your sins\n",
      "march 8th international wreck day\n",
      "this happens to 1/3 of people 2/3 aren't doing this\n",
      "party tonight? i'll go!\n",
      "than nasty i'd rather be nice\n",
      "don't defile the lineage given to you by your forefathers do what's right, keep it ruff\n",
      "well, i guess we'll.. be heading home now\n",
      "then he said i couldn't come to the barbecue because i always burn the hotdogs\n",
      "stop gun control in america\n",
      "when you found your pet is starting a family ya allah\n",
      "when you convert your partner into a dance partner\n",
      "myth: gingers don't have souls fact: gingers have completely natural red hair\n",
      "i am not racist some of my best friends are colored\n",
      "bruce jenner's dog\n",
      "its not right to judge someone by the color of their skin they are probably nice\n",
      "we talked about it i agreed boxing would be fun\n",
      "i was asked who my favourite marvel character was apparently my answer was inappropriate\n",
      "wife wearing sexy lingerie for her husband\n",
      "there's a 0% chance this phone is stolen\n",
      "what are you doing there? you're a cat, not a cake\n",
      "what is that wonderful smell? it smells like... caramel! oh, we burnt the toffee\n",
      "they're not alllll running... right?\n",
      "really ? you have never seen the movie willy wonka and the chocolate factory?\n",
      "funerals are not a happy occasion\n",
      "i'm what the new line of cosmetics looks like'\n",
      "japanese citizen watch a body building competion\n",
      "when you want to join the parade.\n",
      "smile... picture day!\n",
      "free couples photo for 10 minutes only\n",
      "fun day at the beach\n",
      "sorry i'm late. having stage fright\n",
      "it's a piece of cake just stand there\n",
      "if you ever feel sad just remember that a lot of people are not always happy\n",
      "you call this target practice?\n",
      "they are the biggest partiers in the history of the world. we have proof here\n",
      "i am having a bad day at work!\n",
      "don't think this sleep will work... maybe closing my eyes will work?..... nothing's happening\n",
      "when you're trying to sleep but you husband is snoring so loud\n",
      "rare picture\n",
      "fighting breast cancer\n",
      "the newest womens group are meeting in congress\n",
      "went down to the beach had to wear protection\n",
      "him: are you having fun? her: yes\n",
      "man: such a lovely day\n",
      "when you sister dyes her hair pink\n",
      "when you realize you're pregnant\n",
      "what's the difference between the 2? one is a bike and the other are two men sitting\n",
      "feeling cute. no, i don't think so\n",
      "the look you give when your husband would rather watch football\n",
      "what a true beliver looks like\n",
      "i do not like taking pictures oh well, go ahead take it\n",
      "what osama bin laden looks like\n",
      "she put on the purple lipstick\n",
      "famous couple\n",
      "is it a boy or a girl? it's a girl\n",
      "great financial news for me this morning no longer have to send $16 a month\n",
      "have you tried their food? i hear is delicious!\n",
      "when you steal a shopping cart take it back\n",
      "naacp protesters at local march\n",
      "when you break open the rice bag\n",
      "there's only one race is nascar!\n",
      "my first time in drag!\n",
      "the original gangster\n",
      "and that was the last of the milk bud\n",
      "mom timmy is stuck in the dryer again\n",
      "made a new friend today!\n",
      "heeeadddd shoulders, knees and toes knees and toes\n",
      "when your little brother brings home the prized family goat\n",
      "check out my beard!!\n",
      "marie don'r burn the baguettes!\n",
      "recall on panasonic rice cookers due to explosive metal\n",
      "when ur too young to know how to read\n",
      "new intern\n",
      "how to exorcise a demon\n",
      "today is the first day of summer\n",
      "there use to be a doctor here\n",
      "anyone elses have the same car?\n",
      "just admit it, summer picnics are better\n",
      "who said i'm uneducated i have my masters degree!\n",
      "when i grow up i want to be a plumber\n",
      "soap on a rope is pretty dope\n",
      "organic vegetable are good for breast feeding\n",
      "my stepsister got stuck in the washer again\n",
      "new astronauts make it to insp\n",
      "when you tell someone they are beautiful\n",
      "ladies and gents i present old navy's goat collection\n",
      "i can afford to visit my grankids for christmas!\n",
      "when you told her you would cook dinner tonight!\n",
      "when your team wins the world cup!\n",
      "i hate snow it's cold\n",
      "older cowpies are easier to pick up\n",
      "when do you want to have the barmitzvah\n",
      "i'm this pretty because both my parents are dentists\n",
      "we live in a wholesome society\n",
      "stop saying my religion is violent.. i will be very sad\n",
      "when your dad comes back from deployment\n",
      "life is like belgium choclate, filled of earthy flavours and no sourness\n",
      "i hate everyone so who do i like? therein lies the problem\n",
      "this movie sucks i am thinking of leaving\n",
      "lunch prayers answered\n",
      "pumpkin spice latte lines\n",
      "hey grandma what are you doing ? im throwing away this ugly thing\n",
      "when y'all both lose touch with reality\n",
      "donate for kisses\n",
      "imagine lighting this menorah without praising yhwh first\n",
      "i swear she's a great chef\n",
      "how it feels to chew five gum\n",
      "my fucking hair is acting up!\n",
      "d pray that all seek to repent\n",
      "note to americans: we want extra guac and cheese on our toast too\n",
      "i support women because they're strong like me\n",
      "asked a girl for her number she said i'm a loser and a coward\n",
      "put an end to violence and prejudice\n",
      "ideology spreads peace and love\n",
      "deadpool: so when i get out of the hospital i'm going to join you? the avengers visiting him:\n",
      "never forget what happened to new york\n",
      "when you max out intelligence and put nothing on haters\n",
      "when you call the avengers and they send the one from nowhere\n",
      "i could have annihilated all of them, but i took the coward's way out because i'm a coward\n",
      "look at these cuties\n",
      "when you order iced coffee but they give you a regular cup\n",
      "can you blame him for robbing? guy doesn't even have a shirt on his back\n",
      "red dead redemption the cowboy way on the hunt for legendary animals\n",
      "that's a strange looking campfire bill\n",
      "hunters when they learn fish are infected with t-virus\n",
      " berserk 2016 is a good adaptation you're kidding right..\n",
      "do not seek the world. seek the almighty instead\n",
      "things i love to do\n",
      "destiny 2 squad teaming up like\n",
      "when you don't covet your neighbor's wife when you covet the neighbor's wife\n",
      "abuse is never to be tolerated\n",
      "you should thank me for what i've done, the buggie is such a cute car\n",
      "today we're making build-a-bears! but i want to build a dog!\n",
      "authentic lunch in venezuela\n",
      "women use chemicals to remove polish everyday and no one bats an eye i use chemicals to remove the polish and suddenly i'm the world's biggest villain!\n",
      "what i say about the gunman every time there's a mass shooting\n",
      "book of satan written by psychopaths\n",
      "\"if a dishwasher wore pants, would it wear them like this or like this\"\n",
      "the evolution of man\n",
      "party tonight? i'm down\n",
      "things i love to pull behind my trunk\n",
      "use one to protect your watermelon farm\n",
      "when when germans try to dab\n",
      "farming simulator 1800\n",
      "made rice krispies way before kellogg's\n",
      "what would you do if i got pregnant?\n",
      "jack's links presents messing with sasquatch\n",
      "they were mentally ill. i had to cure them\n",
      "and that's why i gas people\n",
      "my ex looks so peaceful when he sleeps\n",
      "it's the religion of peace. join exclusive islam!\n",
      "flight attendant: *yawns* deaf passengers:\n",
      "fed five thousand jews with five loaves and two fish made six million jews toast\n",
      "the face you make when you don't understand what \"stop resisting\" means\n",
      "modern japanese '' ''\n",
      "we said we would never forget why are you voting them into our governement?\n",
      "when you're still fucked from last night's bender and sunglasses aren't gonna cut it\n",
      "indians evolution after 15august1947\n",
      "rape helping them have sex for generations\n",
      "shame on you america you said you would never forget\n",
      "spot the difference\n",
      "once you go black so does your face\n",
      "i just squirted tranny fluid\n",
      "good guy police officer capturing them young\n",
      "how to spot a criminal\n",
      "hm.. it appears you're a cracker\n",
      "running chocolate\n",
      "this one's called dirty deeds done with sheep\n",
      "when you've just realised your son has taken the wrong backpack to school\n",
      "best thing about her blowjob?... you know shes gonna swallow!!!\n",
      "found this old photo of our grand parents on their quad\n",
      "had secret door before it was cool\n",
      "when you beat up a black kid and get arrested for propriety damage\n",
      "a muslim mans fantasy\n",
      "when someone asks me how many chromosomes i have more than you\n",
      "when you see the gas bill\n",
      "go home stoned eyes give nothing away\n",
      "my dog loves the attention\n",
      "didn't get bought today success!\n",
      "1939-1945 bake off winner\n",
      "the closest some of us will ever get to heaven\n",
      "finds out those 72 virgins.. are goats\n",
      "look your dad fucked goats.. i capped him...sorry\n",
      "when they laugh about your 9cm in the change room but they haven't seen your 9 mm yet\n",
      "introducing fidget spinner for women\n",
      "roses are black, violets are black everything is black, i can't see\n",
      "laughs in [majority of u.s crime rate]\n",
      "handjobs sold seperately\n",
      "who ya gonna call? goat fuckers\n",
      "gas yourself\n",
      "orange is the new black\n",
      "when her head game so strong she suck a chromosome right out of you\n",
      "in england they drive on the left in canada they drive on what's left\n",
      "if i was arrested what do u think i got arrested 4?\n",
      "when the whole squad roasts the jewish kid\n",
      "see? i fuckin told you! little foil on top keeps them jewsy\n",
      "look dude a second hand store !!\n",
      "\"nice watch must have cost an arm and a leg\"\n",
      "there's a reason they have children. they are pedophiles\n",
      "4 ways to boil vegetables\n",
      "if they aren't meant to cook why do they have eggs and milk inside them\n",
      "stupid neighbours woke me up\n",
      "me convincing homophobes that i'm just like them and not a sexually deviant pervert\n",
      "trust me... ...they're all terrorists\n",
      "because even other planets need crime\n",
      "these women have access to top secret classified information let that sink in\n",
      "their average iq is about 70-80, few points above being retarded\n",
      "terrorism is one of the only areas where they do most of the work and none of them get the credit\n",
      "loading the dishwasher in the back solid move\n",
      "how dark are my memes? well they..\n",
      "they're in a relationship, who makes the sandwiches?\n",
      "german fireworks\n",
      "spending alot of time with your pets\n",
      "the face you make when one of those damn apes cancels your show\n",
      "if it fits it ships\n",
      "this is the worst cancer i've ever seen\n",
      "feeling cute might write a diary later\n",
      "andy's coming\n",
      "when your test comes back and you got a 47 out of 46\n",
      "spiders are like him not all of them are dangerous but since they all look the same to me, i don't want any of them in my house\n",
      "why is it so good? because it's white\n",
      "international boxing day\n",
      "black santa\n",
      "\"farming simulator 19 classic equipment dlc\"\n",
      "what do i do when my dishwasher stops? i should get back to scrubbing\n",
      "romanians when they see a slightly open purse/pocket/window\n",
      "life has its ups and downs\n",
      "sea monkeys\n",
      "when you start burning calories instead of people\n",
      "wait a sec are u trying to gas me again\n",
      "when your dad passes the family school shooting gun down to you\n",
      "cracking open a sold one with the boys\n",
      "when mum tells you to rinse the vegetables\n",
      "thanksgiving in china\n",
      "no to transphobes give trans people peace\n",
      "gay friends asked for directions told him to go straight\n",
      "i'm down.. ...with that\n",
      "farming simulator 17\n",
      "3.8 billion of them on earth. why isn't it clean yet?\n",
      "wait, mohammad come back!! didn't mean to laugh, really size doesn't matter to me\n",
      "when dad keeps banging the goat instead of you\n",
      "allah! my goat doesn't love me anymore!\n",
      "when your dad comes to career day and starts handing out mixtapes\n",
      "i went on a date blind date\n",
      "\"life hack #23 how to get stoned with no weed\"\n",
      "rise of the planet of the apes (1963)\n",
      "what if he was the second coming of christ certainly would explain his issue with jewish people\n",
      "not the shower we deserved but the shower we needed\n",
      "handjobs sold separately\n",
      "islam is the religious of love and peace\n",
      "the dishwasher was making a funny sound but i fixed it\n",
      "being able to call someone \"mine\"\n",
      "this project is tough but it will save the world\n",
      "muslim logic: important unimportant\n",
      "\"blue power tie red power tie white power tie\n",
      "no little asian don't eat them raw\n",
      "a little gas never killed anybody right?\n",
      "white kids be like i have had enough\n",
      "suprise face suprise attitude\n",
      "mafuckas be like.. bru, i know she want me i got dreads\n",
      "it's time we make peace with islam\n",
      "this is what science does for humanity this is what islam does for humanity\n",
      "when the vegetables are 2 for the price of 1\n",
      "muslims offend me\n",
      "babies are too cute!\n",
      "once we are done destroying our country we'll move to yours!\n",
      "\"great at making martinis terrible at stealing tambourines\"\n",
      "how white liberals treat minorities who don't vote democrat\n",
      "praise be to god, in the name of jesus christ\n",
      "the guy who created the joke the jokers\n",
      "turning every country it touches into a shithole\n",
      "turn your dishwasher into a snow remover\n",
      "these wind chimes don't make a sound should have known the brown ones wouldn't work\n",
      "texting and flying n what's the worst that could happen?\n",
      "sometimes, you have to water your farm equipment so it doesn't overheat\n",
      "let's not be hasty. the worldview of the guys who created this grisly spectacle of mass-murder could be any number of- comedy aaaaaannnd it's these guys\n",
      "turn for what\n",
      "refugees welcome\n",
      "r = ramen\n",
      "millions of kills, 1 death what a fucking camper\n",
      "burning things that don't mean anything to you\n",
      "when you so savage you roast a whole race\n",
      "he won because he is a boy competing in a female sport\n",
      "if i had a gone i could convert this fruit to vegetable\n",
      "if you want good life for your children kill them all\n",
      "porn casting or terrorist recruitment? -yes i can blow\n",
      "they don't know how to use condom, this is the only way to control their population\n",
      "the first annual mohammed-a-thon\n",
      "why test drugs on intelligent animals when we have plenty of vegetables to spare?\n",
      "when your dive instructor starts yelling in arabic\n",
      "be careful who you call ugly in high school\n",
      "last year tyrone got a new job , started building his credit, then something amazing started to happen! and spending more time with his kids\n",
      "\"beats by dre beats by tyrone\n",
      "this guy just friended and unfriended me 45 times in 15 seconds anyone know him??\n",
      "our insurance\n",
      "shia men after getting an erection\n",
      "jew mad? get fuhrererious !\n",
      "anjem choudary wants this removed he said it insults islam. so i thought fuck it why not share\n",
      "knock, knock who's there not this bitch ( obviously )\n",
      "i'm not racist, but... racist memes are allowed, right?\n",
      "congratulations it's non binary\n",
      "when your dad comes home from a suicide bombing\n",
      "teacher: alright class take out your calculators mohammed:\n",
      "4 years with these kids i'm tired\n",
      "how to get with the person of your dreams without being someone else\n",
      "they are blessed and not stressed\n",
      "what's better than chilling with friends\n",
      "how we play hide and seek versus how they play hide and seek\n",
      "i hate when people assume they know me but they don't\n",
      "lawn darts muslim style\n",
      "\"my husband told me to make him a sandwich i need a good comeback i would come back with a sandwich\"\n",
      "kills: 17 million, deaths: 1 fucking camper\n",
      "the i'm not black but my kids will be face\n",
      "how to cook turkey in usa how to cook turkey in romania\n",
      "share a coke with your dad\n",
      "party tonight? i'm down\n",
      "some habits are hard to stop\n",
      "than nasty i'd rather be deplorable\n",
      "well, i guess we'll.. beheading home now\n",
      "what every arab in sydney looks like\n",
      "he went to jail for your sins\n",
      "march 8th international women's day\n",
      "this happens to 1/3 of women 2/3 aren't doing their job\n",
      "myth: gingers don't have souls fact: gingers earn a freckle for everey soul they steal\n",
      "bruce jenner's cat\n",
      "so i guess a handjob is out of the question\n",
      "we talked about it i agreed dinner would be ready on time in the future\n",
      "then he said i couldn't come to the barbecue because i always burn the franks\n",
      "when you found your wife is cheating on you ya allah\n",
      "when you convert your dishwasher into a weed eater\n",
      "baboons and monkeys everywhere this is really a zoo\n",
      "we dipped this shit in bacon grease mixed with bacon juice smothered in hate when it is time, rest assured america. when the enemy brings it to our soil, we will bring it to them\n",
      "what is that wonderful smell? it smells like... caramel! oh, today we burnt the diabetics\n",
      "they're not alllll rapists... right?\n",
      "best polish removers\n",
      "i was asked who my favourite x-men character was apparently my answer was inappropriate\n",
      "muslim wife wearing sexy lingerie for her husband\n",
      "there's a 50% chance this phone is stolen\n",
      "when you got a warrant out for your arrest & you on the run...\n",
      "they're escaping quick... from the cake!\n",
      "sorry i'm late. having tranny problems\n",
      "doesn't wear tampons because she trips over the string\n",
      "it's a piece of cake if she's not awake\n",
      "really ? eating pork is a sin but marriage to a 6 year old is ok\n",
      "i'm what the new working man looks like'\n",
      "this makes me puke send all of them back home\n",
      "japanese citizen watches as nuke drops on the 9th of august 1945 (colorized)\n",
      "blacks are musical they always love a good beat\n",
      "can you smell what the reich is cooking?\n",
      "if you ever feel down just remember there are people that are down their whole life\n",
      "\"they are the biggest terrorists in the history of the world. we have entire history of books showing this data\"\n",
      "you call that a killing, ahmed? this is a killing!\n",
      "maybe this will work?..... don't think this cream is working... nothing's happening\n",
      "the newest hate group the dumb stupid klan\n",
      "him: have you seen my cat lately? her: nope, have you seen your dad lately?\n",
      "old barack obama\n",
      "man: i'd like to trade her in for newer one\n",
      "we are never going to have social change until take personal responsibility for our own lives and participate in our communities\n",
      "when you're watching the #roots remake but you're in an interracial relationship\n",
      "rare picture of child birth\n",
      "feeling cute. might kill 6 million later...idk\n",
      "the look you give when your husband would rather fuck a goat then you\n",
      "what a true rapist looks like\n",
      "when you realize you're pregnant because you pull out your tampon but all the cotton was mysteriously picked off\n",
      "what's the difference between the 2? the first one can't sing when you put chains on it\n",
      "car salesman roof of car\n",
      "is it a boy or a girl? it's a bomb\n",
      "why don't they eat pussy? because it's too close to the gas chamber\n",
      "what every muslim looks like to me\n",
      "she put on the purple lipstick and she became the bomb\n",
      "if they aren't lazy, then why doesn't kfc have a breakfast menu\n",
      "have you tried their food? neither have they\n",
      "when dishwasher stops working take it back\n",
      "and that was the last nativity play my son was invited to take part in\n",
      "would ya look at that this dryer comes with a free dishwasher\n",
      "when you find a shooter the same day you plan a bombing, so you team up\n",
      "there's only one race the human race and that thing on the right? that's a monkey in human clothes\n",
      "the woman you met who admits she's wrong, apologizes and changes her ways\n",
      "when your little bomber brings home his first girlfriend\n",
      "this has no place on american soil\n",
      "i was going to make a joke about us but they always blow up in your face\n",
      "rice cooker now versus in 1945\n",
      "heeeadddd shoulders wheel and frame wheel and frame\n",
      "hope on a rope it's what everyone's been waiting for\n",
      "organic vegetable\n",
      "slow cooker\n",
      "that look when you high as fuck on dem chromosomes\n",
      "how to fix a noisy dishwasher\n",
      "there use to be a pet shelter here\n",
      "anyone else hate how hard these spot the difference pictures are getting\n",
      "just admit it. white america was better\n",
      "who said i'm uneducated i have my master\n",
      "when i grow up i want to be a gas plumber\n",
      "can afford to travel from romania to london still picks your pocket\n",
      "when you told her you was going to fuck her till she was stupid\n",
      "when your leader is killed by a drone and you get to fuck his herd of goats\n",
      "rare picture of a dishwasher at birth\n",
      "when you wanna delete google chrome but you accidentally delete your chromosome\n",
      "ladies and gents i present you with miss islam 2015 contenders\n",
      "wtf is with this guide dog? i keep ending up at kfc\n",
      "life is like belgium some times you just have to march through it\n",
      "i hate snow it's white and on my land\n",
      "what do i have in common with cow pies? xxx the older we get, the easier for you to pick us up!\n",
      "why are we smart? because we went to camps!\n",
      "i'm this pretty because both my parents are white\n",
      "we live in a society where they lecture on morals and biology\n",
      "stop saying my religion is violent.. or i will kill you in the or name of my religion\n",
      "when your dad come back after 18 years saying \"damn that line at walmart aint no joke\"\n",
      "this story touched my heart twins separated at birth find eachother after 50 yrs\n",
      "black friday deal buy one get one free toaster\n",
      "imagine being so disugsting there have to be laws to try to stop normal people from hating you\n",
      "when you unlock a new skin for your character\n",
      "vanish shampoo\n",
      "the fucking dishwasher is acting up!\n",
      "this movie sucks i am thinking of another shooting\n",
      "islamic prayers answered\n",
      "mmm what's cooking\n",
      "hey grandma what are you doing ? im sewing a scarf for your trans brother ajay\n",
      "i support terrorists because they're pea brains like me\n",
      "they're just like eggs better when beaten well\n",
      "kid with cancer: so when i get out of the hospital i'm going to join you? the avengers visiting him\n",
      "ideology kills a dozen \"infidels\"\n",
      "hey there delilah, what's it like in new york city\n",
      "when you max out intelligence and put nothing on agility\n",
      "find differences\n",
      "scientists have discovered that they have a lot of intelligent dna unfortunately most of them spit it out\n",
      "turns out out they were expecting something very different went gay clubbing with some friends\n",
      "legal immigration ensures homeland security will know who is coming and leaving\n"
     ]
    },
    {
     "name": "stdout",
     "output_type": "stream",
     "text": [
      "if you hold it up to your ear you can hear police sirens\n",
      "when you call the avengers and they send the one from wakanda\n",
      "i could have annihilated all of them so you will know why i was killing them but i left some of them alive\n",
      "how liberals treat minorities who don't vote democrat\n",
      "when you want to enter islam when you want to leave islam\n",
      "when she asked for equal love, i gave her equal romance\n",
      "you should thank me for what i've done, there would have been more of them\n",
      "today we're making vegetable soup! the most disturbing thing i've seen all day\n",
      "leave that one alone bill he's my weed man\n",
      "personal stylist $15,000 / week makeup artist $4,000 / month i can't tell the difference\n",
      "can you spot the difference?!?!? didn't take me long either - 1st car's red\n",
      "things i love to hunt\n",
      "welcome to melbourne have a nice day\n",
      "my ex looks so peaceful when he sleeps\n",
      "that's a man baby!\n",
      "in england they drive on the left in canada we drive on what's left\n",
      "if i was arrested what do u think i got arrested 4?\n",
      "orange is the new black\n",
      "i'm not racist, but... racist memes are allowed, right?\n",
      "canadian border jumper detained by american patriot\n",
      "congratulations it's non binary\n",
      "i'm what the new working man looks like'\n",
      "don't think this cream is working... maybe this will work?..... nothing's happening\n",
      "the newest hate group the dumb stupid klan\n",
      "when you're watching the #roots remake but you're in an interracial relationship\n",
      "welcome to melbourne have a nice day\n",
      "ban the burka you must be fucking joking\n",
      "welcome to europe our government told us that and we should adopt their culture diversity makes us stronger\n",
      "find differences\n",
      "trust me... ...they're re all terrorists\n",
      "what do i do when my dishwasher stops? i should get back to scrubbing\n",
      "terrorism is one of the only areas where they do most of the work and none of them get the credit\n",
      "these women have access to top secret classified information let that sink in\n",
      "him: have you seen my cat lately? her: nope, have you seen your dad lately?\n",
      "things i love to hunt\n",
      "and participate in our communities take personal responsibility for our own lives we are never going to have social change until\n",
      "when germans try to dab\n",
      "old barack obama\n",
      "who said i'm uneducated i have my master\n",
      "if you want good life for your children kill them all\n",
      "ban the burka you must be fucking joking\n",
      "the evolution of man\n",
      "the first annual mohammed-a-thon\n",
      "organic vegetable\n",
      "man: i'd like to trade her in for newer one\n",
      "this movie sucks i am thinking of another shooting\n",
      "why test drugs on intelligent animals when we have plenty of vegetables to spare?\n",
      "muslim logic: important unimportant\n",
      "every white man dream\n",
      "being able to call someone \"mine\"\n",
      "this project is tough but it will save the world\n",
      "imagine being so disugsting there have to be laws to try to stop normal people from hating you\n",
      "the dishwasher was making a funny sound but i fixed it\n",
      "black santa\n",
      "black friday deal buy one get one free toaster\n",
      "if i had a gone i could convert this fruit to vegetable\n",
      "hey grandma what are you doing ? im sewing a scarf for your trans brother ajay\n",
      "yellow black red and normal\n",
      "slow cooker\n",
      "when you unlock a new skin for your character\n",
      "how to fix a noisy dishwasher\n",
      "leave that one alone bill he's my weed man\n",
      "hope on a rope it's what everyone's been waiting for!\n",
      "\"aye, tone! why would dey delouse 'em if dey was just gonna whack 'em?!\"\n",
      "they don't know how to use condom, this is the only way to control their population\n",
      "you should thank me for what i've done, there would have been more of them\n",
      "party tonight?   i'm down\n",
      "there use to be a pet shelter here\n",
      "when i grew up i want to be a gas plumber\n",
      "the fucking dishwasher is acting up!\n",
      "when you're watching the #roots remake but you're in an interracial relationship\n",
      "this story touched my heart twins separated at birth find each other after 50 yrs\n",
      "ahmed? im pregnant!!!\n",
      "hmm today i will commit 50% of all violent crimes despite being only 13% percent of the population being opressed time\n",
      "anyone else hate how hard these spot the difference pictures are getting?\n",
      "don't think this cream is working maybe this will work?..... nothing's happening\n",
      "mmm what's cooking\n",
      "made rice krispies way before kellogg's\n",
      "porn casting or terrorist recruitment? -yes i can blow\n",
      "he won because he is a boy competing in a female sport\n",
      "that look when you high as fuck on dem chromosomes\n",
      "farming simulator 1800\n",
      "makeup artist $4,000 / month personal stylist $15,000 / week i can't tell the difference\n",
      "islam is the religious of love and peace\n",
      "islamic prayers answered\n",
      "welcome to melbourne have a nice day\n",
      "today we're making vegetable soup! the most disturbing thing i've seen all day... -flyboy\n",
      "how you look when youre black and you celebrate the 4th of july\n",
      "things i love to pull behind my trunck\n",
      "international boxing day\n",
      "white people when they learn fish swim in schools\n",
      "the newest hate group the dumb stupid klan\n",
      "andy's coming!\n",
      "new implant allows muslims to speak directly with allah apply to forehead\n",
      "rare picture of child birth\n",
      "vanish shampoo\n",
      "just admit it white america was better\n",
      "you know that we are better than any other race\n",
      "what would you do if i got pregnant\n",
      "jack's links presents messing with sasquatch\n",
      "use one to protect your watermelon farm\n",
      "can you spot the difference?!?!? didn't take me long either - 1st car's red\n",
      "fighting them is nothing new letting them come into our land and spread their disease is\n",
      "when your leader is killed by a drone and you get to fuck his herd of goats\n",
      "the only way to deal with islam\n",
      "me watching the pride parade\n",
      "riding a horse backwards\n",
      "to see better, asians sometime switch to fullscreen veiw\n",
      "when you call the avengers and they send the one from wakanda\n",
      "made rice krispies way before kelloggs\n",
      "muslim wife wearing sexy lingerie for her husband\n",
      "be careful who you call ugly in high school\n",
      "when you wanna delete google chrome but you accidentally delete your chromosome\n",
      "life has its ups and downs\n",
      "\"this happens to 1/3 of women 2/3 aren't doing their job\"\n",
      "me convincing homophobes that i'm just like them and not a sexually deviant pervert\n",
      "party tonight? i'm down\n",
      "illegal immigration the cowboy way we'll know them if they try to come back in!\n",
      "rape helping them have sex for generations\n",
      "would ya look at that this dryer comes with a free dishwasher\n",
      "there's only one race the human race and that thing on the right? that's a monkey in human clothes\n",
      "when i said i wanted a little pussy this is not really what i had in mind.\n",
      "book of satan written by psychopaths\n",
      "met a jewish girl and she asked me for my number i told her we use names here\n",
      "what is that wonderful smell? it smells like.... caramel! oh, today we burnt the diabetics\n",
      "share a coke with your dad\n",
      "trust me... ...they're re all terrorists\n",
      "allah! my goat doesn't love me anymore!\n",
      "spiders are like him not all of them are dangerous but since they all look the same to me, i don't want any of them in my house\n",
      "great financial news for me this morning. no longer have to send $16 a month to that african kid\n",
      "ladies and gents i present you with miss islam 2015 contenders\n",
      "wait a sec are u trying to gas me again\n",
      "how to pick up a girl from auschwitz\n",
      "how black women fight crime\n",
      "some habits are hard to stop\n",
      "these people are the pugs of humans\n",
      "how to spot a criminal\n",
      "this has no place on american soil\n",
      "the original derp face\n",
      "rare picture of a dishwasher at birth\n",
      "if they're in a relationship, who makes the sandwiches?\n",
      "the i'm not black but my kids will be face\n",
      "american asians how to prepare the dog for the family event\n",
      "terrorism is one of the only areas where they do most of the work and none of them get the credit\n",
      "note to americans: we behead our own so keep on \"tolerating us\" until we take over your country\n",
      "is it a boy or a girl? it's a bomb\n",
      "when your dive instructor starts yelling in arabic\n",
      "sometimes, you have to water your farm equipment so it doesn't overheat\n",
      "not the shower we deserved but the shower we needed\n",
      "ideology kills a dozen \"infidels\"\n",
      "spot the difference\n",
      "ahmed? im hungry!!!\n",
      "a truck hit him from behind\n",
      "interracial couple watching tv   and sleeping\n",
      "african girls portrait without burka\n",
      "nuclear bombs angles\n",
      "in school trip to the zoo, i saw a monkey and had vegetable soup for lunch\n",
      "he is afraid of you more than you are afraid of him\n",
      "i hired a clown for my birthday celebration\n",
      "what did i do, i am so angry at myself\n",
      "following the civil war, the ku klux klan emerges to suppress and victimize newly freed slaves\n",
      "mentally retarded teenagers with stuffed animals they made\n",
      "there use to be a shelter here\n",
      "former first lady started a book tour\n",
      "i love to run\n",
      "denounce kkk to protect the country\n",
      "this is inhuman the operation takes only a couple of seconds to perform but its image remains for years\n",
      "i hear a funny joke about dishwashers\n",
      "i had a fight at school and now all my rights are suspended\n",
      "a beautiful day for picnic in white mountains\n",
      "i like to play outside\n",
      "i am ready for the interview\n",
      "the victoria's secret angels across america tour\n",
      "how many guns are in there?\n",
      "this movie sucks i should have gone to the other one\n",
      "old albino gorilla\n",
      "everyone should take care of their skin\n",
      "jewish children today should remember how lucky they are today\n",
      "i like cooking and playing piano\n",
      "are race are equal: red, back, yellow, and white\n",
      "we make sacrifices for love and peace in future\n",
      "man: i'd like her the way she is\n",
      "the most terrifying pirate :)\n",
      "whose hand is uppermost\n",
      "we are never going to have healthy life until we take our health seriously, have enough sleep, and pay attention to exercise\n",
      "when you're thinking about how much you love your wife and kids\n",
      "a lot of men wearing a white shirt\n",
      "down syndrome girl put on makeup for a party\n",
      "new fishing school\n",
      "him: have you seen my cat lately? her: nope, you should ask your father\n",
      "real muslims radical muslims\n",
      "there are laws to try to stop people from hating and discriminating against you\n",
      "love is more powerful than any other force in the world\n",
      "i was there when the bomb exploded\n",
      "the culture of silence allows sexual harassment in the workplace to continue\n",
      "who said i'm uneducated i have phd\n",
      "waiting for a train\n",
      "i loved my piggy from the first day\n",
      "learn how to bite the bullet\n",
      "who let the monkeys out?! we don't know\n",
      "shakespeare play the taming of the shrew\n",
      "hardworking and practice is path to success in female sport\n",
      "funny santa\n",
      "lynchings were most frequent from 1890 to the 1920s, with a peak in 1892\n",
      "show me the ape son\n",
      "the newest member of hate group\n",
      "if you want good life for your children send them here\n",
      "i am against gun, violence and discrimination\n",
      "what do gangsters and monkeys have in common\n",
      "dss\n",
      "farming 1800\n",
      "president condemned capital punishment\n",
      "true organic love\n",
      "two white men hanging out\n",
      "what are you looking at!\n",
      "sharing and caring\n",
      "when you fart in crowd and  try to look normal\n",
      "after the shower i will visit the local zoo\n",
      "international day against violence\n",
      "bodies being removed in wagons by german\n",
      "a fiery blasts rocks the world trade center after being hit by two planes\n",
      "goats are friends not food\n",
      "is it a boy or a girl? we're waiting to find out\n",
      "trust me.. ...they love the warm weather\n",
      "when you just realize that you forgot to take the cake out of the oven\n",
      "the lion once again shows why he's the king of the jungle\n",
      "the lawmakers known as \"the squad\"\n",
      "psa: clean your apartments for pete's sake\n",
      "we waste so much food and water meanwhile,  others are starving and have no clean water\n",
      "a smile to bring joy in anyone's day\n",
      "fighting for gay rights\n",
      "that feeling when you finish your homework in record time and have extra time to chill\n",
      "the day that shook new york city\n",
      "one of the first prototypes of the atom bomb\n",
      "today feels like a kinda day where i just wanna freak people out\n"
     ]
    }
   ],
   "source": [
    "for i, (id, anno) in enumerate(meme_anno.items()):\n",
    "    # print('i:', i, \"id:\", id)\n",
    "    print(anno['text'])"
   ]
  },
  {
   "cell_type": "code",
   "execution_count": 178,
   "metadata": {},
   "outputs": [
    {
     "data": {
      "text/plain": [
       "0       15740\n",
       "1       38794\n",
       "2       60792\n",
       "3       71824\n",
       "4        4796\n",
       "        ...  \n",
       "1995    71352\n",
       "1996     2164\n",
       "1997     3587\n",
       "1998    47839\n",
       "1999    34281\n",
       "Name: id, Length: 2000, dtype: int64"
      ]
     },
     "execution_count": 178,
     "metadata": {},
     "output_type": "execute_result"
    }
   ],
   "source": [
    "test_unseen['id']"
   ]
  },
  {
   "cell_type": "code",
   "execution_count": 3,
   "metadata": {},
   "outputs": [],
   "source": [
    "import pandas as pd"
   ]
  },
  {
   "cell_type": "code",
   "execution_count": 4,
   "metadata": {},
   "outputs": [],
   "source": [
    "test_unseen = pd.read_json(\"test_unseen.jsonl\", lines = True)"
   ]
  },
  {
   "cell_type": "code",
   "execution_count": 1,
   "metadata": {},
   "outputs": [],
   "source": [
    "racism_results = ['31769', '51029', '68390', '10538', '21769', '50614', '14530', '29476', '95814', '15690', '46730', '25067', '68390', '14530', '67243', '25107', '14530', '71280', '14530', '45836', '53274', '20539', '13960', '68721', '70264', '10423', '19256', '47128', '21394', '81976', '30942', '76483', '14530', '64532', '14329', '37416', '49351', '50861', '60439', '45128', '90471', '39854', '70194', '15839', '42183', '13906', '36724', '18034', '75823', '31849', '31684', '71925', '34021', '67915', '56987', '70845', '72194', '64215', '71294', '31769', '34051', '52034', '92467', '90145', '26198', '85927', '91283', '32106', '69873', '38697', '87604', '75192', '83579', '39280', '42691', '90847', '76305', '45128', '75823', '45612', '12956', '76450', '74192', '52386', '14530', '83052', '86597', '47196', '19256', '83052', '82603', '50723', '73849', '42187', '19372', '56791', '67043', '85362', '14530', '42183', '14530', '27385', '47051', '71294', '31769', '39852', '90126', '56128', '14530', '71263', '43217', '29756', '86251', '19247', '23968', '53820', '71340', '32765', '48936', '20578', '64215', '25907', '17582', '71358', '31684', '14530', '19487', '96587', '46183', '36429', '67810', '87610', '61742', '14530', '54039', '75192', '10263', '72194', '23648', '87406', '94876', '19256', '34051', '90126', '53849', '14580', '90471', '14530', '25107', '75203', '29678', '72406', '80451', '40965', '23096', '64532', '37180', '94352', '71396', '69130', '74192', '74218', '21963', '12907', '24319', '29357', '79346', '72145', '35640', '21963', '92170', '57209', '46910', '46910', '34526', '90471', '49608', '67243', '73561', '91283', '13968', '69342', '93268', '14530', '46910', '32507', '82914', '34798', '35602', '21693', '87429', '81625', '71583', '13906', '17850', '34295', '79315', '76305', '72358', '68390', '14530', '75823', '61894', '43817', '28695', '59364', '86041', '56834', '63941', '49607', '40913', '84910', '34815', '76952', '39280', '28613', '86453', '59217', '87203', '78315', '63087', '91276', '42861', '72640', '27563', '14028', '56108', '52910', '13960', '46058', '20578', '19372', '28613', '50491', '52938', '45612', '59837', '45612', '14530', '43952', '82367', '19256', '52986', '67043', '39852', '40965', '62178', '17582', '97521', '93468', '20578', '45120', '25370', '96587', '75231', '83056', '70845', '23715', '14530', '91457', '97180', '29814', '12309', '15690', '36079', '76532', '10572', '39280', '14530', '17582', '75816', '59462', '15920', '32980', '70934', '14530', '23854', '93268', '12956', '21963', '31684', '18034', '81259', '26708', '30942', '23415', '20578', '23807', '34780', '39281', '89123', '97180', '89561', '61408', '28604', '27034', '67801', '75192', '14530', '43025', '41385', '70841', '90786', '14329', '24687', '28613', '87203', '81245', '50263', '31270', '85290', '42897', '48062', '40826', '71682', '31769', '71682', '75192', '42187', '24319', '42187', '84361', '16820', '74562', '53849', '61480', '45836', '69203', '87403', '25370', '97261', '97604', '21963', '35912', '71086', '74583', '96342', '59362', '60439', '18675', '83490', '56834', '70194', '19372', '43026', '92571', '42187', '25107', '17459', '93468', '42183', '73091', '21569', '86741', '31029', '78236', '71846', '53849', '19203', '32670', '97261', '21963', '52938', '91276', '52687', '92835', '90471', '43695', '95031', '57918', '13960', '73561', '78031', '25067', '81902', '59217', '48257', '10259', '92568', '58372', '67485', '94158', '75089', '96587', '45128', '29158', '61480', '90471', '78236', '29835', '29814', '84361', '81953', '67029', '71058', '51736', '13906', '51706', '31769', '75420', '46910', '86307', '30291', '28695', '14530', '31769', '13960', '83056']"
   ]
  },
  {
   "cell_type": "code",
   "execution_count": 179,
   "metadata": {},
   "outputs": [
    {
     "ename": "IndexError",
     "evalue": "only integers, slices (`:`), ellipsis (`...`), numpy.newaxis (`None`) and integer or boolean arrays are valid indices",
     "output_type": "error",
     "traceback": [
      "\u001b[0;31m---------------------------------------------------------------------------\u001b[0m",
      "\u001b[0;31mIndexError\u001b[0m                                Traceback (most recent call last)",
      "\u001b[0;32m<ipython-input-179-1ed160773cc8>\u001b[0m in \u001b[0;36m<module>\u001b[0;34m\u001b[0m\n\u001b[1;32m      1\u001b[0m \u001b[0;32mfor\u001b[0m \u001b[0mi\u001b[0m \u001b[0;32min\u001b[0m \u001b[0mracism_results\u001b[0m\u001b[0;34m:\u001b[0m\u001b[0;34m\u001b[0m\u001b[0;34m\u001b[0m\u001b[0m\n\u001b[0;32m----> 2\u001b[0;31m     \u001b[0mtest_unseen\u001b[0m\u001b[0;34m.\u001b[0m\u001b[0mat\u001b[0m\u001b[0;34m[\u001b[0m\u001b[0mint\u001b[0m\u001b[0;34m(\u001b[0m\u001b[0mtest_unseen\u001b[0m\u001b[0;34m.\u001b[0m\u001b[0mindex\u001b[0m\u001b[0;34m[\u001b[0m\u001b[0mstr\u001b[0m\u001b[0;34m(\u001b[0m\u001b[0mtest_unseen\u001b[0m\u001b[0;34m[\u001b[0m\u001b[0;34m'id'\u001b[0m\u001b[0;34m]\u001b[0m\u001b[0;34m.\u001b[0m\u001b[0mvalues\u001b[0m\u001b[0;34m)\u001b[0m\u001b[0;34m==\u001b[0m\u001b[0mi\u001b[0m\u001b[0;34m]\u001b[0m\u001b[0;34m.\u001b[0m\u001b[0mvalues\u001b[0m\u001b[0;34m)\u001b[0m\u001b[0;34m,\u001b[0m \u001b[0;34m'proba'\u001b[0m\u001b[0;34m]\u001b[0m \u001b[0;34m=\u001b[0m \u001b[0;36m1.0\u001b[0m\u001b[0;34m\u001b[0m\u001b[0;34m\u001b[0m\u001b[0m\n\u001b[0m",
      "\u001b[0;32m/Library/Frameworks/Python.framework/Versions/3.9/lib/python3.9/site-packages/pandas/core/indexes/range.py\u001b[0m in \u001b[0;36m__getitem__\u001b[0;34m(self, key)\u001b[0m\n\u001b[1;32m    771\u001b[0m                 ) from err\n\u001b[1;32m    772\u001b[0m         \u001b[0;32melif\u001b[0m \u001b[0mis_scalar\u001b[0m\u001b[0;34m(\u001b[0m\u001b[0mkey\u001b[0m\u001b[0;34m)\u001b[0m\u001b[0;34m:\u001b[0m\u001b[0;34m\u001b[0m\u001b[0;34m\u001b[0m\u001b[0m\n\u001b[0;32m--> 773\u001b[0;31m             raise IndexError(\n\u001b[0m\u001b[1;32m    774\u001b[0m                 \u001b[0;34m\"only integers, slices (`:`), \"\u001b[0m\u001b[0;34m\u001b[0m\u001b[0;34m\u001b[0m\u001b[0m\n\u001b[1;32m    775\u001b[0m                 \u001b[0;34m\"ellipsis (`...`), numpy.newaxis (`None`) \"\u001b[0m\u001b[0;34m\u001b[0m\u001b[0;34m\u001b[0m\u001b[0m\n",
      "\u001b[0;31mIndexError\u001b[0m: only integers, slices (`:`), ellipsis (`...`), numpy.newaxis (`None`) and integer or boolean arrays are valid indices"
     ]
    }
   ],
   "source": [
    "for i in racism_results:\n",
    "    test_unseen.at[int(test_unseen.index[str(test_unseen['id'].values)==i].values), 'proba'] = 1.0"
   ]
  },
  {
   "cell_type": "code",
   "execution_count": 181,
   "metadata": {
    "scrolled": true
   },
   "outputs": [
    {
     "data": {
      "text/html": [
       "<div>\n",
       "<style scoped>\n",
       "    .dataframe tbody tr th:only-of-type {\n",
       "        vertical-align: middle;\n",
       "    }\n",
       "\n",
       "    .dataframe tbody tr th {\n",
       "        vertical-align: top;\n",
       "    }\n",
       "\n",
       "    .dataframe thead th {\n",
       "        text-align: right;\n",
       "    }\n",
       "</style>\n",
       "<table border=\"1\" class=\"dataframe\">\n",
       "  <thead>\n",
       "    <tr style=\"text-align: right;\">\n",
       "      <th></th>\n",
       "      <th>id</th>\n",
       "      <th>img</th>\n",
       "      <th>label</th>\n",
       "      <th>text</th>\n",
       "    </tr>\n",
       "  </thead>\n",
       "  <tbody>\n",
       "    <tr>\n",
       "      <th>0</th>\n",
       "      <td>15740</td>\n",
       "      <td>img/15740.png</td>\n",
       "      <td>1</td>\n",
       "      <td>when someone tells you how to bbq</td>\n",
       "    </tr>\n",
       "    <tr>\n",
       "      <th>1</th>\n",
       "      <td>38794</td>\n",
       "      <td>img/38794.png</td>\n",
       "      <td>1</td>\n",
       "      <td>when they say white folks don't know how to cook</td>\n",
       "    </tr>\n",
       "    <tr>\n",
       "      <th>2</th>\n",
       "      <td>60792</td>\n",
       "      <td>img/60792.png</td>\n",
       "      <td>1</td>\n",
       "      <td>the original derp-face</td>\n",
       "    </tr>\n",
       "    <tr>\n",
       "      <th>3</th>\n",
       "      <td>71824</td>\n",
       "      <td>img/71824.png</td>\n",
       "      <td>1</td>\n",
       "      <td>okay here you go! you piece of shit!</td>\n",
       "    </tr>\n",
       "    <tr>\n",
       "      <th>4</th>\n",
       "      <td>4796</td>\n",
       "      <td>img/04796.png</td>\n",
       "      <td>1</td>\n",
       "      <td>xboxone farming 1619 simulator</td>\n",
       "    </tr>\n",
       "    <tr>\n",
       "      <th>...</th>\n",
       "      <td>...</td>\n",
       "      <td>...</td>\n",
       "      <td>...</td>\n",
       "      <td>...</td>\n",
       "    </tr>\n",
       "    <tr>\n",
       "      <th>1995</th>\n",
       "      <td>71352</td>\n",
       "      <td>img/71352.png</td>\n",
       "      <td>0</td>\n",
       "      <td>fighting for gay rights</td>\n",
       "    </tr>\n",
       "    <tr>\n",
       "      <th>1996</th>\n",
       "      <td>2164</td>\n",
       "      <td>img/02164.png</td>\n",
       "      <td>0</td>\n",
       "      <td>that feeling when you finish your homework in ...</td>\n",
       "    </tr>\n",
       "    <tr>\n",
       "      <th>1997</th>\n",
       "      <td>3587</td>\n",
       "      <td>img/03587.png</td>\n",
       "      <td>0</td>\n",
       "      <td>the day that shook new york city</td>\n",
       "    </tr>\n",
       "    <tr>\n",
       "      <th>1998</th>\n",
       "      <td>47839</td>\n",
       "      <td>img/47839.png</td>\n",
       "      <td>0</td>\n",
       "      <td>one of the first prototypes of the atom bomb</td>\n",
       "    </tr>\n",
       "    <tr>\n",
       "      <th>1999</th>\n",
       "      <td>34281</td>\n",
       "      <td>img/34281.png</td>\n",
       "      <td>0</td>\n",
       "      <td>today feels like a kinda day where i just wann...</td>\n",
       "    </tr>\n",
       "  </tbody>\n",
       "</table>\n",
       "<p>2000 rows × 4 columns</p>\n",
       "</div>"
      ],
      "text/plain": [
       "         id            img  label  \\\n",
       "0     15740  img/15740.png      1   \n",
       "1     38794  img/38794.png      1   \n",
       "2     60792  img/60792.png      1   \n",
       "3     71824  img/71824.png      1   \n",
       "4      4796  img/04796.png      1   \n",
       "...     ...            ...    ...   \n",
       "1995  71352  img/71352.png      0   \n",
       "1996   2164  img/02164.png      0   \n",
       "1997   3587  img/03587.png      0   \n",
       "1998  47839  img/47839.png      0   \n",
       "1999  34281  img/34281.png      0   \n",
       "\n",
       "                                                   text  \n",
       "0                     when someone tells you how to bbq  \n",
       "1      when they say white folks don't know how to cook  \n",
       "2                                the original derp-face  \n",
       "3                  okay here you go! you piece of shit!  \n",
       "4                        xboxone farming 1619 simulator  \n",
       "...                                                 ...  \n",
       "1995                            fighting for gay rights  \n",
       "1996  that feeling when you finish your homework in ...  \n",
       "1997                   the day that shook new york city  \n",
       "1998       one of the first prototypes of the atom bomb  \n",
       "1999  today feels like a kinda day where i just wann...  \n",
       "\n",
       "[2000 rows x 4 columns]"
      ]
     },
     "execution_count": 181,
     "metadata": {},
     "output_type": "execute_result"
    }
   ],
   "source": [
    "test_unseen"
   ]
  },
  {
   "cell_type": "code",
   "execution_count": 180,
   "metadata": {},
   "outputs": [
    {
     "ename": "TypeError",
     "evalue": "'in <string>' requires string as left operand, not Series",
     "output_type": "error",
     "traceback": [
      "\u001b[0;31m---------------------------------------------------------------------------\u001b[0m",
      "\u001b[0;31mTypeError\u001b[0m                                 Traceback (most recent call last)",
      "\u001b[0;32m<ipython-input-180-598be8bf3c30>\u001b[0m in \u001b[0;36m<module>\u001b[0;34m\u001b[0m\n\u001b[1;32m      1\u001b[0m \u001b[0;32mfor\u001b[0m \u001b[0mi\u001b[0m \u001b[0;32min\u001b[0m \u001b[0mrange\u001b[0m\u001b[0;34m(\u001b[0m\u001b[0mlen\u001b[0m\u001b[0;34m(\u001b[0m\u001b[0mtest_unseen\u001b[0m\u001b[0;34m[\u001b[0m\u001b[0;34m'id'\u001b[0m\u001b[0;34m]\u001b[0m\u001b[0;34m)\u001b[0m\u001b[0;34m)\u001b[0m\u001b[0;34m:\u001b[0m\u001b[0;34m\u001b[0m\u001b[0;34m\u001b[0m\u001b[0m\n\u001b[0;32m----> 2\u001b[0;31m     \u001b[0;32mif\u001b[0m \u001b[0mtest_unseen\u001b[0m\u001b[0;34m[\u001b[0m\u001b[0;34m'id'\u001b[0m\u001b[0;34m]\u001b[0m \u001b[0;32min\u001b[0m \u001b[0mracism_results\u001b[0m\u001b[0;34m[\u001b[0m\u001b[0mi\u001b[0m\u001b[0;34m]\u001b[0m\u001b[0;34m:\u001b[0m\u001b[0;34m\u001b[0m\u001b[0;34m\u001b[0m\u001b[0m\n\u001b[0m\u001b[1;32m      3\u001b[0m         \u001b[0mtest_unseen\u001b[0m\u001b[0;34m.\u001b[0m\u001b[0mat\u001b[0m\u001b[0;34m[\u001b[0m\u001b[0mracism_results\u001b[0m\u001b[0;34m[\u001b[0m\u001b[0mi\u001b[0m\u001b[0;34m]\u001b[0m\u001b[0;34m,\u001b[0m \u001b[0;34m'proba'\u001b[0m\u001b[0;34m]\u001b[0m \u001b[0;34m=\u001b[0m \u001b[0;36m1\u001b[0m\u001b[0;34m\u001b[0m\u001b[0;34m\u001b[0m\u001b[0m\n",
      "\u001b[0;31mTypeError\u001b[0m: 'in <string>' requires string as left operand, not Series"
     ]
    }
   ],
   "source": [
    "for i in range(len(test_unseen['id'])):\n",
    "    if test_unseen['id'] in racism_results[i]:\n",
    "        test_unseen.at[racism_results[i], 'proba'] = 1"
   ]
  },
  {
   "cell_type": "code",
   "execution_count": 187,
   "metadata": {},
   "outputs": [
    {
     "data": {
      "text/html": [
       "<div>\n",
       "<style scoped>\n",
       "    .dataframe tbody tr th:only-of-type {\n",
       "        vertical-align: middle;\n",
       "    }\n",
       "\n",
       "    .dataframe tbody tr th {\n",
       "        vertical-align: top;\n",
       "    }\n",
       "\n",
       "    .dataframe thead th {\n",
       "        text-align: right;\n",
       "    }\n",
       "</style>\n",
       "<table border=\"1\" class=\"dataframe\">\n",
       "  <thead>\n",
       "    <tr style=\"text-align: right;\">\n",
       "      <th></th>\n",
       "      <th>id</th>\n",
       "      <th>img</th>\n",
       "      <th>label</th>\n",
       "      <th>text</th>\n",
       "    </tr>\n",
       "  </thead>\n",
       "  <tbody>\n",
       "    <tr>\n",
       "      <th>0</th>\n",
       "      <td>15740</td>\n",
       "      <td>img/15740.png</td>\n",
       "      <td>1</td>\n",
       "      <td>when someone tells you how to bbq</td>\n",
       "    </tr>\n",
       "    <tr>\n",
       "      <th>1</th>\n",
       "      <td>38794</td>\n",
       "      <td>img/38794.png</td>\n",
       "      <td>1</td>\n",
       "      <td>when they say white folks don't know how to cook</td>\n",
       "    </tr>\n",
       "    <tr>\n",
       "      <th>2</th>\n",
       "      <td>60792</td>\n",
       "      <td>img/60792.png</td>\n",
       "      <td>1</td>\n",
       "      <td>the original derp-face</td>\n",
       "    </tr>\n",
       "    <tr>\n",
       "      <th>3</th>\n",
       "      <td>71824</td>\n",
       "      <td>img/71824.png</td>\n",
       "      <td>1</td>\n",
       "      <td>okay here you go! you piece of shit!</td>\n",
       "    </tr>\n",
       "    <tr>\n",
       "      <th>4</th>\n",
       "      <td>4796</td>\n",
       "      <td>img/04796.png</td>\n",
       "      <td>1</td>\n",
       "      <td>xboxone farming 1619 simulator</td>\n",
       "    </tr>\n",
       "    <tr>\n",
       "      <th>...</th>\n",
       "      <td>...</td>\n",
       "      <td>...</td>\n",
       "      <td>...</td>\n",
       "      <td>...</td>\n",
       "    </tr>\n",
       "    <tr>\n",
       "      <th>1995</th>\n",
       "      <td>71352</td>\n",
       "      <td>img/71352.png</td>\n",
       "      <td>0</td>\n",
       "      <td>fighting for gay rights</td>\n",
       "    </tr>\n",
       "    <tr>\n",
       "      <th>1996</th>\n",
       "      <td>2164</td>\n",
       "      <td>img/02164.png</td>\n",
       "      <td>0</td>\n",
       "      <td>that feeling when you finish your homework in ...</td>\n",
       "    </tr>\n",
       "    <tr>\n",
       "      <th>1997</th>\n",
       "      <td>3587</td>\n",
       "      <td>img/03587.png</td>\n",
       "      <td>0</td>\n",
       "      <td>the day that shook new york city</td>\n",
       "    </tr>\n",
       "    <tr>\n",
       "      <th>1998</th>\n",
       "      <td>47839</td>\n",
       "      <td>img/47839.png</td>\n",
       "      <td>0</td>\n",
       "      <td>one of the first prototypes of the atom bomb</td>\n",
       "    </tr>\n",
       "    <tr>\n",
       "      <th>1999</th>\n",
       "      <td>34281</td>\n",
       "      <td>img/34281.png</td>\n",
       "      <td>0</td>\n",
       "      <td>today feels like a kinda day where i just wann...</td>\n",
       "    </tr>\n",
       "  </tbody>\n",
       "</table>\n",
       "<p>2000 rows × 4 columns</p>\n",
       "</div>"
      ],
      "text/plain": [
       "         id            img  label  \\\n",
       "0     15740  img/15740.png      1   \n",
       "1     38794  img/38794.png      1   \n",
       "2     60792  img/60792.png      1   \n",
       "3     71824  img/71824.png      1   \n",
       "4      4796  img/04796.png      1   \n",
       "...     ...            ...    ...   \n",
       "1995  71352  img/71352.png      0   \n",
       "1996   2164  img/02164.png      0   \n",
       "1997   3587  img/03587.png      0   \n",
       "1998  47839  img/47839.png      0   \n",
       "1999  34281  img/34281.png      0   \n",
       "\n",
       "                                                   text  \n",
       "0                     when someone tells you how to bbq  \n",
       "1      when they say white folks don't know how to cook  \n",
       "2                                the original derp-face  \n",
       "3                  okay here you go! you piece of shit!  \n",
       "4                        xboxone farming 1619 simulator  \n",
       "...                                                 ...  \n",
       "1995                            fighting for gay rights  \n",
       "1996  that feeling when you finish your homework in ...  \n",
       "1997                   the day that shook new york city  \n",
       "1998       one of the first prototypes of the atom bomb  \n",
       "1999  today feels like a kinda day where i just wann...  \n",
       "\n",
       "[2000 rows x 4 columns]"
      ]
     },
     "execution_count": 187,
     "metadata": {},
     "output_type": "execute_result"
    }
   ],
   "source": [
    "test_unseen"
   ]
  },
  {
   "cell_type": "code",
   "execution_count": 207,
   "metadata": {},
   "outputs": [],
   "source": [
    "match = ['38794','15740', '31769', '51029', '68390', '10538', '21769', '50614', '14530', '29476', '95814', '15690', '46730', '25067', '68390', '14530', '67243', '25107', '14530', '71280', '14530', '45836', '53274', '20539', '13960', '68721', '70264', '10423', '19256', '47128', '21394', '81976', '30942', '76483', '14530', '64532', '14329', '37416', '49351', '50861', '60439', '45128', '90471', '39854', '70194', '15839', '42183', '13906', '36724', '18034', '75823', '31849', '31684', '71925', '34021', '67915', '56987', '70845', '72194', '64215', '71294', '31769', '34051', '52034', '92467', '90145', '26198', '85927', '91283', '32106', '69873', '38697', '87604', '75192', '83579', '39280', '42691', '90847', '76305', '45128', '75823', '45612', '12956', '76450', '74192', '52386', '14530', '83052', '86597', '47196', '19256', '83052', '82603', '50723', '73849', '42187', '19372', '56791', '67043', '85362', '14530', '42183', '14530', '27385', '47051', '71294', '31769', '39852', '90126', '56128', '14530', '71263', '43217', '29756', '86251', '19247', '23968', '53820', '71340', '32765', '48936', '20578', '64215', '25907', '17582', '71358', '31684', '14530', '19487', '96587', '46183', '36429', '67810', '87610', '61742', '14530', '54039', '75192', '10263', '72194', '23648', '87406', '94876', '19256', '34051', '90126', '53849', '14580', '90471', '14530', '25107', '75203', '29678', '72406', '80451', '40965', '23096', '64532', '37180', '94352', '71396', '69130', '74192', '74218', '21963', '12907', '24319', '29357', '79346', '72145', '35640', '21963', '92170', '57209', '46910', '46910', '34526', '90471', '49608', '67243', '73561', '91283', '13968', '69342', '93268', '14530', '46910', '32507', '82914', '34798', '35602', '21693', '87429', '81625', '71583', '13906', '17850', '34295', '79315', '76305', '72358', '68390', '14530', '75823', '61894', '43817', '28695', '59364', '86041', '56834', '63941', '49607', '40913', '84910', '34815', '76952', '39280', '28613', '86453', '59217', '87203', '78315', '63087', '91276', '42861', '72640', '27563', '14028', '56108', '52910', '13960', '46058', '20578', '19372', '28613', '50491', '52938', '45612', '59837', '45612', '14530', '43952', '82367', '19256', '52986', '67043', '39852', '40965', '62178', '17582', '97521', '93468', '20578', '45120', '25370', '96587', '75231', '83056', '70845', '23715', '14530', '91457', '97180', '29814', '12309', '15690', '36079', '76532', '10572', '39280', '14530', '17582', '75816', '59462', '15920', '32980', '70934', '14530', '23854', '93268', '12956', '21963', '31684', '18034', '81259', '26708', '30942', '23415', '20578', '23807', '34780', '39281', '89123', '97180', '89561', '61408', '28604', '27034', '67801', '75192', '14530', '43025', '41385', '70841', '90786', '14329', '24687', '28613', '87203', '81245', '50263', '31270', '85290', '42897', '48062', '40826', '71682', '31769', '71682', '75192', '42187', '24319', '42187', '84361', '16820', '74562', '53849', '61480', '45836', '69203', '87403', '25370', '97261', '97604', '21963', '35912', '71086', '74583', '96342', '59362', '60439', '18675', '83490', '56834', '70194', '19372', '43026', '92571', '42187', '25107', '17459', '93468', '42183', '73091', '21569', '86741', '31029', '78236', '71846', '53849', '19203', '32670', '97261', '21963', '52938', '91276', '52687', '92835', '90471', '43695', '95031', '57918', '13960', '73561', '78031', '25067', '81902', '59217', '48257', '10259', '92568', '58372', '67485', '94158', '75089', '96587', '45128', '29158', '61480', '90471', '78236', '29835', '29814', '84361', '81953', '67029', '71058', '51736', '13906', '51706', '31769', '75420', '46910', '86307', '30291', '28695', '14530', '31769', '13960', '83056']"
   ]
  },
  {
   "cell_type": "code",
   "execution_count": 204,
   "metadata": {},
   "outputs": [
    {
     "data": {
      "text/plain": [
       "'[15740 38794 60792 ...  3587 47839 34281]'"
      ]
     },
     "execution_count": 204,
     "metadata": {},
     "output_type": "execute_result"
    }
   ],
   "source": [
    "str()"
   ]
  },
  {
   "cell_type": "code",
   "execution_count": 208,
   "metadata": {},
   "outputs": [],
   "source": [
    "r = []\n",
    "for i in test_unseen['id'].values:\n",
    "    if str(i) in match:\n",
    "        r.append(i)"
   ]
  },
  {
   "cell_type": "code",
   "execution_count": 222,
   "metadata": {},
   "outputs": [
    {
     "data": {
      "text/html": [
       "<div>\n",
       "<style scoped>\n",
       "    .dataframe tbody tr th:only-of-type {\n",
       "        vertical-align: middle;\n",
       "    }\n",
       "\n",
       "    .dataframe tbody tr th {\n",
       "        vertical-align: top;\n",
       "    }\n",
       "\n",
       "    .dataframe thead th {\n",
       "        text-align: right;\n",
       "    }\n",
       "</style>\n",
       "<table border=\"1\" class=\"dataframe\">\n",
       "  <thead>\n",
       "    <tr style=\"text-align: right;\">\n",
       "      <th></th>\n",
       "      <th>id</th>\n",
       "      <th>img</th>\n",
       "      <th>label</th>\n",
       "      <th>text</th>\n",
       "    </tr>\n",
       "  </thead>\n",
       "  <tbody>\n",
       "    <tr>\n",
       "      <th>0</th>\n",
       "      <td>15740</td>\n",
       "      <td>img/15740.png</td>\n",
       "      <td>1</td>\n",
       "      <td>when someone tells you how to bbq</td>\n",
       "    </tr>\n",
       "    <tr>\n",
       "      <th>1</th>\n",
       "      <td>38794</td>\n",
       "      <td>img/38794.png</td>\n",
       "      <td>1</td>\n",
       "      <td>when they say white folks don't know how to cook</td>\n",
       "    </tr>\n",
       "    <tr>\n",
       "      <th>2</th>\n",
       "      <td>60792</td>\n",
       "      <td>img/60792.png</td>\n",
       "      <td>1</td>\n",
       "      <td>the original derp-face</td>\n",
       "    </tr>\n",
       "    <tr>\n",
       "      <th>3</th>\n",
       "      <td>71824</td>\n",
       "      <td>img/71824.png</td>\n",
       "      <td>1</td>\n",
       "      <td>okay here you go! you piece of shit!</td>\n",
       "    </tr>\n",
       "    <tr>\n",
       "      <th>4</th>\n",
       "      <td>4796</td>\n",
       "      <td>img/04796.png</td>\n",
       "      <td>1</td>\n",
       "      <td>xboxone farming 1619 simulator</td>\n",
       "    </tr>\n",
       "    <tr>\n",
       "      <th>...</th>\n",
       "      <td>...</td>\n",
       "      <td>...</td>\n",
       "      <td>...</td>\n",
       "      <td>...</td>\n",
       "    </tr>\n",
       "    <tr>\n",
       "      <th>1995</th>\n",
       "      <td>71352</td>\n",
       "      <td>img/71352.png</td>\n",
       "      <td>0</td>\n",
       "      <td>fighting for gay rights</td>\n",
       "    </tr>\n",
       "    <tr>\n",
       "      <th>1996</th>\n",
       "      <td>2164</td>\n",
       "      <td>img/02164.png</td>\n",
       "      <td>0</td>\n",
       "      <td>that feeling when you finish your homework in ...</td>\n",
       "    </tr>\n",
       "    <tr>\n",
       "      <th>1997</th>\n",
       "      <td>3587</td>\n",
       "      <td>img/03587.png</td>\n",
       "      <td>0</td>\n",
       "      <td>the day that shook new york city</td>\n",
       "    </tr>\n",
       "    <tr>\n",
       "      <th>1998</th>\n",
       "      <td>47839</td>\n",
       "      <td>img/47839.png</td>\n",
       "      <td>0</td>\n",
       "      <td>one of the first prototypes of the atom bomb</td>\n",
       "    </tr>\n",
       "    <tr>\n",
       "      <th>1999</th>\n",
       "      <td>34281</td>\n",
       "      <td>img/34281.png</td>\n",
       "      <td>0</td>\n",
       "      <td>today feels like a kinda day where i just wann...</td>\n",
       "    </tr>\n",
       "  </tbody>\n",
       "</table>\n",
       "<p>2000 rows × 4 columns</p>\n",
       "</div>"
      ],
      "text/plain": [
       "         id            img  label  \\\n",
       "0     15740  img/15740.png      1   \n",
       "1     38794  img/38794.png      1   \n",
       "2     60792  img/60792.png      1   \n",
       "3     71824  img/71824.png      1   \n",
       "4      4796  img/04796.png      1   \n",
       "...     ...            ...    ...   \n",
       "1995  71352  img/71352.png      0   \n",
       "1996   2164  img/02164.png      0   \n",
       "1997   3587  img/03587.png      0   \n",
       "1998  47839  img/47839.png      0   \n",
       "1999  34281  img/34281.png      0   \n",
       "\n",
       "                                                   text  \n",
       "0                     when someone tells you how to bbq  \n",
       "1      when they say white folks don't know how to cook  \n",
       "2                                the original derp-face  \n",
       "3                  okay here you go! you piece of shit!  \n",
       "4                        xboxone farming 1619 simulator  \n",
       "...                                                 ...  \n",
       "1995                            fighting for gay rights  \n",
       "1996  that feeling when you finish your homework in ...  \n",
       "1997                   the day that shook new york city  \n",
       "1998       one of the first prototypes of the atom bomb  \n",
       "1999  today feels like a kinda day where i just wann...  \n",
       "\n",
       "[2000 rows x 4 columns]"
      ]
     },
     "execution_count": 222,
     "metadata": {},
     "output_type": "execute_result"
    }
   ],
   "source": [
    "test_unseen"
   ]
  },
  {
   "cell_type": "code",
   "execution_count": 227,
   "metadata": {},
   "outputs": [
    {
     "data": {
      "text/plain": [
       "60792"
      ]
     },
     "execution_count": 227,
     "metadata": {},
     "output_type": "execute_result"
    }
   ],
   "source": [
    "test_unseen.at[2, 'id']"
   ]
  },
  {
   "cell_type": "code",
   "execution_count": 13,
   "metadata": {},
   "outputs": [
    {
     "data": {
      "text/plain": [
       "0"
      ]
     },
     "execution_count": 13,
     "metadata": {},
     "output_type": "execute_result"
    }
   ],
   "source": [
    "int(test_unseen.index[test_unseen['id'] == 15740].values)"
   ]
  },
  {
   "cell_type": "code",
   "execution_count": 59,
   "metadata": {},
   "outputs": [],
   "source": [
    "i = 34281\n",
    "if int(i) in test_unseen['id'].values:\n",
    "    test_unseen.at[int(test_unseen.index[test_unseen['id']==int(i)].values), 'label'] = 1.0"
   ]
  },
  {
   "cell_type": "code",
   "execution_count": 60,
   "metadata": {},
   "outputs": [
    {
     "data": {
      "text/html": [
       "<div>\n",
       "<style scoped>\n",
       "    .dataframe tbody tr th:only-of-type {\n",
       "        vertical-align: middle;\n",
       "    }\n",
       "\n",
       "    .dataframe tbody tr th {\n",
       "        vertical-align: top;\n",
       "    }\n",
       "\n",
       "    .dataframe thead th {\n",
       "        text-align: right;\n",
       "    }\n",
       "</style>\n",
       "<table border=\"1\" class=\"dataframe\">\n",
       "  <thead>\n",
       "    <tr style=\"text-align: right;\">\n",
       "      <th></th>\n",
       "      <th>id</th>\n",
       "      <th>img</th>\n",
       "      <th>label</th>\n",
       "      <th>text</th>\n",
       "    </tr>\n",
       "  </thead>\n",
       "  <tbody>\n",
       "    <tr>\n",
       "      <th>0</th>\n",
       "      <td>15740</td>\n",
       "      <td>img/15740.png</td>\n",
       "      <td>1</td>\n",
       "      <td>when someone tells you how to bbq</td>\n",
       "    </tr>\n",
       "    <tr>\n",
       "      <th>1</th>\n",
       "      <td>38794</td>\n",
       "      <td>img/38794.png</td>\n",
       "      <td>1</td>\n",
       "      <td>when they say white folks don't know how to cook</td>\n",
       "    </tr>\n",
       "    <tr>\n",
       "      <th>2</th>\n",
       "      <td>60792</td>\n",
       "      <td>img/60792.png</td>\n",
       "      <td>1</td>\n",
       "      <td>the original derp-face</td>\n",
       "    </tr>\n",
       "    <tr>\n",
       "      <th>3</th>\n",
       "      <td>71824</td>\n",
       "      <td>img/71824.png</td>\n",
       "      <td>1</td>\n",
       "      <td>okay here you go! you piece of shit!</td>\n",
       "    </tr>\n",
       "    <tr>\n",
       "      <th>4</th>\n",
       "      <td>4796</td>\n",
       "      <td>img/04796.png</td>\n",
       "      <td>1</td>\n",
       "      <td>xboxone farming 1619 simulator</td>\n",
       "    </tr>\n",
       "    <tr>\n",
       "      <th>...</th>\n",
       "      <td>...</td>\n",
       "      <td>...</td>\n",
       "      <td>...</td>\n",
       "      <td>...</td>\n",
       "    </tr>\n",
       "    <tr>\n",
       "      <th>1995</th>\n",
       "      <td>71352</td>\n",
       "      <td>img/71352.png</td>\n",
       "      <td>1</td>\n",
       "      <td>fighting for gay rights</td>\n",
       "    </tr>\n",
       "    <tr>\n",
       "      <th>1996</th>\n",
       "      <td>2164</td>\n",
       "      <td>img/02164.png</td>\n",
       "      <td>1</td>\n",
       "      <td>that feeling when you finish your homework in ...</td>\n",
       "    </tr>\n",
       "    <tr>\n",
       "      <th>1997</th>\n",
       "      <td>3587</td>\n",
       "      <td>img/03587.png</td>\n",
       "      <td>1</td>\n",
       "      <td>the day that shook new york city</td>\n",
       "    </tr>\n",
       "    <tr>\n",
       "      <th>1998</th>\n",
       "      <td>47839</td>\n",
       "      <td>img/47839.png</td>\n",
       "      <td>0</td>\n",
       "      <td>one of the first prototypes of the atom bomb</td>\n",
       "    </tr>\n",
       "    <tr>\n",
       "      <th>1999</th>\n",
       "      <td>34281</td>\n",
       "      <td>img/34281.png</td>\n",
       "      <td>1</td>\n",
       "      <td>today feels like a kinda day where i just wann...</td>\n",
       "    </tr>\n",
       "  </tbody>\n",
       "</table>\n",
       "<p>2000 rows × 4 columns</p>\n",
       "</div>"
      ],
      "text/plain": [
       "         id            img  label  \\\n",
       "0     15740  img/15740.png      1   \n",
       "1     38794  img/38794.png      1   \n",
       "2     60792  img/60792.png      1   \n",
       "3     71824  img/71824.png      1   \n",
       "4      4796  img/04796.png      1   \n",
       "...     ...            ...    ...   \n",
       "1995  71352  img/71352.png      1   \n",
       "1996   2164  img/02164.png      1   \n",
       "1997   3587  img/03587.png      1   \n",
       "1998  47839  img/47839.png      0   \n",
       "1999  34281  img/34281.png      1   \n",
       "\n",
       "                                                   text  \n",
       "0                     when someone tells you how to bbq  \n",
       "1      when they say white folks don't know how to cook  \n",
       "2                                the original derp-face  \n",
       "3                  okay here you go! you piece of shit!  \n",
       "4                        xboxone farming 1619 simulator  \n",
       "...                                                 ...  \n",
       "1995                            fighting for gay rights  \n",
       "1996  that feeling when you finish your homework in ...  \n",
       "1997                   the day that shook new york city  \n",
       "1998       one of the first prototypes of the atom bomb  \n",
       "1999  today feels like a kinda day where i just wann...  \n",
       "\n",
       "[2000 rows x 4 columns]"
      ]
     },
     "execution_count": 60,
     "metadata": {},
     "output_type": "execute_result"
    }
   ],
   "source": [
    "test_unseen"
   ]
  },
  {
   "cell_type": "code",
   "execution_count": 50,
   "metadata": {},
   "outputs": [
    {
     "data": {
      "text/plain": [
       "0       15740\n",
       "1       38794\n",
       "2       60792\n",
       "3       71824\n",
       "4        4796\n",
       "        ...  \n",
       "1995    71352\n",
       "1996     2164\n",
       "1997     3587\n",
       "1998    47839\n",
       "1999    34281\n",
       "Name: id, Length: 2000, dtype: int64"
      ]
     },
     "execution_count": 50,
     "metadata": {},
     "output_type": "execute_result"
    }
   ],
   "source": [
    "test_unseen['id']"
   ]
  },
  {
   "cell_type": "code",
   "execution_count": 53,
   "metadata": {},
   "outputs": [
    {
     "data": {
      "text/plain": [
       "True"
      ]
     },
     "execution_count": 53,
     "metadata": {},
     "output_type": "execute_result"
    }
   ],
   "source": [
    "import numpy as np\n",
    "\n",
    "15740 in test_unseen['id'].values"
   ]
  },
  {
   "cell_type": "code",
   "execution_count": 41,
   "metadata": {},
   "outputs": [],
   "source": [
    "i = 34281\n",
    "if (i) in test_unseen['id']:\n",
    "    print(\"True\")"
   ]
  },
  {
   "cell_type": "code",
   "execution_count": 63,
   "metadata": {},
   "outputs": [],
   "source": [
    "for i in racism_results:\n",
    "    if int(i) in test_unseen['id'].values:\n",
    "        test_unseen.at[int(test_unseen.index[test_unseen['id']==int(i)].values), 'label'] = 1.0"
   ]
  },
  {
   "cell_type": "code",
   "execution_count": null,
   "metadata": {},
   "outputs": [],
   "source": [
    "for i in racism_results:\n",
    "    if int(i) in test_unseen_SA['id'].values:\n",
    "        test_unseen_SA.at[int(test_unseen_SA.index[test_unseen_SA['id']==int(i)].values), 'label'] = 1.0"
   ]
  }
 ],
 "metadata": {
  "colab": {
   "authorship_tag": "ABX9TyMbLYyt/e8q9yf15JgVDqB4",
   "include_colab_link": true,
   "name": "HM_ensamble.ipynb",
   "provenance": []
  },
  "kernelspec": {
   "display_name": "Python 3",
   "language": "python",
   "name": "python3"
  },
  "language_info": {
   "codemirror_mode": {
    "name": "ipython",
    "version": 3
   },
   "file_extension": ".py",
   "mimetype": "text/x-python",
   "name": "python",
   "nbconvert_exporter": "python",
   "pygments_lexer": "ipython3",
   "version": "3.9.1"
  }
 },
 "nbformat": 4,
 "nbformat_minor": 1
}
