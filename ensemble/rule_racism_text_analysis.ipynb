{
 "cells": [
  {
   "cell_type": "markdown",
   "id": "champion-crowd",
   "metadata": {},
   "source": [
    "# Rule Racism Text Analysis"
   ]
  },
  {
   "cell_type": "code",
   "execution_count": 1,
   "id": "disabled-constant",
   "metadata": {},
   "outputs": [],
   "source": [
    "import pandas as pd\n",
    "import numpy as np"
   ]
  },
  {
   "cell_type": "code",
   "execution_count": 2,
   "id": "metropolitan-taxation",
   "metadata": {},
   "outputs": [
    {
     "name": "stdout",
     "output_type": "stream",
     "text": [
      "ERNIE_prob.ipynb                ensemble.py\r\n",
      "HM_ensamble.ipynb               fairface.json\r\n",
      "\u001b[34mannotations\u001b[m\u001b[m                     fairface_.json\r\n",
      "box_annos.race.json             \u001b[34mresults\u001b[m\u001b[m\r\n",
      "ens.sh                          rule_racism_text_analysis.ipynb\r\n",
      "ens_v3.py                       test_unseen.jsonl\r\n",
      "ens_vilio.py\r\n"
     ]
    }
   ],
   "source": [
    "!ls"
   ]
  },
  {
   "cell_type": "code",
   "execution_count": 4,
   "id": "recognized-shelter",
   "metadata": {},
   "outputs": [],
   "source": [
    "test_unseen = pd.read_json(\"test_unseen.jsonl\", lines = True)\n",
    "fairface = pd.read_json(\"fairface.json\")"
   ]
  },
  {
   "cell_type": "code",
   "execution_count": 12,
   "id": "retained-liquid",
   "metadata": {},
   "outputs": [],
   "source": [
    "id_in_test = []\n",
    "for i in fairface['id'].values:\n",
    "    if i in test_unseen['id'].values:\n",
    "        id_in_test.append(i)"
   ]
  },
  {
   "cell_type": "code",
   "execution_count": 13,
   "id": "apparent-teddy",
   "metadata": {},
   "outputs": [
    {
     "data": {
      "text/plain": [
       "[]"
      ]
     },
     "execution_count": 13,
     "metadata": {},
     "output_type": "execute_result"
    }
   ],
   "source": [
    "id_in_test"
   ]
  },
  {
   "cell_type": "code",
   "execution_count": 17,
   "id": "existing-advocate",
   "metadata": {},
   "outputs": [
    {
     "data": {
      "text/plain": [
       "array([96238,  6213, 13852, ..., 83056, 91675, 79234])"
      ]
     },
     "execution_count": 17,
     "metadata": {},
     "output_type": "execute_result"
    }
   ],
   "source": [
    "(fairface['id'].values)"
   ]
  },
  {
   "cell_type": "code",
   "execution_count": 21,
   "id": "continuing-strategy",
   "metadata": {},
   "outputs": [
    {
     "data": {
      "text/plain": [
       "False"
      ]
     },
     "execution_count": 21,
     "metadata": {},
     "output_type": "execute_result"
    }
   ],
   "source": []
  }
 ],
 "metadata": {
  "kernelspec": {
   "display_name": "Python 3",
   "language": "python",
   "name": "python3"
  },
  "language_info": {
   "codemirror_mode": {
    "name": "ipython",
    "version": 3
   },
   "file_extension": ".py",
   "mimetype": "text/x-python",
   "name": "python",
   "nbconvert_exporter": "python",
   "pygments_lexer": "ipython3",
   "version": "3.9.1"
  }
 },
 "nbformat": 4,
 "nbformat_minor": 5
}
