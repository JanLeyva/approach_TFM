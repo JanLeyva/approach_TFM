{
 "cells": [
  {
   "cell_type": "code",
   "execution_count": null,
   "id": "c52bfb2c",
   "metadata": {},
   "outputs": [],
   "source": []
  },
  {
   "cell_type": "code",
   "execution_count": 1,
   "id": "16eef283",
   "metadata": {},
   "outputs": [],
   "source": [
    "import pandas as pd\n",
    "import numpy as np"
   ]
  },
  {
   "cell_type": "code",
   "execution_count": 6,
   "id": "c217f4a9",
   "metadata": {},
   "outputs": [],
   "source": [
    "pred_test_unseen=pd.read_csv(\"ens1009_test_unseen_SA.csv\")\n",
    "test_unseen=pd.read_json(\"annotations/test_unseen.jsonl\", lines=True)"
   ]
  },
  {
   "cell_type": "code",
   "execution_count": 11,
   "id": "b5021a37",
   "metadata": {},
   "outputs": [
    {
     "data": {
      "text/plain": [
       "7"
      ]
     },
     "execution_count": 11,
     "metadata": {},
     "output_type": "execute_result"
    }
   ],
   "source": [
    "len((test_unseen['text'][0]).split())"
   ]
  },
  {
   "cell_type": "code",
   "execution_count": 12,
   "id": "6c102bb9",
   "metadata": {},
   "outputs": [],
   "source": [
    "len_words=[]\n",
    "for ind in range(len(test_unseen['text'])):\n",
    "    len_words.append(len((test_unseen['text'][ind]).split()))"
   ]
  },
  {
   "cell_type": "code",
   "execution_count": 14,
   "id": "225ef90d",
   "metadata": {},
   "outputs": [],
   "source": [
    "test_unseen['len_words']=len_words"
   ]
  },
  {
   "cell_type": "code",
   "execution_count": 15,
   "id": "03eae9e9",
   "metadata": {},
   "outputs": [
    {
     "data": {
      "text/html": [
       "<div>\n",
       "<style scoped>\n",
       "    .dataframe tbody tr th:only-of-type {\n",
       "        vertical-align: middle;\n",
       "    }\n",
       "\n",
       "    .dataframe tbody tr th {\n",
       "        vertical-align: top;\n",
       "    }\n",
       "\n",
       "    .dataframe thead th {\n",
       "        text-align: right;\n",
       "    }\n",
       "</style>\n",
       "<table border=\"1\" class=\"dataframe\">\n",
       "  <thead>\n",
       "    <tr style=\"text-align: right;\">\n",
       "      <th></th>\n",
       "      <th>id</th>\n",
       "      <th>img</th>\n",
       "      <th>label</th>\n",
       "      <th>text</th>\n",
       "      <th>len_words</th>\n",
       "    </tr>\n",
       "  </thead>\n",
       "  <tbody>\n",
       "    <tr>\n",
       "      <th>0</th>\n",
       "      <td>15740</td>\n",
       "      <td>img/15740.png</td>\n",
       "      <td>1</td>\n",
       "      <td>when someone tells you how to bbq</td>\n",
       "      <td>7</td>\n",
       "    </tr>\n",
       "    <tr>\n",
       "      <th>1</th>\n",
       "      <td>38794</td>\n",
       "      <td>img/38794.png</td>\n",
       "      <td>1</td>\n",
       "      <td>when they say white folks don't know how to cook</td>\n",
       "      <td>10</td>\n",
       "    </tr>\n",
       "    <tr>\n",
       "      <th>2</th>\n",
       "      <td>60792</td>\n",
       "      <td>img/60792.png</td>\n",
       "      <td>1</td>\n",
       "      <td>the original derp-face</td>\n",
       "      <td>3</td>\n",
       "    </tr>\n",
       "    <tr>\n",
       "      <th>3</th>\n",
       "      <td>71824</td>\n",
       "      <td>img/71824.png</td>\n",
       "      <td>1</td>\n",
       "      <td>okay here you go! you piece of shit!</td>\n",
       "      <td>8</td>\n",
       "    </tr>\n",
       "    <tr>\n",
       "      <th>4</th>\n",
       "      <td>4796</td>\n",
       "      <td>img/04796.png</td>\n",
       "      <td>1</td>\n",
       "      <td>xboxone farming 1619 simulator</td>\n",
       "      <td>4</td>\n",
       "    </tr>\n",
       "    <tr>\n",
       "      <th>...</th>\n",
       "      <td>...</td>\n",
       "      <td>...</td>\n",
       "      <td>...</td>\n",
       "      <td>...</td>\n",
       "      <td>...</td>\n",
       "    </tr>\n",
       "    <tr>\n",
       "      <th>1995</th>\n",
       "      <td>71352</td>\n",
       "      <td>img/71352.png</td>\n",
       "      <td>0</td>\n",
       "      <td>fighting for gay rights</td>\n",
       "      <td>4</td>\n",
       "    </tr>\n",
       "    <tr>\n",
       "      <th>1996</th>\n",
       "      <td>2164</td>\n",
       "      <td>img/02164.png</td>\n",
       "      <td>0</td>\n",
       "      <td>that feeling when you finish your homework in ...</td>\n",
       "      <td>16</td>\n",
       "    </tr>\n",
       "    <tr>\n",
       "      <th>1997</th>\n",
       "      <td>3587</td>\n",
       "      <td>img/03587.png</td>\n",
       "      <td>0</td>\n",
       "      <td>the day that shook new york city</td>\n",
       "      <td>7</td>\n",
       "    </tr>\n",
       "    <tr>\n",
       "      <th>1998</th>\n",
       "      <td>47839</td>\n",
       "      <td>img/47839.png</td>\n",
       "      <td>0</td>\n",
       "      <td>one of the first prototypes of the atom bomb</td>\n",
       "      <td>9</td>\n",
       "    </tr>\n",
       "    <tr>\n",
       "      <th>1999</th>\n",
       "      <td>34281</td>\n",
       "      <td>img/34281.png</td>\n",
       "      <td>0</td>\n",
       "      <td>today feels like a kinda day where i just wann...</td>\n",
       "      <td>13</td>\n",
       "    </tr>\n",
       "  </tbody>\n",
       "</table>\n",
       "<p>2000 rows × 5 columns</p>\n",
       "</div>"
      ],
      "text/plain": [
       "         id            img  label  \\\n",
       "0     15740  img/15740.png      1   \n",
       "1     38794  img/38794.png      1   \n",
       "2     60792  img/60792.png      1   \n",
       "3     71824  img/71824.png      1   \n",
       "4      4796  img/04796.png      1   \n",
       "...     ...            ...    ...   \n",
       "1995  71352  img/71352.png      0   \n",
       "1996   2164  img/02164.png      0   \n",
       "1997   3587  img/03587.png      0   \n",
       "1998  47839  img/47839.png      0   \n",
       "1999  34281  img/34281.png      0   \n",
       "\n",
       "                                                   text  len_words  \n",
       "0                     when someone tells you how to bbq          7  \n",
       "1      when they say white folks don't know how to cook         10  \n",
       "2                                the original derp-face          3  \n",
       "3                  okay here you go! you piece of shit!          8  \n",
       "4                        xboxone farming 1619 simulator          4  \n",
       "...                                                 ...        ...  \n",
       "1995                            fighting for gay rights          4  \n",
       "1996  that feeling when you finish your homework in ...         16  \n",
       "1997                   the day that shook new york city          7  \n",
       "1998       one of the first prototypes of the atom bomb          9  \n",
       "1999  today feels like a kinda day where i just wann...         13  \n",
       "\n",
       "[2000 rows x 5 columns]"
      ]
     },
     "execution_count": 15,
     "metadata": {},
     "output_type": "execute_result"
    }
   ],
   "source": [
    "test_unseen"
   ]
  }
 ],
 "metadata": {
  "kernelspec": {
   "display_name": "Python 3 (ipykernel)",
   "language": "python",
   "name": "python3"
  },
  "language_info": {
   "codemirror_mode": {
    "name": "ipython",
    "version": 3
   },
   "file_extension": ".py",
   "mimetype": "text/x-python",
   "name": "python",
   "nbconvert_exporter": "python",
   "pygments_lexer": "ipython3",
   "version": "3.9.7"
  }
 },
 "nbformat": 4,
 "nbformat_minor": 5
}
