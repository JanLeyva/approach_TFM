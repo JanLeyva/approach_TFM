{
 "cells": [
  {
   "cell_type": "markdown",
   "id": "accepted-native",
   "metadata": {},
   "source": [
    "# ERNIE-Vil prob"
   ]
  },
  {
   "cell_type": "code",
   "execution_count": 13,
   "id": "postal-deployment",
   "metadata": {},
   "outputs": [],
   "source": [
    "import pandas as pd\n",
    "import numpy as np\n",
    "import matplotlib.pyplot as plt\n",
    "import seaborn as sns"
   ]
  },
  {
   "cell_type": "code",
   "execution_count": 63,
   "id": "honey-belgium",
   "metadata": {},
   "outputs": [],
   "source": [
    "ES365072 = pd.read_csv(\"ES365072_test_unseen_SA.csv\")"
   ]
  },
  {
   "cell_type": "code",
   "execution_count": 40,
   "id": "interesting-office",
   "metadata": {},
   "outputs": [],
   "source": [
    "test_unseenv = pd.read_json(\"test_unseen.jsonl\", lines = True)"
   ]
  },
  {
   "cell_type": "markdown",
   "id": "unexpected-store",
   "metadata": {},
   "source": [
    "## Basic metrics"
   ]
  },
  {
   "cell_type": "code",
   "execution_count": 6,
   "id": "internal-musical",
   "metadata": {},
   "outputs": [
    {
     "data": {
      "text/plain": [
       "2000"
      ]
     },
     "execution_count": 6,
     "metadata": {},
     "output_type": "execute_result"
    }
   ],
   "source": [
    "sum(ES365072['label'] == 0)"
   ]
  },
  {
   "cell_type": "code",
   "execution_count": 14,
   "id": "solid-coordinate",
   "metadata": {},
   "outputs": [
    {
     "data": {
      "text/plain": [
       "<AxesSubplot:xlabel='label', ylabel='count'>"
      ]
     },
     "execution_count": 14,
     "metadata": {},
     "output_type": "execute_result"
    },
    {
     "data": {
      "image/png": "[encoded data removed]",
      "text/plain": [
       "<Figure size 432x288 with 1 Axes>"
      ]
     },
     "metadata": {
      "needs_background": "light"
     },
     "output_type": "display_data"
    }
   ],
   "source": [
    "sns.countplot(x=\"label\", data=ES365072)"
   ]
  },
  {
   "cell_type": "code",
   "execution_count": 22,
   "id": "annual-bradley",
   "metadata": {},
   "outputs": [
    {
     "data": {
      "text/plain": [
       "684"
      ]
     },
     "execution_count": 22,
     "metadata": {},
     "output_type": "execute_result"
    }
   ],
   "source": [
    "sum(ES365072['proba'] > -1)"
   ]
  },
  {
   "cell_type": "code",
   "execution_count": 81,
   "id": "promising-luther",
   "metadata": {},
   "outputs": [],
   "source": [
    "results = []\n",
    "for i in range(len(ES365072['proba'])):\n",
    "    if ES365072['proba'][i] > 0:\n",
    "        results.append(1)\n",
    "    else:\n",
    "        results.append(0)"
   ]
  },
  {
   "cell_type": "code",
   "execution_count": 83,
   "id": "compressed-introduction",
   "metadata": {},
   "outputs": [],
   "source": [
    "results = pd.DataFrame(results)"
   ]
  },
  {
   "cell_type": "code",
   "execution_count": 84,
   "id": "reflected-delight",
   "metadata": {},
   "outputs": [
    {
     "data": {
      "text/plain": [
       "606"
      ]
     },
     "execution_count": 84,
     "metadata": {},
     "output_type": "execute_result"
    }
   ],
   "source": [
    "sum(results[0] == 1)"
   ]
  },
  {
   "cell_type": "code",
   "execution_count": 85,
   "id": "superior-legislation",
   "metadata": {},
   "outputs": [
    {
     "data": {
      "text/plain": [
       "0.752"
      ]
     },
     "execution_count": 85,
     "metadata": {},
     "output_type": "execute_result"
    }
   ],
   "source": [
    "sum(test_unseenv['label'] == results[0])/2000"
   ]
  },
  {
   "cell_type": "code",
   "execution_count": 91,
   "id": "distant-duplicate",
   "metadata": {},
   "outputs": [
    {
     "data": {
      "text/plain": [
       "0.7162666666666666"
      ]
     },
     "execution_count": 91,
     "metadata": {},
     "output_type": "execute_result"
    }
   ],
   "source": [
    "from sklearn import metrics\n",
    "fpr, tpr, thresholds = metrics.roc_curve(test_unseenv['label'], results[0],  pos_label=1)\n",
    "metrics.auc(fpr, tpr)"
   ]
  },
  {
   "cell_type": "code",
   "execution_count": 92,
   "id": "dramatic-internship",
   "metadata": {},
   "outputs": [
    {
     "data": {
      "text/plain": [
       "0.8073365333333334"
      ]
     },
     "execution_count": 92,
     "metadata": {},
     "output_type": "execute_result"
    }
   ],
   "source": [
    "from sklearn import metrics\n",
    "fpr, tpr, thresholds = metrics.roc_curve(test_unseenv['label'], ES365072['proba'],  pos_label=1)\n",
    "metrics.auc(fpr, tpr)"
   ]
  }
 ],
 "metadata": {
  "kernelspec": {
   "display_name": "Python 3",
   "language": "python",
   "name": "python3"
  },
  "language_info": {
   "codemirror_mode": {
    "name": "ipython",
    "version": 3
   },
   "file_extension": ".py",
   "mimetype": "text/x-python",
   "name": "python",
   "nbconvert_exporter": "python",
   "pygments_lexer": "ipython3",
   "version": "3.9.1"
  }
 },
 "nbformat": 4,
 "nbformat_minor": 5
}
