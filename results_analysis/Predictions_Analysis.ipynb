{
 "cells": [
  {
   "cell_type": "markdown",
   "id": "86177c13",
   "metadata": {},
   "source": [
    "# Predictions_Analysis\n",
    "\n",
    "Hate speech, however, continues to be an important challenge, and multimodal hate speech remains an especially difficult machine learning problem. Hate speech is defined as a direct attack (characterized as violent or dehumanizing speech, harmful stereotypes, statements of inferiority, expressions of contempt, disgust or dismissal, cursing, and calls for exclusion or segregation) against people on the basis of what we call protected characteristics (characterized as race, ethnicity, national origin, disability, religious affiliation, caste, sexual orientation, sex, gender identity and serious disease). We operationalize this definition by making fine-grained labels for protected classes and attack types available as additional annotations on the hateful memes dataset.\n",
    "Task A (multi-label): For each meme, detect the protected category. Protected categories are: race, disability, religion, nationality, sex. If the meme is not_hateful the protected category is: pc_empty.\n",
    "Task B (multi-label): For each meme, detect the attack type. Attack types are: contempt, mocking, inferiority, slurs, exclusion, dehumanizing, inciting_violence. If the meme is not_hateful the protected category is: attack_empty."
   ]
  },
  {
   "cell_type": "code",
   "execution_count": 227,
   "id": "a6d4a662",
   "metadata": {},
   "outputs": [],
   "source": [
    "import os\n",
    "import pandas as pd\n",
    "import numpy as np\n",
    "import json\n",
    "from sklearn.metrics import roc_auc_score, accuracy_score\n",
    "from sklearn import metrics\n",
    "import seaborn as sns\n",
    "import matplotlib.pyplot as plt\n",
    "import matplotlib.colors as pltcolors\n",
    "from sklearn.metrics import confusion_matrix\n",
    "import spacy\n",
    "from collections import Counter\n",
    "nlp = spacy.load(\"en_core_web_lg\")"
   ]
  },
  {
   "cell_type": "code",
   "execution_count": 2,
   "id": "c214bc6d",
   "metadata": {},
   "outputs": [],
   "source": [
    "# helpers\n",
    "def auc_score(org_file, ens_file):\n",
    "    fpr, tpr, thresholds = metrics.roc_curve(org_file['label'], ens_file['proba'],  pos_label=1)\n",
    "    return round(metrics.auc(fpr, tpr), 3)"
   ]
  },
  {
   "cell_type": "code",
   "execution_count": 128,
   "id": "c0bec072",
   "metadata": {},
   "outputs": [],
   "source": [
    "# import dev predictions and dev with annotations of type hateful\n",
    "dev_seen_results = pd.read_csv(\"ensembled_dev_seen_SA.csv\")\n",
    "\n",
    "# fairface features\n",
    "fairface = pd.read_json(\"annotations_fairface.json\")\n",
    "\n",
    "dev_seen = pd.read_json(\"dev_seen.jsonl\", lines = True)\n",
    "dev_seen_htype = pd.read_json(\"dev_seen_htype.json\", lines = True)\n",
    "dev_seen_htype['label'] = dev_seen['label']\n",
    "dev_seen_htype['match_predict'] = dev_seen_results['label'] == dev_seen['label']"
   ]
  },
  {
   "cell_type": "markdown",
   "id": "3d7a15bc",
   "metadata": {},
   "source": [
    "## Overall metrics"
   ]
  },
  {
   "cell_type": "code",
   "execution_count": 6,
   "id": "f0537825",
   "metadata": {},
   "outputs": [
    {
     "data": {
      "text/plain": [
       "0.808"
      ]
     },
     "execution_count": 6,
     "metadata": {},
     "output_type": "execute_result"
    }
   ],
   "source": [
    "auc_score(dev_seen, dev_seen_results)"
   ]
  },
  {
   "cell_type": "code",
   "execution_count": 7,
   "id": "50f46522",
   "metadata": {},
   "outputs": [
    {
     "data": {
      "text/plain": [
       "0.734"
      ]
     },
     "execution_count": 7,
     "metadata": {},
     "output_type": "execute_result"
    }
   ],
   "source": [
    "accuracy_score(dev_seen['label'], dev_seen_results['label'])"
   ]
  },
  {
   "cell_type": "markdown",
   "id": "ab18ebc3",
   "metadata": {},
   "source": [
    "## Metrics by hateful type\n",
    "\n",
    "- **Protected Category** -> `gold_pc`: *race, disability, religion, nationality, sex*. If the meme is not_hateful the protected category is: *pc_empty*.\n",
    "\n",
    "- **Attack Type** -> `gold_attack`: *contempt, mocking, inferiority, slurs, exclusion, dehumanizing, inciting_violence*. If the meme is not_hateful the protected category is: *attack_empty*."
   ]
  },
  {
   "cell_type": "code",
   "execution_count": 183,
   "id": "94af1811",
   "metadata": {},
   "outputs": [],
   "source": [
    "ch = []\n",
    "for gp in dev_seen_htype['gold_attack']:\n",
    "    if gp == ['attack_empty']:\n",
    "        ch.append('attack_empty')\n",
    "    elif gp == ['contempt']:\n",
    "        ch.append('contempt')\n",
    "    elif gp == ['mocking']:\n",
    "        ch.append('mocking')\n",
    "    elif gp == ['inferiority']:\n",
    "        ch.append('inferiority')\n",
    "    elif gp == ['slurs']:\n",
    "        ch.append('slurs')\n",
    "    elif gp == ['exclusion']:\n",
    "        ch.append('exclusion')\n",
    "    elif gp == ['dehumanizing']:\n",
    "        ch.append('dehumanizing')\n",
    "    elif gp == ['inciting_violence']:\n",
    "        ch.append('inciting_violence')\n",
    "    else:\n",
    "        ch.append('multiple')\n",
    "        \n",
    "dev_seen_htype['gold_attack2'] = ch"
   ]
  },
  {
   "cell_type": "code",
   "execution_count": 184,
   "id": "6ea36269",
   "metadata": {},
   "outputs": [],
   "source": [
    "gp_ = []\n",
    "for gp in dev_seen_htype['gold_pc']:\n",
    "    if gp == ['pc_empty']:\n",
    "        gp_.append('pc_empty')\n",
    "    elif gp == ['race']:\n",
    "        gp_.append('race')\n",
    "    elif gp == ['disability']:\n",
    "        gp_.append('disability')\n",
    "    elif gp == ['religion']:\n",
    "        gp_.append('religion')\n",
    "    elif gp == ['nationality']:\n",
    "        gp_.append('nationality')\n",
    "    elif gp == ['sex']:\n",
    "        gp_.append('sex')\n",
    "    else:\n",
    "        gp_.append('multiple')\n",
    "        \n",
    "dev_seen_htype['gold_pc'] = gp_"
   ]
  },
  {
   "cell_type": "code",
   "execution_count": 185,
   "id": "e547d348",
   "metadata": {},
   "outputs": [],
   "source": [
    "df_dev_join=pd.merge(dev_seen_htype, fairface[['id', 'face_race']],  how='left', on='id', indicator=True)"
   ]
  },
  {
   "cell_type": "code",
   "execution_count": 10,
   "id": "6254c6c3",
   "metadata": {},
   "outputs": [],
   "source": [
    "# race, disability, religion, nationality, sex and pc_empty.\n",
    "dev_seen_htype['gold_pc'] = dev_seen_htype['gold_pc'].map(lambda x: 'pc_empty' if(x == ['pc_empty']) else x)\n",
    "dev_seen_htype['gold_pc'] = dev_seen_htype['gold_pc'].map(lambda x: 'race' if(x == ['race']) else x)\n",
    "dev_seen_htype['gold_pc'] = dev_seen_htype['gold_pc'].map(lambda x: 'disability' if(x == ['disability']) else x)\n",
    "dev_seen_htype['gold_pc'] = dev_seen_htype['gold_pc'].map(lambda x: 'religion' if(x == ['religion']) else x)\n",
    "dev_seen_htype['gold_pc'] = dev_seen_htype['gold_pc'].map(lambda x: 'nationality' if(x == ['nationality']) else x)\n",
    "dev_seen_htype['gold_pc'] = dev_seen_htype['gold_pc'].map(lambda x: 'sex' if(x == ['sex']) else x)"
   ]
  },
  {
   "cell_type": "code",
   "execution_count": 11,
   "id": "b5e3c24d",
   "metadata": {},
   "outputs": [
    {
     "data": {
      "text/plain": [
       "gold_attack2\n",
       "attack_empty         257\n",
       "contempt               8\n",
       "dehumanizing         108\n",
       "exclusion              9\n",
       "inciting_violence     19\n",
       "inferiority           44\n",
       "mocking               33\n",
       "multiple              17\n",
       "slurs                  5\n",
       "Name: label, dtype: int64"
      ]
     },
     "execution_count": 11,
     "metadata": {},
     "output_type": "execute_result"
    }
   ],
   "source": [
    "dev_seen_htype.groupby('gold_attack2')['label'].count()"
   ]
  },
  {
   "cell_type": "code",
   "execution_count": 13,
   "id": "07b93db1",
   "metadata": {},
   "outputs": [
    {
     "data": {
      "text/plain": [
       "gold_attack2\n",
       "attack_empty         257\n",
       "contempt               8\n",
       "dehumanizing         108\n",
       "exclusion              9\n",
       "inciting_violence     19\n",
       "inferiority           44\n",
       "mocking               33\n",
       "multiple              17\n",
       "slurs                  5\n",
       "Name: gold_pc, dtype: int64"
      ]
     },
     "execution_count": 13,
     "metadata": {},
     "output_type": "execute_result"
    }
   ],
   "source": [
    "dev_seen_htype.groupby('gold_attack2')['gold_pc'].count()"
   ]
  },
  {
   "cell_type": "code",
   "execution_count": 14,
   "id": "a2db8838",
   "metadata": {},
   "outputs": [],
   "source": [
    "bplot=dev_seen_htype.groupby('gold_attack2').agg({'label': 'count'})"
   ]
  },
  {
   "cell_type": "code",
   "execution_count": 15,
   "id": "f49f9a75",
   "metadata": {},
   "outputs": [
    {
     "data": {
      "text/plain": [
       "label\n",
       "0    253\n",
       "1    247\n",
       "Name: gold_attack2, dtype: int64"
      ]
     },
     "execution_count": 15,
     "metadata": {},
     "output_type": "execute_result"
    }
   ],
   "source": [
    "dev_seen_htype.groupby('label')['gold_attack2'].count()"
   ]
  },
  {
   "cell_type": "markdown",
   "id": "ce199386",
   "metadata": {},
   "source": [
    "## Bar Plot `gold_attack`"
   ]
  },
  {
   "cell_type": "code",
   "execution_count": 20,
   "id": "5d34ae45",
   "metadata": {},
   "outputs": [
    {
     "data": {
      "text/plain": [
       "<AxesSubplot:xlabel='label', ylabel='gold_attack2'>"
      ]
     },
     "execution_count": 20,
     "metadata": {},
     "output_type": "execute_result"
    },
    {
     "data": {
      "image/png": "[encoded data removed]",
      "text/plain": [
       "<Figure size 842.4x595.44 with 1 Axes>"
      ]
     },
     "metadata": {},
     "output_type": "display_data"
    }
   ],
   "source": [
    "sns.set(rc={'figure.figsize':(11.7,8.27)})\n",
    "sns.barplot(x=\"label\", y=bplot.index, orient = \"h\", data=bplot)"
   ]
  },
  {
   "cell_type": "markdown",
   "id": "0fad2580",
   "metadata": {},
   "source": [
    "## Bar Plot `gold_pc`"
   ]
  },
  {
   "cell_type": "code",
   "execution_count": 21,
   "id": "f163e3c5",
   "metadata": {},
   "outputs": [],
   "source": [
    "bbplot_gold_pc = dev_seen_htype.groupby('gold_pc').agg({'label': 'count'})"
   ]
  },
  {
   "cell_type": "code",
   "execution_count": 22,
   "id": "083cefd2",
   "metadata": {},
   "outputs": [
    {
     "data": {
      "text/plain": [
       "<AxesSubplot:xlabel='gold_pc', ylabel='label'>"
      ]
     },
     "execution_count": 22,
     "metadata": {},
     "output_type": "execute_result"
    },
    {
     "data": {
      "image/png": "[encoded data removed]",
      "text/plain": [
       "<Figure size 842.4x595.44 with 1 Axes>"
      ]
     },
     "metadata": {},
     "output_type": "display_data"
    }
   ],
   "source": [
    "sns.barplot(x=bbplot_gold_pc.index, y=\"label\", data=bbplot_gold_pc)"
   ]
  },
  {
   "cell_type": "markdown",
   "id": "1f0b57ff",
   "metadata": {},
   "source": [
    "## Predictions match"
   ]
  },
  {
   "cell_type": "code",
   "execution_count": 23,
   "id": "31927cb1",
   "metadata": {},
   "outputs": [
    {
     "data": {
      "text/plain": [
       "array([[179,  74],\n",
       "       [ 59, 188]])"
      ]
     },
     "execution_count": 23,
     "metadata": {},
     "output_type": "execute_result"
    }
   ],
   "source": [
    "confusion_matrix(dev_seen['label'], dev_seen_results['label'])"
   ]
  },
  {
   "cell_type": "code",
   "execution_count": 74,
   "id": "8536a0a5",
   "metadata": {},
   "outputs": [
    {
     "data": {
      "text/html": [
       "<div>\n",
       "<style scoped>\n",
       "    .dataframe tbody tr th:only-of-type {\n",
       "        vertical-align: middle;\n",
       "    }\n",
       "\n",
       "    .dataframe tbody tr th {\n",
       "        vertical-align: top;\n",
       "    }\n",
       "\n",
       "    .dataframe thead th {\n",
       "        text-align: right;\n",
       "    }\n",
       "</style>\n",
       "<table border=\"1\" class=\"dataframe\">\n",
       "  <thead>\n",
       "    <tr style=\"text-align: right;\">\n",
       "      <th></th>\n",
       "      <th>label</th>\n",
       "      <th>match_predict</th>\n",
       "      <th>perc</th>\n",
       "    </tr>\n",
       "    <tr>\n",
       "      <th>gold_pc</th>\n",
       "      <th></th>\n",
       "      <th></th>\n",
       "      <th></th>\n",
       "    </tr>\n",
       "  </thead>\n",
       "  <tbody>\n",
       "    <tr>\n",
       "      <th>disability</th>\n",
       "      <td>16</td>\n",
       "      <td>13</td>\n",
       "      <td>81.250000</td>\n",
       "    </tr>\n",
       "    <tr>\n",
       "      <th>multiple</th>\n",
       "      <td>30</td>\n",
       "      <td>19</td>\n",
       "      <td>63.333333</td>\n",
       "    </tr>\n",
       "    <tr>\n",
       "      <th>nationality</th>\n",
       "      <td>19</td>\n",
       "      <td>15</td>\n",
       "      <td>78.947368</td>\n",
       "    </tr>\n",
       "    <tr>\n",
       "      <th>pc_empty</th>\n",
       "      <td>254</td>\n",
       "      <td>177</td>\n",
       "      <td>69.685039</td>\n",
       "    </tr>\n",
       "    <tr>\n",
       "      <th>race</th>\n",
       "      <td>59</td>\n",
       "      <td>46</td>\n",
       "      <td>77.966102</td>\n",
       "    </tr>\n",
       "    <tr>\n",
       "      <th>religion</th>\n",
       "      <td>78</td>\n",
       "      <td>62</td>\n",
       "      <td>79.487179</td>\n",
       "    </tr>\n",
       "    <tr>\n",
       "      <th>sex</th>\n",
       "      <td>44</td>\n",
       "      <td>35</td>\n",
       "      <td>79.545455</td>\n",
       "    </tr>\n",
       "  </tbody>\n",
       "</table>\n",
       "</div>"
      ],
      "text/plain": [
       "             label  match_predict       perc\n",
       "gold_pc                                     \n",
       "disability      16             13  81.250000\n",
       "multiple        30             19  63.333333\n",
       "nationality     19             15  78.947368\n",
       "pc_empty       254            177  69.685039\n",
       "race            59             46  77.966102\n",
       "religion        78             62  79.487179\n",
       "sex             44             35  79.545455"
      ]
     },
     "execution_count": 74,
     "metadata": {},
     "output_type": "execute_result"
    }
   ],
   "source": [
    "bplot_results = pd.concat([dev_seen_htype.groupby('gold_pc').agg({'label': 'count'}),\n",
    "     dev_seen_htype.groupby('gold_pc').agg({'match_predict': 'sum'})], axis = 1)\n",
    "# add percentage Col in _ df\n",
    "bplot_results_ = bplot_results.copy()\n",
    "bplot_results_['perc'] = bplot_results['match_predict']/bplot_results['label']*100\n",
    "bplot_results_"
   ]
  },
  {
   "cell_type": "code",
   "execution_count": 61,
   "id": "26a9365d",
   "metadata": {},
   "outputs": [],
   "source": [
    "# we melt the df in order to use more than one col in barplot\n",
    "melt_bplot_results = pd.melt(bplot_results)\n",
    "melt_bplot_results['gold_pc'] = ('disability', 'multiple', 'nationality', 'pc_empty', 'race',\n",
    "       'religion', 'sex',\n",
    "                                 'disability', 'multiple', 'nationality', 'pc_empty', 'race',\n",
    "       'religion', 'sex')"
   ]
  },
  {
   "cell_type": "code",
   "execution_count": 200,
   "id": "6092cd09",
   "metadata": {},
   "outputs": [
    {
     "data": {
      "text/html": [
       "<div>\n",
       "<style scoped>\n",
       "    .dataframe tbody tr th:only-of-type {\n",
       "        vertical-align: middle;\n",
       "    }\n",
       "\n",
       "    .dataframe tbody tr th {\n",
       "        vertical-align: top;\n",
       "    }\n",
       "\n",
       "    .dataframe thead th {\n",
       "        text-align: right;\n",
       "    }\n",
       "</style>\n",
       "<table border=\"1\" class=\"dataframe\">\n",
       "  <thead>\n",
       "    <tr style=\"text-align: right;\">\n",
       "      <th></th>\n",
       "      <th>variable</th>\n",
       "      <th>value</th>\n",
       "      <th>gold_pc</th>\n",
       "    </tr>\n",
       "  </thead>\n",
       "  <tbody>\n",
       "    <tr>\n",
       "      <th>0</th>\n",
       "      <td>label</td>\n",
       "      <td>16</td>\n",
       "      <td>disability</td>\n",
       "    </tr>\n",
       "    <tr>\n",
       "      <th>1</th>\n",
       "      <td>label</td>\n",
       "      <td>30</td>\n",
       "      <td>multiple</td>\n",
       "    </tr>\n",
       "    <tr>\n",
       "      <th>2</th>\n",
       "      <td>label</td>\n",
       "      <td>19</td>\n",
       "      <td>nationality</td>\n",
       "    </tr>\n",
       "    <tr>\n",
       "      <th>3</th>\n",
       "      <td>label</td>\n",
       "      <td>254</td>\n",
       "      <td>pc_empty</td>\n",
       "    </tr>\n",
       "    <tr>\n",
       "      <th>4</th>\n",
       "      <td>label</td>\n",
       "      <td>59</td>\n",
       "      <td>race</td>\n",
       "    </tr>\n",
       "    <tr>\n",
       "      <th>5</th>\n",
       "      <td>label</td>\n",
       "      <td>78</td>\n",
       "      <td>religion</td>\n",
       "    </tr>\n",
       "    <tr>\n",
       "      <th>6</th>\n",
       "      <td>label</td>\n",
       "      <td>44</td>\n",
       "      <td>sex</td>\n",
       "    </tr>\n",
       "    <tr>\n",
       "      <th>7</th>\n",
       "      <td>match_predict</td>\n",
       "      <td>13</td>\n",
       "      <td>disability</td>\n",
       "    </tr>\n",
       "    <tr>\n",
       "      <th>8</th>\n",
       "      <td>match_predict</td>\n",
       "      <td>19</td>\n",
       "      <td>multiple</td>\n",
       "    </tr>\n",
       "    <tr>\n",
       "      <th>9</th>\n",
       "      <td>match_predict</td>\n",
       "      <td>15</td>\n",
       "      <td>nationality</td>\n",
       "    </tr>\n",
       "    <tr>\n",
       "      <th>10</th>\n",
       "      <td>match_predict</td>\n",
       "      <td>177</td>\n",
       "      <td>pc_empty</td>\n",
       "    </tr>\n",
       "    <tr>\n",
       "      <th>11</th>\n",
       "      <td>match_predict</td>\n",
       "      <td>46</td>\n",
       "      <td>race</td>\n",
       "    </tr>\n",
       "    <tr>\n",
       "      <th>12</th>\n",
       "      <td>match_predict</td>\n",
       "      <td>62</td>\n",
       "      <td>religion</td>\n",
       "    </tr>\n",
       "    <tr>\n",
       "      <th>13</th>\n",
       "      <td>match_predict</td>\n",
       "      <td>35</td>\n",
       "      <td>sex</td>\n",
       "    </tr>\n",
       "  </tbody>\n",
       "</table>\n",
       "</div>"
      ],
      "text/plain": [
       "         variable  value      gold_pc\n",
       "0           label     16   disability\n",
       "1           label     30     multiple\n",
       "2           label     19  nationality\n",
       "3           label    254     pc_empty\n",
       "4           label     59         race\n",
       "5           label     78     religion\n",
       "6           label     44          sex\n",
       "7   match_predict     13   disability\n",
       "8   match_predict     19     multiple\n",
       "9   match_predict     15  nationality\n",
       "10  match_predict    177     pc_empty\n",
       "11  match_predict     46         race\n",
       "12  match_predict     62     religion\n",
       "13  match_predict     35          sex"
      ]
     },
     "execution_count": 200,
     "metadata": {},
     "output_type": "execute_result"
    }
   ],
   "source": [
    "melt_bplot_results"
   ]
  },
  {
   "cell_type": "code",
   "execution_count": 64,
   "id": "f50696c5",
   "metadata": {},
   "outputs": [],
   "source": [
    "plot_order =['pc_empty', 'religion', \n",
    "             'race', \n",
    "             'sex',\n",
    "             'multiple',\n",
    "             'nationality',\n",
    "             'disability']"
   ]
  },
  {
   "cell_type": "code",
   "execution_count": 218,
   "id": "bf0ba15d",
   "metadata": {},
   "outputs": [
    {
     "data": {
      "image/png": "[encoded data removed]",
      "text/plain": [
       "<Figure size 842.4x595.44 with 1 Axes>"
      ]
     },
     "metadata": {},
     "output_type": "display_data"
    }
   ],
   "source": [
    "ax=sns.barplot(x='value', y='gold_pc', orient = \"h\", hue='variable', \n",
    "            order=plot_order, palette=\"Blues_d\", data=melt_bplot_results)\n",
    "ax.set_title(\"Predicted vs Real\")\n",
    "ax.set_xlabel(\"\")\n",
    "ax.set_ylabel(\"Hateful Type\")\n",
    "\n",
    "for container in ax.containers:\n",
    "    ax.bar_label(container)"
   ]
  },
  {
   "cell_type": "markdown",
   "id": "b78d2725",
   "metadata": {},
   "source": [
    "## Where is wrong in race, nationality"
   ]
  },
  {
   "cell_type": "code",
   "execution_count": 189,
   "id": "4396a852",
   "metadata": {},
   "outputs": [],
   "source": [
    "wrong_race_pred=df_dev_join[df_dev_join.gold_pc.isin([\"race\"]) &\n",
    "                  ~df_dev_join.match_predict.isin([True])]"
   ]
  },
  {
   "cell_type": "code",
   "execution_count": 197,
   "id": "03aaf9ca",
   "metadata": {},
   "outputs": [
    {
     "data": {
      "text/plain": [
       "13"
      ]
     },
     "execution_count": 197,
     "metadata": {},
     "output_type": "execute_result"
    }
   ],
   "source": [
    "len(wrong_race_pred['id'].unique())"
   ]
  },
  {
   "cell_type": "code",
   "execution_count": 199,
   "id": "988a1f10",
   "metadata": {},
   "outputs": [
    {
     "data": {
      "text/html": [
       "<div>\n",
       "<style scoped>\n",
       "    .dataframe tbody tr th:only-of-type {\n",
       "        vertical-align: middle;\n",
       "    }\n",
       "\n",
       "    .dataframe tbody tr th {\n",
       "        vertical-align: top;\n",
       "    }\n",
       "\n",
       "    .dataframe thead th {\n",
       "        text-align: right;\n",
       "    }\n",
       "</style>\n",
       "<table border=\"1\" class=\"dataframe\">\n",
       "  <thead>\n",
       "    <tr style=\"text-align: right;\">\n",
       "      <th></th>\n",
       "      <th>id</th>\n",
       "      <th>text</th>\n",
       "      <th>face_race</th>\n",
       "    </tr>\n",
       "  </thead>\n",
       "  <tbody>\n",
       "    <tr>\n",
       "      <th>309</th>\n",
       "      <td>83745</td>\n",
       "      <td>it is time.. to send these parasites back to t...</td>\n",
       "      <td>NaN</td>\n",
       "    </tr>\n",
       "    <tr>\n",
       "      <th>316</th>\n",
       "      <td>82301</td>\n",
       "      <td>cooooooooooooon!!!!</td>\n",
       "      <td>NaN</td>\n",
       "    </tr>\n",
       "    <tr>\n",
       "      <th>322</th>\n",
       "      <td>53968</td>\n",
       "      <td>when you have an 80 point iq but it's the high...</td>\n",
       "      <td>NaN</td>\n",
       "    </tr>\n",
       "    <tr>\n",
       "      <th>397</th>\n",
       "      <td>17682</td>\n",
       "      <td>give them what they deserve kill them all</td>\n",
       "      <td>NaN</td>\n",
       "    </tr>\n",
       "    <tr>\n",
       "      <th>401</th>\n",
       "      <td>29873</td>\n",
       "      <td>who knew that this country is full of white trash</td>\n",
       "      <td>NaN</td>\n",
       "    </tr>\n",
       "    <tr>\n",
       "      <th>416</th>\n",
       "      <td>43810</td>\n",
       "      <td>how to cook turkey in usa how to cook turkey i...</td>\n",
       "      <td>NaN</td>\n",
       "    </tr>\n",
       "    <tr>\n",
       "      <th>456</th>\n",
       "      <td>98701</td>\n",
       "      <td>oh no i can't steal anymore</td>\n",
       "      <td>NaN</td>\n",
       "    </tr>\n",
       "    <tr>\n",
       "      <th>506</th>\n",
       "      <td>73601</td>\n",
       "      <td>when you are white and stole your first bike</td>\n",
       "      <td>NaN</td>\n",
       "    </tr>\n",
       "    <tr>\n",
       "      <th>530</th>\n",
       "      <td>26943</td>\n",
       "      <td>my incesters built this country!!!!</td>\n",
       "      <td>[White]</td>\n",
       "    </tr>\n",
       "    <tr>\n",
       "      <th>558</th>\n",
       "      <td>56241</td>\n",
       "      <td>94% of them test positive for rh blood type wh...</td>\n",
       "      <td>[White, White, White, Indian, White, White, Wh...</td>\n",
       "    </tr>\n",
       "    <tr>\n",
       "      <th>559</th>\n",
       "      <td>56241</td>\n",
       "      <td>94% of them test positive for rh blood type wh...</td>\n",
       "      <td>[White, White, White, Indian, White, White, Wh...</td>\n",
       "    </tr>\n",
       "    <tr>\n",
       "      <th>560</th>\n",
       "      <td>56241</td>\n",
       "      <td>94% of them test positive for rh blood type wh...</td>\n",
       "      <td>[White, White, White, Indian, White, White, Wh...</td>\n",
       "    </tr>\n",
       "    <tr>\n",
       "      <th>561</th>\n",
       "      <td>56241</td>\n",
       "      <td>94% of them test positive for rh blood type wh...</td>\n",
       "      <td>[White, White, White, Indian, White, White, Wh...</td>\n",
       "    </tr>\n",
       "    <tr>\n",
       "      <th>568</th>\n",
       "      <td>42631</td>\n",
       "      <td>i believe they are like racism just shouldn't ...</td>\n",
       "      <td>[Black, Black]</td>\n",
       "    </tr>\n",
       "    <tr>\n",
       "      <th>569</th>\n",
       "      <td>61349</td>\n",
       "      <td>the proper way to pop a blackhead</td>\n",
       "      <td>NaN</td>\n",
       "    </tr>\n",
       "    <tr>\n",
       "      <th>582</th>\n",
       "      <td>10362</td>\n",
       "      <td>german british danish austrian diversity. appa...</td>\n",
       "      <td>[Indian, East Asian, East Asian, Black, Middle...</td>\n",
       "    </tr>\n",
       "    <tr>\n",
       "      <th>583</th>\n",
       "      <td>10362</td>\n",
       "      <td>german british danish austrian diversity. appa...</td>\n",
       "      <td>[Indian, East Asian, East Asian, Black, Middle...</td>\n",
       "    </tr>\n",
       "    <tr>\n",
       "      <th>584</th>\n",
       "      <td>10362</td>\n",
       "      <td>german british danish austrian diversity. appa...</td>\n",
       "      <td>[Indian, East Asian, East Asian, Black, Middle...</td>\n",
       "    </tr>\n",
       "  </tbody>\n",
       "</table>\n",
       "</div>"
      ],
      "text/plain": [
       "        id                                               text  \\\n",
       "309  83745  it is time.. to send these parasites back to t...   \n",
       "316  82301                                cooooooooooooon!!!!   \n",
       "322  53968  when you have an 80 point iq but it's the high...   \n",
       "397  17682          give them what they deserve kill them all   \n",
       "401  29873  who knew that this country is full of white trash   \n",
       "416  43810  how to cook turkey in usa how to cook turkey i...   \n",
       "456  98701                        oh no i can't steal anymore   \n",
       "506  73601       when you are white and stole your first bike   \n",
       "530  26943                my incesters built this country!!!!   \n",
       "558  56241  94% of them test positive for rh blood type wh...   \n",
       "559  56241  94% of them test positive for rh blood type wh...   \n",
       "560  56241  94% of them test positive for rh blood type wh...   \n",
       "561  56241  94% of them test positive for rh blood type wh...   \n",
       "568  42631  i believe they are like racism just shouldn't ...   \n",
       "569  61349                  the proper way to pop a blackhead   \n",
       "582  10362  german british danish austrian diversity. appa...   \n",
       "583  10362  german british danish austrian diversity. appa...   \n",
       "584  10362  german british danish austrian diversity. appa...   \n",
       "\n",
       "                                             face_race  \n",
       "309                                                NaN  \n",
       "316                                                NaN  \n",
       "322                                                NaN  \n",
       "397                                                NaN  \n",
       "401                                                NaN  \n",
       "416                                                NaN  \n",
       "456                                                NaN  \n",
       "506                                                NaN  \n",
       "530                                            [White]  \n",
       "558  [White, White, White, Indian, White, White, Wh...  \n",
       "559  [White, White, White, Indian, White, White, Wh...  \n",
       "560  [White, White, White, Indian, White, White, Wh...  \n",
       "561  [White, White, White, Indian, White, White, Wh...  \n",
       "568                                     [Black, Black]  \n",
       "569                                                NaN  \n",
       "582  [Indian, East Asian, East Asian, Black, Middle...  \n",
       "583  [Indian, East Asian, East Asian, Black, Middle...  \n",
       "584  [Indian, East Asian, East Asian, Black, Middle...  "
      ]
     },
     "execution_count": 199,
     "metadata": {},
     "output_type": "execute_result"
    }
   ],
   "source": [
    "wrong_race_pred[['id','text','face_race']]"
   ]
  },
  {
   "cell_type": "code",
   "execution_count": null,
   "id": "fd40724b",
   "metadata": {},
   "outputs": [],
   "source": []
  },
  {
   "cell_type": "markdown",
   "id": "7673e941",
   "metadata": {},
   "source": [
    "# Most used words"
   ]
  },
  {
   "cell_type": "code",
   "execution_count": 228,
   "id": "4356d1f4",
   "metadata": {},
   "outputs": [],
   "source": [
    "meme_anno_path = \"annotations\"\n",
    "\n",
    "# read the original files\n",
    "meme_anno_test_unseen = {}\n",
    "anno_file_test_unseen = os.path.join(meme_anno_path, 'test_unseen.jsonl')\n",
    "with open(anno_file_test_unseen, 'r') as f:\n",
    "    for l in f:\n",
    "        data = json.loads(l)\n",
    "        meme_anno_test_unseen[data['id']] = data\n",
    "\n",
    "meme_anno_test = {}\n",
    "anno_file_test = os.path.join(meme_anno_path, 'test_seen.jsonl')\n",
    "with open(anno_file_test, 'r') as f:\n",
    "    for l in f:\n",
    "        data = json.loads(l)\n",
    "        meme_anno_test[data['id']] = data\n",
    "\n",
    "meme_anno_dev = {}\n",
    "anno_file_dev = os.path.join(meme_anno_path, 'dev_seen.jsonl')\n",
    "with open(anno_file_dev, 'r') as f:\n",
    "    for l in f:\n",
    "        data = json.loads(l)\n",
    "        meme_anno_dev[data['id']] = data\n",
    "\n",
    "# join org annotations files\n",
    "\n",
    "meme_anno = {**meme_anno_test_unseen, **meme_anno_test, **meme_anno_dev}"
   ]
  },
  {
   "cell_type": "code",
   "execution_count": 245,
   "id": "68edc17c",
   "metadata": {},
   "outputs": [],
   "source": [
    "anno_text=[]\n",
    "for i, (id, anno) in enumerate(meme_anno.items()):\n",
    "    anno_text.append((anno['text']))"
   ]
  },
  {
   "cell_type": "code",
   "execution_count": 249,
   "id": "c4b603b4",
   "metadata": {},
   "outputs": [],
   "source": [
    "keyword_tok=list(nlp(' '.join(anno_text)))"
   ]
  },
  {
   "cell_type": "code",
   "execution_count": 254,
   "id": "4a1a22c2",
   "metadata": {},
   "outputs": [],
   "source": [
    "doc = (keyword_tok)\n",
    "# all tokens that arent stop words or punctuations\n",
    "words = [token.text\n",
    "         for token in doc\n",
    "         if not token.is_stop and not token.is_punct]\n",
    "\n",
    "# noun tokens that arent stop words or punctuations\n",
    "nouns = [token.text\n",
    "         for token in doc\n",
    "         if (not token.is_stop and\n",
    "             not token.is_punct and\n",
    "             token.pos_ == \"NOUN\")]\n",
    "\n",
    "# five most common tokens\n",
    "word_freq = Counter(words)\n",
    "common_words = word_freq.most_common(25)\n",
    "\n",
    "# five most common noun tokens\n",
    "noun_freq = Counter(nouns)\n",
    "common_nouns = noun_freq.most_common(25)"
   ]
  },
  {
   "cell_type": "code",
   "execution_count": 255,
   "id": "6b51d6e8",
   "metadata": {},
   "outputs": [
    {
     "name": "stdout",
     "output_type": "stream",
     "text": [
      "word_freq [('like', 180), ('people', 138), ('white', 109), ('black', 109), ('day', 82), ('gas', 80), ('know', 78), ('dishwasher', 77), ('look', 76), ('time', 76), ('love', 72), ('man', 71), ('want', 69), ('new', 68), ('got', 56), ('girl', 53), ('face', 52), ('way', 52), ('life', 52), ('world', 51), ('islam', 50), ('good', 49), ('muslim', 49), ('hate', 49), ('jewish', 46)]\n",
      "common_nouns [('people', 138), ('day', 82), ('dishwasher', 77), ('time', 76), ('gas', 69), ('man', 66), ('girl', 53), ('life', 52), ('world', 48), ('face', 41), ('way', 41), ('women', 41), ('today', 40), ('difference', 39), ('muslims', 37), ('dad', 36), ('race', 34), ('country', 33), ('thing', 31), ('kid', 31), ('men', 30), ('children', 30), ('school', 29), ('wife', 28), ('shit', 27)]\n"
     ]
    }
   ],
   "source": [
    "print(\"word_freq\",common_words)\n",
    "print(\"common_nouns\",common_nouns)"
   ]
  }
 ],
 "metadata": {
  "kernelspec": {
   "display_name": "Python 3 (ipykernel)",
   "language": "python",
   "name": "python3"
  },
  "language_info": {
   "codemirror_mode": {
    "name": "ipython",
    "version": 3
   },
   "file_extension": ".py",
   "mimetype": "text/x-python",
   "name": "python",
   "nbconvert_exporter": "python",
   "pygments_lexer": "ipython3",
   "version": "3.9.7"
  }
 },
 "nbformat": 4,
 "nbformat_minor": 5
}
