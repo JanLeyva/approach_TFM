{
 "cells": [
  {
   "cell_type": "markdown",
   "id": "243ed86c",
   "metadata": {},
   "source": [
    "# sort_values"
   ]
  },
  {
   "cell_type": "code",
   "execution_count": 1,
   "id": "ca74beee",
   "metadata": {},
   "outputs": [],
   "source": [
    "import pandas as pd\n",
    "import os\n",
    "from sklearn.metrics import roc_auc_score, accuracy_score, confusion_matrix, roc_curve\n",
    "from sklearn import metrics"
   ]
  },
  {
   "cell_type": "code",
   "execution_count": 2,
   "id": "201ba35b",
   "metadata": {},
   "outputs": [],
   "source": [
    "def metrics(y_real, y_predict, model_name):\n",
    "    \n",
    "    print(model_name)\n",
    "    print(\"-\"*25)\n",
    "    print(\"AUROC score {}\".format(roc_auc_score(y_real['label'], y_predict['proba'])))\n",
    "    print(\"-\"*25)\n",
    "    print(\"Accuracy {}\".format(accuracy_score(y_real['label'], y_predict['label'])))\n",
    "    print(\"-\"*25)\n",
    "    conf_matrix = confusion_matrix(y_real['label'], y_predict['label'])\n",
    "    print(\"Confusion Matrix\")\n",
    "    print(\"-\"*25)\n",
    "    print(\"|\", conf_matrix[0][0], \"|\", conf_matrix[0][1], \"|\")\n",
    "    print(\"-\"*25)\n",
    "    print(\"|\", conf_matrix[1][0], \"|\", conf_matrix[1][1], \"|\")\n",
    "    print(\"-\"*25)\n",
    "    print(\"-\"*50,\"next...\")"
   ]
  },
  {
   "cell_type": "markdown",
   "id": "9a318493",
   "metadata": {},
   "source": [
    "## Import `.csv` results"
   ]
  },
  {
   "cell_type": "code",
   "execution_count": 3,
   "id": "37100c07",
   "metadata": {},
   "outputs": [],
   "source": [
    "# original annotations\n",
    "test_unseen_=pd.read_json(\"annotations/test_unseen.jsonl\", lines = True)\n",
    "test_seen_=pd.read_json(\"annotations/test_seen.jsonl\", lines = True)\n",
    "dev_seen=pd.read_json(\"annotations/dev_seen.jsonl\", lines = True)"
   ]
  },
  {
   "cell_type": "code",
   "execution_count": 4,
   "id": "01d93517",
   "metadata": {},
   "outputs": [],
   "source": [
    "# VilBERT\n",
    "VilBERT_dev_seen=pd.read_csv(os.path.join(\"results_VilBERT\",\"VilBERT_dev_seen.csv\"))\n",
    "VilBERT_test_seen=pd.read_csv(os.path.join(\"results_VilBERT\",\"VilBERT_test_seen.csv\"))\n",
    "VilBERT_dev_unseen=pd.read_csv(os.path.join(\"results_VilBERT\",\"VilBERT_dev_unseen.csv\"))"
   ]
  },
  {
   "cell_type": "code",
   "execution_count": 17,
   "id": "69b95d18",
   "metadata": {},
   "outputs": [],
   "source": [
    "# VisualBERT\n",
    "VisualBERT_dev_seen=pd.read_csv(os.path.join(\"results_VisualBERT\",\"VisualBERT_dev_seen.csv\"))\n",
    "VisualBERT_test_seen=pd.read_csv(os.path.join(\"results_VisualBERT\",\"VisualBERT_test_seen.csv\"))\n",
    "VisualBERT_test_unseen=pd.read_csv(os.path.join(\"results_VisualBERT\",\"VisualBERT_test_unseen.csv\"))"
   ]
  },
  {
   "cell_type": "code",
   "execution_count": 19,
   "id": "0a19389c",
   "metadata": {},
   "outputs": [],
   "source": [
    "# VisualBERTCoco\n",
    "VisualBERTCoco_dev_seen=pd.read_csv(os.path.join(\"results_VisualBERTCoco\",\"VisualBERTCoco_dev_seen.csv\"))\n",
    "VisualBERTCoco_test_seen=pd.read_csv(os.path.join(\"results_VisualBERTCoco\",\"VisualBERTCoco_test_seen.csv\"))\n",
    "VisualBERTCoco_test_unseen=pd.read_csv(os.path.join(\"results_VisualBERTCoco\",\"VisualBERTCoco_test_unseen.csv\"))"
   ]
  },
  {
   "cell_type": "code",
   "execution_count": 7,
   "id": "82a39d56",
   "metadata": {},
   "outputs": [],
   "source": [
    "dev_seen_order = dev_seen['id']\n",
    "test_seen_order = test_seen_['id']\n",
    "test_unseen_order = test_unseen_['id']"
   ]
  },
  {
   "cell_type": "code",
   "execution_count": 36,
   "id": "03865497",
   "metadata": {},
   "outputs": [],
   "source": [
    "path=\"all_results\"\n",
    "\n",
    "dev, test, test_unseen = [], [], []\n",
    "dev_name, test_name, test_unseen_name = [], [], []\n",
    "for csv in sorted(os.listdir(path)):\n",
    "    # print(csv)\n",
    "    if \".csv\" in csv:\n",
    "        if (\"dev_seen\" in csv) or (\"val\" in csv):\n",
    "            dev.append(pd.read_csv(os.path.join(path, csv)))\n",
    "            dev_name.append(csv)\n",
    "        elif \"test_unseen\" in csv:\n",
    "            test_unseen.append(pd.read_csv(os.path.join(path, csv)))\n",
    "            test_unseen_name.append(csv)\n",
    "        elif \"test\" in csv:\n",
    "            test.append(pd.read_csv(os.path.join(path, csv)))\n",
    "            test_name.append(csv)"
   ]
  },
  {
   "cell_type": "code",
   "execution_count": 25,
   "id": "ba05b568",
   "metadata": {},
   "outputs": [
    {
     "data": {
      "text/plain": [
       "['VilBERT_dev_seen.csv',\n",
       " 'VisualBERTCoco_dev_seen.csv',\n",
       " 'VisualBERTCoco_dev_seen_run_val_sort.csv',\n",
       " 'VisualBERT_dev_seen.csv']"
      ]
     },
     "execution_count": 25,
     "metadata": {},
     "output_type": "execute_result"
    }
   ],
   "source": [
    "dev_name"
   ]
  },
  {
   "cell_type": "markdown",
   "id": "c671539b",
   "metadata": {},
   "source": [
    "### ordered files `to_csv`"
   ]
  },
  {
   "cell_type": "code",
   "execution_count": 37,
   "id": "8a66b2df",
   "metadata": {},
   "outputs": [],
   "source": [
    "for i, file in enumerate(dev):\n",
    "    #print(dev_name[i])\n",
    "    pd.merge(dev_seen_order, file).to_csv(os.path.join(\"all_results/ordered\", (dev_name[i])))\n",
    "    \n",
    "for i, file in enumerate(test_unseen):\n",
    "    #print(dev_name[i])\n",
    "    pd.merge(test_unseen_order, file).to_csv(os.path.join(\"all_results/ordered\", (test_unseen_name[i])))\n",
    "    \n",
    "for i, file in enumerate(test):\n",
    "    #print(dev_name[i])\n",
    "    pd.merge(test_seen_order, file).to_csv(os.path.join(\"all_results/ordered\", (test_name[i])))"
   ]
  },
  {
   "cell_type": "code",
   "execution_count": 38,
   "id": "99a8f044",
   "metadata": {},
   "outputs": [],
   "source": [
    "# read again the results now ordered\n",
    "\n",
    "path=\"all_results/ordered\"\n",
    "\n",
    "dev, test, test_unseen = [], [], []\n",
    "dev_name, test_name, test_unseen_name = [], [], []\n",
    "for csv in sorted(os.listdir(path)):\n",
    "    # print(csv)\n",
    "    if \".csv\" in csv:\n",
    "        if (\"dev_seen\" in csv) or (\"val\" in csv):\n",
    "            dev.append(pd.read_csv(os.path.join(path, csv)))\n",
    "            dev_name.append(csv)\n",
    "        elif \"test_unseen\" in csv:\n",
    "            test_unseen.append(pd.read_csv(os.path.join(path, csv)))\n",
    "            test_unseen_name.append(csv)\n",
    "        elif \"test\" in csv:\n",
    "            test.append(pd.read_csv(os.path.join(path, csv)))\n",
    "            test_name.append(csv)"
   ]
  },
  {
   "cell_type": "markdown",
   "id": "5b73840e",
   "metadata": {},
   "source": [
    "# `dev_seen`"
   ]
  },
  {
   "cell_type": "code",
   "execution_count": 39,
   "id": "be447b80",
   "metadata": {},
   "outputs": [
    {
     "name": "stdout",
     "output_type": "stream",
     "text": [
      "VilBERT_dev_seen.csv\n",
      "-------------------------\n",
      "AUROC score 0.6930918052199516\n",
      "-------------------------\n",
      "Accuracy 0.618\n",
      "-------------------------\n",
      "Confusion Matrix\n",
      "-------------------------\n",
      "| 216 | 37 |\n",
      "-------------------------\n",
      "| 154 | 93 |\n",
      "-------------------------\n",
      "-------------------------------------------------- next...\n",
      "VisualBERTCoco_dev_seen.csv\n",
      "-------------------------\n",
      "AUROC score 0.7561408842873374\n",
      "-------------------------\n",
      "Accuracy 0.664\n",
      "-------------------------\n",
      "Confusion Matrix\n",
      "-------------------------\n",
      "| 219 | 34 |\n",
      "-------------------------\n",
      "| 134 | 113 |\n",
      "-------------------------\n",
      "-------------------------------------------------- next...\n",
      "VisualBERTCoco_dev_seen_run_val_sort.csv\n",
      "-------------------------\n",
      "AUROC score 0.7393384647389225\n",
      "-------------------------\n",
      "Accuracy 0.62\n",
      "-------------------------\n",
      "Confusion Matrix\n",
      "-------------------------\n",
      "| 222 | 31 |\n",
      "-------------------------\n",
      "| 159 | 88 |\n",
      "-------------------------\n",
      "-------------------------------------------------- next...\n",
      "VisualBERT_dev_seen.csv\n",
      "-------------------------\n",
      "AUROC score 0.73247347618057\n",
      "-------------------------\n",
      "Accuracy 0.65\n",
      "-------------------------\n",
      "Confusion Matrix\n",
      "-------------------------\n",
      "| 214 | 39 |\n",
      "-------------------------\n",
      "| 136 | 111 |\n",
      "-------------------------\n",
      "-------------------------------------------------- next...\n"
     ]
    }
   ],
   "source": [
    "for i in range(4):\n",
    "    metrics(dev_seen, dev[i], dev_name[i])"
   ]
  },
  {
   "cell_type": "markdown",
   "id": "1a9d64a3",
   "metadata": {},
   "source": [
    "# `test_seen`"
   ]
  },
  {
   "cell_type": "code",
   "execution_count": 44,
   "id": "fa21bc73",
   "metadata": {},
   "outputs": [
    {
     "name": "stdout",
     "output_type": "stream",
     "text": [
      "VilBERT_test_seen.csv\n",
      "-------------------------\n",
      "AUROC score 0.7177911164465787\n",
      "-------------------------\n",
      "Accuracy 0.639\n",
      "-------------------------\n",
      "Confusion Matrix\n",
      "-------------------------\n",
      "| 439 | 71 |\n",
      "-------------------------\n",
      "| 290 | 200 |\n",
      "-------------------------\n",
      "-------------------------------------------------- next...\n",
      "VisualBERTCoco_test_seen.csv\n",
      "-------------------------\n",
      "AUROC score 0.7617887154861945\n",
      "-------------------------\n",
      "Accuracy 0.658\n",
      "-------------------------\n",
      "Confusion Matrix\n",
      "-------------------------\n",
      "| 452 | 58 |\n",
      "-------------------------\n",
      "| 284 | 206 |\n",
      "-------------------------\n",
      "-------------------------------------------------- next...\n",
      "VisualBERT_test_seen.csv\n",
      "-------------------------\n",
      "AUROC score 0.7505402160864345\n",
      "-------------------------\n",
      "Accuracy 0.661\n",
      "-------------------------\n",
      "Confusion Matrix\n",
      "-------------------------\n",
      "| 440 | 70 |\n",
      "-------------------------\n",
      "| 269 | 221 |\n",
      "-------------------------\n",
      "-------------------------------------------------- next...\n"
     ]
    }
   ],
   "source": [
    "for i in range(3):\n",
    "    metrics(test_seen_, test[i], test_name[i])"
   ]
  },
  {
   "cell_type": "markdown",
   "id": "fd809463",
   "metadata": {},
   "source": [
    "# `test_unseen`"
   ]
  },
  {
   "cell_type": "code",
   "execution_count": 42,
   "id": "e3c8ddb6",
   "metadata": {},
   "outputs": [
    {
     "name": "stdout",
     "output_type": "stream",
     "text": [
      "VilBERT_test_unseen.csv\n",
      "-------------------------\n",
      "AUROC score 0.7252058666666666\n",
      "-------------------------\n",
      "Accuracy 0.6945\n",
      "-------------------------\n",
      "Confusion Matrix\n",
      "-------------------------\n",
      "| 1114 | 136 |\n",
      "-------------------------\n",
      "| 475 | 275 |\n",
      "-------------------------\n",
      "-------------------------------------------------- next...\n",
      "VisualBERTCoco_test_unseen.csv\n",
      "-------------------------\n",
      "AUROC score 0.7760890666666667\n",
      "-------------------------\n",
      "Accuracy 0.72\n",
      "-------------------------\n",
      "Confusion Matrix\n",
      "-------------------------\n",
      "| 1138 | 112 |\n",
      "-------------------------\n",
      "| 448 | 302 |\n",
      "-------------------------\n",
      "-------------------------------------------------- next...\n",
      "VisualBERTCoco_test_unseen_run.csv\n",
      "-------------------------\n",
      "AUROC score 0.7760890666666667\n",
      "-------------------------\n",
      "Accuracy 0.72\n",
      "-------------------------\n",
      "Confusion Matrix\n",
      "-------------------------\n",
      "| 1138 | 112 |\n",
      "-------------------------\n",
      "| 448 | 302 |\n",
      "-------------------------\n",
      "-------------------------------------------------- next...\n",
      "VisualBERT_test_unseen.csv\n",
      "-------------------------\n",
      "AUROC score 0.7677504\n",
      "-------------------------\n",
      "Accuracy 0.7075\n",
      "-------------------------\n",
      "Confusion Matrix\n",
      "-------------------------\n",
      "| 1089 | 161 |\n",
      "-------------------------\n",
      "| 424 | 326 |\n",
      "-------------------------\n",
      "-------------------------------------------------- next...\n"
     ]
    }
   ],
   "source": [
    "for i in range(4):\n",
    "    metrics(test_unseen_, test_unseen[i], test_unseen_name[i])"
   ]
  }
 ],
 "metadata": {
  "kernelspec": {
   "display_name": "Python 3 (ipykernel)",
   "language": "python",
   "name": "python3"
  },
  "language_info": {
   "codemirror_mode": {
    "name": "ipython",
    "version": 3
   },
   "file_extension": ".py",
   "mimetype": "text/x-python",
   "name": "python",
   "nbconvert_exporter": "python",
   "pygments_lexer": "ipython3",
   "version": "3.9.7"
  }
 },
 "nbformat": 4,
 "nbformat_minor": 5
}
