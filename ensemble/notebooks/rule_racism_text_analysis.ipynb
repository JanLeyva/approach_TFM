{
 "cells": [
  {
   "cell_type": "markdown",
   "id": "overhead-graphics",
   "metadata": {},
   "source": [
    "# Rule Racism Text Analysis"
   ]
  },
  {
   "cell_type": "code",
   "execution_count": 1,
   "id": "worldwide-demand",
   "metadata": {},
   "outputs": [],
   "source": [
    "import pandas as pd\n",
    "import numpy as np"
   ]
  },
  {
   "cell_type": "code",
   "execution_count": 2,
   "id": "blind-grain",
   "metadata": {},
   "outputs": [
    {
     "name": "stdout",
     "output_type": "stream",
     "text": [
      "ERNIE_prob.ipynb                ensemble.py\r\n",
      "HM_ensamble.ipynb               fairface.json\r\n",
      "\u001b[34mannotations\u001b[m\u001b[m                     fairface_.json\r\n",
      "box_annos.race.json             \u001b[34mresults\u001b[m\u001b[m\r\n",
      "ens.sh                          rule_racism_text_analysis.ipynb\r\n",
      "ens_v3.py                       test_unseen.jsonl\r\n",
      "ens_vilio.py\r\n"
     ]
    }
   ],
   "source": [
    "!ls"
   ]
  },
  {
   "cell_type": "code",
   "execution_count": 2,
   "id": "mechanical-knight",
   "metadata": {},
   "outputs": [],
   "source": [
    "test_unseen = pd.read_json(\"annotations/train.jsonl\", lines = True)\n",
    "fairface = pd.read_json(\"fairface21062022.json\")\n",
    "fairface2 = pd.read_json(\"fairface.json\")"
   ]
  },
  {
   "cell_type": "code",
   "execution_count": 3,
   "id": "freelance-tucson",
   "metadata": {},
   "outputs": [],
   "source": [
    "id_in_test = []\n",
    "for i in fairface['id'].values:\n",
    "    if i in test_unseen['id'].values:\n",
    "        id_in_test.append(i)"
   ]
  },
  {
   "cell_type": "code",
   "execution_count": 4,
   "id": "united-mountain",
   "metadata": {},
   "outputs": [
    {
     "data": {
      "text/plain": [
       "5810"
      ]
     },
     "execution_count": 4,
     "metadata": {},
     "output_type": "execute_result"
    }
   ],
   "source": [
    "len(id_in_test)"
   ]
  },
  {
   "cell_type": "code",
   "execution_count": 5,
   "id": "freelance-blink",
   "metadata": {},
   "outputs": [
    {
     "data": {
      "text/plain": [
       "8139"
      ]
     },
     "execution_count": 5,
     "metadata": {},
     "output_type": "execute_result"
    }
   ],
   "source": [
    "len(fairface['id'])"
   ]
  },
  {
   "cell_type": "code",
   "execution_count": 6,
   "id": "noble-breach",
   "metadata": {},
   "outputs": [],
   "source": [
    "id_in_test = []\n",
    "for i in fairface2['id'].values:\n",
    "    if not i in fairface['id'].values:\n",
    "        id_in_test.append(i)"
   ]
  },
  {
   "cell_type": "code",
   "execution_count": 7,
   "id": "exact-parker",
   "metadata": {},
   "outputs": [
    {
     "data": {
      "text/plain": [
       "1260"
      ]
     },
     "execution_count": 7,
     "metadata": {},
     "output_type": "execute_result"
    }
   ],
   "source": [
    "len(id_in_test) # id que estan en fairface2 i no en fairface"
   ]
  },
  {
   "cell_type": "code",
   "execution_count": 8,
   "id": "bronze-special",
   "metadata": {},
   "outputs": [
    {
     "data": {
      "text/plain": [
       "5777"
      ]
     },
     "execution_count": 8,
     "metadata": {},
     "output_type": "execute_result"
    }
   ],
   "source": [
    "len(fairface2['id'])"
   ]
  },
  {
   "cell_type": "code",
   "execution_count": 9,
   "id": "alive-filling",
   "metadata": {},
   "outputs": [
    {
     "data": {
      "text/plain": [
       "array([90138, 59143, 59473, ..., 93750, 75840, 34678])"
      ]
     },
     "execution_count": 9,
     "metadata": {},
     "output_type": "execute_result"
    }
   ],
   "source": [
    "(fairface['id'].values)"
   ]
  },
  {
   "cell_type": "markdown",
   "id": "82146628",
   "metadata": {},
   "source": [
    "# DF con los `id_in_test` que no estan contenidos en fairface2106..."
   ]
  },
  {
   "cell_type": "code",
   "execution_count": 18,
   "id": "86fb5503",
   "metadata": {},
   "outputs": [],
   "source": [
    "newFairFace = []\n",
    "for i in range(len(fairface2['id'])):\n",
    "    if fairface2['id'][i] in id_in_test:\n",
    "        newFairFace.append(fairface2.iloc[i])\n",
    "        \n",
    "newFairFace = pd.DataFrame(newFairFace)"
   ]
  },
  {
   "cell_type": "code",
   "execution_count": 19,
   "id": "651f919f",
   "metadata": {},
   "outputs": [
    {
     "data": {
      "text/html": [
       "<div>\n",
       "<style scoped>\n",
       "    .dataframe tbody tr th:only-of-type {\n",
       "        vertical-align: middle;\n",
       "    }\n",
       "\n",
       "    .dataframe tbody tr th {\n",
       "        vertical-align: top;\n",
       "    }\n",
       "\n",
       "    .dataframe thead th {\n",
       "        text-align: right;\n",
       "    }\n",
       "</style>\n",
       "<table border=\"1\" class=\"dataframe\">\n",
       "  <thead>\n",
       "    <tr style=\"text-align: right;\">\n",
       "      <th></th>\n",
       "      <th>id</th>\n",
       "      <th>face_boxes</th>\n",
       "      <th>face_race</th>\n",
       "      <th>face_race4</th>\n",
       "      <th>face_gender</th>\n",
       "    </tr>\n",
       "  </thead>\n",
       "  <tbody>\n",
       "    <tr>\n",
       "      <th>2</th>\n",
       "      <td>13852</td>\n",
       "      <td>[[(371, 112) (489, 230)]]</td>\n",
       "      <td>[Middle Eastern]</td>\n",
       "      <td>[Indian]</td>\n",
       "      <td>[Male]</td>\n",
       "    </tr>\n",
       "    <tr>\n",
       "      <th>10</th>\n",
       "      <td>67384</td>\n",
       "      <td>[[(198, 66) (225, 94)]]</td>\n",
       "      <td>[White]</td>\n",
       "      <td>[White]</td>\n",
       "      <td>[Female]</td>\n",
       "    </tr>\n",
       "    <tr>\n",
       "      <th>13</th>\n",
       "      <td>64805</td>\n",
       "      <td>[[(230, 458) (434, 662)]]</td>\n",
       "      <td>[White]</td>\n",
       "      <td>[White]</td>\n",
       "      <td>[Male]</td>\n",
       "    </tr>\n",
       "    <tr>\n",
       "      <th>15</th>\n",
       "      <td>35674</td>\n",
       "      <td>[[(281, 48) (328, 95)]]</td>\n",
       "      <td>[White]</td>\n",
       "      <td>[White]</td>\n",
       "      <td>[Male]</td>\n",
       "    </tr>\n",
       "    <tr>\n",
       "      <th>24</th>\n",
       "      <td>50398</td>\n",
       "      <td>[[(272, 219) (370, 317)]]</td>\n",
       "      <td>[Middle Eastern]</td>\n",
       "      <td>[White]</td>\n",
       "      <td>[Male]</td>\n",
       "    </tr>\n",
       "    <tr>\n",
       "      <th>...</th>\n",
       "      <td>...</td>\n",
       "      <td>...</td>\n",
       "      <td>...</td>\n",
       "      <td>...</td>\n",
       "      <td>...</td>\n",
       "    </tr>\n",
       "    <tr>\n",
       "      <th>5759</th>\n",
       "      <td>72489</td>\n",
       "      <td>[[(181, 107) (262, 189)]]</td>\n",
       "      <td>[White]</td>\n",
       "      <td>[White]</td>\n",
       "      <td>[Male]</td>\n",
       "    </tr>\n",
       "    <tr>\n",
       "      <th>5761</th>\n",
       "      <td>62105</td>\n",
       "      <td>[[(500, 122) (646, 268)], [(65, 92) (182, 209)...</td>\n",
       "      <td>[White, Southeast Asian, Black]</td>\n",
       "      <td>[White, Asian, Black]</td>\n",
       "      <td>[Female, Male, Female]</td>\n",
       "    </tr>\n",
       "    <tr>\n",
       "      <th>5767</th>\n",
       "      <td>21607</td>\n",
       "      <td>[[(433, 59) (465, 92)]]</td>\n",
       "      <td>[White]</td>\n",
       "      <td>[White]</td>\n",
       "      <td>[Male]</td>\n",
       "    </tr>\n",
       "    <tr>\n",
       "      <th>5772</th>\n",
       "      <td>52617</td>\n",
       "      <td>[[(438, 483) (506, 551)]]</td>\n",
       "      <td>[White]</td>\n",
       "      <td>[White]</td>\n",
       "      <td>[Male]</td>\n",
       "    </tr>\n",
       "    <tr>\n",
       "      <th>5776</th>\n",
       "      <td>79234</td>\n",
       "      <td>[[(279, 504) (347, 572)]]</td>\n",
       "      <td>[White]</td>\n",
       "      <td>[White]</td>\n",
       "      <td>[Male]</td>\n",
       "    </tr>\n",
       "  </tbody>\n",
       "</table>\n",
       "<p>1260 rows × 5 columns</p>\n",
       "</div>"
      ],
      "text/plain": [
       "         id                                         face_boxes  \\\n",
       "2     13852                          [[(371, 112) (489, 230)]]   \n",
       "10    67384                            [[(198, 66) (225, 94)]]   \n",
       "13    64805                          [[(230, 458) (434, 662)]]   \n",
       "15    35674                            [[(281, 48) (328, 95)]]   \n",
       "24    50398                          [[(272, 219) (370, 317)]]   \n",
       "...     ...                                                ...   \n",
       "5759  72489                          [[(181, 107) (262, 189)]]   \n",
       "5761  62105  [[(500, 122) (646, 268)], [(65, 92) (182, 209)...   \n",
       "5767  21607                            [[(433, 59) (465, 92)]]   \n",
       "5772  52617                          [[(438, 483) (506, 551)]]   \n",
       "5776  79234                          [[(279, 504) (347, 572)]]   \n",
       "\n",
       "                            face_race             face_race4  \\\n",
       "2                    [Middle Eastern]               [Indian]   \n",
       "10                            [White]                [White]   \n",
       "13                            [White]                [White]   \n",
       "15                            [White]                [White]   \n",
       "24                   [Middle Eastern]                [White]   \n",
       "...                               ...                    ...   \n",
       "5759                          [White]                [White]   \n",
       "5761  [White, Southeast Asian, Black]  [White, Asian, Black]   \n",
       "5767                          [White]                [White]   \n",
       "5772                          [White]                [White]   \n",
       "5776                          [White]                [White]   \n",
       "\n",
       "                 face_gender  \n",
       "2                     [Male]  \n",
       "10                  [Female]  \n",
       "13                    [Male]  \n",
       "15                    [Male]  \n",
       "24                    [Male]  \n",
       "...                      ...  \n",
       "5759                  [Male]  \n",
       "5761  [Female, Male, Female]  \n",
       "5767                  [Male]  \n",
       "5772                  [Male]  \n",
       "5776                  [Male]  \n",
       "\n",
       "[1260 rows x 5 columns]"
      ]
     },
     "execution_count": 19,
     "metadata": {},
     "output_type": "execute_result"
    }
   ],
   "source": [
    "newFairFace"
   ]
  },
  {
   "cell_type": "code",
   "execution_count": 20,
   "id": "efb3e1a0",
   "metadata": {},
   "outputs": [
    {
     "data": {
      "text/html": [
       "<div>\n",
       "<style scoped>\n",
       "    .dataframe tbody tr th:only-of-type {\n",
       "        vertical-align: middle;\n",
       "    }\n",
       "\n",
       "    .dataframe tbody tr th {\n",
       "        vertical-align: top;\n",
       "    }\n",
       "\n",
       "    .dataframe thead th {\n",
       "        text-align: right;\n",
       "    }\n",
       "</style>\n",
       "<table border=\"1\" class=\"dataframe\">\n",
       "  <thead>\n",
       "    <tr style=\"text-align: right;\">\n",
       "      <th></th>\n",
       "      <th>id</th>\n",
       "      <th>face_boxes</th>\n",
       "      <th>face_race</th>\n",
       "      <th>face_race4</th>\n",
       "      <th>face_gender</th>\n",
       "    </tr>\n",
       "  </thead>\n",
       "  <tbody>\n",
       "    <tr>\n",
       "      <th>0</th>\n",
       "      <td>90138</td>\n",
       "      <td>[[(159, 184) (404, 429)], [(70, 79) (168, 178)]]</td>\n",
       "      <td>[White, White]</td>\n",
       "      <td>[White, White]</td>\n",
       "      <td>[Male, Male]</td>\n",
       "    </tr>\n",
       "    <tr>\n",
       "      <th>1</th>\n",
       "      <td>59143</td>\n",
       "      <td>[[(186, 314) (328, 455)], [(246, 110) (286, 14...</td>\n",
       "      <td>[Black, Black, White, Latino_Hispanic]</td>\n",
       "      <td>[Indian, Black, White, Indian]</td>\n",
       "      <td>[Female, Female, Male, Female]</td>\n",
       "    </tr>\n",
       "    <tr>\n",
       "      <th>2</th>\n",
       "      <td>59473</td>\n",
       "      <td>[[(262, 61) (330, 129)]]</td>\n",
       "      <td>[Indian]</td>\n",
       "      <td>[Indian]</td>\n",
       "      <td>[Female]</td>\n",
       "    </tr>\n",
       "    <tr>\n",
       "      <th>3</th>\n",
       "      <td>26189</td>\n",
       "      <td>[[(128, 209) (373, 454)]]</td>\n",
       "      <td>[White]</td>\n",
       "      <td>[White]</td>\n",
       "      <td>[Female]</td>\n",
       "    </tr>\n",
       "    <tr>\n",
       "      <th>4</th>\n",
       "      <td>71534</td>\n",
       "      <td>[[(50, 277) (343, 571)], [(163, 64) (202, 103)]]</td>\n",
       "      <td>[White, Black]</td>\n",
       "      <td>[White, Black]</td>\n",
       "      <td>[Female, Female]</td>\n",
       "    </tr>\n",
       "    <tr>\n",
       "      <th>...</th>\n",
       "      <td>...</td>\n",
       "      <td>...</td>\n",
       "      <td>...</td>\n",
       "      <td>...</td>\n",
       "      <td>...</td>\n",
       "    </tr>\n",
       "    <tr>\n",
       "      <th>8134</th>\n",
       "      <td>9518</td>\n",
       "      <td>[[(302, 98) (364, 161)], [(612, 71) (786, 246)...</td>\n",
       "      <td>[White, White, White, White]</td>\n",
       "      <td>[White, Asian, White, White]</td>\n",
       "      <td>[Male, Female, Male, Female]</td>\n",
       "    </tr>\n",
       "    <tr>\n",
       "      <th>8135</th>\n",
       "      <td>34821</td>\n",
       "      <td>[[(161, 100) (236, 176)], [(48, 124) (133, 209)]]</td>\n",
       "      <td>[White, White]</td>\n",
       "      <td>[White, White]</td>\n",
       "      <td>[Female, Male]</td>\n",
       "    </tr>\n",
       "    <tr>\n",
       "      <th>8136</th>\n",
       "      <td>93750</td>\n",
       "      <td>[[(380, 78) (488, 187)]]</td>\n",
       "      <td>[Middle Eastern]</td>\n",
       "      <td>[White]</td>\n",
       "      <td>[Male]</td>\n",
       "    </tr>\n",
       "    <tr>\n",
       "      <th>8137</th>\n",
       "      <td>75840</td>\n",
       "      <td>[[(156, 86) (212, 143)], [(198, 80) (333, 217)]]</td>\n",
       "      <td>[Indian, Indian]</td>\n",
       "      <td>[Indian, Indian]</td>\n",
       "      <td>[Female, Male]</td>\n",
       "    </tr>\n",
       "    <tr>\n",
       "      <th>8138</th>\n",
       "      <td>34678</td>\n",
       "      <td>[[(297, 92) (365, 159)]]</td>\n",
       "      <td>[White]</td>\n",
       "      <td>[White]</td>\n",
       "      <td>[Male]</td>\n",
       "    </tr>\n",
       "  </tbody>\n",
       "</table>\n",
       "<p>8139 rows × 5 columns</p>\n",
       "</div>"
      ],
      "text/plain": [
       "         id                                         face_boxes  \\\n",
       "0     90138   [[(159, 184) (404, 429)], [(70, 79) (168, 178)]]   \n",
       "1     59143  [[(186, 314) (328, 455)], [(246, 110) (286, 14...   \n",
       "2     59473                           [[(262, 61) (330, 129)]]   \n",
       "3     26189                          [[(128, 209) (373, 454)]]   \n",
       "4     71534   [[(50, 277) (343, 571)], [(163, 64) (202, 103)]]   \n",
       "...     ...                                                ...   \n",
       "8134   9518  [[(302, 98) (364, 161)], [(612, 71) (786, 246)...   \n",
       "8135  34821  [[(161, 100) (236, 176)], [(48, 124) (133, 209)]]   \n",
       "8136  93750                           [[(380, 78) (488, 187)]]   \n",
       "8137  75840   [[(156, 86) (212, 143)], [(198, 80) (333, 217)]]   \n",
       "8138  34678                           [[(297, 92) (365, 159)]]   \n",
       "\n",
       "                                   face_race                      face_race4  \\\n",
       "0                             [White, White]                  [White, White]   \n",
       "1     [Black, Black, White, Latino_Hispanic]  [Indian, Black, White, Indian]   \n",
       "2                                   [Indian]                        [Indian]   \n",
       "3                                    [White]                         [White]   \n",
       "4                             [White, Black]                  [White, Black]   \n",
       "...                                      ...                             ...   \n",
       "8134            [White, White, White, White]    [White, Asian, White, White]   \n",
       "8135                          [White, White]                  [White, White]   \n",
       "8136                        [Middle Eastern]                         [White]   \n",
       "8137                        [Indian, Indian]                [Indian, Indian]   \n",
       "8138                                 [White]                         [White]   \n",
       "\n",
       "                         face_gender  \n",
       "0                       [Male, Male]  \n",
       "1     [Female, Female, Male, Female]  \n",
       "2                           [Female]  \n",
       "3                           [Female]  \n",
       "4                   [Female, Female]  \n",
       "...                              ...  \n",
       "8134    [Male, Female, Male, Female]  \n",
       "8135                  [Female, Male]  \n",
       "8136                          [Male]  \n",
       "8137                  [Female, Male]  \n",
       "8138                          [Male]  \n",
       "\n",
       "[8139 rows x 5 columns]"
      ]
     },
     "execution_count": 20,
     "metadata": {},
     "output_type": "execute_result"
    }
   ],
   "source": [
    "fairface"
   ]
  },
  {
   "cell_type": "code",
   "execution_count": 23,
   "id": "2ada34aa",
   "metadata": {},
   "outputs": [],
   "source": [
    "fairface_tojsonl = pd.concat([fairface, newFairFace], ignore_index=True)"
   ]
  },
  {
   "cell_type": "code",
   "execution_count": null,
   "id": "e4000119",
   "metadata": {},
   "outputs": [],
   "source": []
  },
  {
   "cell_type": "code",
   "execution_count": 34,
   "id": "6b3ac3b7",
   "metadata": {},
   "outputs": [],
   "source": [
    "import json\n",
    "with open('fairfaceNew.json', 'w') as fp:\n",
    "    json.dump(fairface_tojsonl.to_json(orient='index'), fp,  indent=2)"
   ]
  },
  {
   "cell_type": "code",
   "execution_count": 32,
   "id": "691fdc34",
   "metadata": {},
   "outputs": [
    {
     "data": {
      "text/html": [
       "<div>\n",
       "<style scoped>\n",
       "    .dataframe tbody tr th:only-of-type {\n",
       "        vertical-align: middle;\n",
       "    }\n",
       "\n",
       "    .dataframe tbody tr th {\n",
       "        vertical-align: top;\n",
       "    }\n",
       "\n",
       "    .dataframe thead th {\n",
       "        text-align: right;\n",
       "    }\n",
       "</style>\n",
       "<table border=\"1\" class=\"dataframe\">\n",
       "  <thead>\n",
       "    <tr style=\"text-align: right;\">\n",
       "      <th></th>\n",
       "      <th>id</th>\n",
       "      <th>face_boxes</th>\n",
       "      <th>face_race</th>\n",
       "      <th>face_race4</th>\n",
       "      <th>face_gender</th>\n",
       "    </tr>\n",
       "  </thead>\n",
       "  <tbody>\n",
       "    <tr>\n",
       "      <th>0</th>\n",
       "      <td>90138</td>\n",
       "      <td>[[(159, 184) (404, 429)], [(70, 79) (168, 178)]]</td>\n",
       "      <td>[White, White]</td>\n",
       "      <td>[White, White]</td>\n",
       "      <td>[Male, Male]</td>\n",
       "    </tr>\n",
       "    <tr>\n",
       "      <th>1</th>\n",
       "      <td>59143</td>\n",
       "      <td>[[(186, 314) (328, 455)], [(246, 110) (286, 14...</td>\n",
       "      <td>[Black, Black, White, Latino_Hispanic]</td>\n",
       "      <td>[Indian, Black, White, Indian]</td>\n",
       "      <td>[Female, Female, Male, Female]</td>\n",
       "    </tr>\n",
       "    <tr>\n",
       "      <th>2</th>\n",
       "      <td>59473</td>\n",
       "      <td>[[(262, 61) (330, 129)]]</td>\n",
       "      <td>[Indian]</td>\n",
       "      <td>[Indian]</td>\n",
       "      <td>[Female]</td>\n",
       "    </tr>\n",
       "    <tr>\n",
       "      <th>3</th>\n",
       "      <td>26189</td>\n",
       "      <td>[[(128, 209) (373, 454)]]</td>\n",
       "      <td>[White]</td>\n",
       "      <td>[White]</td>\n",
       "      <td>[Female]</td>\n",
       "    </tr>\n",
       "    <tr>\n",
       "      <th>4</th>\n",
       "      <td>71534</td>\n",
       "      <td>[[(50, 277) (343, 571)], [(163, 64) (202, 103)]]</td>\n",
       "      <td>[White, Black]</td>\n",
       "      <td>[White, Black]</td>\n",
       "      <td>[Female, Female]</td>\n",
       "    </tr>\n",
       "    <tr>\n",
       "      <th>...</th>\n",
       "      <td>...</td>\n",
       "      <td>...</td>\n",
       "      <td>...</td>\n",
       "      <td>...</td>\n",
       "      <td>...</td>\n",
       "    </tr>\n",
       "    <tr>\n",
       "      <th>9394</th>\n",
       "      <td>72489</td>\n",
       "      <td>[[(181, 107) (262, 189)]]</td>\n",
       "      <td>[White]</td>\n",
       "      <td>[White]</td>\n",
       "      <td>[Male]</td>\n",
       "    </tr>\n",
       "    <tr>\n",
       "      <th>9395</th>\n",
       "      <td>62105</td>\n",
       "      <td>[[(500, 122) (646, 268)], [(65, 92) (182, 209)...</td>\n",
       "      <td>[White, Southeast Asian, Black]</td>\n",
       "      <td>[White, Asian, Black]</td>\n",
       "      <td>[Female, Male, Female]</td>\n",
       "    </tr>\n",
       "    <tr>\n",
       "      <th>9396</th>\n",
       "      <td>21607</td>\n",
       "      <td>[[(433, 59) (465, 92)]]</td>\n",
       "      <td>[White]</td>\n",
       "      <td>[White]</td>\n",
       "      <td>[Male]</td>\n",
       "    </tr>\n",
       "    <tr>\n",
       "      <th>9397</th>\n",
       "      <td>52617</td>\n",
       "      <td>[[(438, 483) (506, 551)]]</td>\n",
       "      <td>[White]</td>\n",
       "      <td>[White]</td>\n",
       "      <td>[Male]</td>\n",
       "    </tr>\n",
       "    <tr>\n",
       "      <th>9398</th>\n",
       "      <td>79234</td>\n",
       "      <td>[[(279, 504) (347, 572)]]</td>\n",
       "      <td>[White]</td>\n",
       "      <td>[White]</td>\n",
       "      <td>[Male]</td>\n",
       "    </tr>\n",
       "  </tbody>\n",
       "</table>\n",
       "<p>9399 rows × 5 columns</p>\n",
       "</div>"
      ],
      "text/plain": [
       "         id                                         face_boxes  \\\n",
       "0     90138   [[(159, 184) (404, 429)], [(70, 79) (168, 178)]]   \n",
       "1     59143  [[(186, 314) (328, 455)], [(246, 110) (286, 14...   \n",
       "2     59473                           [[(262, 61) (330, 129)]]   \n",
       "3     26189                          [[(128, 209) (373, 454)]]   \n",
       "4     71534   [[(50, 277) (343, 571)], [(163, 64) (202, 103)]]   \n",
       "...     ...                                                ...   \n",
       "9394  72489                          [[(181, 107) (262, 189)]]   \n",
       "9395  62105  [[(500, 122) (646, 268)], [(65, 92) (182, 209)...   \n",
       "9396  21607                            [[(433, 59) (465, 92)]]   \n",
       "9397  52617                          [[(438, 483) (506, 551)]]   \n",
       "9398  79234                          [[(279, 504) (347, 572)]]   \n",
       "\n",
       "                                   face_race                      face_race4  \\\n",
       "0                             [White, White]                  [White, White]   \n",
       "1     [Black, Black, White, Latino_Hispanic]  [Indian, Black, White, Indian]   \n",
       "2                                   [Indian]                        [Indian]   \n",
       "3                                    [White]                         [White]   \n",
       "4                             [White, Black]                  [White, Black]   \n",
       "...                                      ...                             ...   \n",
       "9394                                 [White]                         [White]   \n",
       "9395         [White, Southeast Asian, Black]           [White, Asian, Black]   \n",
       "9396                                 [White]                         [White]   \n",
       "9397                                 [White]                         [White]   \n",
       "9398                                 [White]                         [White]   \n",
       "\n",
       "                         face_gender  \n",
       "0                       [Male, Male]  \n",
       "1     [Female, Female, Male, Female]  \n",
       "2                           [Female]  \n",
       "3                           [Female]  \n",
       "4                   [Female, Female]  \n",
       "...                              ...  \n",
       "9394                          [Male]  \n",
       "9395          [Female, Male, Female]  \n",
       "9396                          [Male]  \n",
       "9397                          [Male]  \n",
       "9398                          [Male]  \n",
       "\n",
       "[9399 rows x 5 columns]"
      ]
     },
     "execution_count": 32,
     "metadata": {},
     "output_type": "execute_result"
    }
   ],
   "source": [
    "fairface_tojsonl"
   ]
  },
  {
   "cell_type": "code",
   "execution_count": 36,
   "id": "18325fa8",
   "metadata": {},
   "outputs": [],
   "source": [
    "fairface_tojsonl.to_json(\"newFairFace2.json\", orient='records')"
   ]
  },
  {
   "cell_type": "code",
   "execution_count": 37,
   "id": "2c720505",
   "metadata": {},
   "outputs": [],
   "source": [
    "ffjson = json.loads(fairface_tojsonl.to_json(orient='records'))"
   ]
  },
  {
   "cell_type": "code",
   "execution_count": 50,
   "id": "a051df92",
   "metadata": {},
   "outputs": [],
   "source": [
    "# Using a JSON string\n",
    "with open('annotations_fairface.json', 'w') as outfile:\n",
    "    outfile.write(fairface_tojsonl.to_json(orient='records',indent = 2))"
   ]
  },
  {
   "cell_type": "code",
   "execution_count": 42,
   "id": "baf4bfb1",
   "metadata": {},
   "outputs": [],
   "source": [
    "with open('fairface30062022.json', 'w') as fp:\n",
    "    json.dump(fairface_tojsonl.to_json(orient='records'), fp,  indent=2)"
   ]
  }
 ],
 "metadata": {
  "kernelspec": {
   "display_name": "Python 3 (ipykernel)",
   "language": "python",
   "name": "python3"
  },
  "language_info": {
   "codemirror_mode": {
    "name": "ipython",
    "version": 3
   },
   "file_extension": ".py",
   "mimetype": "text/x-python",
   "name": "python",
   "nbconvert_exporter": "python",
   "pygments_lexer": "ipython3",
   "version": "3.9.7"
  }
 },
 "nbformat": 4,
 "nbformat_minor": 5
}
