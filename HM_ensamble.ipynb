{
  "nbformat": 4,
  "nbformat_minor": 0,
  "metadata": {
    "colab": {
      "name": "HM_ensamble.ipynb",
      "provenance": [],
      "authorship_tag": "ABX9TyMbLYyt/e8q9yf15JgVDqB4",
      "include_colab_link": true
    },
    "kernelspec": {
      "name": "python3",
      "display_name": "Python 3"
    },
    "language_info": {
      "name": "python"
    }
  },
  "cells": [
    {
      "cell_type": "markdown",
      "metadata": {
        "id": "view-in-github",
        "colab_type": "text"
      },
      "source": [
        "<a href=\"https://colab.research.google.com/github/JanLeyva/approach_TFM/blob/master/HM_ensamble.ipynb\" target=\"_parent\"><img src=\"https://colab.research.google.com/assets/colab-badge.svg\" alt=\"Open In Colab\"/></a>"
      ]
    },
    {
      "cell_type": "code",
      "execution_count": null,
      "metadata": {
        "id": "4F0YJBzgtY9d"
      },
      "outputs": [],
      "source": [
        ""
      ]
    },
    {
      "cell_type": "markdown",
      "source": [
        "# Hateful Memes Ensamble"
      ],
      "metadata": {
        "id": "S7ivELDutcmM"
      }
    },
    {
      "cell_type": "code",
      "source": [
        "from google.colab import drive\n",
        "drive.mount('/content/drive')"
      ],
      "metadata": {
        "colab": {
          "base_uri": "https://localhost:8080/"
        },
        "id": "YrSA3uz8tjNa",
        "outputId": "c81c67b4-0065-47aa-b713-f43b5ed19dc0"
      },
      "execution_count": 1,
      "outputs": [
        {
          "output_type": "stream",
          "name": "stdout",
          "text": [
            "Mounted at /content/drive\n"
          ]
        }
      ]
    },
    {
      "cell_type": "markdown",
      "source": [
        "## Read result files"
      ],
      "metadata": {
        "id": "rPG2W8tRJDnj"
      }
    },
    {
      "cell_type": "code",
      "source": [
        "# import .csv files from models results\n",
        "import os\n",
        "import pandas as pd\n",
        "import numpy as np\n",
        "\n",
        "\n",
        "\n",
        "drive = \"/content/drive/MyDrive\"\n",
        "# All predictions are in `test_unseen` set\n",
        "visualBERT_ = os.path.join(drive, \"saveVisualBERT/save/hateful_memes_visual_bert_8294730/reports/hateful_memes_run_test_2022-03-10T15:54:05.csv\")\n",
        "visualBERTCoco_ = os.path.join(drive, \"VisBERTCOCO/hateful_memes_visual_bert_10792640/reports/hateful_memes_run_test_2022-03-13T15:02:46.csv\")\n",
        "vilBERT_ = os.path.join(drive, \"ViLbert/hateful_memes_vilbert_48408345/reports/hateful_memes_run_test_2022-03-11T17:00:38.csv\")\n",
        "ernie_vil_ = os.path.join(drive, \"ernie-vil-results/ES365072_test_unseen_SA.csv\")\n"
      ],
      "metadata": {
        "id": "Kg-M5saftkY_"
      },
      "execution_count": 69,
      "outputs": []
    },
    {
      "cell_type": "code",
      "source": [
        "\n",
        "visualBERT= pd.read_csv(visualBERT_)\n",
        "visualBERTCoco= pd.read_csv(visualBERTCoco_)\n",
        "vilBERT= pd.read_csv(vilBERT_)\n",
        "ernie_vil = pd.read_csv(ernie_vil_)\n",
        "test_unseen = pd.read_json(\"/content/test_unseen.jsonl\", lines = True)"
      ],
      "metadata": {
        "id": "TeYPhsaWBsLh"
      },
      "execution_count": 70,
      "outputs": []
    },
    {
      "cell_type": "code",
      "source": [
        "print(\"dim of visualBERT\", visualBERT.shape)\n",
        "print(\"dim of visualBERTCoco\", visualBERTCoco.shape)\n",
        "print(\"dim of vilBERT\", vilBERT.shape)\n",
        "print(\"dim of ernie_vil\", ernie_vil.shape)\n",
        "print(\"dim of test_unseen\", test_unseen.shape)"
      ],
      "metadata": {
        "colab": {
          "base_uri": "https://localhost:8080/"
        },
        "id": "Ul54wtp9tZ33",
        "outputId": "9edbe76b-15ab-4558-a94f-ea7f6878a1c9"
      },
      "execution_count": 40,
      "outputs": [
        {
          "output_type": "stream",
          "name": "stdout",
          "text": [
            "dim of visualBERT (2000, 3)\n",
            "dim of visualBERTCoco (2000, 3)\n",
            "dim of vilBERT (2000, 3)\n",
            "dim of ernie_vil (2000, 3)\n",
            "dim of test_unseen (2000, 4)\n"
          ]
        }
      ]
    },
    {
      "cell_type": "code",
      "source": [
        "visualBERT"
      ],
      "metadata": {
        "colab": {
          "base_uri": "https://localhost:8080/",
          "height": 491
        },
        "id": "i8KvWgfwEdTk",
        "outputId": "00a9b00a-2cd9-42a5-e264-82fdbe21d3fb"
      },
      "execution_count": 42,
      "outputs": [
        {
          "output_type": "execute_result",
          "data": {
            "text/plain": [
              "         id     proba  label\n",
              "0     15740  0.680902      1\n",
              "1     38794  0.610055      1\n",
              "2     60792  0.534377      1\n",
              "3     71824  0.651885      1\n",
              "4      4796  0.618994      1\n",
              "...     ...       ...    ...\n",
              "1995  71352  0.725158      1\n",
              "1996   2164  0.696600      1\n",
              "1997   3587  0.693338      1\n",
              "1998  47839  0.687024      1\n",
              "1999  34281  0.595273      1\n",
              "\n",
              "[2000 rows x 3 columns]"
            ],
            "text/html": [
              "\n",
              "  <div id=\"df-206fba3a-8b4a-44d5-8dc4-4c48719d915f\">\n",
              "    <div class=\"colab-df-container\">\n",
              "      <div>\n",
              "<style scoped>\n",
              "    .dataframe tbody tr th:only-of-type {\n",
              "        vertical-align: middle;\n",
              "    }\n",
              "\n",
              "    .dataframe tbody tr th {\n",
              "        vertical-align: top;\n",
              "    }\n",
              "\n",
              "    .dataframe thead th {\n",
              "        text-align: right;\n",
              "    }\n",
              "</style>\n",
              "<table border=\"1\" class=\"dataframe\">\n",
              "  <thead>\n",
              "    <tr style=\"text-align: right;\">\n",
              "      <th></th>\n",
              "      <th>id</th>\n",
              "      <th>proba</th>\n",
              "      <th>label</th>\n",
              "    </tr>\n",
              "  </thead>\n",
              "  <tbody>\n",
              "    <tr>\n",
              "      <th>0</th>\n",
              "      <td>15740</td>\n",
              "      <td>0.680902</td>\n",
              "      <td>1</td>\n",
              "    </tr>\n",
              "    <tr>\n",
              "      <th>1</th>\n",
              "      <td>38794</td>\n",
              "      <td>0.610055</td>\n",
              "      <td>1</td>\n",
              "    </tr>\n",
              "    <tr>\n",
              "      <th>2</th>\n",
              "      <td>60792</td>\n",
              "      <td>0.534377</td>\n",
              "      <td>1</td>\n",
              "    </tr>\n",
              "    <tr>\n",
              "      <th>3</th>\n",
              "      <td>71824</td>\n",
              "      <td>0.651885</td>\n",
              "      <td>1</td>\n",
              "    </tr>\n",
              "    <tr>\n",
              "      <th>4</th>\n",
              "      <td>4796</td>\n",
              "      <td>0.618994</td>\n",
              "      <td>1</td>\n",
              "    </tr>\n",
              "    <tr>\n",
              "      <th>...</th>\n",
              "      <td>...</td>\n",
              "      <td>...</td>\n",
              "      <td>...</td>\n",
              "    </tr>\n",
              "    <tr>\n",
              "      <th>1995</th>\n",
              "      <td>71352</td>\n",
              "      <td>0.725158</td>\n",
              "      <td>1</td>\n",
              "    </tr>\n",
              "    <tr>\n",
              "      <th>1996</th>\n",
              "      <td>2164</td>\n",
              "      <td>0.696600</td>\n",
              "      <td>1</td>\n",
              "    </tr>\n",
              "    <tr>\n",
              "      <th>1997</th>\n",
              "      <td>3587</td>\n",
              "      <td>0.693338</td>\n",
              "      <td>1</td>\n",
              "    </tr>\n",
              "    <tr>\n",
              "      <th>1998</th>\n",
              "      <td>47839</td>\n",
              "      <td>0.687024</td>\n",
              "      <td>1</td>\n",
              "    </tr>\n",
              "    <tr>\n",
              "      <th>1999</th>\n",
              "      <td>34281</td>\n",
              "      <td>0.595273</td>\n",
              "      <td>1</td>\n",
              "    </tr>\n",
              "  </tbody>\n",
              "</table>\n",
              "<p>2000 rows × 3 columns</p>\n",
              "</div>\n",
              "      <button class=\"colab-df-convert\" onclick=\"convertToInteractive('df-206fba3a-8b4a-44d5-8dc4-4c48719d915f')\"\n",
              "              title=\"Convert this dataframe to an interactive table.\"\n",
              "              style=\"display:none;\">\n",
              "        \n",
              "  <svg xmlns=\"http://www.w3.org/2000/svg\" height=\"24px\"viewBox=\"0 0 24 24\"\n",
              "       width=\"24px\">\n",
              "    <path d=\"M0 0h24v24H0V0z\" fill=\"none\"/>\n",
              "    <path d=\"M18.56 5.44l.94 2.06.94-2.06 2.06-.94-2.06-.94-.94-2.06-.94 2.06-2.06.94zm-11 1L8.5 8.5l.94-2.06 2.06-.94-2.06-.94L8.5 2.5l-.94 2.06-2.06.94zm10 10l.94 2.06.94-2.06 2.06-.94-2.06-.94-.94-2.06-.94 2.06-2.06.94z\"/><path d=\"M17.41 7.96l-1.37-1.37c-.4-.4-.92-.59-1.43-.59-.52 0-1.04.2-1.43.59L10.3 9.45l-7.72 7.72c-.78.78-.78 2.05 0 2.83L4 21.41c.39.39.9.59 1.41.59.51 0 1.02-.2 1.41-.59l7.78-7.78 2.81-2.81c.8-.78.8-2.07 0-2.86zM5.41 20L4 18.59l7.72-7.72 1.47 1.35L5.41 20z\"/>\n",
              "  </svg>\n",
              "      </button>\n",
              "      \n",
              "  <style>\n",
              "    .colab-df-container {\n",
              "      display:flex;\n",
              "      flex-wrap:wrap;\n",
              "      gap: 12px;\n",
              "    }\n",
              "\n",
              "    .colab-df-convert {\n",
              "      background-color: #E8F0FE;\n",
              "      border: none;\n",
              "      border-radius: 50%;\n",
              "      cursor: pointer;\n",
              "      display: none;\n",
              "      fill: #1967D2;\n",
              "      height: 32px;\n",
              "      padding: 0 0 0 0;\n",
              "      width: 32px;\n",
              "    }\n",
              "\n",
              "    .colab-df-convert:hover {\n",
              "      background-color: #E2EBFA;\n",
              "      box-shadow: 0px 1px 2px rgba(60, 64, 67, 0.3), 0px 1px 3px 1px rgba(60, 64, 67, 0.15);\n",
              "      fill: #174EA6;\n",
              "    }\n",
              "\n",
              "    [theme=dark] .colab-df-convert {\n",
              "      background-color: #3B4455;\n",
              "      fill: #D2E3FC;\n",
              "    }\n",
              "\n",
              "    [theme=dark] .colab-df-convert:hover {\n",
              "      background-color: #434B5C;\n",
              "      box-shadow: 0px 1px 3px 1px rgba(0, 0, 0, 0.15);\n",
              "      filter: drop-shadow(0px 1px 2px rgba(0, 0, 0, 0.3));\n",
              "      fill: #FFFFFF;\n",
              "    }\n",
              "  </style>\n",
              "\n",
              "      <script>\n",
              "        const buttonEl =\n",
              "          document.querySelector('#df-206fba3a-8b4a-44d5-8dc4-4c48719d915f button.colab-df-convert');\n",
              "        buttonEl.style.display =\n",
              "          google.colab.kernel.accessAllowed ? 'block' : 'none';\n",
              "\n",
              "        async function convertToInteractive(key) {\n",
              "          const element = document.querySelector('#df-206fba3a-8b4a-44d5-8dc4-4c48719d915f');\n",
              "          const dataTable =\n",
              "            await google.colab.kernel.invokeFunction('convertToInteractive',\n",
              "                                                     [key], {});\n",
              "          if (!dataTable) return;\n",
              "\n",
              "          const docLinkHtml = 'Like what you see? Visit the ' +\n",
              "            '<a target=\"_blank\" href=https://colab.research.google.com/notebooks/data_table.ipynb>data table notebook</a>'\n",
              "            + ' to learn more about interactive tables.';\n",
              "          element.innerHTML = '';\n",
              "          dataTable['output_type'] = 'display_data';\n",
              "          await google.colab.output.renderOutput(dataTable, element);\n",
              "          const docLink = document.createElement('div');\n",
              "          docLink.innerHTML = docLinkHtml;\n",
              "          element.appendChild(docLink);\n",
              "        }\n",
              "      </script>\n",
              "    </div>\n",
              "  </div>\n",
              "  "
            ]
          },
          "metadata": {},
          "execution_count": 42
        }
      ]
    },
    {
      "cell_type": "code",
      "source": [
        "ernie_vil"
      ],
      "metadata": {
        "colab": {
          "base_uri": "https://localhost:8080/",
          "height": 491
        },
        "id": "1sQEadV5En2E",
        "outputId": "1ffee980-2b13-4843-9afa-47a2de9fea53"
      },
      "execution_count": 57,
      "outputs": [
        {
          "output_type": "execute_result",
          "data": {
            "text/plain": [
              "         id     proba  label\n",
              "0     15740 -1.566799      0\n",
              "1     38794  3.890082      0\n",
              "2     60792 -4.312681      0\n",
              "3     71824 -2.790650      0\n",
              "4      4796 -3.224071      0\n",
              "...     ...       ...    ...\n",
              "1995  71352 -6.404609      0\n",
              "1996   2164 -7.075460      0\n",
              "1997   3587 -7.836611      0\n",
              "1998  47839 -6.656637      0\n",
              "1999  34281 -8.126153      0\n",
              "\n",
              "[2000 rows x 3 columns]"
            ],
            "text/html": [
              "\n",
              "  <div id=\"df-c716a6a3-2c41-467e-aceb-900314b01c57\">\n",
              "    <div class=\"colab-df-container\">\n",
              "      <div>\n",
              "<style scoped>\n",
              "    .dataframe tbody tr th:only-of-type {\n",
              "        vertical-align: middle;\n",
              "    }\n",
              "\n",
              "    .dataframe tbody tr th {\n",
              "        vertical-align: top;\n",
              "    }\n",
              "\n",
              "    .dataframe thead th {\n",
              "        text-align: right;\n",
              "    }\n",
              "</style>\n",
              "<table border=\"1\" class=\"dataframe\">\n",
              "  <thead>\n",
              "    <tr style=\"text-align: right;\">\n",
              "      <th></th>\n",
              "      <th>id</th>\n",
              "      <th>proba</th>\n",
              "      <th>label</th>\n",
              "    </tr>\n",
              "  </thead>\n",
              "  <tbody>\n",
              "    <tr>\n",
              "      <th>0</th>\n",
              "      <td>15740</td>\n",
              "      <td>-1.566799</td>\n",
              "      <td>0</td>\n",
              "    </tr>\n",
              "    <tr>\n",
              "      <th>1</th>\n",
              "      <td>38794</td>\n",
              "      <td>3.890082</td>\n",
              "      <td>0</td>\n",
              "    </tr>\n",
              "    <tr>\n",
              "      <th>2</th>\n",
              "      <td>60792</td>\n",
              "      <td>-4.312681</td>\n",
              "      <td>0</td>\n",
              "    </tr>\n",
              "    <tr>\n",
              "      <th>3</th>\n",
              "      <td>71824</td>\n",
              "      <td>-2.790650</td>\n",
              "      <td>0</td>\n",
              "    </tr>\n",
              "    <tr>\n",
              "      <th>4</th>\n",
              "      <td>4796</td>\n",
              "      <td>-3.224071</td>\n",
              "      <td>0</td>\n",
              "    </tr>\n",
              "    <tr>\n",
              "      <th>...</th>\n",
              "      <td>...</td>\n",
              "      <td>...</td>\n",
              "      <td>...</td>\n",
              "    </tr>\n",
              "    <tr>\n",
              "      <th>1995</th>\n",
              "      <td>71352</td>\n",
              "      <td>-6.404609</td>\n",
              "      <td>0</td>\n",
              "    </tr>\n",
              "    <tr>\n",
              "      <th>1996</th>\n",
              "      <td>2164</td>\n",
              "      <td>-7.075460</td>\n",
              "      <td>0</td>\n",
              "    </tr>\n",
              "    <tr>\n",
              "      <th>1997</th>\n",
              "      <td>3587</td>\n",
              "      <td>-7.836611</td>\n",
              "      <td>0</td>\n",
              "    </tr>\n",
              "    <tr>\n",
              "      <th>1998</th>\n",
              "      <td>47839</td>\n",
              "      <td>-6.656637</td>\n",
              "      <td>0</td>\n",
              "    </tr>\n",
              "    <tr>\n",
              "      <th>1999</th>\n",
              "      <td>34281</td>\n",
              "      <td>-8.126153</td>\n",
              "      <td>0</td>\n",
              "    </tr>\n",
              "  </tbody>\n",
              "</table>\n",
              "<p>2000 rows × 3 columns</p>\n",
              "</div>\n",
              "      <button class=\"colab-df-convert\" onclick=\"convertToInteractive('df-c716a6a3-2c41-467e-aceb-900314b01c57')\"\n",
              "              title=\"Convert this dataframe to an interactive table.\"\n",
              "              style=\"display:none;\">\n",
              "        \n",
              "  <svg xmlns=\"http://www.w3.org/2000/svg\" height=\"24px\"viewBox=\"0 0 24 24\"\n",
              "       width=\"24px\">\n",
              "    <path d=\"M0 0h24v24H0V0z\" fill=\"none\"/>\n",
              "    <path d=\"M18.56 5.44l.94 2.06.94-2.06 2.06-.94-2.06-.94-.94-2.06-.94 2.06-2.06.94zm-11 1L8.5 8.5l.94-2.06 2.06-.94-2.06-.94L8.5 2.5l-.94 2.06-2.06.94zm10 10l.94 2.06.94-2.06 2.06-.94-2.06-.94-.94-2.06-.94 2.06-2.06.94z\"/><path d=\"M17.41 7.96l-1.37-1.37c-.4-.4-.92-.59-1.43-.59-.52 0-1.04.2-1.43.59L10.3 9.45l-7.72 7.72c-.78.78-.78 2.05 0 2.83L4 21.41c.39.39.9.59 1.41.59.51 0 1.02-.2 1.41-.59l7.78-7.78 2.81-2.81c.8-.78.8-2.07 0-2.86zM5.41 20L4 18.59l7.72-7.72 1.47 1.35L5.41 20z\"/>\n",
              "  </svg>\n",
              "      </button>\n",
              "      \n",
              "  <style>\n",
              "    .colab-df-container {\n",
              "      display:flex;\n",
              "      flex-wrap:wrap;\n",
              "      gap: 12px;\n",
              "    }\n",
              "\n",
              "    .colab-df-convert {\n",
              "      background-color: #E8F0FE;\n",
              "      border: none;\n",
              "      border-radius: 50%;\n",
              "      cursor: pointer;\n",
              "      display: none;\n",
              "      fill: #1967D2;\n",
              "      height: 32px;\n",
              "      padding: 0 0 0 0;\n",
              "      width: 32px;\n",
              "    }\n",
              "\n",
              "    .colab-df-convert:hover {\n",
              "      background-color: #E2EBFA;\n",
              "      box-shadow: 0px 1px 2px rgba(60, 64, 67, 0.3), 0px 1px 3px 1px rgba(60, 64, 67, 0.15);\n",
              "      fill: #174EA6;\n",
              "    }\n",
              "\n",
              "    [theme=dark] .colab-df-convert {\n",
              "      background-color: #3B4455;\n",
              "      fill: #D2E3FC;\n",
              "    }\n",
              "\n",
              "    [theme=dark] .colab-df-convert:hover {\n",
              "      background-color: #434B5C;\n",
              "      box-shadow: 0px 1px 3px 1px rgba(0, 0, 0, 0.15);\n",
              "      filter: drop-shadow(0px 1px 2px rgba(0, 0, 0, 0.3));\n",
              "      fill: #FFFFFF;\n",
              "    }\n",
              "  </style>\n",
              "\n",
              "      <script>\n",
              "        const buttonEl =\n",
              "          document.querySelector('#df-c716a6a3-2c41-467e-aceb-900314b01c57 button.colab-df-convert');\n",
              "        buttonEl.style.display =\n",
              "          google.colab.kernel.accessAllowed ? 'block' : 'none';\n",
              "\n",
              "        async function convertToInteractive(key) {\n",
              "          const element = document.querySelector('#df-c716a6a3-2c41-467e-aceb-900314b01c57');\n",
              "          const dataTable =\n",
              "            await google.colab.kernel.invokeFunction('convertToInteractive',\n",
              "                                                     [key], {});\n",
              "          if (!dataTable) return;\n",
              "\n",
              "          const docLinkHtml = 'Like what you see? Visit the ' +\n",
              "            '<a target=\"_blank\" href=https://colab.research.google.com/notebooks/data_table.ipynb>data table notebook</a>'\n",
              "            + ' to learn more about interactive tables.';\n",
              "          element.innerHTML = '';\n",
              "          dataTable['output_type'] = 'display_data';\n",
              "          await google.colab.output.renderOutput(dataTable, element);\n",
              "          const docLink = document.createElement('div');\n",
              "          docLink.innerHTML = docLinkHtml;\n",
              "          element.appendChild(docLink);\n",
              "        }\n",
              "      </script>\n",
              "    </div>\n",
              "  </div>\n",
              "  "
            ]
          },
          "metadata": {},
          "execution_count": 57
        }
      ]
    },
    {
      "cell_type": "code",
      "source": [
        "# @title help function [ConfMatrix]\n",
        "\n",
        "\n",
        "\n",
        "\n",
        "import numpy as np\n",
        "import seaborn as sns\n",
        "import matplotlib.pyplot as plt\n",
        "import matplotlib.colors as pltcolors\n",
        "from sklearn import metrics\n",
        "\n",
        "\n",
        "def plotHeatMap(X, classes, title=None, fmt='.2g', ax=None, xlabel=None, ylabel=None):\n",
        "    \"\"\" Fix heatmap plot from Seaborn with pyplot 3.1.0, 3.1.1\n",
        "        https://stackoverflow.com/questions/56942670/matplotlib-seaborn-first-and-last-row-cut-in-half-of-heatmap-plot\n",
        "    \"\"\"\n",
        "    ax = sns.heatmap(X, xticklabels=classes, yticklabels=classes, annot=True, \\\n",
        "                     fmt=fmt, cmap=plt.cm.Blues, ax=ax) #notation: \"annot\" not \"annote\"\n",
        "    bottom, top = ax.get_ylim()\n",
        "    ax.set_ylim(bottom + 0.5, top - 0.5)\n",
        "    if title:\n",
        "        ax.set_title(title)\n",
        "    if xlabel:\n",
        "        ax.set_xlabel(xlabel)\n",
        "    if ylabel:\n",
        "        ax.set_ylabel(ylabel)\n",
        "        \n",
        "def plotConfusionMatrix(yTrue, yEst, classes, title=None, fmt='.2g', ax=None):\n",
        "    plotHeatMap(metrics.confusion_matrix(yTrue, yEst), classes, title, fmt, ax, xlabel='Estimations', \\\n",
        "                ylabel='True values'); "
      ],
      "metadata": {
        "cellView": "form",
        "id": "R9hbrmT4GyzV"
      },
      "execution_count": 59,
      "outputs": []
    },
    {
      "cell_type": "markdown",
      "source": [
        "# Metrics"
      ],
      "metadata": {
        "id": "Uf1Nx-S2F24l"
      }
    },
    {
      "cell_type": "markdown",
      "source": [
        "## VisualBERT"
      ],
      "metadata": {
        "id": "X5Y0DmEgF6qU"
      }
    },
    {
      "cell_type": "code",
      "source": [
        "# Confusion Martix\n",
        "plotConfusionMatrix(test_unseen['label'], visualBERT['label'], 2)\n",
        "ConfMatrix=metrics.confusion_matrix(test_unseen['label'], visualBERT['label'])\n",
        "print(\"Accuracy:\", (ConfMatrix[0][0]+ConfMatrix[1][1])/2000)"
      ],
      "metadata": {
        "colab": {
          "base_uri": "https://localhost:8080/",
          "height": 297
        },
        "id": "YaGrE0ZwF5YC",
        "outputId": "ec8e640e-7b53-4b63-f863-b0f0d6a7b7c3"
      },
      "execution_count": 71,
      "outputs": [
        {
          "output_type": "stream",
          "name": "stdout",
          "text": [
            "Accuracy: 0.688\n"
          ]
        },
        {
          "output_type": "display_data",
          "data": {
            "text/plain": [
              "<Figure size 432x288 with 2 Axes>"
            ],
            "image/png": "[encoded data removed]"
          },
          "metadata": {
            "needs_background": "light"
          }
        }
      ]
    },
    {
      "cell_type": "code",
      "source": [
        "from sklearn import metrics\n",
        "fpr, tpr, thresholds = metrics.roc_curve(test_unseen['label'], visualBERT['proba'],  pos_label=1)\n",
        "metrics.auc(fpr, tpr)"
      ],
      "metadata": {
        "colab": {
          "base_uri": "https://localhost:8080/"
        },
        "id": "vItpJsyMHnZr",
        "outputId": "959c2453-3429-4de7-c440-1df23830fda8"
      },
      "execution_count": 72,
      "outputs": [
        {
          "output_type": "execute_result",
          "data": {
            "text/plain": [
              "0.7257109333333334"
            ]
          },
          "metadata": {},
          "execution_count": 72
        }
      ]
    },
    {
      "cell_type": "markdown",
      "source": [
        "## VisualBERT COCO"
      ],
      "metadata": {
        "id": "LDzqexNtGDwn"
      }
    },
    {
      "cell_type": "code",
      "source": [
        "# Confusion Martix\n",
        "plotConfusionMatrix(test_unseen['label'], visualBERTCoco['label'], 2)\n",
        "ConfMatrix=metrics.confusion_matrix(test_unseen['label'], visualBERTCoco['label'])\n",
        "print(\"Accuracy:\", (ConfMatrix[0][0]+ConfMatrix[1][1])/2000)"
      ],
      "metadata": {
        "colab": {
          "base_uri": "https://localhost:8080/",
          "height": 297
        },
        "id": "dfp5UVM5GGUt",
        "outputId": "e38a6d00-bac4-4a5c-c1ed-15059840178c"
      },
      "execution_count": 61,
      "outputs": [
        {
          "output_type": "stream",
          "name": "stdout",
          "text": [
            "Accuracy: 0.6335\n"
          ]
        },
        {
          "output_type": "display_data",
          "data": {
            "text/plain": [
              "<Figure size 432x288 with 2 Axes>"
            ],
            "image/png": "[encoded data removed]"
          },
          "metadata": {
            "needs_background": "light"
          }
        }
      ]
    },
    {
      "cell_type": "code",
      "source": [
        "fpr, tpr, thresholds = metrics.roc_curve(test_unseen['label'], visualBERTCoco['proba'],  pos_label=1)\n",
        "metrics.auc(fpr, tpr)"
      ],
      "metadata": {
        "colab": {
          "base_uri": "https://localhost:8080/"
        },
        "id": "A38f97-THhbl",
        "outputId": "68455819-17f0-4f5d-9817-0f0593957716"
      },
      "execution_count": 65,
      "outputs": [
        {
          "output_type": "execute_result",
          "data": {
            "text/plain": [
              "0.6992773333333333"
            ]
          },
          "metadata": {},
          "execution_count": 65
        }
      ]
    },
    {
      "cell_type": "markdown",
      "source": [
        "## ViLBERT"
      ],
      "metadata": {
        "id": "tlmF03e6F8o8"
      }
    },
    {
      "cell_type": "code",
      "source": [
        "# Confusion Martix\n",
        "plotConfusionMatrix(test_unseen['label'], vilBERT['label'], 2)\n",
        "ConfMatrix=metrics.confusion_matrix(test_unseen['label'], vilBERT['label'])\n",
        "print(\"Accuracy:\", (ConfMatrix[0][0]+ConfMatrix[1][1])/2000)"
      ],
      "metadata": {
        "colab": {
          "base_uri": "https://localhost:8080/",
          "height": 297
        },
        "id": "EdE8cxasGAfd",
        "outputId": "95596258-762b-4aa2-e8db-f7884f51485a"
      },
      "execution_count": 62,
      "outputs": [
        {
          "output_type": "stream",
          "name": "stdout",
          "text": [
            "Accuracy: 0.686\n"
          ]
        },
        {
          "output_type": "display_data",
          "data": {
            "text/plain": [
              "<Figure size 432x288 with 2 Axes>"
            ],
            "image/png": "[encoded data removed]"
          },
          "metadata": {
            "needs_background": "light"
          }
        }
      ]
    },
    {
      "cell_type": "code",
      "source": [
        "fpr, tpr, thresholds = metrics.roc_curve(test_unseen['label'], vilBERT['proba'],  pos_label=1)\n",
        "metrics.auc(fpr, tpr)"
      ],
      "metadata": {
        "colab": {
          "base_uri": "https://localhost:8080/"
        },
        "id": "Rg9ZmuflHlL_",
        "outputId": "36587190-1eab-40db-96cc-3f4087767ecc"
      },
      "execution_count": 66,
      "outputs": [
        {
          "output_type": "execute_result",
          "data": {
            "text/plain": [
              "0.7228373333333333"
            ]
          },
          "metadata": {},
          "execution_count": 66
        }
      ]
    },
    {
      "cell_type": "markdown",
      "source": [
        "## ERNIE-Vil"
      ],
      "metadata": {
        "id": "WzAgP6NIGHtX"
      }
    },
    {
      "cell_type": "code",
      "source": [
        "# Confusion Martix\n",
        "plotConfusionMatrix(test_unseen['label'], ernie_vil['label'], 2)\n",
        "ConfMatrix=metrics.confusion_matrix(test_unseen['label'], ernie_vil['label'])\n",
        "print(\"Accuracy:\", (ConfMatrix[0][0]+ConfMatrix[1][1])/2000)"
      ],
      "metadata": {
        "colab": {
          "base_uri": "https://localhost:8080/",
          "height": 297
        },
        "id": "8WOuDK9nGI0P",
        "outputId": "9adae3d5-d115-44b6-9357-9a05fdd452c0"
      },
      "execution_count": 63,
      "outputs": [
        {
          "output_type": "stream",
          "name": "stdout",
          "text": [
            "Accuracy: 0.625\n"
          ]
        },
        {
          "output_type": "display_data",
          "data": {
            "text/plain": [
              "<Figure size 432x288 with 2 Axes>"
            ],
            "image/png": "[encoded data removed]"
          },
          "metadata": {
            "needs_background": "light"
          }
        }
      ]
    },
    {
      "cell_type": "code",
      "source": [
        "fpr, tpr, thresholds = metrics.roc_curve(test_unseen['label'], ernie_vil['proba'],  pos_label=1)\n",
        "metrics.auc(fpr, tpr)"
      ],
      "metadata": {
        "colab": {
          "base_uri": "https://localhost:8080/"
        },
        "id": "ZJCmpjm3HmZB",
        "outputId": "8300f350-033b-465d-933b-c0fa99062abc"
      },
      "execution_count": 73,
      "outputs": [
        {
          "output_type": "execute_result",
          "data": {
            "text/plain": [
              "0.8073365333333334"
            ]
          },
          "metadata": {},
          "execution_count": 73
        }
      ]
    },
    {
      "cell_type": "markdown",
      "source": [
        "# 1st approach: Major voting\n",
        "## 1.1. Hard Voting\n",
        "\n",
        "Predict the class with the largest sum of votes from models\n"
      ],
      "metadata": {
        "id": "P94DRVbIJI5j"
      }
    },
    {
      "cell_type": "code",
      "source": [
        "def votingClassifier(resultsList, mode = \"hard\"):\n",
        "  \"\"\"\n",
        "  resultsList: list of results. (list that contains results of each model), must be stored the results\n",
        "  in label Column.\n",
        "  mode:\n",
        "    - hard: predict the class with the largest sum of votes from models\n",
        "    - soft: predict the class with the largest summed probability from models.\n",
        "  \"\"\"\n",
        "  newList = []\n",
        "  for i in resultsList:\n",
        "    newList.append(i['label'])\n"
      ],
      "metadata": {
        "id": "2Y61kgyIOJdt"
      },
      "execution_count": null,
      "outputs": []
    },
    {
      "cell_type": "code",
      "source": [
        "import glob\n",
        "import shutil\n",
        "\n",
        "\n",
        "\n",
        "def merge(dfs):\n",
        "    return sum([df.proba.values for df in dfs]) / len(dfs)\n",
        "\n",
        "\n",
        "def get_mean_predict(out_path):\n",
        "\n",
        "    csv_list = glob.glob(visualBERT_)\n",
        "    csv_list += glob.glob(visualBERTCoco_)\n",
        "    csv_list += glob.glob(vilBERT_)\n",
        "    csv_list += glob.glob(ernie_vil_)\n",
        "\n",
        "    print(f\"Found {len(csv_list)} csv eval result!\")\n",
        "\n",
        "    ensem_list = []\n",
        "    All = False\n",
        "    for csv_file in csv_list:\n",
        "        # print(csv_file)\n",
        "        if not All:\n",
        "            yn = input(f\"Include {csv_file} to ensemble? (y/n/all)\")\n",
        "        else:\n",
        "            yn = 'y'\n",
        "        yn = yn.strip().lower()\n",
        "        if yn == 'all':\n",
        "            All = True\n",
        "        \n",
        "        if yn == 'y' or All:\n",
        "            ensem_list.append(csv_file)\n",
        "            # dir_name = os.path.basename(os.path.dirname(csv_file))\n",
        "            # shutil.copy(\n",
        "            #     csv_file,\n",
        "            #     os.path.join(\n",
        "            #         gather_dir,\n",
        "            #         f\"{dir_name}_{os.path.basename(csv_file)}\"\n",
        "            #     )\n",
        "            # )\n",
        "    assert len(ensem_list) >= 2, f'You must select at least two file to ensemble, only {len(ensem_list)} is picked'\n",
        "    \n",
        "    base = pd.read_csv(ensem_list[0])\n",
        "    print(len(ensem_list))\n",
        "    ensem_list = [pd.read_csv(c) for c in ensem_list]\n",
        "    base.proba = merge(ensem_list)\n",
        "\n",
        "\n",
        "\n",
        "    # rasicm_idx = rasicm_det(\n",
        "    #     os.path.join(root_dir, 'data/hateful_memes/test_unseen.jsonl'),\n",
        "    #     os.path.join(root_dir, 'data/hateful_memes/box_annos.race.json'),\n",
        "    #     os.path.join(root_dir, 'data/hateful_memes/img_clean'),\n",
        "    # )\n",
        "    # for i in rasicm_idx:\n",
        "    #     base.at[int(base.index[base['id']==i].values), 'proba'] = 1.0\n",
        "\n",
        "    base.to_csv(out_path, index=False)"
      ],
      "metadata": {
        "id": "QFWHhPmSWE3j"
      },
      "execution_count": 141,
      "outputs": []
    },
    {
      "cell_type": "code",
      "source": [
        "get_mean_predict(\"/content/test_set_enselble2.csv\")"
      ],
      "metadata": {
        "colab": {
          "base_uri": "https://localhost:8080/"
        },
        "id": "56iTeHMaYp3K",
        "outputId": "b3ebc647-b1d8-49c2-f669-c9472015dfd7"
      },
      "execution_count": 142,
      "outputs": [
        {
          "output_type": "stream",
          "name": "stdout",
          "text": [
            "Found 4 csv eval result!\n",
            "Include /content/drive/MyDrive/saveVisualBERT/save/hateful_memes_visual_bert_8294730/reports/hateful_memes_run_test_2022-03-10T15:54:05.csv to ensemble? (y/n/all)y\n",
            "Include /content/drive/MyDrive/VisBERTCOCO/hateful_memes_visual_bert_10792640/reports/hateful_memes_run_test_2022-03-13T15:02:46.csv to ensemble? (y/n/all)y\n",
            "Include /content/drive/MyDrive/ViLbert/hateful_memes_vilbert_48408345/reports/hateful_memes_run_test_2022-03-11T17:00:38.csv to ensemble? (y/n/all)y\n",
            "Include /content/drive/MyDrive/ernie-vil-results/ES365072_test_unseen_SA.csv to ensemble? (y/n/all)y\n",
            "4\n"
          ]
        }
      ]
    },
    {
      "cell_type": "code",
      "source": [
        "result = pd.read_csv(\"test_set_enselble.csv\")\n",
        "result2 = pd.read_csv(\"test_set_enselble2.csv\")"
      ],
      "metadata": {
        "id": "fwebC047V_4E"
      },
      "execution_count": 143,
      "outputs": []
    },
    {
      "cell_type": "code",
      "source": [
        "# Confusion Martix\n",
        "plotConfusionMatrix(test_unseen['label'], result['label'], 2)\n",
        "ConfMatrix=metrics.confusion_matrix(test_unseen['label'], result['label'])\n",
        "print(\"Accuracy:\", (ConfMatrix[0][0]+ConfMatrix[1][1])/2000)"
      ],
      "metadata": {
        "colab": {
          "base_uri": "https://localhost:8080/",
          "height": 297
        },
        "id": "43hnnasyaZJ_",
        "outputId": "4e2a9955-4e07-4149-9b72-1c349a2d7927"
      },
      "execution_count": 126,
      "outputs": [
        {
          "output_type": "stream",
          "name": "stdout",
          "text": [
            "Accuracy: 0.688\n"
          ]
        },
        {
          "output_type": "display_data",
          "data": {
            "text/plain": [
              "<Figure size 432x288 with 2 Axes>"
            ],
            "image/png": "[encoded data removed]"
          },
          "metadata": {
            "needs_background": "light"
          }
        }
      ]
    },
    {
      "cell_type": "code",
      "source": [
        "from sklearn import metrics\n",
        "fpr, tpr, thresholds = metrics.roc_curve(test_unseen['label'], result['proba'],  pos_label=1)\n",
        "metrics.auc(fpr, tpr)"
      ],
      "metadata": {
        "colab": {
          "base_uri": "https://localhost:8080/"
        },
        "id": "OVqW3QeIacCi",
        "outputId": "338c5f09-960d-4afc-eac0-cbf75684c2b6"
      },
      "execution_count": 127,
      "outputs": [
        {
          "output_type": "execute_result",
          "data": {
            "text/plain": [
              "0.7376778666666668"
            ]
          },
          "metadata": {},
          "execution_count": 127
        }
      ]
    },
    {
      "cell_type": "code",
      "source": [
        "# Confusion Martix\n",
        "plotConfusionMatrix(test_unseen['label'], result2['label'], 2)\n",
        "ConfMatrix=metrics.confusion_matrix(test_unseen['label'], result2['label'])\n",
        "print(\"Accuracy:\", (ConfMatrix[0][0]+ConfMatrix[1][1])/2000)"
      ],
      "metadata": {
        "colab": {
          "base_uri": "https://localhost:8080/",
          "height": 297
        },
        "id": "44JZvgsiceC1",
        "outputId": "d4de77a0-d566-4c9f-b05f-ef3952ea2452"
      },
      "execution_count": 146,
      "outputs": [
        {
          "output_type": "stream",
          "name": "stdout",
          "text": [
            "Accuracy: 0.688\n"
          ]
        },
        {
          "output_type": "display_data",
          "data": {
            "text/plain": [
              "<Figure size 432x288 with 2 Axes>"
            ],
            "image/png": "[encoded data removed]"
          },
          "metadata": {
            "needs_background": "light"
          }
        }
      ]
    },
    {
      "cell_type": "code",
      "source": [
        "fpr, tpr, thresholds = metrics.roc_curve(test_unseen['label'], result2['proba'],  pos_label=1)\n",
        "metrics.auc(fpr, tpr)"
      ],
      "metadata": {
        "colab": {
          "base_uri": "https://localhost:8080/"
        },
        "id": "EOgmjiBkcfpc",
        "outputId": "947f8f16-f8e5-4d44-81df-eee32947be41"
      },
      "execution_count": 144,
      "outputs": [
        {
          "output_type": "execute_result",
          "data": {
            "text/plain": [
              "0.8088373333333332"
            ]
          },
          "metadata": {},
          "execution_count": 144
        }
      ]
    },
    {
      "cell_type": "markdown",
      "source": [
        "## 2.2. Soft Voting\n",
        "\n",
        "Predict the class with the largest summed probability from models."
      ],
      "metadata": {
        "id": "5zEWO9BSKJw3"
      }
    },
    {
      "cell_type": "markdown",
      "source": [
        "# 2nd Approach: logistic regression"
      ],
      "metadata": {
        "id": "kTLQJd-PJUsg"
      }
    },
    {
      "cell_type": "code",
      "source": [
        ""
      ],
      "metadata": {
        "id": "DDdtmyJ0Jj-7"
      },
      "execution_count": null,
      "outputs": []
    }
  ]
}