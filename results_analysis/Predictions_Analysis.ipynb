{
 "cells": [
  {
   "cell_type": "markdown",
   "id": "86177c13",
   "metadata": {},
   "source": [
    "# Predictions_Analysis\n",
    "\n",
    "Hate speech, however, continues to be an important challenge, and multimodal hate speech remains an especially difficult machine learning problem. Hate speech is defined as a direct attack (characterized as violent or dehumanizing speech, harmful stereotypes, statements of inferiority, expressions of contempt, disgust or dismissal, cursing, and calls for exclusion or segregation) against people on the basis of what we call protected characteristics (characterized as race, ethnicity, national origin, disability, religious affiliation, caste, sexual orientation, sex, gender identity and serious disease). We operationalize this definition by making fine-grained labels for protected classes and attack types available as additional annotations on the hateful memes dataset.\n",
    "Task A (multi-label): For each meme, detect the protected category. Protected categories are: race, disability, religion, nationality, sex. If the meme is not_hateful the protected category is: pc_empty.\n",
    "Task B (multi-label): For each meme, detect the attack type. Attack types are: contempt, mocking, inferiority, slurs, exclusion, dehumanizing, inciting_violence. If the meme is not_hateful the protected category is: attack_empty."
   ]
  },
  {
   "cell_type": "code",
   "execution_count": 270,
   "id": "a6d4a662",
   "metadata": {},
   "outputs": [],
   "source": [
    "import pandas as pd\n",
    "import numpy as np\n",
    "from sklearn.metrics import roc_auc_score, accuracy_score\n",
    "from sklearn import metrics\n",
    "import seaborn as sns\n",
    "import matplotlib.pyplot as plt\n",
    "import matplotlib.pyplot as plt \n",
    "from sklearn.metrics import confusion_matrix"
   ]
  },
  {
   "cell_type": "code",
   "execution_count": 18,
   "id": "c214bc6d",
   "metadata": {},
   "outputs": [],
   "source": [
    "# helpers\n",
    "def auc_score(org_file, ens_file):\n",
    "    fpr, tpr, thresholds = metrics.roc_curve(org_file['label'], ens_file['proba'],  pos_label=1)\n",
    "    return round(metrics.auc(fpr, tpr), 3)"
   ]
  },
  {
   "cell_type": "code",
   "execution_count": 332,
   "id": "c0bec072",
   "metadata": {},
   "outputs": [],
   "source": [
    "# import dev predictions and dev with annotations of type hateful\n",
    "dev_seen_results = pd.read_csv(\"results_analysis/EnsembleV1_dev_seen_RA.csv\")\n",
    "\n",
    "dev_seen = pd.read_json(\"results_analysis/dev_seen.jsonl\", lines = True)\n",
    "dev_seen_htype = pd.read_json(\"results_analysis/dev_seen_htype.json\", lines = True)\n",
    "dev_seen_htype['label'] = dev_seen['label']\n",
    "dev_seen_htype['match_predict'] = dev_seen_results['label'] == dev_seen['label']"
   ]
  },
  {
   "cell_type": "markdown",
   "id": "3d7a15bc",
   "metadata": {},
   "source": [
    "## Overall metrics"
   ]
  },
  {
   "cell_type": "code",
   "execution_count": 19,
   "id": "f0537825",
   "metadata": {},
   "outputs": [
    {
     "data": {
      "text/plain": [
       "0.805"
      ]
     },
     "execution_count": 19,
     "metadata": {},
     "output_type": "execute_result"
    }
   ],
   "source": [
    "auc_score(dev_seen, dev_seen_results)"
   ]
  },
  {
   "cell_type": "code",
   "execution_count": 20,
   "id": "50f46522",
   "metadata": {},
   "outputs": [
    {
     "data": {
      "text/plain": [
       "0.736"
      ]
     },
     "execution_count": 20,
     "metadata": {},
     "output_type": "execute_result"
    }
   ],
   "source": [
    "accuracy_score(dev_seen['label'], dev_seen_results['label'])"
   ]
  },
  {
   "cell_type": "markdown",
   "id": "ab18ebc3",
   "metadata": {},
   "source": [
    "## Metrics by hateful type\n",
    "\n",
    "- **Protected Category** -> `gold_pc`: *race, disability, religion, nationality, sex*. If the meme is not_hateful the protected category is: *pc_empty*.\n",
    "\n",
    "- **Attack Type** -> `gold_attack`: *contempt, mocking, inferiority, slurs, exclusion, dehumanizing, inciting_violence*. If the meme is not_hateful the protected category is: *attack_empty*."
   ]
  },
  {
   "cell_type": "code",
   "execution_count": 213,
   "id": "94af1811",
   "metadata": {},
   "outputs": [],
   "source": [
    "ch = []\n",
    "for gp in dev_seen_htype['gold_attack']:\n",
    "    if gp == ['attack_empty']:\n",
    "        ch.append('attack_empty')\n",
    "    elif gp == ['contempt']:\n",
    "        ch.append('contempt')\n",
    "    elif gp == ['mocking']:\n",
    "        ch.append('mocking')\n",
    "    elif gp == ['inferiority']:\n",
    "        ch.append('inferiority')\n",
    "    elif gp == ['slurs']:\n",
    "        ch.append('slurs')\n",
    "    elif gp == ['exclusion']:\n",
    "        ch.append('exclusion')\n",
    "    elif gp == ['dehumanizing']:\n",
    "        ch.append('dehumanizing')\n",
    "    elif gp == ['inciting_violence']:\n",
    "        ch.append('inciting_violence')\n",
    "    else:\n",
    "        ch.append('multiple')\n",
    "        \n",
    "dev_seen_htype['gold_attack2'] = ch"
   ]
  },
  {
   "cell_type": "code",
   "execution_count": 333,
   "id": "6ea36269",
   "metadata": {},
   "outputs": [],
   "source": [
    "gp_ = []\n",
    "for gp in dev_seen_htype['gold_pc']:\n",
    "    if gp == ['pc_empty']:\n",
    "        gp_.append('pc_empty')\n",
    "    elif gp == ['race']:\n",
    "        gp_.append('race')\n",
    "    elif gp == ['disability']:\n",
    "        gp_.append('disability')\n",
    "    elif gp == ['religion']:\n",
    "        gp_.append('religion')\n",
    "    elif gp == ['nationality']:\n",
    "        gp_.append('nationality')\n",
    "    elif gp == ['sex']:\n",
    "        gp_.append('sex')\n",
    "    else:\n",
    "        gp_.append('multiple')\n",
    "        \n",
    "dev_seen_htype['gold_pc'] = gp_"
   ]
  },
  {
   "cell_type": "code",
   "execution_count": 207,
   "id": "6254c6c3",
   "metadata": {},
   "outputs": [],
   "source": [
    "# race, disability, religion, nationality, sex and pc_empty.\n",
    "dev_seen_htype['gold_pc'] = dev_seen_htype['gold_pc'].map(lambda x: 'pc_empty' if(x == ['pc_empty']) else x)\n",
    "dev_seen_htype['gold_pc'] = dev_seen_htype['gold_pc'].map(lambda x: 'race' if(x == ['race']) else x)\n",
    "dev_seen_htype['gold_pc'] = dev_seen_htype['gold_pc'].map(lambda x: 'disability' if(x == ['disability']) else x)\n",
    "dev_seen_htype['gold_pc'] = dev_seen_htype['gold_pc'].map(lambda x: 'religion' if(x == ['religion']) else x)\n",
    "dev_seen_htype['gold_pc'] = dev_seen_htype['gold_pc'].map(lambda x: 'nationality' if(x == ['nationality']) else x)\n",
    "dev_seen_htype['gold_pc'] = dev_seen_htype['gold_pc'].map(lambda x: 'sex' if(x == ['sex']) else x)"
   ]
  },
  {
   "cell_type": "code",
   "execution_count": 109,
   "id": "b5e3c24d",
   "metadata": {},
   "outputs": [
    {
     "data": {
      "text/plain": [
       "gold_attack2\n",
       "None                  17\n",
       "attack_empty         257\n",
       "contempt               8\n",
       "dehumanizing         108\n",
       "exclusion              9\n",
       "inciting_violence     19\n",
       "inferiority           44\n",
       "mocking               33\n",
       "slurs                  5\n",
       "Name: label, dtype: int64"
      ]
     },
     "execution_count": 109,
     "metadata": {},
     "output_type": "execute_result"
    }
   ],
   "source": [
    "dev_seen_htype.groupby('gold_attack2')['label'].count()"
   ]
  },
  {
   "cell_type": "code",
   "execution_count": 38,
   "id": "b93c1c20",
   "metadata": {},
   "outputs": [
    {
     "data": {
      "text/plain": [
       "Index(['id', 'set_name', 'img', 'text', 'gold_hate', 'gold_pc', 'gold_attack',\n",
       "       'pc', 'attack', 'label'],\n",
       "      dtype='object')"
      ]
     },
     "execution_count": 38,
     "metadata": {},
     "output_type": "execute_result"
    }
   ],
   "source": [
    "dev_seen_htype.columns"
   ]
  },
  {
   "cell_type": "code",
   "execution_count": 131,
   "id": "07b93db1",
   "metadata": {},
   "outputs": [
    {
     "data": {
      "text/plain": [
       "gold_attack2\n",
       "None                  17\n",
       "attack_empty         257\n",
       "contempt               8\n",
       "dehumanizing         108\n",
       "exclusion              9\n",
       "inciting_violence     19\n",
       "inferiority           44\n",
       "mocking               33\n",
       "slurs                  5\n",
       "Name: gold_pc, dtype: int64"
      ]
     },
     "execution_count": 131,
     "metadata": {},
     "output_type": "execute_result"
    }
   ],
   "source": [
    "dev_seen_htype.groupby('gold_attack2')['gold_pc'].count()"
   ]
  },
  {
   "cell_type": "code",
   "execution_count": 215,
   "id": "a2db8838",
   "metadata": {},
   "outputs": [],
   "source": [
    "bplot=dev_seen_htype.groupby('gold_attack2').agg({'label': 'count'})"
   ]
  },
  {
   "cell_type": "code",
   "execution_count": 142,
   "id": "f49f9a75",
   "metadata": {},
   "outputs": [
    {
     "data": {
      "text/plain": [
       "label\n",
       "0    253\n",
       "1    247\n",
       "Name: gold_attack2, dtype: int64"
      ]
     },
     "execution_count": 142,
     "metadata": {},
     "output_type": "execute_result"
    }
   ],
   "source": [
    "dev_seen_htype.groupby('label')['gold_attack2'].count()"
   ]
  },
  {
   "cell_type": "code",
   "execution_count": 138,
   "id": "6164baa1",
   "metadata": {},
   "outputs": [
    {
     "data": {
      "text/plain": [
       "Index(['None', 'attack_empty', 'contempt', 'dehumanizing', 'exclusion',\n",
       "       'inciting_violence', 'inferiority', 'mocking', 'slurs'],\n",
       "      dtype='object', name='gold_attack2')"
      ]
     },
     "execution_count": 138,
     "metadata": {},
     "output_type": "execute_result"
    }
   ],
   "source": [
    "bplot.index"
   ]
  },
  {
   "cell_type": "markdown",
   "id": "ce199386",
   "metadata": {},
   "source": [
    "## Bar Plot `gold_attack`"
   ]
  },
  {
   "cell_type": "code",
   "execution_count": 216,
   "id": "5d34ae45",
   "metadata": {},
   "outputs": [
    {
     "data": {
      "text/plain": [
       "<AxesSubplot:xlabel='gold_attack2', ylabel='label'>"
      ]
     },
     "execution_count": 216,
     "metadata": {},
     "output_type": "execute_result"
    },
    {
     "data": {
      "image/png": "[encoded data removed]",
      "text/plain": [
       "<Figure size 842.4x595.44 with 1 Axes>"
      ]
     },
     "metadata": {},
     "output_type": "display_data"
    }
   ],
   "source": [
    "sns.set(rc={'figure.figsize':(11.7,8.27)})\n",
    "sns.barplot(x=bplot.index, y=\"label\", data=bplot)"
   ]
  },
  {
   "cell_type": "markdown",
   "id": "0fad2580",
   "metadata": {},
   "source": [
    "## Bar Plot `gold_pc`"
   ]
  },
  {
   "cell_type": "code",
   "execution_count": 232,
   "id": "f163e3c5",
   "metadata": {},
   "outputs": [],
   "source": [
    "bbplot_gold_pc = dev_seen_htype.groupby('gold_pc').agg({'label': 'count'})"
   ]
  },
  {
   "cell_type": "code",
   "execution_count": 233,
   "id": "083cefd2",
   "metadata": {},
   "outputs": [
    {
     "data": {
      "text/plain": [
       "<AxesSubplot:xlabel='gold_pc', ylabel='label'>"
      ]
     },
     "execution_count": 233,
     "metadata": {},
     "output_type": "execute_result"
    },
    {
     "data": {
      "image/png": "[encoded data removed]",
      "text/plain": [
       "<Figure size 842.4x595.44 with 1 Axes>"
      ]
     },
     "metadata": {},
     "output_type": "display_data"
    }
   ],
   "source": [
    "sns.barplot(x=bbplot_gold_pc.index, y=\"label\", data=bbplot_gold_pc)"
   ]
  },
  {
   "cell_type": "markdown",
   "id": "1f0b57ff",
   "metadata": {},
   "source": [
    "## Predictions match"
   ]
  },
  {
   "cell_type": "code",
   "execution_count": 235,
   "id": "31927cb1",
   "metadata": {},
   "outputs": [
    {
     "data": {
      "text/plain": [
       "array([[169,  84],\n",
       "       [ 48, 199]])"
      ]
     },
     "execution_count": 235,
     "metadata": {},
     "output_type": "execute_result"
    }
   ],
   "source": [
    "confusion_matrix(dev_seen['label'], dev_seen_results['label'])"
   ]
  },
  {
   "cell_type": "code",
   "execution_count": 342,
   "id": "8536a0a5",
   "metadata": {},
   "outputs": [
    {
     "data": {
      "text/html": [
       "<div>\n",
       "<style scoped>\n",
       "    .dataframe tbody tr th:only-of-type {\n",
       "        vertical-align: middle;\n",
       "    }\n",
       "\n",
       "    .dataframe tbody tr th {\n",
       "        vertical-align: top;\n",
       "    }\n",
       "\n",
       "    .dataframe thead th {\n",
       "        text-align: right;\n",
       "    }\n",
       "</style>\n",
       "<table border=\"1\" class=\"dataframe\">\n",
       "  <thead>\n",
       "    <tr style=\"text-align: right;\">\n",
       "      <th></th>\n",
       "      <th>label</th>\n",
       "      <th>match_predict</th>\n",
       "      <th>perc</th>\n",
       "    </tr>\n",
       "    <tr>\n",
       "      <th>gold_pc</th>\n",
       "      <th></th>\n",
       "      <th></th>\n",
       "      <th></th>\n",
       "    </tr>\n",
       "  </thead>\n",
       "  <tbody>\n",
       "    <tr>\n",
       "      <th>disability</th>\n",
       "      <td>16</td>\n",
       "      <td>13</td>\n",
       "      <td>0.812500</td>\n",
       "    </tr>\n",
       "    <tr>\n",
       "      <th>multiple</th>\n",
       "      <td>30</td>\n",
       "      <td>18</td>\n",
       "      <td>0.600000</td>\n",
       "    </tr>\n",
       "    <tr>\n",
       "      <th>nationality</th>\n",
       "      <td>19</td>\n",
       "      <td>14</td>\n",
       "      <td>0.736842</td>\n",
       "    </tr>\n",
       "    <tr>\n",
       "      <th>pc_empty</th>\n",
       "      <td>254</td>\n",
       "      <td>182</td>\n",
       "      <td>0.716535</td>\n",
       "    </tr>\n",
       "    <tr>\n",
       "      <th>race</th>\n",
       "      <td>59</td>\n",
       "      <td>44</td>\n",
       "      <td>0.745763</td>\n",
       "    </tr>\n",
       "    <tr>\n",
       "      <th>religion</th>\n",
       "      <td>78</td>\n",
       "      <td>62</td>\n",
       "      <td>0.794872</td>\n",
       "    </tr>\n",
       "    <tr>\n",
       "      <th>sex</th>\n",
       "      <td>44</td>\n",
       "      <td>35</td>\n",
       "      <td>0.795455</td>\n",
       "    </tr>\n",
       "  </tbody>\n",
       "</table>\n",
       "</div>"
      ],
      "text/plain": [
       "             label  match_predict      perc\n",
       "gold_pc                                    \n",
       "disability      16             13  0.812500\n",
       "multiple        30             18  0.600000\n",
       "nationality     19             14  0.736842\n",
       "pc_empty       254            182  0.716535\n",
       "race            59             44  0.745763\n",
       "religion        78             62  0.794872\n",
       "sex             44             35  0.795455"
      ]
     },
     "execution_count": 342,
     "metadata": {},
     "output_type": "execute_result"
    }
   ],
   "source": [
    "bplot_results = pd.concat([dev_seen_htype.groupby('gold_pc').agg({'label': 'count'}),\n",
    "     dev_seen_htype.groupby('gold_pc').agg({'match_predict': 'sum'})], axis = 1)\n",
    "bplot_results['perc'] = bplot_results['match_predict']/bplot_results['label']\n",
    "\n",
    "bplot_results"
   ]
  },
  {
   "cell_type": "code",
   "execution_count": 337,
   "id": "26a9365d",
   "metadata": {},
   "outputs": [],
   "source": [
    "# we melt the df in order to use more than one col in barplot\n",
    "melt_bplot_results = pd.melt(bplot_results)\n",
    "melt_bplot_results['gold_pc'] = ('disability', 'multiple', 'nationality', 'pc_empty', 'race',\n",
    "       'religion', 'sex','disability', 'multiple', 'nationality', 'pc_empty', 'race',\n",
    "       'religion', 'sex')"
   ]
  },
  {
   "cell_type": "code",
   "execution_count": 338,
   "id": "206afc4f",
   "metadata": {},
   "outputs": [
    {
     "data": {
      "text/plain": [
       "<AxesSubplot:xlabel='gold_pc', ylabel='value'>"
      ]
     },
     "execution_count": 338,
     "metadata": {},
     "output_type": "execute_result"
    },
    {
     "data": {
      "image/png": "[encoded data removed]",
      "text/plain": [
       "<Figure size 842.4x595.44 with 1 Axes>"
      ]
     },
     "metadata": {},
     "output_type": "display_data"
    }
   ],
   "source": [
    "sns.barplot(x= 'gold_pc', y= 'value', hue = 'variable', data=melt_bplot_results)"
   ]
  }
 ],
 "metadata": {
  "kernelspec": {
   "display_name": "Python 3 (ipykernel)",
   "language": "python",
   "name": "python3"
  },
  "language_info": {
   "codemirror_mode": {
    "name": "ipython",
    "version": 3
   },
   "file_extension": ".py",
   "mimetype": "text/x-python",
   "name": "python",
   "nbconvert_exporter": "python",
   "pygments_lexer": "ipython3",
   "version": "3.9.7"
  }
 },
 "nbformat": 4,
 "nbformat_minor": 5
}
